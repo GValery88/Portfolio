{
 "cells": [
  {
   "cell_type": "code",
   "execution_count": 63,
   "metadata": {},
   "outputs": [],
   "source": [
    "import pandas as pd\n",
    "import numpy as np\n",
    "import seaborn as sns\n",
    "from scipy import stats as st\n",
    "import matplotlib.pyplot as plt\n",
    "import warnings\n",
    "warnings.filterwarnings('ignore')"
   ]
  },
  {
   "cell_type": "markdown",
   "metadata": {},
   "source": [
    "<div class=\"alert alert-success\">\n",
    "<font color='blue'>\n",
    "<br>Из открытых источников доступны исторические данные о продажах игр, оценки пользователей и экспертов, жанры и платформы (например, Xbox или PlayStation).\n",
    "    <br>\n",
    "    <br> <b>Цель проекта:</b> выявить определяющие успешность игры закономерности, чтобы в будущем можно было определять перспективные направления развития, составлять рекламные кампании и так далее. Выявить актуальный период  в результате исследования и построить прогноз на 2017 год.    \n",
    "    </font>"
   ]
  },
  {
   "cell_type": "code",
   "execution_count": 64,
   "metadata": {},
   "outputs": [],
   "source": [
    "data = pd.read_csv('/datasets/games.csv')"
   ]
  },
  {
   "cell_type": "code",
   "execution_count": 65,
   "metadata": {
    "scrolled": true
   },
   "outputs": [
    {
     "data": {
      "text/html": [
       "<div>\n",
       "<style scoped>\n",
       "    .dataframe tbody tr th:only-of-type {\n",
       "        vertical-align: middle;\n",
       "    }\n",
       "\n",
       "    .dataframe tbody tr th {\n",
       "        vertical-align: top;\n",
       "    }\n",
       "\n",
       "    .dataframe thead th {\n",
       "        text-align: right;\n",
       "    }\n",
       "</style>\n",
       "<table border=\"1\" class=\"dataframe\">\n",
       "  <thead>\n",
       "    <tr style=\"text-align: right;\">\n",
       "      <th></th>\n",
       "      <th>Name</th>\n",
       "      <th>Platform</th>\n",
       "      <th>Year_of_Release</th>\n",
       "      <th>Genre</th>\n",
       "      <th>NA_sales</th>\n",
       "      <th>EU_sales</th>\n",
       "      <th>JP_sales</th>\n",
       "      <th>Other_sales</th>\n",
       "      <th>Critic_Score</th>\n",
       "      <th>User_Score</th>\n",
       "      <th>Rating</th>\n",
       "    </tr>\n",
       "  </thead>\n",
       "  <tbody>\n",
       "    <tr>\n",
       "      <th>0</th>\n",
       "      <td>Wii Sports</td>\n",
       "      <td>Wii</td>\n",
       "      <td>2006.0</td>\n",
       "      <td>Sports</td>\n",
       "      <td>41.36</td>\n",
       "      <td>28.96</td>\n",
       "      <td>3.77</td>\n",
       "      <td>8.45</td>\n",
       "      <td>76.0</td>\n",
       "      <td>8</td>\n",
       "      <td>E</td>\n",
       "    </tr>\n",
       "    <tr>\n",
       "      <th>1</th>\n",
       "      <td>Super Mario Bros.</td>\n",
       "      <td>NES</td>\n",
       "      <td>1985.0</td>\n",
       "      <td>Platform</td>\n",
       "      <td>29.08</td>\n",
       "      <td>3.58</td>\n",
       "      <td>6.81</td>\n",
       "      <td>0.77</td>\n",
       "      <td>NaN</td>\n",
       "      <td>NaN</td>\n",
       "      <td>NaN</td>\n",
       "    </tr>\n",
       "    <tr>\n",
       "      <th>2</th>\n",
       "      <td>Mario Kart Wii</td>\n",
       "      <td>Wii</td>\n",
       "      <td>2008.0</td>\n",
       "      <td>Racing</td>\n",
       "      <td>15.68</td>\n",
       "      <td>12.76</td>\n",
       "      <td>3.79</td>\n",
       "      <td>3.29</td>\n",
       "      <td>82.0</td>\n",
       "      <td>8.3</td>\n",
       "      <td>E</td>\n",
       "    </tr>\n",
       "    <tr>\n",
       "      <th>3</th>\n",
       "      <td>Wii Sports Resort</td>\n",
       "      <td>Wii</td>\n",
       "      <td>2009.0</td>\n",
       "      <td>Sports</td>\n",
       "      <td>15.61</td>\n",
       "      <td>10.93</td>\n",
       "      <td>3.28</td>\n",
       "      <td>2.95</td>\n",
       "      <td>80.0</td>\n",
       "      <td>8</td>\n",
       "      <td>E</td>\n",
       "    </tr>\n",
       "    <tr>\n",
       "      <th>4</th>\n",
       "      <td>Pokemon Red/Pokemon Blue</td>\n",
       "      <td>GB</td>\n",
       "      <td>1996.0</td>\n",
       "      <td>Role-Playing</td>\n",
       "      <td>11.27</td>\n",
       "      <td>8.89</td>\n",
       "      <td>10.22</td>\n",
       "      <td>1.00</td>\n",
       "      <td>NaN</td>\n",
       "      <td>NaN</td>\n",
       "      <td>NaN</td>\n",
       "    </tr>\n",
       "  </tbody>\n",
       "</table>\n",
       "</div>"
      ],
      "text/plain": [
       "                       Name Platform  Year_of_Release         Genre  NA_sales  \\\n",
       "0                Wii Sports      Wii           2006.0        Sports     41.36   \n",
       "1         Super Mario Bros.      NES           1985.0      Platform     29.08   \n",
       "2            Mario Kart Wii      Wii           2008.0        Racing     15.68   \n",
       "3         Wii Sports Resort      Wii           2009.0        Sports     15.61   \n",
       "4  Pokemon Red/Pokemon Blue       GB           1996.0  Role-Playing     11.27   \n",
       "\n",
       "   EU_sales  JP_sales  Other_sales  Critic_Score User_Score Rating  \n",
       "0     28.96      3.77         8.45          76.0          8      E  \n",
       "1      3.58      6.81         0.77           NaN        NaN    NaN  \n",
       "2     12.76      3.79         3.29          82.0        8.3      E  \n",
       "3     10.93      3.28         2.95          80.0          8      E  \n",
       "4      8.89     10.22         1.00           NaN        NaN    NaN  "
      ]
     },
     "execution_count": 65,
     "metadata": {},
     "output_type": "execute_result"
    }
   ],
   "source": [
    "data.head()"
   ]
  },
  {
   "cell_type": "markdown",
   "metadata": {},
   "source": [
    "### Подготовка данных"
   ]
  },
  {
   "cell_type": "code",
   "execution_count": 66,
   "metadata": {},
   "outputs": [],
   "source": [
    "data.columns = data.columns.str.lower()#приведем к нижнему регистру названия столбцов"
   ]
  },
  {
   "cell_type": "code",
   "execution_count": 67,
   "metadata": {},
   "outputs": [
    {
     "data": {
      "text/html": [
       "<div>\n",
       "<style scoped>\n",
       "    .dataframe tbody tr th:only-of-type {\n",
       "        vertical-align: middle;\n",
       "    }\n",
       "\n",
       "    .dataframe tbody tr th {\n",
       "        vertical-align: top;\n",
       "    }\n",
       "\n",
       "    .dataframe thead th {\n",
       "        text-align: right;\n",
       "    }\n",
       "</style>\n",
       "<table border=\"1\" class=\"dataframe\">\n",
       "  <thead>\n",
       "    <tr style=\"text-align: right;\">\n",
       "      <th></th>\n",
       "      <th>name</th>\n",
       "      <th>platform</th>\n",
       "      <th>year_of_release</th>\n",
       "      <th>genre</th>\n",
       "      <th>na_sales</th>\n",
       "      <th>eu_sales</th>\n",
       "      <th>jp_sales</th>\n",
       "      <th>other_sales</th>\n",
       "      <th>critic_score</th>\n",
       "      <th>user_score</th>\n",
       "      <th>rating</th>\n",
       "    </tr>\n",
       "  </thead>\n",
       "  <tbody>\n",
       "    <tr>\n",
       "      <th>0</th>\n",
       "      <td>Wii Sports</td>\n",
       "      <td>Wii</td>\n",
       "      <td>2006.0</td>\n",
       "      <td>Sports</td>\n",
       "      <td>41.36</td>\n",
       "      <td>28.96</td>\n",
       "      <td>3.77</td>\n",
       "      <td>8.45</td>\n",
       "      <td>76.0</td>\n",
       "      <td>8</td>\n",
       "      <td>E</td>\n",
       "    </tr>\n",
       "    <tr>\n",
       "      <th>1</th>\n",
       "      <td>Super Mario Bros.</td>\n",
       "      <td>NES</td>\n",
       "      <td>1985.0</td>\n",
       "      <td>Platform</td>\n",
       "      <td>29.08</td>\n",
       "      <td>3.58</td>\n",
       "      <td>6.81</td>\n",
       "      <td>0.77</td>\n",
       "      <td>NaN</td>\n",
       "      <td>NaN</td>\n",
       "      <td>NaN</td>\n",
       "    </tr>\n",
       "    <tr>\n",
       "      <th>2</th>\n",
       "      <td>Mario Kart Wii</td>\n",
       "      <td>Wii</td>\n",
       "      <td>2008.0</td>\n",
       "      <td>Racing</td>\n",
       "      <td>15.68</td>\n",
       "      <td>12.76</td>\n",
       "      <td>3.79</td>\n",
       "      <td>3.29</td>\n",
       "      <td>82.0</td>\n",
       "      <td>8.3</td>\n",
       "      <td>E</td>\n",
       "    </tr>\n",
       "    <tr>\n",
       "      <th>3</th>\n",
       "      <td>Wii Sports Resort</td>\n",
       "      <td>Wii</td>\n",
       "      <td>2009.0</td>\n",
       "      <td>Sports</td>\n",
       "      <td>15.61</td>\n",
       "      <td>10.93</td>\n",
       "      <td>3.28</td>\n",
       "      <td>2.95</td>\n",
       "      <td>80.0</td>\n",
       "      <td>8</td>\n",
       "      <td>E</td>\n",
       "    </tr>\n",
       "    <tr>\n",
       "      <th>4</th>\n",
       "      <td>Pokemon Red/Pokemon Blue</td>\n",
       "      <td>GB</td>\n",
       "      <td>1996.0</td>\n",
       "      <td>Role-Playing</td>\n",
       "      <td>11.27</td>\n",
       "      <td>8.89</td>\n",
       "      <td>10.22</td>\n",
       "      <td>1.00</td>\n",
       "      <td>NaN</td>\n",
       "      <td>NaN</td>\n",
       "      <td>NaN</td>\n",
       "    </tr>\n",
       "  </tbody>\n",
       "</table>\n",
       "</div>"
      ],
      "text/plain": [
       "                       name platform  year_of_release         genre  na_sales  \\\n",
       "0                Wii Sports      Wii           2006.0        Sports     41.36   \n",
       "1         Super Mario Bros.      NES           1985.0      Platform     29.08   \n",
       "2            Mario Kart Wii      Wii           2008.0        Racing     15.68   \n",
       "3         Wii Sports Resort      Wii           2009.0        Sports     15.61   \n",
       "4  Pokemon Red/Pokemon Blue       GB           1996.0  Role-Playing     11.27   \n",
       "\n",
       "   eu_sales  jp_sales  other_sales  critic_score user_score rating  \n",
       "0     28.96      3.77         8.45          76.0          8      E  \n",
       "1      3.58      6.81         0.77           NaN        NaN    NaN  \n",
       "2     12.76      3.79         3.29          82.0        8.3      E  \n",
       "3     10.93      3.28         2.95          80.0          8      E  \n",
       "4      8.89     10.22         1.00           NaN        NaN    NaN  "
      ]
     },
     "execution_count": 67,
     "metadata": {},
     "output_type": "execute_result"
    }
   ],
   "source": [
    "data.head()#проверим результат преобразования"
   ]
  },
  {
   "cell_type": "code",
   "execution_count": 68,
   "metadata": {
    "scrolled": true
   },
   "outputs": [
    {
     "data": {
      "text/plain": [
       "name                  2\n",
       "platform              0\n",
       "year_of_release     269\n",
       "genre                 2\n",
       "na_sales              0\n",
       "eu_sales              0\n",
       "jp_sales              0\n",
       "other_sales           0\n",
       "critic_score       8578\n",
       "user_score         6701\n",
       "rating             6766\n",
       "dtype: int64"
      ]
     },
     "execution_count": 68,
     "metadata": {},
     "output_type": "execute_result"
    }
   ],
   "source": [
    "data.isna().sum()"
   ]
  },
  {
   "cell_type": "markdown",
   "metadata": {},
   "source": [
    "В столбцах rating, critic_score, user_score и year_of_release имеются пропуски значений. Можно предположить. что пропуски в  critic_score, user_score связаны с тем, что игры не успели получить оценку критиков и пользователей. Так как заполнить пропуски в данных не представляется возможным, оставлю пропуски без изменений."
   ]
  },
  {
   "cell_type": "code",
   "execution_count": 69,
   "metadata": {
    "scrolled": true
   },
   "outputs": [
    {
     "data": {
      "text/html": [
       "<div>\n",
       "<style scoped>\n",
       "    .dataframe tbody tr th:only-of-type {\n",
       "        vertical-align: middle;\n",
       "    }\n",
       "\n",
       "    .dataframe tbody tr th {\n",
       "        vertical-align: top;\n",
       "    }\n",
       "\n",
       "    .dataframe thead th {\n",
       "        text-align: right;\n",
       "    }\n",
       "</style>\n",
       "<table border=\"1\" class=\"dataframe\">\n",
       "  <thead>\n",
       "    <tr style=\"text-align: right;\">\n",
       "      <th></th>\n",
       "      <th>name</th>\n",
       "      <th>platform</th>\n",
       "      <th>year_of_release</th>\n",
       "      <th>genre</th>\n",
       "      <th>na_sales</th>\n",
       "      <th>eu_sales</th>\n",
       "      <th>jp_sales</th>\n",
       "      <th>other_sales</th>\n",
       "      <th>critic_score</th>\n",
       "      <th>user_score</th>\n",
       "      <th>rating</th>\n",
       "    </tr>\n",
       "  </thead>\n",
       "  <tbody>\n",
       "    <tr>\n",
       "      <th>1591</th>\n",
       "      <td>Need for Speed: Most Wanted</td>\n",
       "      <td>X360</td>\n",
       "      <td>2005.0</td>\n",
       "      <td>Racing</td>\n",
       "      <td>1.0</td>\n",
       "      <td>0.13</td>\n",
       "      <td>0.02</td>\n",
       "      <td>0.10</td>\n",
       "      <td>83.0</td>\n",
       "      <td>8.5</td>\n",
       "      <td>T</td>\n",
       "    </tr>\n",
       "    <tr>\n",
       "      <th>4127</th>\n",
       "      <td>Sonic the Hedgehog</td>\n",
       "      <td>PS3</td>\n",
       "      <td>NaN</td>\n",
       "      <td>Platform</td>\n",
       "      <td>0.0</td>\n",
       "      <td>0.48</td>\n",
       "      <td>0.00</td>\n",
       "      <td>0.00</td>\n",
       "      <td>43.0</td>\n",
       "      <td>4.1</td>\n",
       "      <td>E10+</td>\n",
       "    </tr>\n",
       "    <tr>\n",
       "      <th>11715</th>\n",
       "      <td>Need for Speed: Most Wanted</td>\n",
       "      <td>PC</td>\n",
       "      <td>2012.0</td>\n",
       "      <td>Racing</td>\n",
       "      <td>0.0</td>\n",
       "      <td>0.06</td>\n",
       "      <td>0.00</td>\n",
       "      <td>0.02</td>\n",
       "      <td>82.0</td>\n",
       "      <td>8.5</td>\n",
       "      <td>T</td>\n",
       "    </tr>\n",
       "    <tr>\n",
       "      <th>14244</th>\n",
       "      <td>NaN</td>\n",
       "      <td>GEN</td>\n",
       "      <td>1993.0</td>\n",
       "      <td>NaN</td>\n",
       "      <td>0.0</td>\n",
       "      <td>0.00</td>\n",
       "      <td>0.03</td>\n",
       "      <td>0.00</td>\n",
       "      <td>NaN</td>\n",
       "      <td>NaN</td>\n",
       "      <td>NaN</td>\n",
       "    </tr>\n",
       "    <tr>\n",
       "      <th>16230</th>\n",
       "      <td>Madden NFL 13</td>\n",
       "      <td>PS3</td>\n",
       "      <td>2012.0</td>\n",
       "      <td>Sports</td>\n",
       "      <td>0.0</td>\n",
       "      <td>0.01</td>\n",
       "      <td>0.00</td>\n",
       "      <td>0.00</td>\n",
       "      <td>83.0</td>\n",
       "      <td>5.5</td>\n",
       "      <td>E</td>\n",
       "    </tr>\n",
       "  </tbody>\n",
       "</table>\n",
       "</div>"
      ],
      "text/plain": [
       "                              name platform  year_of_release     genre  \\\n",
       "1591   Need for Speed: Most Wanted     X360           2005.0    Racing   \n",
       "4127            Sonic the Hedgehog      PS3              NaN  Platform   \n",
       "11715  Need for Speed: Most Wanted       PC           2012.0    Racing   \n",
       "14244                          NaN      GEN           1993.0       NaN   \n",
       "16230                Madden NFL 13      PS3           2012.0    Sports   \n",
       "\n",
       "       na_sales  eu_sales  jp_sales  other_sales  critic_score user_score  \\\n",
       "1591        1.0      0.13      0.02         0.10          83.0        8.5   \n",
       "4127        0.0      0.48      0.00         0.00          43.0        4.1   \n",
       "11715       0.0      0.06      0.00         0.02          82.0        8.5   \n",
       "14244       0.0      0.00      0.03         0.00           NaN        NaN   \n",
       "16230       0.0      0.01      0.00         0.00          83.0        5.5   \n",
       "\n",
       "      rating  \n",
       "1591       T  \n",
       "4127    E10+  \n",
       "11715      T  \n",
       "14244    NaN  \n",
       "16230      E  "
      ]
     },
     "execution_count": 69,
     "metadata": {},
     "output_type": "execute_result"
    }
   ],
   "source": [
    "data[data.duplicated(subset=['name','platform'])]#проверим наличие не явных дубликатов"
   ]
  },
  {
   "cell_type": "markdown",
   "metadata": {},
   "source": [
    "<div class=\"alert alert-success\">\n",
    "<font color='blue'>Не явные дубликаты в столбцах: 'name','platform', обрабатывать не вижу смысла т.к игра имеет одинаковое наименование, но год выпуска и платформа разные, т.е. это игры разные. </font>"
   ]
  },
  {
   "cell_type": "code",
   "execution_count": 70,
   "metadata": {
    "scrolled": true
   },
   "outputs": [
    {
     "name": "stdout",
     "output_type": "stream",
     "text": [
      "<class 'pandas.core.frame.DataFrame'>\n",
      "RangeIndex: 16715 entries, 0 to 16714\n",
      "Data columns (total 11 columns):\n",
      " #   Column           Non-Null Count  Dtype  \n",
      "---  ------           --------------  -----  \n",
      " 0   name             16713 non-null  object \n",
      " 1   platform         16715 non-null  object \n",
      " 2   year_of_release  16446 non-null  float64\n",
      " 3   genre            16713 non-null  object \n",
      " 4   na_sales         16715 non-null  float64\n",
      " 5   eu_sales         16715 non-null  float64\n",
      " 6   jp_sales         16715 non-null  float64\n",
      " 7   other_sales      16715 non-null  float64\n",
      " 8   critic_score     8137 non-null   float64\n",
      " 9   user_score       10014 non-null  object \n",
      " 10  rating           9949 non-null   object \n",
      "dtypes: float64(6), object(5)\n",
      "memory usage: 1.4+ MB\n"
     ]
    }
   ],
   "source": [
    "data.info()"
   ]
  },
  {
   "cell_type": "markdown",
   "metadata": {},
   "source": [
    "Данные в столбце year_of_release имеют вещественный тип данных, зааменим тип данных на цельночисленный."
   ]
  },
  {
   "cell_type": "code",
   "execution_count": 71,
   "metadata": {},
   "outputs": [],
   "source": [
    "data['year_of_release'] = data['year_of_release'].astype('Int64')"
   ]
  },
  {
   "cell_type": "code",
   "execution_count": 72,
   "metadata": {},
   "outputs": [
    {
     "data": {
      "text/plain": [
       "<IntegerArray>\n",
       "[2006, 1985, 2008, 2009, 1996, 1989, 1984, 2005, 1999, 2007, 2010, 2013, 2004,\n",
       " 1990, 1988, 2002, 2001, 2011, 1998, 2015, 2012, 2014, 1992, 1997, 1993, 1994,\n",
       " 1982, 2016, 2003, 1986, 2000, <NA>, 1995, 1991, 1981, 1987, 1980, 1983]\n",
       "Length: 38, dtype: Int64"
      ]
     },
     "execution_count": 72,
     "metadata": {},
     "output_type": "execute_result"
    }
   ],
   "source": [
    "data.year_of_release.unique()#проверим уникальные значения столбца 'year_of_release'"
   ]
  },
  {
   "cell_type": "code",
   "execution_count": 73,
   "metadata": {
    "scrolled": true
   },
   "outputs": [
    {
     "data": {
      "text/plain": [
       "array(['8', nan, '8.3', '8.5', '6.6', '8.4', '8.6', '7.7', '6.3', '7.4',\n",
       "       '8.2', '9', '7.9', '8.1', '8.7', '7.1', '3.4', '5.3', '4.8', '3.2',\n",
       "       '8.9', '6.4', '7.8', '7.5', '2.6', '7.2', '9.2', '7', '7.3', '4.3',\n",
       "       '7.6', '5.7', '5', '9.1', '6.5', 'tbd', '8.8', '6.9', '9.4', '6.8',\n",
       "       '6.1', '6.7', '5.4', '4', '4.9', '4.5', '9.3', '6.2', '4.2', '6',\n",
       "       '3.7', '4.1', '5.8', '5.6', '5.5', '4.4', '4.6', '5.9', '3.9',\n",
       "       '3.1', '2.9', '5.2', '3.3', '4.7', '5.1', '3.5', '2.5', '1.9', '3',\n",
       "       '2.7', '2.2', '2', '9.5', '2.1', '3.6', '2.8', '1.8', '3.8', '0',\n",
       "       '1.6', '9.6', '2.4', '1.7', '1.1', '0.3', '1.5', '0.7', '1.2',\n",
       "       '2.3', '0.5', '1.3', '0.2', '0.6', '1.4', '0.9', '1', '9.7'],\n",
       "      dtype=object)"
      ]
     },
     "execution_count": 73,
     "metadata": {},
     "output_type": "execute_result"
    }
   ],
   "source": [
    "data.user_score.unique()"
   ]
  },
  {
   "cell_type": "markdown",
   "metadata": {},
   "source": [
    "В стлбце user_score среди уникальных значений имееется аббревиатура 'tbd' ее можно расшифровать как \"Будет определено\" или же неизвестное значение. Принято решение заменить значение на значение NaN и одновременно заменить тип данных с object на float - вещественный тип данных для дальнейшего агализа."
   ]
  },
  {
   "cell_type": "code",
   "execution_count": 74,
   "metadata": {},
   "outputs": [],
   "source": [
    "data.loc[data['user_score'] == 'tbd', 'user_score'] = np.nan\n",
    "data['user_score'] = data['user_score'].astype('float')"
   ]
  },
  {
   "cell_type": "code",
   "execution_count": 75,
   "metadata": {},
   "outputs": [
    {
     "data": {
      "text/plain": [
       "array([8. , nan, 8.3, 8.5, 6.6, 8.4, 8.6, 7.7, 6.3, 7.4, 8.2, 9. , 7.9,\n",
       "       8.1, 8.7, 7.1, 3.4, 5.3, 4.8, 3.2, 8.9, 6.4, 7.8, 7.5, 2.6, 7.2,\n",
       "       9.2, 7. , 7.3, 4.3, 7.6, 5.7, 5. , 9.1, 6.5, 8.8, 6.9, 9.4, 6.8,\n",
       "       6.1, 6.7, 5.4, 4. , 4.9, 4.5, 9.3, 6.2, 4.2, 6. , 3.7, 4.1, 5.8,\n",
       "       5.6, 5.5, 4.4, 4.6, 5.9, 3.9, 3.1, 2.9, 5.2, 3.3, 4.7, 5.1, 3.5,\n",
       "       2.5, 1.9, 3. , 2.7, 2.2, 2. , 9.5, 2.1, 3.6, 2.8, 1.8, 3.8, 0. ,\n",
       "       1.6, 9.6, 2.4, 1.7, 1.1, 0.3, 1.5, 0.7, 1.2, 2.3, 0.5, 1.3, 0.2,\n",
       "       0.6, 1.4, 0.9, 1. , 9.7])"
      ]
     },
     "execution_count": 75,
     "metadata": {},
     "output_type": "execute_result"
    }
   ],
   "source": [
    "data['user_score'].unique()#проверим результат преобразований"
   ]
  },
  {
   "cell_type": "code",
   "execution_count": 76,
   "metadata": {},
   "outputs": [],
   "source": [
    "data['total_sales'] = data['na_sales'] + data['eu_sales'] + data['jp_sales'] + data['other_sales']"
   ]
  },
  {
   "cell_type": "markdown",
   "metadata": {},
   "source": [
    "Посчитаем суммарные продажи во всех регионах и запишем их в отдельный столбец."
   ]
  },
  {
   "cell_type": "code",
   "execution_count": 77,
   "metadata": {},
   "outputs": [
    {
     "data": {
      "text/html": [
       "<div>\n",
       "<style scoped>\n",
       "    .dataframe tbody tr th:only-of-type {\n",
       "        vertical-align: middle;\n",
       "    }\n",
       "\n",
       "    .dataframe tbody tr th {\n",
       "        vertical-align: top;\n",
       "    }\n",
       "\n",
       "    .dataframe thead th {\n",
       "        text-align: right;\n",
       "    }\n",
       "</style>\n",
       "<table border=\"1\" class=\"dataframe\">\n",
       "  <thead>\n",
       "    <tr style=\"text-align: right;\">\n",
       "      <th></th>\n",
       "      <th>name</th>\n",
       "      <th>platform</th>\n",
       "      <th>year_of_release</th>\n",
       "      <th>genre</th>\n",
       "      <th>na_sales</th>\n",
       "      <th>eu_sales</th>\n",
       "      <th>jp_sales</th>\n",
       "      <th>other_sales</th>\n",
       "      <th>critic_score</th>\n",
       "      <th>user_score</th>\n",
       "      <th>rating</th>\n",
       "      <th>total_sales</th>\n",
       "    </tr>\n",
       "  </thead>\n",
       "  <tbody>\n",
       "    <tr>\n",
       "      <th>0</th>\n",
       "      <td>Wii Sports</td>\n",
       "      <td>Wii</td>\n",
       "      <td>2006</td>\n",
       "      <td>Sports</td>\n",
       "      <td>41.36</td>\n",
       "      <td>28.96</td>\n",
       "      <td>3.77</td>\n",
       "      <td>8.45</td>\n",
       "      <td>76.0</td>\n",
       "      <td>8.0</td>\n",
       "      <td>E</td>\n",
       "      <td>82.54</td>\n",
       "    </tr>\n",
       "    <tr>\n",
       "      <th>1</th>\n",
       "      <td>Super Mario Bros.</td>\n",
       "      <td>NES</td>\n",
       "      <td>1985</td>\n",
       "      <td>Platform</td>\n",
       "      <td>29.08</td>\n",
       "      <td>3.58</td>\n",
       "      <td>6.81</td>\n",
       "      <td>0.77</td>\n",
       "      <td>NaN</td>\n",
       "      <td>NaN</td>\n",
       "      <td>NaN</td>\n",
       "      <td>40.24</td>\n",
       "    </tr>\n",
       "    <tr>\n",
       "      <th>2</th>\n",
       "      <td>Mario Kart Wii</td>\n",
       "      <td>Wii</td>\n",
       "      <td>2008</td>\n",
       "      <td>Racing</td>\n",
       "      <td>15.68</td>\n",
       "      <td>12.76</td>\n",
       "      <td>3.79</td>\n",
       "      <td>3.29</td>\n",
       "      <td>82.0</td>\n",
       "      <td>8.3</td>\n",
       "      <td>E</td>\n",
       "      <td>35.52</td>\n",
       "    </tr>\n",
       "    <tr>\n",
       "      <th>3</th>\n",
       "      <td>Wii Sports Resort</td>\n",
       "      <td>Wii</td>\n",
       "      <td>2009</td>\n",
       "      <td>Sports</td>\n",
       "      <td>15.61</td>\n",
       "      <td>10.93</td>\n",
       "      <td>3.28</td>\n",
       "      <td>2.95</td>\n",
       "      <td>80.0</td>\n",
       "      <td>8.0</td>\n",
       "      <td>E</td>\n",
       "      <td>32.77</td>\n",
       "    </tr>\n",
       "    <tr>\n",
       "      <th>4</th>\n",
       "      <td>Pokemon Red/Pokemon Blue</td>\n",
       "      <td>GB</td>\n",
       "      <td>1996</td>\n",
       "      <td>Role-Playing</td>\n",
       "      <td>11.27</td>\n",
       "      <td>8.89</td>\n",
       "      <td>10.22</td>\n",
       "      <td>1.00</td>\n",
       "      <td>NaN</td>\n",
       "      <td>NaN</td>\n",
       "      <td>NaN</td>\n",
       "      <td>31.38</td>\n",
       "    </tr>\n",
       "  </tbody>\n",
       "</table>\n",
       "</div>"
      ],
      "text/plain": [
       "                       name platform  year_of_release         genre  na_sales  \\\n",
       "0                Wii Sports      Wii             2006        Sports     41.36   \n",
       "1         Super Mario Bros.      NES             1985      Platform     29.08   \n",
       "2            Mario Kart Wii      Wii             2008        Racing     15.68   \n",
       "3         Wii Sports Resort      Wii             2009        Sports     15.61   \n",
       "4  Pokemon Red/Pokemon Blue       GB             1996  Role-Playing     11.27   \n",
       "\n",
       "   eu_sales  jp_sales  other_sales  critic_score  user_score rating  \\\n",
       "0     28.96      3.77         8.45          76.0         8.0      E   \n",
       "1      3.58      6.81         0.77           NaN         NaN    NaN   \n",
       "2     12.76      3.79         3.29          82.0         8.3      E   \n",
       "3     10.93      3.28         2.95          80.0         8.0      E   \n",
       "4      8.89     10.22         1.00           NaN         NaN    NaN   \n",
       "\n",
       "   total_sales  \n",
       "0        82.54  \n",
       "1        40.24  \n",
       "2        35.52  \n",
       "3        32.77  \n",
       "4        31.38  "
      ]
     },
     "execution_count": 77,
     "metadata": {},
     "output_type": "execute_result"
    }
   ],
   "source": [
    "data.head()"
   ]
  },
  {
   "cell_type": "code",
   "execution_count": 78,
   "metadata": {},
   "outputs": [
    {
     "data": {
      "text/plain": [
       "array(['E', nan, 'M', 'T', 'E10+', 'K-A', 'AO', 'EC', 'RP'], dtype=object)"
      ]
     },
     "execution_count": 78,
     "metadata": {},
     "output_type": "execute_result"
    }
   ],
   "source": [
    "data.rating.unique()"
   ]
  },
  {
   "cell_type": "code",
   "execution_count": 79,
   "metadata": {},
   "outputs": [],
   "source": [
    "data['rating'] = data['rating'].fillna('no rating')#заменим пропуск на условное обозначение так как данные далее нужны для анализа"
   ]
  },
  {
   "cell_type": "markdown",
   "metadata": {},
   "source": [
    "<div class=\"alert alert-success\">\n",
    "<font color='blue'>\n",
    "<br>Итоги по подготовке данных к анализу:\n",
    "<br> *Заменил пропущенные значения (столбец 'rating'), для этого использовал условное обозначение \"no rating\" так как данные далее нужны для анализа влияния рейтинга ESRB на продажи в конкретном регионе. Что касается остальных пропусков, для их заполнения у нас недостаточно данных.\n",
    "<br> *В стлбце user_score  аббревиатуру 'tbd' заменил на значение NaN и одновременно заменил  тип данных с object на float - вещественный тип данных.\n",
    "<br> * В столбце 'year_of_release' так же заменил тип данных с float64 на цельночисленный тип данных, год выпуска будет использоваться на протяжении всего дальнейшего исследования.\n",
    "<br> * Добавлен столбец'total_sales' - в нем объединил суммарные продажи во всех регионах.    \n",
    "    </font>"
   ]
  },
  {
   "cell_type": "markdown",
   "metadata": {},
   "source": [
    "###   Исследовательский анализ данных"
   ]
  },
  {
   "cell_type": "code",
   "execution_count": 80,
   "metadata": {},
   "outputs": [
    {
     "data": {
      "image/png": "[encoded data removed]",
      "text/plain": [
       "<Figure size 1440x720 with 1 Axes>"
      ]
     },
     "metadata": {
      "needs_background": "light"
     },
     "output_type": "display_data"
    }
   ],
   "source": [
    "data.plot(y = 'year_of_release', bins = 25, grid=True, figsize=[20, 10], kind = 'hist', range = (1980,2017))\n",
    "plt.title('Количество игр по годам')\n",
    "plt.xlabel('Год выпуска')\n",
    "plt.ylabel('Количество игр')\n",
    "plt.show()"
   ]
  },
  {
   "cell_type": "markdown",
   "metadata": {},
   "source": [
    "<div class=\"alert alert-success\">\n",
    "<font color='blue'>Согласно данным на гистограме игры до 1995 года не имели массового характера, наиболее важными данными можно считать данные с 2005 года по 2009 год, когда наблюдался многократный рост продаж видеоигр.</font>"
   ]
  },
  {
   "cell_type": "code",
   "execution_count": 81,
   "metadata": {},
   "outputs": [
    {
     "data": {
      "image/png": "[encoded data removed]",
      "text/plain": [
       "<Figure size 1080x360 with 1 Axes>"
      ]
     },
     "metadata": {
      "needs_background": "light"
     },
     "output_type": "display_data"
    }
   ],
   "source": [
    "data.pivot_table(index = 'platform', values = 'total_sales', aggfunc = 'sum')\\\n",
    ".sort_values(by = 'total_sales', ascending = False).\\\n",
    "plot(kind='bar', figsize=(15,5));\n",
    "plt.title('Итоговые продажи по платформам')\n",
    "plt.xlabel('Наименование платформы')\n",
    "plt.ylabel('Итого продаж')\n",
    "plt.show()"
   ]
  },
  {
   "cell_type": "markdown",
   "metadata": {},
   "source": [
    "<div class=\"alert alert-success\">\n",
    "<font color='blue'>Первые 6 платформ (PS2, X360, PS3, Wii, DS, PS) по итоговым продажам во всех исследуемых регионах обгоняют остальные платформы. По сравнению с 7-й по рейтингу платформой - GBA разрыв более, чем в 2 раза. Для дальнейщего анализа сделаем выборку из топ-10 платформ по суммарным продажам во всех исследуемых регионам.</font>"
   ]
  },
  {
   "cell_type": "code",
   "execution_count": 82,
   "metadata": {},
   "outputs": [],
   "source": [
    "top_10_platforms = data.query('platform == [\"PS2\",\"X360\",\"PS3\",\"Wii\",\"DS\",\"PS\", \"GBA\", \"PS4\", \"PSP\", \"PC\"]')"
   ]
  },
  {
   "cell_type": "code",
   "execution_count": 83,
   "metadata": {
    "scrolled": false
   },
   "outputs": [
    {
     "data": {
      "image/png": "[encoded data removed]",
      "text/plain": [
       "<Figure size 1080x360 with 1 Axes>"
      ]
     },
     "metadata": {
      "needs_background": "light"
     },
     "output_type": "display_data"
    }
   ],
   "source": [
    "top_10_platforms.pivot_table(index = 'year_of_release',columns = 'platform', values = 'total_sales',aggfunc =  'sum')\\\n",
    ".plot(grid=True, figsize = (15,5))\n",
    "plt.show()"
   ]
  },
  {
   "cell_type": "markdown",
   "metadata": {},
   "source": [
    "<div class=\"alert alert-success\">\n",
    "<font color='blue'>Данный график наглядно показывает, что из рассмотренных отобранных топ-10 платформ по объемам продаж, каждая платформа имеет рост продаж, который имеет пиковое значение за которым идет снижение. Можно сделать вывод что со временем платформы теряют актуальность в связи с выходом более новых платформ. Можно выделить характерный срок за который появляются новые и исчезают старые платформы. Этот срок можно обозначить в пределах от 8 до 10 лет. Далее продажи платформ либо снижаются, либо изчезают вовсе.</font>"
   ]
  },
  {
   "cell_type": "code",
   "execution_count": 84,
   "metadata": {
    "scrolled": false
   },
   "outputs": [
    {
     "data": {
      "image/png": "[encoded data removed]",
      "text/plain": [
       "<Figure size 1080x360 with 1 Axes>"
      ]
     },
     "metadata": {
      "needs_background": "light"
     },
     "output_type": "display_data"
    },
    {
     "data": {
      "image/png": "[encoded data removed]",
      "text/plain": [
       "<Figure size 1080x360 with 1 Axes>"
      ]
     },
     "metadata": {
      "needs_background": "light"
     },
     "output_type": "display_data"
    },
    {
     "data": {
      "image/png": "[encoded data removed]",
      "text/plain": [
       "<Figure size 1080x360 with 1 Axes>"
      ]
     },
     "metadata": {
      "needs_background": "light"
     },
     "output_type": "display_data"
    },
    {
     "data": {
      "image/png": "[encoded data removed]",
      "text/plain": [
       "<Figure size 1080x360 with 1 Axes>"
      ]
     },
     "metadata": {
      "needs_background": "light"
     },
     "output_type": "display_data"
    },
    {
     "data": {
      "image/png": "[encoded data removed]",
      "text/plain": [
       "<Figure size 1080x360 with 1 Axes>"
      ]
     },
     "metadata": {
      "needs_background": "light"
     },
     "output_type": "display_data"
    },
    {
     "data": {
      "image/png": "[encoded data removed]",
      "text/plain": [
       "<Figure size 1080x360 with 1 Axes>"
      ]
     },
     "metadata": {
      "needs_background": "light"
     },
     "output_type": "display_data"
    },
    {
     "data": {
      "image/png": "[encoded data removed]",
      "text/plain": [
       "<Figure size 1080x360 with 1 Axes>"
      ]
     },
     "metadata": {
      "needs_background": "light"
     },
     "output_type": "display_data"
    },
    {
     "data": {
      "image/png": "[encoded data removed]",
      "text/plain": [
       "<Figure size 1080x360 with 1 Axes>"
      ]
     },
     "metadata": {
      "needs_background": "light"
     },
     "output_type": "display_data"
    },
    {
     "data": {
      "image/png": "[encoded data removed]",
      "text/plain": [
       "<Figure size 1080x360 with 1 Axes>"
      ]
     },
     "metadata": {
      "needs_background": "light"
     },
     "output_type": "display_data"
    },
    {
     "data": {
      "image/png": "[encoded data removed]",
      "text/plain": [
       "<Figure size 1080x360 with 1 Axes>"
      ]
     },
     "metadata": {
      "needs_background": "light"
     },
     "output_type": "display_data"
    }
   ],
   "source": [
    "for platform in top_10_platforms['platform'].unique():\n",
    "    data[data['platform'] == platform].pivot_table(index = 'year_of_release', values = 'total_sales', aggfunc = 'sum')\\\n",
    "    .plot(kind = 'bar', figsize=(15,5))\n",
    "    plt.title(platform)\n",
    "    plt.xlabel('Год выпуска')\n",
    "    plt.ylabel('Суммарные продажи')\n",
    "    plt.show()"
   ]
  },
  {
   "cell_type": "markdown",
   "metadata": {},
   "source": [
    "<div class=\"alert alert-success\">\n",
    "<font color='blue'>Графики по каждой платформе так же подтверждают что со временем платформы теряют актуальность в связи с выходом более новых платформ. Продажи платформ либо снижаются, либо изчезают вовсе.</font>"
   ]
  },
  {
   "cell_type": "code",
   "execution_count": 85,
   "metadata": {},
   "outputs": [],
   "source": [
    "data_v_2 = data.query('year_of_release >= 2014')"
   ]
  },
  {
   "cell_type": "markdown",
   "metadata": {},
   "source": [
    "<div class=\"alert alert-success\">\n",
    "<font color='blue'> Для дальнейщего анализа можно обозначить период c 2014 года и сделать срез.</font>"
   ]
  },
  {
   "cell_type": "code",
   "execution_count": 86,
   "metadata": {},
   "outputs": [
    {
     "data": {
      "text/plain": [
       "array(['PS4', '3DS', 'XOne', 'WiiU', 'PS3', 'X360', 'PC', 'Wii', 'PSV',\n",
       "       'PSP'], dtype=object)"
      ]
     },
     "execution_count": 86,
     "metadata": {},
     "output_type": "execute_result"
    }
   ],
   "source": [
    "data_v_2.platform.unique()#проверим уникальные значения"
   ]
  },
  {
   "cell_type": "code",
   "execution_count": 110,
   "metadata": {},
   "outputs": [
    {
     "data": {
      "text/html": [
       "<div>\n",
       "<style scoped>\n",
       "    .dataframe tbody tr th:only-of-type {\n",
       "        vertical-align: middle;\n",
       "    }\n",
       "\n",
       "    .dataframe tbody tr th {\n",
       "        vertical-align: top;\n",
       "    }\n",
       "\n",
       "    .dataframe thead th {\n",
       "        text-align: right;\n",
       "    }\n",
       "</style>\n",
       "<table border=\"1\" class=\"dataframe\">\n",
       "  <thead>\n",
       "    <tr style=\"text-align: right;\">\n",
       "      <th></th>\n",
       "      <th>total_sales</th>\n",
       "    </tr>\n",
       "    <tr>\n",
       "      <th>platform</th>\n",
       "      <th></th>\n",
       "    </tr>\n",
       "  </thead>\n",
       "  <tbody>\n",
       "    <tr>\n",
       "      <th>PS4</th>\n",
       "      <td>288.15</td>\n",
       "    </tr>\n",
       "    <tr>\n",
       "      <th>XOne</th>\n",
       "      <td>140.36</td>\n",
       "    </tr>\n",
       "    <tr>\n",
       "      <th>3DS</th>\n",
       "      <td>86.68</td>\n",
       "    </tr>\n",
       "    <tr>\n",
       "      <th>PS3</th>\n",
       "      <td>68.18</td>\n",
       "    </tr>\n",
       "    <tr>\n",
       "      <th>X360</th>\n",
       "      <td>48.22</td>\n",
       "    </tr>\n",
       "    <tr>\n",
       "      <th>WiiU</th>\n",
       "      <td>42.98</td>\n",
       "    </tr>\n",
       "    <tr>\n",
       "      <th>PC</th>\n",
       "      <td>27.05</td>\n",
       "    </tr>\n",
       "    <tr>\n",
       "      <th>PSV</th>\n",
       "      <td>22.40</td>\n",
       "    </tr>\n",
       "    <tr>\n",
       "      <th>Wii</th>\n",
       "      <td>5.07</td>\n",
       "    </tr>\n",
       "    <tr>\n",
       "      <th>PSP</th>\n",
       "      <td>0.36</td>\n",
       "    </tr>\n",
       "  </tbody>\n",
       "</table>\n",
       "</div>"
      ],
      "text/plain": [
       "          total_sales\n",
       "platform             \n",
       "PS4            288.15\n",
       "XOne           140.36\n",
       "3DS             86.68\n",
       "PS3             68.18\n",
       "X360            48.22\n",
       "WiiU            42.98\n",
       "PC              27.05\n",
       "PSV             22.40\n",
       "Wii              5.07\n",
       "PSP              0.36"
      ]
     },
     "execution_count": 110,
     "metadata": {},
     "output_type": "execute_result"
    }
   ],
   "source": [
    "data_v_2.pivot_table(index = 'platform', values = 'total_sales', aggfunc = 'sum')\\\n",
    ".sort_values(by='total_sales',ascending = False)#построим сводную таблицу общие продажи в порядке убывания по платформам"
   ]
  },
  {
   "cell_type": "code",
   "execution_count": 88,
   "metadata": {
    "scrolled": false
   },
   "outputs": [
    {
     "data": {
      "image/png": "[encoded data removed]",
      "text/plain": [
       "<Figure size 1080x360 with 1 Axes>"
      ]
     },
     "metadata": {
      "needs_background": "light"
     },
     "output_type": "display_data"
    }
   ],
   "source": [
    "data_v_2.pivot_table(index = 'platform', values = 'total_sales', aggfunc = 'sum').\\\n",
    "sort_values(by='total_sales',ascending = False).plot(kind='bar', figsize=(15,5));\n",
    "plt.title('Итоговые продажи по платформам')\n",
    "plt.xlabel('Наименование платформы')\n",
    "plt.ylabel('Итого продаж')\n",
    "plt.show()"
   ]
  },
  {
   "cell_type": "code",
   "execution_count": 111,
   "metadata": {
    "scrolled": true
   },
   "outputs": [
    {
     "data": {
      "image/png": "[encoded data removed]",
      "text/plain": [
       "<Figure size 1080x360 with 1 Axes>"
      ]
     },
     "metadata": {
      "needs_background": "light"
     },
     "output_type": "display_data"
    }
   ],
   "source": [
    "data_v_2.pivot_table(index = 'year_of_release', columns = 'platform',values = 'total_sales', aggfunc =  'sum')\\\n",
    ".plot(grid=True, figsize = (15,5))\n",
    "plt.legend(bbox_to_anchor=(1, 0.6))\n",
    "plt.show()"
   ]
  },
  {
   "cell_type": "markdown",
   "metadata": {},
   "source": [
    "<div class=\"alert alert-success\">\n",
    "<font color='blue'>По итоговому объему продаж, за рассматриваемый период в гистограмме, лидируют платформы - PS3 и X360. Эти платформы можно рассматривать как самые прибыльные, но стоить отметить, что продажи этих платформ, согласно граффика к 2016 году снизились и находяться на исторически минимальных значениях. Более высокий объем продаж за период с 2014-2016 гг. показывают платформы: PS4 и Xone. Наименее прибыльные платформы: PS2 и PSV.</font>"
   ]
  },
  {
   "cell_type": "code",
   "execution_count": 114,
   "metadata": {
    "scrolled": false
   },
   "outputs": [
    {
     "data": {
      "image/png": "[encoded data removed]",
      "text/plain": [
       "<Figure size 864x720 with 1 Axes>"
      ]
     },
     "metadata": {
      "needs_background": "light"
     },
     "output_type": "display_data"
    }
   ],
   "source": [
    "plt.figure(figsize=(12,10))\n",
    "sns.boxplot(data=data_v_2, x='platform', y='total_sales')\n",
    "plt.ylim([0, 2])\n",
    "plt.title('Глобальные продажам игр в разбивке по платформам')\n",
    "plt.xlabel('Платформа')\n",
    "plt.ylabel('Итого продажи')\n",
    "plt.show()"
   ]
  },
  {
   "cell_type": "code",
   "execution_count": 116,
   "metadata": {},
   "outputs": [
    {
     "data": {
      "image/png": "[encoded data removed]",
      "text/plain": [
       "<Figure size 864x720 with 1 Axes>"
      ]
     },
     "metadata": {
      "needs_background": "light"
     },
     "output_type": "display_data"
    }
   ],
   "source": [
    "plt.figure(figsize=(12,10))\n",
    "sns.boxplot(data=data_v_2, x='platform', y='total_sales')\n",
    "plt.ylim([0, 0.85])\n",
    "plt.title('Глобальные продажам игр в разбивке по платформам')\n",
    "plt.xlabel('Платформа')\n",
    "plt.ylabel('Итого продажи')\n",
    "plt.show()"
   ]
  },
  {
   "cell_type": "markdown",
   "metadata": {},
   "source": [
    "<div class=\"alert alert-success\">\n",
    "<font color='blue'>Анализируя диаграмму размаха можно сделать вывод, что медианные заначения по итоговым продажам среди платформ находятся на сопоставимых уровнях, т.е среди лидеров продаж медиана примерно равна, так и среди менее продаваемых платформ медианные значения равны. Имеется выбросы среди данных. Наибольшее количество выбросов имеют платформы с более низким показателем продаж, т.е возможно имеется красковременный резкий прирост продаж.</font>"
   ]
  },
  {
   "cell_type": "code",
   "execution_count": 91,
   "metadata": {},
   "outputs": [
    {
     "data": {
      "image/png": "[encoded data removed]",
      "text/plain": [
       "<Figure size 1080x360 with 1 Axes>"
      ]
     },
     "metadata": {
      "needs_background": "light"
     },
     "output_type": "display_data"
    }
   ],
   "source": [
    "PS3 = data_v_2.query('platform == \"PS3\"')\n",
    "plt.figure(figsize=(15,5))\n",
    "sns.scatterplot(data = PS3, x = 'user_score',y = 'total_sales');"
   ]
  },
  {
   "cell_type": "code",
   "execution_count": 92,
   "metadata": {
    "scrolled": true
   },
   "outputs": [
    {
     "data": {
      "text/plain": [
       "-0.16676141347662118"
      ]
     },
     "execution_count": 92,
     "metadata": {},
     "output_type": "execute_result"
    }
   ],
   "source": [
    "PS3['user_score'].corr(PS3['total_sales'])"
   ]
  },
  {
   "cell_type": "code",
   "execution_count": 93,
   "metadata": {},
   "outputs": [
    {
     "data": {
      "image/png": "[encoded data removed]",
      "text/plain": [
       "<Figure size 1080x360 with 1 Axes>"
      ]
     },
     "metadata": {
      "needs_background": "light"
     },
     "output_type": "display_data"
    }
   ],
   "source": [
    "plt.figure(figsize=(15,5))\n",
    "sns.scatterplot(data = PS3, x = 'critic_score',y = 'total_sales');"
   ]
  },
  {
   "cell_type": "code",
   "execution_count": 94,
   "metadata": {},
   "outputs": [
    {
     "data": {
      "text/plain": [
       "0.44657460493190704"
      ]
     },
     "execution_count": 94,
     "metadata": {},
     "output_type": "execute_result"
    }
   ],
   "source": [
    "PS3['critic_score'].corr(PS3['total_sales'])"
   ]
  },
  {
   "cell_type": "markdown",
   "metadata": {},
   "source": [
    "<div class=\"alert alert-success\">\n",
    "<font color='blue'>На продажи внутри одной платформы - PS3, имеющей наибольшеи суммарные продажи, отзывы пользователей и критиков не имеют сильной корреляционной зависимости к объему продаж. В случае оценок критиков корреляция выше, но прямая линейная связь между данными отсутствует.</font>"
   ]
  },
  {
   "cell_type": "code",
   "execution_count": 95,
   "metadata": {},
   "outputs": [
    {
     "name": "stdout",
     "output_type": "stream",
     "text": [
      "Корреляция мужду оценками пользователей и общими продажами - -0.138444570945665\n",
      "Корреляция мужду оценками критиков и общими продажами - 0.5257228356581523\n"
     ]
    }
   ],
   "source": [
    "X360 = data_v_2.query('platform == \"X360\"')\n",
    "print('Корреляция мужду оценками пользователей и общими продажами -', X360['user_score'].corr(X360['total_sales']))\n",
    "print('Корреляция мужду оценками критиков и общими продажами -',X360['critic_score'].corr(X360['total_sales']))"
   ]
  },
  {
   "cell_type": "code",
   "execution_count": 96,
   "metadata": {},
   "outputs": [
    {
     "name": "stdout",
     "output_type": "stream",
     "text": [
      "Корреляция мужду оценками пользователей и общими продажами - -0.040131589472697356\n",
      "Корреляция мужду оценками критиков и общими продажами - 0.40266141068104083\n"
     ]
    }
   ],
   "source": [
    "PS4 = data_v_2.query('platform == \"PS4\"')\n",
    "print('Корреляция мужду оценками пользователей и общими продажами -', PS4['user_score'].corr(PS4['total_sales']))\n",
    "print('Корреляция мужду оценками критиков и общими продажами -',PS4['critic_score'].corr(PS4['total_sales']))"
   ]
  },
  {
   "cell_type": "markdown",
   "metadata": {},
   "source": [
    "<div class=\"alert alert-success\">\n",
    "<font color='blue'>Вышеизложенные выводы об отсутствии линейной связи между данными об оценках пользователей, критиков и объемом продаж, подтверждается и на других платформах</font>"
   ]
  },
  {
   "cell_type": "code",
   "execution_count": 97,
   "metadata": {},
   "outputs": [
    {
     "data": {
      "image/png": "[encoded data removed]",
      "text/plain": [
       "<Figure size 864x720 with 1 Axes>"
      ]
     },
     "metadata": {
      "needs_background": "light"
     },
     "output_type": "display_data"
    }
   ],
   "source": [
    "plt.figure(figsize=(12,10))\n",
    "sns.boxplot(data=data_v_2, x='genre', y='total_sales')\n",
    "plt.ylim([0, 3])\n",
    "plt.title('Глобальные продажам игр в разбивке по жанрам')\n",
    "plt.xlabel('Жанр')\n",
    "plt.ylabel('Итого продажи')\n",
    "plt.show()"
   ]
  },
  {
   "cell_type": "code",
   "execution_count": 117,
   "metadata": {},
   "outputs": [
    {
     "data": {
      "image/png": "[encoded data removed]",
      "text/plain": [
       "<Figure size 720x720 with 1 Axes>"
      ]
     },
     "metadata": {},
     "output_type": "display_data"
    }
   ],
   "source": [
    "data_v_2.pivot_table(index = 'genre', values = 'total_sales', aggfunc = 'sum')\\\n",
    ".sort_values(ascending=False, by = 'total_sales').plot(kind='pie', figsize=(10,10), y= 'total_sales')\n",
    "plt.legend(bbox_to_anchor=(1, 0.6));\n"
   ]
  },
  {
   "cell_type": "code",
   "execution_count": 99,
   "metadata": {},
   "outputs": [
    {
     "data": {
      "image/png": "[encoded data removed]",
      "text/plain": [
       "<Figure size 1080x360 with 1 Axes>"
      ]
     },
     "metadata": {
      "needs_background": "light"
     },
     "output_type": "display_data"
    }
   ],
   "source": [
    "data_v_2.groupby('genre')['genre'].agg('count').plot(kind = 'bar', grid=True, figsize = (15,5));"
   ]
  },
  {
   "cell_type": "markdown",
   "metadata": {},
   "source": [
    "<div class=\"alert alert-success\">\n",
    "<font color='blue'>Самым прибыльным жанром можно считать жанр \"Action\" и \"Shooter\". Самые низкие продажи у жанра \"Puzzle\" и \"Strategy\". Следует отметить, что жанр \"Shooter\" имеет самые высокие медианные значение продаж, что свидетельствует о стабильных показателях объемов продаж. </font>"
   ]
  },
  {
   "cell_type": "markdown",
   "metadata": {},
   "source": [
    "### Портрет пользователя каждого региона"
   ]
  },
  {
   "cell_type": "code",
   "execution_count": 100,
   "metadata": {},
   "outputs": [
    {
     "data": {
      "image/png": "[encoded data removed]",
      "text/plain": [
       "<Figure size 720x360 with 1 Axes>"
      ]
     },
     "metadata": {
      "needs_background": "light"
     },
     "output_type": "display_data"
    }
   ],
   "source": [
    "data_v_2.pivot_table(index = 'platform', values= 'na_sales', aggfunc='sum').\\\n",
    "sort_values(by='na_sales', ascending=False).head().\\\n",
    "plot(kind='bar',figsize=(10,5), grid=True, color='tab:green')\n",
    "plt.title('Топ-5 игровых платформ в Северной Америке')\n",
    "plt.xlabel('Игровая платформа')\n",
    "plt.ylabel('Итого продаж')\n",
    "plt.show()"
   ]
  },
  {
   "cell_type": "code",
   "execution_count": 101,
   "metadata": {},
   "outputs": [
    {
     "data": {
      "image/png": "[encoded data removed]",
      "text/plain": [
       "<Figure size 720x360 with 1 Axes>"
      ]
     },
     "metadata": {
      "needs_background": "light"
     },
     "output_type": "display_data"
    }
   ],
   "source": [
    "data_v_2.pivot_table(index = 'platform', values= 'jp_sales', aggfunc='sum').\\\n",
    "sort_values(by='jp_sales', ascending=False).head().\\\n",
    "plot(kind='bar',figsize=(10,5), grid=True, color='tab:green')\n",
    "plt.title('Топ-5 игровых платформ в Японии')\n",
    "plt.xlabel('Игровая платформа')\n",
    "plt.ylabel('Итого продаж')\n",
    "plt.show()"
   ]
  },
  {
   "cell_type": "code",
   "execution_count": 102,
   "metadata": {},
   "outputs": [
    {
     "data": {
      "image/png": "[encoded data removed]",
      "text/plain": [
       "<Figure size 720x360 with 1 Axes>"
      ]
     },
     "metadata": {
      "needs_background": "light"
     },
     "output_type": "display_data"
    }
   ],
   "source": [
    "data_v_2.pivot_table(index = 'platform', values= 'eu_sales', aggfunc='sum').\\\n",
    "sort_values(by='eu_sales', ascending=False).head().\\\n",
    "plot(kind='bar',figsize=(10,5), grid=True, color='tab:green')\n",
    "plt.title('Топ-5 игровых платформ в Европе')\n",
    "plt.xlabel('Игровая платформа')\n",
    "plt.ylabel('Итого продаж')\n",
    "plt.show()"
   ]
  },
  {
   "cell_type": "markdown",
   "metadata": {},
   "source": [
    "<div class=\"alert alert-success\">\n",
    "<font color='blue'>Анализируя графики можно отметить, что среди рассматриваемых регионов есть платформы которые пользуются одинаковой популярностью - PS4, с отличием лишь в том что в Европе и Северной Америке это платформа на первом месте по популярности,а в  Японии платформа занимает 2 место. В целом, из совокупности продаж, среди топ-5 платформ можно сделать вывод, что популярнее всего видеоигры в Северной Америке. XOne вторая по популярности платформа в Северной Америке и Европе. В целом предпочтения пользователей на некоторых платформах совпадают.</font>"
   ]
  },
  {
   "cell_type": "code",
   "execution_count": 103,
   "metadata": {},
   "outputs": [
    {
     "data": {
      "image/png": "[encoded data removed]",
      "text/plain": [
       "<Figure size 720x360 with 1 Axes>"
      ]
     },
     "metadata": {
      "needs_background": "light"
     },
     "output_type": "display_data"
    }
   ],
   "source": [
    "data_v_2.pivot_table(index = 'genre', values= 'eu_sales', aggfunc='sum').\\\n",
    "sort_values(by='eu_sales', ascending=False).head().\\\n",
    "plot(kind='bar',figsize=(10,5), grid=True, color='tab:red')\n",
    "plt.title('Топ-5 игровых жанров в Европе')\n",
    "plt.xlabel('Игровой жанр')\n",
    "plt.ylabel('Итого продаж')\n",
    "plt.show()"
   ]
  },
  {
   "cell_type": "code",
   "execution_count": 104,
   "metadata": {},
   "outputs": [
    {
     "data": {
      "image/png": "[encoded data removed]",
      "text/plain": [
       "<Figure size 720x360 with 1 Axes>"
      ]
     },
     "metadata": {
      "needs_background": "light"
     },
     "output_type": "display_data"
    }
   ],
   "source": [
    "data_v_2.pivot_table(index = 'genre', values= 'na_sales', aggfunc='sum').\\\n",
    "sort_values(by='na_sales', ascending=False).head().\\\n",
    "plot(kind='bar',figsize=(10,5), grid=True, color='tab:red')\n",
    "plt.title('Топ-5 игровых жанров в Северной Америке')\n",
    "plt.xlabel('Игровой жанр')\n",
    "plt.ylabel('Итого продаж')\n",
    "plt.show()"
   ]
  },
  {
   "cell_type": "code",
   "execution_count": 105,
   "metadata": {},
   "outputs": [
    {
     "data": {
      "image/png": "[encoded data removed]",
      "text/plain": [
       "<Figure size 720x360 with 1 Axes>"
      ]
     },
     "metadata": {
      "needs_background": "light"
     },
     "output_type": "display_data"
    }
   ],
   "source": [
    "data_v_2.pivot_table(index = 'genre', values= 'jp_sales', aggfunc='sum').\\\n",
    "sort_values(by='jp_sales', ascending=False).head().\\\n",
    "plot(kind='bar',figsize=(10,5), grid=True, color='tab:red')\n",
    "plt.title('Топ-5 игровых жанров в Японии')\n",
    "plt.xlabel('Игровой жанр')\n",
    "plt.ylabel('Итого продаж')\n",
    "plt.show()"
   ]
  },
  {
   "cell_type": "markdown",
   "metadata": {},
   "source": [
    "<div class=\"alert alert-success\">\n",
    "<font color='blue'>По графикам видно, что предпочтения в игровых жанрах пользователей Северной Америки и Европы практически полностью совпадают. В Японии жанр Action так же популярен, но приоритет все же пользователи отдают жанру Role-Playing.</font>"
   ]
  },
  {
   "cell_type": "code",
   "execution_count": 106,
   "metadata": {},
   "outputs": [
    {
     "data": {
      "image/png": "[encoded data removed]",
      "text/plain": [
       "<Figure size 576x360 with 1 Axes>"
      ]
     },
     "metadata": {
      "needs_background": "light"
     },
     "output_type": "display_data"
    },
    {
     "data": {
      "image/png": "[encoded data removed]",
      "text/plain": [
       "<Figure size 576x360 with 1 Axes>"
      ]
     },
     "metadata": {
      "needs_background": "light"
     },
     "output_type": "display_data"
    },
    {
     "data": {
      "image/png": "[encoded data removed]",
      "text/plain": [
       "<Figure size 576x360 with 1 Axes>"
      ]
     },
     "metadata": {
      "needs_background": "light"
     },
     "output_type": "display_data"
    }
   ],
   "source": [
    "data_v_2.pivot_table(index = 'rating', values= 'jp_sales', aggfunc='sum').\\\n",
    "sort_values(by='jp_sales', ascending=False).head().\\\n",
    "plot(kind='bar',figsize=(8,5), grid=True, color='tab:grey')\n",
    "plt.title('Влияние рейтинга ESRB на продажи в Японии')\n",
    "plt.xlabel('Рейтинг')\n",
    "plt.ylabel('Итого продаж')\n",
    "plt.show()\n",
    "data_v_2.pivot_table(index = 'rating', values= 'na_sales', aggfunc='sum').\\\n",
    "sort_values(by='na_sales', ascending=False).head().\\\n",
    "plot(kind='bar',figsize=(8,5), grid=True, color='tab:grey')\n",
    "plt.title('Влияние рейтинга ESRB на продажи в Северной Америке')\n",
    "plt.xlabel('Рейтинг')\n",
    "plt.ylabel('Итого продаж')\n",
    "plt.show()\n",
    "data_v_2.pivot_table(index = 'rating', values= 'eu_sales', aggfunc='sum').\\\n",
    "sort_values(by='eu_sales', ascending=False).head().\\\n",
    "plot(kind='bar',figsize=(8,5), grid=True, color='tab:grey')\n",
    "plt.title('Влияние рейтинга ESRB на продажи в Европе')\n",
    "plt.xlabel('Рейтинг')\n",
    "plt.ylabel('Итого продаж')\n",
    "plt.show()"
   ]
  },
  {
   "cell_type": "markdown",
   "metadata": {},
   "source": [
    "<div class=\"alert alert-success\">\n",
    "<font color='blue'>В Северной Америке и Европе ситуация по влиянию рейтинга на объем продаж идентична. Первую пятерку составляют игры рейтинга М, E, E10+,T, no rating. В Японии же ситуация обратная, в лидерах продаж игры без рейтинга. Отсюда вывод что рейтинг оказывает влияние на продажи но не во всех регионах.</font>"
   ]
  },
  {
   "cell_type": "markdown",
   "metadata": {},
   "source": [
    "### Проверка гипотез"
   ]
  },
  {
   "cell_type": "markdown",
   "metadata": {},
   "source": [
    "Сформулируем нулевую и альтернативную гипотезы:\n",
    "\n",
    "H0: Средние пользовательские рейтинги платформ Xbox One и PC одинаковые;\n",
    "H1: Средние пользовательские рейтинги платформ Xbox One и PC различаются;"
   ]
  },
  {
   "cell_type": "code",
   "execution_count": 107,
   "metadata": {},
   "outputs": [
    {
     "name": "stdout",
     "output_type": "stream",
     "text": [
      "p-значение: 0.10450507919348415\n",
      "Не получилось отвергнуть нулевую гипотезу\n"
     ]
    }
   ],
   "source": [
    "xbox_one  = data_v_2[(data_v_2['platform'] == 'XOne')& (data_v_2['user_score'] > 0)]['user_score']\n",
    "pc = data_v_2[(data_v_2['platform'] == 'PC')& (data_v_2['user_score'] > 0)]['user_score']\n",
    "alpha = 0.05\n",
    "results = st.ttest_ind(xbox_one, pc)\n",
    "print('p-значение:', results.pvalue)\n",
    "\n",
    "if (results.pvalue < alpha):\n",
    "    print(\"Отвергаем нулевую гипотезу\")\n",
    "else:\n",
    "    print(\"Не получилось отвергнуть нулевую гипотезу\")"
   ]
  },
  {
   "cell_type": "markdown",
   "metadata": {},
   "source": [
    "<div class=\"alert alert-success\">\n",
    "<font color='blue'>Так как нулевая гипотеза не отвергнута значит статистическо значимой разницы между средним пользовательским рейтингом Xbox One и PC нет.</font>"
   ]
  },
  {
   "cell_type": "markdown",
   "metadata": {},
   "source": [
    "H0: Средние пользовательские рейтинги жанров Action и Sports одинаковые\n",
    "H1: Средние пользовательские рейтинги жанров Action и Sports разные"
   ]
  },
  {
   "cell_type": "code",
   "execution_count": 108,
   "metadata": {},
   "outputs": [
    {
     "name": "stdout",
     "output_type": "stream",
     "text": [
      "p-значение: 1.1825550382644557e-14\n",
      "Отвергаем нулевую гипотезу\n"
     ]
    }
   ],
   "source": [
    "action = data_v_2[(data_v_2['genre'] == 'Action') &  (data_v_2['user_score'] > 0)]['user_score']\n",
    "sports = data_v_2[(data_v_2['genre'] == 'Sports') &  (data_v_2['user_score'] > 0)]['user_score']\n",
    "alpha = 0.05\n",
    "\n",
    "results = st.ttest_ind(action, sports, equal_var=False)\n",
    "\n",
    "print('p-значение:', results.pvalue)\n",
    "\n",
    "\n",
    "if (results.pvalue < alpha):\n",
    "    print(\"Отвергаем нулевую гипотезу\")\n",
    "else:\n",
    "    print(\"Не получилось отвергнуть нулевую гипотезу\")"
   ]
  },
  {
   "cell_type": "markdown",
   "metadata": {},
   "source": [
    "<div class=\"alert alert-success\">\n",
    "<font color='blue'>Так как нулевая гипотеза отвергнута значит средние пользовательские рейтинги жанров Action и Sports различаются и всвязи с этим  нет вероятности получить одинаковые средние рейнтинги по рассматриваемым жанрам игр.</font>"
   ]
  },
  {
   "cell_type": "markdown",
   "metadata": {},
   "source": [
    "### Общий вывод"
   ]
  },
  {
   "cell_type": "markdown",
   "metadata": {},
   "source": [
    "<div class=\"alert alert-success\">\n",
    "<font color='black'>    \n",
    "<b><br>- Игры до 1995 года не имели массового характера, наиболее важными данными можно считать данные с 2005 года по 2009 год, когда наблюдался многократный рост продаж видеоигр.\n",
    "Платформы (PS2, X360, PS3, Wii, DS, PS) по итоговым продажам во всех исследуемых регионах обгоняют остальные платформы. По сравнению с 7-й по рейтингу платформой - GBA разрыв более, чем в 2 раза. Из рассмотренных отобранных топ-10 платформ по объемам продаж, каждая платформа имеет рост продаж, который имеет пиковое значение за которым идет снижение. Можно сделать вывод что со временем платформы теряют актуальность в связи с выходом более новых платформ. Можно выделить характерный срок за который появляются новые и исчезают старые платформы. Этот срок можно обозначить в пределах от 8 до 10 лет. Далее продажи платформ либо снижаются, либо изчезают вовсе.\n",
    "<br>- По принципу, что характерный срок за который появляются новые и исчезают старые платформы составляет 8-10 лет, для дальнейщего анализа можно обозначить период после 2010 года и сделать срез.По итоговому объему продаж, за рассматриваемый период в гистограмме, лидируют платформы - PS3 и X360. Эти платформы можно рассматривать как самые прибыльные, но стоить отметить, что продажи этих платформ, согласно граффика к 2016 году снизились и находяться на исторически минимальных значениях. Более высокий объем продаж за период с 2014-2016 гг. показывают платформы: PS4 и Xone. Наименее прибыльные платформы: PS2 и PSV.\n",
    "<br>- Медианные заначения по итоговым продажам среди платформ находятся на сопоставимых уровнях, т.е среди лидеров продаж медиана примерно равна, так и среди менее продаваемых платформ медианные значения равны. Имеется выбросы среди данных. Наибольшее количество выбросов имеют платформы с более низким показателем продаж, т.е возможно имеется красковременный резкий прирост продаж.\n",
    "<br>- Отзывы пользователей и критиков не имеют сильной корреляционной зависимости к объему продаж. В случае оценок критиков корреляция выше, но прямая линейная связь между данными отсутствует.\n",
    "<br>- Самым прибыльным жанром можно считать жанр \"Action\" и \"Shooter\". Самые низкие продажи у жанра \"Puzzle\" и \"Strategy\". Следует отметить, что жанр \"Shooter\" имеет самые высокие медианные значение продаж, что свидетельствует о стабильных показателях объемов продаж.\n",
    "<br>- Cреди рассматриваемых регионов есть платформы которые пользуются одинаковой популярностью - PS4, с отличием лишь в том что в Европе и Северной Америке это платформа на первом месте по популярности,а в  Японии платформа занимает 2 место. В целом, из совокупности продаж, среди топ-5 платформ можно сделать вывод, что популярнее всего видеоигры в Северной Америке. XOne вторая по популярности платформа в Северной Америке и Европе. В целом предпочтения пользователей на некоторых платформах совпадают.\n",
    "<br>- Предпочтения в игровых жанрах пользователей Северной Америки и Европы практически полностью совпадают. В Японии жанр Action так же популярен, но приоритет все же пользователи отдают жанру Role-Playing.\n",
    "<br>- В Северной Америке и Европе ситуация по влиянию рейтинга на объем продаж идентична. Первую пятерку составляют игры рейтинга М, E, E10+,T, no rating. В Японии же ситуация обратная, в лидерах продаж игры без рейтинга. Отсюда вывод что рейтинг оказывает влияние на продажи но не во всех регионах.\n",
    "<br>- Статистическо значимой разницы между средним пользовательским рейтингом Xbox One и PC нет. Средние пользовательские рейтинги платформ Xbox One и PC одинаковые.Так как нулевая гипотеза - средние пользовательские рейтинги жанров Action и Sports одинаковые, отвергнута, значит средние пользовательские рейтинги жанров Action и Sports различаются и всвязи с этим  нет вероятности получить одинаковые средние рейнтинги по рассматриваемым жанрам игр.</b>\n",
    " <br>-Для прогноза будущих продаж можно предположить, что  большую часть прибыли будут приносить игры жанра \"Action\" и \"Shooter\", для платформы PS4 и XOne с рейтингом М от ESRB.Это характерно для рынка Европы и Северной Америки. Для Японии будут предпочтительны  игры жанра Role-Playing и Action для платформы PS4 и 3DS. Рейтинг от ESRB для данного рынка значения не имеет.\n",
    "</font>.\n",
    "</div>."
   ]
  }
 ],
 "metadata": {
  "ExecuteTimeLog": [
   {
    "duration": 353,
    "start_time": "2023-02-13T07:38:29.242Z"
   },
   {
    "duration": 94,
    "start_time": "2023-02-13T07:38:57.790Z"
   },
   {
    "duration": 20,
    "start_time": "2023-02-13T07:39:07.453Z"
   },
   {
    "duration": 21,
    "start_time": "2023-02-13T08:21:33.369Z"
   },
   {
    "duration": 834,
    "start_time": "2023-02-13T08:21:58.931Z"
   },
   {
    "duration": 12,
    "start_time": "2023-02-13T08:25:54.526Z"
   },
   {
    "duration": 72,
    "start_time": "2023-02-13T08:44:29.986Z"
   },
   {
    "duration": 4,
    "start_time": "2023-02-13T08:44:50.392Z"
   },
   {
    "duration": 17,
    "start_time": "2023-02-13T08:45:10.934Z"
   },
   {
    "duration": 543,
    "start_time": "2023-02-13T08:55:36.585Z"
   },
   {
    "duration": 3,
    "start_time": "2023-02-13T10:11:07.523Z"
   },
   {
    "duration": 51,
    "start_time": "2023-02-13T10:49:52.503Z"
   },
   {
    "duration": 17,
    "start_time": "2023-02-13T10:51:00.816Z"
   },
   {
    "duration": 15,
    "start_time": "2023-02-13T10:52:42.158Z"
   },
   {
    "duration": 4,
    "start_time": "2023-02-13T13:09:09.198Z"
   },
   {
    "duration": 6,
    "start_time": "2023-02-13T13:09:38.533Z"
   },
   {
    "duration": 1541,
    "start_time": "2023-02-13T17:09:41.769Z"
   },
   {
    "duration": 301,
    "start_time": "2023-02-13T17:09:43.312Z"
   },
   {
    "duration": 22,
    "start_time": "2023-02-13T17:09:43.614Z"
   },
   {
    "duration": 6,
    "start_time": "2023-02-13T17:09:43.638Z"
   },
   {
    "duration": 53,
    "start_time": "2023-02-13T17:09:43.647Z"
   },
   {
    "duration": 17,
    "start_time": "2023-02-13T17:09:43.702Z"
   },
   {
    "duration": 24,
    "start_time": "2023-02-13T17:09:43.721Z"
   },
   {
    "duration": 21,
    "start_time": "2023-02-13T17:09:43.747Z"
   },
   {
    "duration": 29,
    "start_time": "2023-02-13T17:09:43.777Z"
   },
   {
    "duration": 25,
    "start_time": "2023-02-13T17:09:43.808Z"
   },
   {
    "duration": 11,
    "start_time": "2023-02-13T17:12:37.174Z"
   },
   {
    "duration": 10,
    "start_time": "2023-02-13T17:16:09.076Z"
   },
   {
    "duration": 6,
    "start_time": "2023-02-13T17:16:12.678Z"
   },
   {
    "duration": 9,
    "start_time": "2023-02-13T17:17:59.771Z"
   },
   {
    "duration": 20,
    "start_time": "2023-02-13T17:18:10.282Z"
   },
   {
    "duration": 6,
    "start_time": "2023-02-13T17:20:52.069Z"
   },
   {
    "duration": 2,
    "start_time": "2023-02-13T18:27:28.875Z"
   },
   {
    "duration": 984,
    "start_time": "2023-02-13T18:34:42.528Z"
   },
   {
    "duration": 173,
    "start_time": "2023-02-13T18:35:08.613Z"
   },
   {
    "duration": 199,
    "start_time": "2023-02-13T18:38:25.896Z"
   },
   {
    "duration": 228,
    "start_time": "2023-02-13T18:39:06.331Z"
   },
   {
    "duration": 186,
    "start_time": "2023-02-13T18:40:34.151Z"
   },
   {
    "duration": 184,
    "start_time": "2023-02-13T18:41:17.139Z"
   },
   {
    "duration": 21,
    "start_time": "2023-02-13T18:58:28.032Z"
   },
   {
    "duration": 143,
    "start_time": "2023-02-13T18:59:05.524Z"
   },
   {
    "duration": 76,
    "start_time": "2023-02-13T18:59:57.079Z"
   },
   {
    "duration": 850,
    "start_time": "2023-02-13T19:01:52.492Z"
   },
   {
    "duration": 678,
    "start_time": "2023-02-13T19:02:48.316Z"
   },
   {
    "duration": 748,
    "start_time": "2023-02-13T19:03:07.916Z"
   },
   {
    "duration": 1123,
    "start_time": "2023-02-13T19:05:21.066Z"
   },
   {
    "duration": 54,
    "start_time": "2023-02-13T19:05:22.191Z"
   },
   {
    "duration": 17,
    "start_time": "2023-02-13T19:05:22.247Z"
   },
   {
    "duration": 14,
    "start_time": "2023-02-13T19:05:22.266Z"
   },
   {
    "duration": 18,
    "start_time": "2023-02-13T19:05:22.282Z"
   },
   {
    "duration": 18,
    "start_time": "2023-02-13T19:05:22.301Z"
   },
   {
    "duration": 35,
    "start_time": "2023-02-13T19:05:22.321Z"
   },
   {
    "duration": 22,
    "start_time": "2023-02-13T19:05:22.358Z"
   },
   {
    "duration": 12,
    "start_time": "2023-02-13T19:05:22.382Z"
   },
   {
    "duration": 20,
    "start_time": "2023-02-13T19:05:22.397Z"
   },
   {
    "duration": 12,
    "start_time": "2023-02-13T19:05:22.419Z"
   },
   {
    "duration": 11,
    "start_time": "2023-02-13T19:05:22.433Z"
   },
   {
    "duration": 26,
    "start_time": "2023-02-13T19:05:22.446Z"
   },
   {
    "duration": 26,
    "start_time": "2023-02-13T19:05:22.474Z"
   },
   {
    "duration": 28,
    "start_time": "2023-02-13T19:05:22.501Z"
   },
   {
    "duration": 18,
    "start_time": "2023-02-13T19:05:22.530Z"
   },
   {
    "duration": 223,
    "start_time": "2023-02-13T19:05:22.550Z"
   },
   {
    "duration": 48,
    "start_time": "2023-02-13T19:10:04.358Z"
   },
   {
    "duration": 1148,
    "start_time": "2023-02-13T19:10:07.525Z"
   },
   {
    "duration": 55,
    "start_time": "2023-02-13T19:10:08.675Z"
   },
   {
    "duration": 18,
    "start_time": "2023-02-13T19:10:08.732Z"
   },
   {
    "duration": 7,
    "start_time": "2023-02-13T19:10:08.751Z"
   },
   {
    "duration": 15,
    "start_time": "2023-02-13T19:10:08.760Z"
   },
   {
    "duration": 10,
    "start_time": "2023-02-13T19:10:08.776Z"
   },
   {
    "duration": 16,
    "start_time": "2023-02-13T19:10:08.788Z"
   },
   {
    "duration": 14,
    "start_time": "2023-02-13T19:10:08.805Z"
   },
   {
    "duration": 32,
    "start_time": "2023-02-13T19:10:08.820Z"
   },
   {
    "duration": 11,
    "start_time": "2023-02-13T19:10:08.855Z"
   },
   {
    "duration": 11,
    "start_time": "2023-02-13T19:10:08.868Z"
   },
   {
    "duration": 8,
    "start_time": "2023-02-13T19:10:08.881Z"
   },
   {
    "duration": 4,
    "start_time": "2023-02-13T19:10:08.890Z"
   },
   {
    "duration": 7,
    "start_time": "2023-02-13T19:10:08.896Z"
   },
   {
    "duration": 46,
    "start_time": "2023-02-13T19:10:08.905Z"
   },
   {
    "duration": 6,
    "start_time": "2023-02-13T19:10:08.953Z"
   },
   {
    "duration": 231,
    "start_time": "2023-02-13T19:10:08.960Z"
   },
   {
    "duration": 28,
    "start_time": "2023-02-13T19:10:09.193Z"
   },
   {
    "duration": 16,
    "start_time": "2023-02-13T19:12:04.828Z"
   },
   {
    "duration": 792,
    "start_time": "2023-02-13T19:12:41.698Z"
   },
   {
    "duration": 270,
    "start_time": "2023-02-13T19:13:08.590Z"
   },
   {
    "duration": 284,
    "start_time": "2023-02-13T19:13:31.528Z"
   },
   {
    "duration": 66,
    "start_time": "2023-02-13T19:13:49.412Z"
   },
   {
    "duration": 44,
    "start_time": "2023-02-13T19:14:10.033Z"
   },
   {
    "duration": 283,
    "start_time": "2023-02-13T19:14:20.924Z"
   },
   {
    "duration": 285,
    "start_time": "2023-02-13T19:14:27.093Z"
   },
   {
    "duration": 427,
    "start_time": "2023-02-13T19:15:47.684Z"
   },
   {
    "duration": 363,
    "start_time": "2023-02-13T19:16:58.202Z"
   },
   {
    "duration": 11,
    "start_time": "2023-02-13T19:27:42.789Z"
   },
   {
    "duration": 7,
    "start_time": "2023-02-13T19:27:53.170Z"
   },
   {
    "duration": 9,
    "start_time": "2023-02-13T19:31:12.255Z"
   },
   {
    "duration": 10,
    "start_time": "2023-02-13T19:32:06.748Z"
   },
   {
    "duration": 1288,
    "start_time": "2023-02-14T05:34:39.713Z"
   },
   {
    "duration": 186,
    "start_time": "2023-02-14T05:34:41.003Z"
   },
   {
    "duration": 17,
    "start_time": "2023-02-14T05:34:41.190Z"
   },
   {
    "duration": 3,
    "start_time": "2023-02-14T05:34:41.209Z"
   },
   {
    "duration": 15,
    "start_time": "2023-02-14T05:34:41.213Z"
   },
   {
    "duration": 10,
    "start_time": "2023-02-14T05:34:41.229Z"
   },
   {
    "duration": 14,
    "start_time": "2023-02-14T05:34:41.240Z"
   },
   {
    "duration": 12,
    "start_time": "2023-02-14T05:34:41.255Z"
   },
   {
    "duration": 4,
    "start_time": "2023-02-14T05:34:41.268Z"
   },
   {
    "duration": 6,
    "start_time": "2023-02-14T05:34:41.274Z"
   },
   {
    "duration": 6,
    "start_time": "2023-02-14T05:34:41.281Z"
   },
   {
    "duration": 8,
    "start_time": "2023-02-14T05:34:41.288Z"
   },
   {
    "duration": 6,
    "start_time": "2023-02-14T05:34:41.297Z"
   },
   {
    "duration": 5,
    "start_time": "2023-02-14T05:34:41.304Z"
   },
   {
    "duration": 44,
    "start_time": "2023-02-14T05:34:41.310Z"
   },
   {
    "duration": 5,
    "start_time": "2023-02-14T05:34:41.356Z"
   },
   {
    "duration": 193,
    "start_time": "2023-02-14T05:34:41.362Z"
   },
   {
    "duration": 287,
    "start_time": "2023-02-14T05:34:41.556Z"
   },
   {
    "duration": 10,
    "start_time": "2023-02-14T05:34:41.845Z"
   },
   {
    "duration": 6,
    "start_time": "2023-02-14T05:34:41.856Z"
   },
   {
    "duration": 275,
    "start_time": "2023-02-14T05:35:03.808Z"
   },
   {
    "duration": 94,
    "start_time": "2023-02-14T05:43:55.733Z"
   },
   {
    "duration": 10,
    "start_time": "2023-02-14T05:44:26.143Z"
   },
   {
    "duration": 17,
    "start_time": "2023-02-14T05:44:41.057Z"
   },
   {
    "duration": 20,
    "start_time": "2023-02-14T05:45:38.353Z"
   },
   {
    "duration": 12,
    "start_time": "2023-02-14T05:48:51.354Z"
   },
   {
    "duration": 9,
    "start_time": "2023-02-14T05:49:00.320Z"
   },
   {
    "duration": 12,
    "start_time": "2023-02-14T05:49:40.257Z"
   },
   {
    "duration": 8,
    "start_time": "2023-02-14T05:49:41.924Z"
   },
   {
    "duration": 22,
    "start_time": "2023-02-14T05:50:01.929Z"
   },
   {
    "duration": 11,
    "start_time": "2023-02-14T05:57:09.030Z"
   },
   {
    "duration": 8,
    "start_time": "2023-02-14T05:57:15.045Z"
   },
   {
    "duration": 20,
    "start_time": "2023-02-14T05:57:31.399Z"
   },
   {
    "duration": 19,
    "start_time": "2023-02-14T05:59:55.634Z"
   },
   {
    "duration": 9,
    "start_time": "2023-02-14T06:00:57.359Z"
   },
   {
    "duration": 9,
    "start_time": "2023-02-14T06:01:08.623Z"
   },
   {
    "duration": 3,
    "start_time": "2023-02-14T06:01:12.215Z"
   },
   {
    "duration": 69,
    "start_time": "2023-02-14T06:01:12.220Z"
   },
   {
    "duration": 14,
    "start_time": "2023-02-14T06:01:12.291Z"
   },
   {
    "duration": 6,
    "start_time": "2023-02-14T06:01:12.307Z"
   },
   {
    "duration": 20,
    "start_time": "2023-02-14T06:01:12.315Z"
   },
   {
    "duration": 16,
    "start_time": "2023-02-14T06:01:12.336Z"
   },
   {
    "duration": 17,
    "start_time": "2023-02-14T06:01:12.354Z"
   },
   {
    "duration": 14,
    "start_time": "2023-02-14T06:01:12.373Z"
   },
   {
    "duration": 4,
    "start_time": "2023-02-14T06:01:12.389Z"
   },
   {
    "duration": 8,
    "start_time": "2023-02-14T06:01:12.394Z"
   },
   {
    "duration": 6,
    "start_time": "2023-02-14T06:01:12.405Z"
   },
   {
    "duration": 42,
    "start_time": "2023-02-14T06:01:12.413Z"
   },
   {
    "duration": 7,
    "start_time": "2023-02-14T06:01:12.457Z"
   },
   {
    "duration": 12,
    "start_time": "2023-02-14T06:01:12.466Z"
   },
   {
    "duration": 18,
    "start_time": "2023-02-14T06:01:12.480Z"
   },
   {
    "duration": 17,
    "start_time": "2023-02-14T06:01:12.500Z"
   },
   {
    "duration": 216,
    "start_time": "2023-02-14T06:01:12.519Z"
   },
   {
    "duration": 339,
    "start_time": "2023-02-14T06:01:12.737Z"
   },
   {
    "duration": 11,
    "start_time": "2023-02-14T06:01:13.078Z"
   },
   {
    "duration": 9,
    "start_time": "2023-02-14T06:01:13.090Z"
   },
   {
    "duration": 10,
    "start_time": "2023-02-14T06:01:13.101Z"
   },
   {
    "duration": 9,
    "start_time": "2023-02-14T06:01:27.014Z"
   },
   {
    "duration": 1111,
    "start_time": "2023-02-14T06:01:36.745Z"
   },
   {
    "duration": 58,
    "start_time": "2023-02-14T06:01:37.857Z"
   },
   {
    "duration": 17,
    "start_time": "2023-02-14T06:01:37.917Z"
   },
   {
    "duration": 3,
    "start_time": "2023-02-14T06:01:37.935Z"
   },
   {
    "duration": 15,
    "start_time": "2023-02-14T06:01:37.941Z"
   },
   {
    "duration": 11,
    "start_time": "2023-02-14T06:01:37.958Z"
   },
   {
    "duration": 17,
    "start_time": "2023-02-14T06:01:37.970Z"
   },
   {
    "duration": 14,
    "start_time": "2023-02-14T06:01:37.989Z"
   },
   {
    "duration": 4,
    "start_time": "2023-02-14T06:01:38.004Z"
   },
   {
    "duration": 8,
    "start_time": "2023-02-14T06:01:38.009Z"
   },
   {
    "duration": 31,
    "start_time": "2023-02-14T06:01:38.018Z"
   },
   {
    "duration": 7,
    "start_time": "2023-02-14T06:01:38.050Z"
   },
   {
    "duration": 5,
    "start_time": "2023-02-14T06:01:38.058Z"
   },
   {
    "duration": 7,
    "start_time": "2023-02-14T06:01:38.065Z"
   },
   {
    "duration": 14,
    "start_time": "2023-02-14T06:01:38.073Z"
   },
   {
    "duration": 7,
    "start_time": "2023-02-14T06:01:38.089Z"
   },
   {
    "duration": 208,
    "start_time": "2023-02-14T06:01:38.098Z"
   },
   {
    "duration": 292,
    "start_time": "2023-02-14T06:01:38.308Z"
   },
   {
    "duration": 12,
    "start_time": "2023-02-14T06:01:38.602Z"
   },
   {
    "duration": 7,
    "start_time": "2023-02-14T06:01:38.616Z"
   },
   {
    "duration": 12,
    "start_time": "2023-02-14T06:01:38.624Z"
   },
   {
    "duration": 111,
    "start_time": "2023-02-14T06:02:37.868Z"
   },
   {
    "duration": 777,
    "start_time": "2023-02-14T06:06:01.960Z"
   },
   {
    "duration": 809,
    "start_time": "2023-02-14T06:06:16.637Z"
   },
   {
    "duration": 834,
    "start_time": "2023-02-14T06:06:25.832Z"
   },
   {
    "duration": 813,
    "start_time": "2023-02-14T06:10:11.019Z"
   },
   {
    "duration": 701,
    "start_time": "2023-02-14T06:10:54.676Z"
   },
   {
    "duration": 7,
    "start_time": "2023-02-14T06:11:28.844Z"
   },
   {
    "duration": 915,
    "start_time": "2023-02-14T06:12:30.563Z"
   },
   {
    "duration": 701,
    "start_time": "2023-02-14T06:13:12.187Z"
   },
   {
    "duration": 773,
    "start_time": "2023-02-14T06:14:20.882Z"
   },
   {
    "duration": 8,
    "start_time": "2023-02-14T06:20:59.214Z"
   },
   {
    "duration": 7,
    "start_time": "2023-02-14T06:21:08.072Z"
   },
   {
    "duration": 21,
    "start_time": "2023-02-14T06:21:11.281Z"
   },
   {
    "duration": 1062,
    "start_time": "2023-02-14T06:22:10.664Z"
   },
   {
    "duration": 7,
    "start_time": "2023-02-14T06:23:35.591Z"
   },
   {
    "duration": 1233,
    "start_time": "2023-02-14T06:23:38.480Z"
   },
   {
    "duration": 1092,
    "start_time": "2023-02-14T06:25:43.264Z"
   },
   {
    "duration": 1136,
    "start_time": "2023-02-14T06:58:06.628Z"
   },
   {
    "duration": 7,
    "start_time": "2023-02-14T06:58:10.292Z"
   },
   {
    "duration": 6,
    "start_time": "2023-02-14T06:58:24.095Z"
   },
   {
    "duration": 1855,
    "start_time": "2023-02-14T06:58:27.836Z"
   },
   {
    "duration": 64,
    "start_time": "2023-02-14T07:12:31.697Z"
   },
   {
    "duration": 6,
    "start_time": "2023-02-14T07:12:44.525Z"
   },
   {
    "duration": 5,
    "start_time": "2023-02-14T07:13:30.135Z"
   },
   {
    "duration": 6,
    "start_time": "2023-02-14T07:13:56.156Z"
   },
   {
    "duration": 4,
    "start_time": "2023-02-14T07:13:58.519Z"
   },
   {
    "duration": 17,
    "start_time": "2023-02-14T07:18:37.235Z"
   },
   {
    "duration": 13,
    "start_time": "2023-02-14T07:19:10.036Z"
   },
   {
    "duration": 179,
    "start_time": "2023-02-14T07:21:13.080Z"
   },
   {
    "duration": 320,
    "start_time": "2023-02-14T07:27:11.058Z"
   },
   {
    "duration": 265,
    "start_time": "2023-02-14T07:27:26.338Z"
   },
   {
    "duration": 280,
    "start_time": "2023-02-14T07:28:29.936Z"
   },
   {
    "duration": 275,
    "start_time": "2023-02-14T07:28:47.703Z"
   },
   {
    "duration": 281,
    "start_time": "2023-02-14T07:28:57.792Z"
   },
   {
    "duration": 284,
    "start_time": "2023-02-14T07:29:06.960Z"
   },
   {
    "duration": 294,
    "start_time": "2023-02-14T07:29:16.543Z"
   },
   {
    "duration": 314,
    "start_time": "2023-02-14T07:38:22.308Z"
   },
   {
    "duration": 225,
    "start_time": "2023-02-14T07:38:43.099Z"
   },
   {
    "duration": 263,
    "start_time": "2023-02-14T07:38:58.931Z"
   },
   {
    "duration": 323,
    "start_time": "2023-02-14T07:39:34.980Z"
   },
   {
    "duration": 273,
    "start_time": "2023-02-14T07:40:27.508Z"
   },
   {
    "duration": 296,
    "start_time": "2023-02-14T07:40:39.377Z"
   },
   {
    "duration": 359,
    "start_time": "2023-02-14T07:41:40.758Z"
   },
   {
    "duration": 280,
    "start_time": "2023-02-14T07:42:00.059Z"
   },
   {
    "duration": 273,
    "start_time": "2023-02-14T07:42:46.709Z"
   },
   {
    "duration": 2090,
    "start_time": "2023-02-14T07:43:14.493Z"
   },
   {
    "duration": 1939,
    "start_time": "2023-02-14T07:43:34.369Z"
   },
   {
    "duration": 13,
    "start_time": "2023-02-14T09:47:56.599Z"
   },
   {
    "duration": 116,
    "start_time": "2023-02-14T09:52:32.113Z"
   },
   {
    "duration": 283,
    "start_time": "2023-02-14T09:53:45.837Z"
   },
   {
    "duration": 124,
    "start_time": "2023-02-14T09:54:03.272Z"
   },
   {
    "duration": 133,
    "start_time": "2023-02-14T09:54:18.301Z"
   },
   {
    "duration": 5,
    "start_time": "2023-02-14T10:02:04.807Z"
   },
   {
    "duration": 137,
    "start_time": "2023-02-14T10:12:55.862Z"
   },
   {
    "duration": 5,
    "start_time": "2023-02-14T10:13:39.434Z"
   },
   {
    "duration": 944,
    "start_time": "2023-02-14T10:14:07.913Z"
   },
   {
    "duration": 417,
    "start_time": "2023-02-14T10:14:37.374Z"
   },
   {
    "duration": 4,
    "start_time": "2023-02-14T10:14:58.732Z"
   },
   {
    "duration": 9,
    "start_time": "2023-02-14T12:11:26.459Z"
   },
   {
    "duration": 8,
    "start_time": "2023-02-14T12:12:16.111Z"
   },
   {
    "duration": 8,
    "start_time": "2023-02-14T12:15:02.322Z"
   },
   {
    "duration": 8,
    "start_time": "2023-02-14T12:16:30.197Z"
   },
   {
    "duration": 8,
    "start_time": "2023-02-14T12:48:58.811Z"
   },
   {
    "duration": 273,
    "start_time": "2023-02-14T12:52:11.265Z"
   },
   {
    "duration": 331,
    "start_time": "2023-02-14T12:53:14.507Z"
   },
   {
    "duration": 16,
    "start_time": "2023-02-14T12:54:50.424Z"
   },
   {
    "duration": 360,
    "start_time": "2023-02-14T12:55:06.667Z"
   },
   {
    "duration": 352,
    "start_time": "2023-02-14T12:55:22.656Z"
   },
   {
    "duration": 346,
    "start_time": "2023-02-14T12:55:30.273Z"
   },
   {
    "duration": 413,
    "start_time": "2023-02-14T12:56:15.907Z"
   },
   {
    "duration": 385,
    "start_time": "2023-02-14T12:56:32.829Z"
   },
   {
    "duration": 17,
    "start_time": "2023-02-14T13:02:18.096Z"
   },
   {
    "duration": 22,
    "start_time": "2023-02-14T13:02:39.525Z"
   },
   {
    "duration": 25,
    "start_time": "2023-02-14T13:03:01.335Z"
   },
   {
    "duration": 1138,
    "start_time": "2023-02-14T13:04:24.254Z"
   },
   {
    "duration": 64,
    "start_time": "2023-02-14T13:04:25.394Z"
   },
   {
    "duration": 26,
    "start_time": "2023-02-14T13:04:25.461Z"
   },
   {
    "duration": 3,
    "start_time": "2023-02-14T13:04:25.489Z"
   },
   {
    "duration": 21,
    "start_time": "2023-02-14T13:04:25.494Z"
   },
   {
    "duration": 14,
    "start_time": "2023-02-14T13:04:25.516Z"
   },
   {
    "duration": 41,
    "start_time": "2023-02-14T13:04:25.531Z"
   },
   {
    "duration": 16,
    "start_time": "2023-02-14T13:04:25.574Z"
   },
   {
    "duration": 9,
    "start_time": "2023-02-14T13:04:25.592Z"
   },
   {
    "duration": 6,
    "start_time": "2023-02-14T13:04:25.604Z"
   },
   {
    "duration": 10,
    "start_time": "2023-02-14T13:04:25.611Z"
   },
   {
    "duration": 14,
    "start_time": "2023-02-14T13:04:25.622Z"
   },
   {
    "duration": 8,
    "start_time": "2023-02-14T13:04:25.653Z"
   },
   {
    "duration": 16,
    "start_time": "2023-02-14T13:04:25.664Z"
   },
   {
    "duration": 17,
    "start_time": "2023-02-14T13:04:25.683Z"
   },
   {
    "duration": 10,
    "start_time": "2023-02-14T13:04:25.702Z"
   },
   {
    "duration": 219,
    "start_time": "2023-02-14T13:04:25.714Z"
   },
   {
    "duration": 293,
    "start_time": "2023-02-14T13:04:25.935Z"
   },
   {
    "duration": 7,
    "start_time": "2023-02-14T13:04:26.230Z"
   },
   {
    "duration": 1934,
    "start_time": "2023-02-14T13:04:26.253Z"
   },
   {
    "duration": 6,
    "start_time": "2023-02-14T13:04:28.188Z"
   },
   {
    "duration": 7,
    "start_time": "2023-02-14T13:04:28.195Z"
   },
   {
    "duration": 13,
    "start_time": "2023-02-14T13:04:28.204Z"
   },
   {
    "duration": 197,
    "start_time": "2023-02-14T13:04:28.218Z"
   },
   {
    "duration": 285,
    "start_time": "2023-02-14T13:04:28.417Z"
   },
   {
    "duration": 310,
    "start_time": "2023-02-14T13:04:28.704Z"
   },
   {
    "duration": 150,
    "start_time": "2023-02-14T13:04:29.016Z"
   },
   {
    "duration": 6,
    "start_time": "2023-02-14T13:04:29.170Z"
   },
   {
    "duration": 148,
    "start_time": "2023-02-14T13:04:29.177Z"
   },
   {
    "duration": 4,
    "start_time": "2023-02-14T13:04:29.327Z"
   },
   {
    "duration": 17,
    "start_time": "2023-02-14T13:04:29.332Z"
   },
   {
    "duration": 11,
    "start_time": "2023-02-14T13:04:29.351Z"
   },
   {
    "duration": 396,
    "start_time": "2023-02-14T13:04:29.364Z"
   },
   {
    "duration": 352,
    "start_time": "2023-02-14T13:04:29.763Z"
   },
   {
    "duration": 20,
    "start_time": "2023-02-14T13:04:30.116Z"
   },
   {
    "duration": 18,
    "start_time": "2023-02-14T13:05:07.367Z"
   },
   {
    "duration": 80,
    "start_time": "2023-02-14T13:05:38.272Z"
   },
   {
    "duration": 17,
    "start_time": "2023-02-14T13:05:44.951Z"
   },
   {
    "duration": 9,
    "start_time": "2023-02-14T13:06:15.623Z"
   },
   {
    "duration": 161,
    "start_time": "2023-02-14T13:07:14.815Z"
   },
   {
    "duration": 252,
    "start_time": "2023-02-14T13:07:55.386Z"
   },
   {
    "duration": 277,
    "start_time": "2023-02-14T13:51:56.187Z"
   },
   {
    "duration": 124,
    "start_time": "2023-02-14T13:52:10.023Z"
   },
   {
    "duration": 124,
    "start_time": "2023-02-14T13:52:15.819Z"
   },
   {
    "duration": 1305,
    "start_time": "2023-02-14T17:31:39.848Z"
   },
   {
    "duration": 129,
    "start_time": "2023-02-14T17:31:41.155Z"
   },
   {
    "duration": 18,
    "start_time": "2023-02-14T17:31:41.286Z"
   },
   {
    "duration": 16,
    "start_time": "2023-02-14T17:31:41.306Z"
   },
   {
    "duration": 19,
    "start_time": "2023-02-14T17:31:41.324Z"
   },
   {
    "duration": 20,
    "start_time": "2023-02-14T17:31:41.345Z"
   },
   {
    "duration": 17,
    "start_time": "2023-02-14T17:31:41.367Z"
   },
   {
    "duration": 30,
    "start_time": "2023-02-14T17:31:41.386Z"
   },
   {
    "duration": 9,
    "start_time": "2023-02-14T17:31:41.418Z"
   },
   {
    "duration": 12,
    "start_time": "2023-02-14T17:31:41.429Z"
   },
   {
    "duration": 17,
    "start_time": "2023-02-14T17:31:41.442Z"
   },
   {
    "duration": 15,
    "start_time": "2023-02-14T17:31:41.460Z"
   },
   {
    "duration": 16,
    "start_time": "2023-02-14T17:31:41.477Z"
   },
   {
    "duration": 38,
    "start_time": "2023-02-14T17:31:41.496Z"
   },
   {
    "duration": 17,
    "start_time": "2023-02-14T17:31:41.535Z"
   },
   {
    "duration": 10,
    "start_time": "2023-02-14T17:31:41.555Z"
   },
   {
    "duration": 302,
    "start_time": "2023-02-14T17:31:41.566Z"
   },
   {
    "duration": 352,
    "start_time": "2023-02-14T17:31:41.870Z"
   },
   {
    "duration": 7,
    "start_time": "2023-02-14T17:31:42.224Z"
   },
   {
    "duration": 2427,
    "start_time": "2023-02-14T17:31:42.233Z"
   },
   {
    "duration": 5,
    "start_time": "2023-02-14T17:31:44.662Z"
   },
   {
    "duration": 13,
    "start_time": "2023-02-14T17:31:44.669Z"
   },
   {
    "duration": 50,
    "start_time": "2023-02-14T17:31:44.684Z"
   },
   {
    "duration": 205,
    "start_time": "2023-02-14T17:31:44.735Z"
   },
   {
    "duration": 352,
    "start_time": "2023-02-14T17:31:44.942Z"
   },
   {
    "duration": 306,
    "start_time": "2023-02-14T17:31:45.298Z"
   },
   {
    "duration": 141,
    "start_time": "2023-02-14T17:31:45.607Z"
   },
   {
    "duration": 5,
    "start_time": "2023-02-14T17:31:45.750Z"
   },
   {
    "duration": 157,
    "start_time": "2023-02-14T17:31:45.756Z"
   },
   {
    "duration": 7,
    "start_time": "2023-02-14T17:31:45.915Z"
   },
   {
    "duration": 10,
    "start_time": "2023-02-14T17:31:45.923Z"
   },
   {
    "duration": 8,
    "start_time": "2023-02-14T17:31:45.935Z"
   },
   {
    "duration": 399,
    "start_time": "2023-02-14T17:31:45.945Z"
   },
   {
    "duration": 343,
    "start_time": "2023-02-14T17:31:46.346Z"
   },
   {
    "duration": 196,
    "start_time": "2023-02-14T17:31:46.691Z"
   },
   {
    "duration": 303,
    "start_time": "2023-02-14T19:10:23.213Z"
   },
   {
    "duration": 263,
    "start_time": "2023-02-14T19:10:38.275Z"
   },
   {
    "duration": 248,
    "start_time": "2023-02-14T19:11:15.821Z"
   },
   {
    "duration": 249,
    "start_time": "2023-02-14T19:17:03.039Z"
   },
   {
    "duration": 4,
    "start_time": "2023-02-14T19:18:19.735Z"
   },
   {
    "duration": 1359,
    "start_time": "2023-02-15T05:14:20.529Z"
   },
   {
    "duration": 145,
    "start_time": "2023-02-15T05:14:21.891Z"
   },
   {
    "duration": 17,
    "start_time": "2023-02-15T05:14:22.038Z"
   },
   {
    "duration": 3,
    "start_time": "2023-02-15T05:14:22.057Z"
   },
   {
    "duration": 23,
    "start_time": "2023-02-15T05:14:22.062Z"
   },
   {
    "duration": 11,
    "start_time": "2023-02-15T05:14:22.086Z"
   },
   {
    "duration": 25,
    "start_time": "2023-02-15T05:14:22.098Z"
   },
   {
    "duration": 21,
    "start_time": "2023-02-15T05:14:22.124Z"
   },
   {
    "duration": 7,
    "start_time": "2023-02-15T05:14:22.146Z"
   },
   {
    "duration": 19,
    "start_time": "2023-02-15T05:14:22.155Z"
   },
   {
    "duration": 7,
    "start_time": "2023-02-15T05:14:22.175Z"
   },
   {
    "duration": 8,
    "start_time": "2023-02-15T05:14:22.184Z"
   },
   {
    "duration": 4,
    "start_time": "2023-02-15T05:14:22.194Z"
   },
   {
    "duration": 11,
    "start_time": "2023-02-15T05:14:22.220Z"
   },
   {
    "duration": 21,
    "start_time": "2023-02-15T05:14:22.233Z"
   },
   {
    "duration": 6,
    "start_time": "2023-02-15T05:14:22.255Z"
   },
   {
    "duration": 212,
    "start_time": "2023-02-15T05:14:22.263Z"
   },
   {
    "duration": 319,
    "start_time": "2023-02-15T05:14:22.477Z"
   },
   {
    "duration": 19,
    "start_time": "2023-02-15T05:14:22.798Z"
   },
   {
    "duration": 341,
    "start_time": "2023-02-15T05:14:22.819Z"
   },
   {
    "duration": 2176,
    "start_time": "2023-02-15T05:14:23.163Z"
   },
   {
    "duration": 7,
    "start_time": "2023-02-15T05:14:25.341Z"
   },
   {
    "duration": 5,
    "start_time": "2023-02-15T05:14:25.350Z"
   },
   {
    "duration": 15,
    "start_time": "2023-02-15T05:14:25.357Z"
   },
   {
    "duration": 219,
    "start_time": "2023-02-15T05:14:25.374Z"
   },
   {
    "duration": 312,
    "start_time": "2023-02-15T05:14:25.595Z"
   },
   {
    "duration": 338,
    "start_time": "2023-02-15T05:14:25.910Z"
   },
   {
    "duration": 152,
    "start_time": "2023-02-15T05:14:26.251Z"
   },
   {
    "duration": 22,
    "start_time": "2023-02-15T05:14:26.405Z"
   },
   {
    "duration": 162,
    "start_time": "2023-02-15T05:14:26.428Z"
   },
   {
    "duration": 8,
    "start_time": "2023-02-15T05:14:26.593Z"
   },
   {
    "duration": 46,
    "start_time": "2023-02-15T05:14:26.603Z"
   },
   {
    "duration": 15,
    "start_time": "2023-02-15T05:14:26.652Z"
   },
   {
    "duration": 529,
    "start_time": "2023-02-15T05:14:26.669Z"
   },
   {
    "duration": 360,
    "start_time": "2023-02-15T05:14:27.200Z"
   },
   {
    "duration": 202,
    "start_time": "2023-02-15T05:14:27.561Z"
   },
   {
    "duration": 2294,
    "start_time": "2023-02-15T08:46:01.733Z"
   },
   {
    "duration": 2229,
    "start_time": "2023-02-15T08:46:14.073Z"
   },
   {
    "duration": 3,
    "start_time": "2023-02-15T13:03:17.729Z"
   },
   {
    "duration": 304,
    "start_time": "2023-02-15T13:36:18.077Z"
   },
   {
    "duration": 301,
    "start_time": "2023-02-15T13:36:35.232Z"
   },
   {
    "duration": 4,
    "start_time": "2023-02-15T13:42:45.329Z"
   },
   {
    "duration": 75,
    "start_time": "2023-02-15T13:42:45.334Z"
   },
   {
    "duration": 16,
    "start_time": "2023-02-15T13:42:45.411Z"
   },
   {
    "duration": 8,
    "start_time": "2023-02-15T13:42:45.429Z"
   },
   {
    "duration": 21,
    "start_time": "2023-02-15T13:42:45.439Z"
   },
   {
    "duration": 9,
    "start_time": "2023-02-15T13:42:45.462Z"
   },
   {
    "duration": 37,
    "start_time": "2023-02-15T13:42:45.473Z"
   },
   {
    "duration": 11,
    "start_time": "2023-02-15T13:42:45.512Z"
   },
   {
    "duration": 20,
    "start_time": "2023-02-15T13:42:45.525Z"
   },
   {
    "duration": 13,
    "start_time": "2023-02-15T13:42:45.546Z"
   },
   {
    "duration": 11,
    "start_time": "2023-02-15T13:42:45.562Z"
   },
   {
    "duration": 22,
    "start_time": "2023-02-15T13:42:45.574Z"
   },
   {
    "duration": 28,
    "start_time": "2023-02-15T13:42:45.597Z"
   },
   {
    "duration": 22,
    "start_time": "2023-02-15T13:42:45.627Z"
   },
   {
    "duration": 23,
    "start_time": "2023-02-15T13:42:45.651Z"
   },
   {
    "duration": 11,
    "start_time": "2023-02-15T13:42:45.676Z"
   },
   {
    "duration": 176,
    "start_time": "2023-02-15T13:42:45.689Z"
   },
   {
    "duration": 297,
    "start_time": "2023-02-15T13:42:45.866Z"
   },
   {
    "duration": 8,
    "start_time": "2023-02-15T13:42:46.165Z"
   },
   {
    "duration": 254,
    "start_time": "2023-02-15T13:42:46.174Z"
   },
   {
    "duration": 2008,
    "start_time": "2023-02-15T13:42:46.430Z"
   },
   {
    "duration": 7,
    "start_time": "2023-02-15T13:42:48.440Z"
   },
   {
    "duration": 7,
    "start_time": "2023-02-15T13:42:48.448Z"
   },
   {
    "duration": 14,
    "start_time": "2023-02-15T13:42:48.456Z"
   },
   {
    "duration": 221,
    "start_time": "2023-02-15T13:42:48.471Z"
   },
   {
    "duration": 289,
    "start_time": "2023-02-15T13:42:48.693Z"
   },
   {
    "duration": 376,
    "start_time": "2023-02-15T13:42:48.984Z"
   },
   {
    "duration": 146,
    "start_time": "2023-02-15T13:42:49.361Z"
   },
   {
    "duration": 6,
    "start_time": "2023-02-15T13:42:49.510Z"
   },
   {
    "duration": 146,
    "start_time": "2023-02-15T13:42:49.517Z"
   },
   {
    "duration": 4,
    "start_time": "2023-02-15T13:42:49.665Z"
   },
   {
    "duration": 10,
    "start_time": "2023-02-15T13:42:49.671Z"
   },
   {
    "duration": 11,
    "start_time": "2023-02-15T13:42:49.683Z"
   },
   {
    "duration": 307,
    "start_time": "2023-02-15T13:42:49.695Z"
   },
   {
    "duration": 324,
    "start_time": "2023-02-15T13:42:50.009Z"
   },
   {
    "duration": 201,
    "start_time": "2023-02-15T13:42:50.335Z"
   },
   {
    "duration": 1319,
    "start_time": "2023-02-15T18:03:08.022Z"
   },
   {
    "duration": 90,
    "start_time": "2023-02-15T18:03:09.344Z"
   },
   {
    "duration": 17,
    "start_time": "2023-02-15T18:03:09.436Z"
   },
   {
    "duration": 3,
    "start_time": "2023-02-15T18:03:09.455Z"
   },
   {
    "duration": 20,
    "start_time": "2023-02-15T18:03:09.459Z"
   },
   {
    "duration": 10,
    "start_time": "2023-02-15T18:03:09.480Z"
   },
   {
    "duration": 21,
    "start_time": "2023-02-15T18:03:09.491Z"
   },
   {
    "duration": 13,
    "start_time": "2023-02-15T18:03:09.513Z"
   },
   {
    "duration": 4,
    "start_time": "2023-02-15T18:03:09.528Z"
   },
   {
    "duration": 8,
    "start_time": "2023-02-15T18:03:09.535Z"
   },
   {
    "duration": 6,
    "start_time": "2023-02-15T18:03:09.544Z"
   },
   {
    "duration": 7,
    "start_time": "2023-02-15T18:03:09.553Z"
   },
   {
    "duration": 6,
    "start_time": "2023-02-15T18:03:09.561Z"
   },
   {
    "duration": 7,
    "start_time": "2023-02-15T18:03:09.568Z"
   },
   {
    "duration": 15,
    "start_time": "2023-02-15T18:03:09.609Z"
   },
   {
    "duration": 6,
    "start_time": "2023-02-15T18:03:09.625Z"
   },
   {
    "duration": 213,
    "start_time": "2023-02-15T18:03:09.633Z"
   },
   {
    "duration": 299,
    "start_time": "2023-02-15T18:03:09.848Z"
   },
   {
    "duration": 8,
    "start_time": "2023-02-15T18:03:10.149Z"
   },
   {
    "duration": 321,
    "start_time": "2023-02-15T18:03:10.159Z"
   },
   {
    "duration": 1970,
    "start_time": "2023-02-15T18:03:10.482Z"
   },
   {
    "duration": 6,
    "start_time": "2023-02-15T18:03:12.453Z"
   },
   {
    "duration": 6,
    "start_time": "2023-02-15T18:03:12.460Z"
   },
   {
    "duration": 14,
    "start_time": "2023-02-15T18:03:12.467Z"
   },
   {
    "duration": 217,
    "start_time": "2023-02-15T18:03:12.482Z"
   },
   {
    "duration": 295,
    "start_time": "2023-02-15T18:03:12.709Z"
   },
   {
    "duration": 325,
    "start_time": "2023-02-15T18:03:13.006Z"
   },
   {
    "duration": 178,
    "start_time": "2023-02-15T18:03:13.335Z"
   },
   {
    "duration": 6,
    "start_time": "2023-02-15T18:03:13.515Z"
   },
   {
    "duration": 158,
    "start_time": "2023-02-15T18:03:13.522Z"
   },
   {
    "duration": 5,
    "start_time": "2023-02-15T18:03:13.682Z"
   },
   {
    "duration": 11,
    "start_time": "2023-02-15T18:03:13.688Z"
   },
   {
    "duration": 8,
    "start_time": "2023-02-15T18:03:13.710Z"
   },
   {
    "duration": 374,
    "start_time": "2023-02-15T18:03:13.719Z"
   },
   {
    "duration": 313,
    "start_time": "2023-02-15T18:03:14.095Z"
   },
   {
    "duration": 181,
    "start_time": "2023-02-15T18:03:14.410Z"
   },
   {
    "duration": 15,
    "start_time": "2023-02-15T18:09:52.273Z"
   },
   {
    "duration": 140,
    "start_time": "2023-02-15T18:11:02.780Z"
   },
   {
    "duration": 151,
    "start_time": "2023-02-15T18:13:00.993Z"
   },
   {
    "duration": 67,
    "start_time": "2023-02-15T18:13:30.052Z"
   },
   {
    "duration": 162,
    "start_time": "2023-02-15T18:13:42.053Z"
   },
   {
    "duration": 228,
    "start_time": "2023-02-15T18:15:39.628Z"
   },
   {
    "duration": 160,
    "start_time": "2023-02-15T18:16:37.546Z"
   },
   {
    "duration": 26,
    "start_time": "2023-02-15T18:17:30.836Z"
   },
   {
    "duration": 155,
    "start_time": "2023-02-15T18:17:52.504Z"
   },
   {
    "duration": 147,
    "start_time": "2023-02-15T18:20:06.219Z"
   },
   {
    "duration": 248,
    "start_time": "2023-02-15T18:21:31.885Z"
   },
   {
    "duration": 1461,
    "start_time": "2023-02-16T05:26:01.043Z"
   },
   {
    "duration": 97,
    "start_time": "2023-02-16T05:26:02.506Z"
   },
   {
    "duration": 26,
    "start_time": "2023-02-16T05:26:02.605Z"
   },
   {
    "duration": 4,
    "start_time": "2023-02-16T05:26:02.633Z"
   },
   {
    "duration": 30,
    "start_time": "2023-02-16T05:26:02.639Z"
   },
   {
    "duration": 15,
    "start_time": "2023-02-16T05:26:02.671Z"
   },
   {
    "duration": 24,
    "start_time": "2023-02-16T05:26:02.688Z"
   },
   {
    "duration": 31,
    "start_time": "2023-02-16T05:26:02.715Z"
   },
   {
    "duration": 6,
    "start_time": "2023-02-16T05:26:02.749Z"
   },
   {
    "duration": 15,
    "start_time": "2023-02-16T05:26:02.757Z"
   },
   {
    "duration": 20,
    "start_time": "2023-02-16T05:26:02.775Z"
   },
   {
    "duration": 40,
    "start_time": "2023-02-16T05:26:02.797Z"
   },
   {
    "duration": 23,
    "start_time": "2023-02-16T05:26:02.839Z"
   },
   {
    "duration": 30,
    "start_time": "2023-02-16T05:26:02.866Z"
   },
   {
    "duration": 39,
    "start_time": "2023-02-16T05:26:02.898Z"
   },
   {
    "duration": 54,
    "start_time": "2023-02-16T05:26:02.938Z"
   },
   {
    "duration": 285,
    "start_time": "2023-02-16T05:26:02.994Z"
   },
   {
    "duration": 391,
    "start_time": "2023-02-16T05:26:03.280Z"
   },
   {
    "duration": 13,
    "start_time": "2023-02-16T05:26:03.673Z"
   },
   {
    "duration": 344,
    "start_time": "2023-02-16T05:26:03.689Z"
   },
   {
    "duration": 2526,
    "start_time": "2023-02-16T05:26:04.035Z"
   },
   {
    "duration": 8,
    "start_time": "2023-02-16T05:26:06.564Z"
   },
   {
    "duration": 18,
    "start_time": "2023-02-16T05:26:06.575Z"
   },
   {
    "duration": 23,
    "start_time": "2023-02-16T05:26:06.595Z"
   },
   {
    "duration": 335,
    "start_time": "2023-02-16T05:26:06.621Z"
   },
   {
    "duration": 511,
    "start_time": "2023-02-16T05:26:06.958Z"
   },
   {
    "duration": 415,
    "start_time": "2023-02-16T05:26:07.471Z"
   },
   {
    "duration": 189,
    "start_time": "2023-02-16T05:26:07.888Z"
   },
   {
    "duration": 6,
    "start_time": "2023-02-16T05:26:08.079Z"
   },
   {
    "duration": 178,
    "start_time": "2023-02-16T05:26:08.086Z"
   },
   {
    "duration": 6,
    "start_time": "2023-02-16T05:26:08.266Z"
   },
   {
    "duration": 12,
    "start_time": "2023-02-16T05:26:08.275Z"
   },
   {
    "duration": 14,
    "start_time": "2023-02-16T05:26:08.289Z"
   },
   {
    "duration": 447,
    "start_time": "2023-02-16T05:26:08.305Z"
   },
   {
    "duration": 467,
    "start_time": "2023-02-16T05:26:08.754Z"
   },
   {
    "duration": 216,
    "start_time": "2023-02-16T05:26:09.224Z"
   },
   {
    "duration": 207,
    "start_time": "2023-02-16T05:26:09.442Z"
   },
   {
    "duration": 192,
    "start_time": "2023-02-16T05:26:09.652Z"
   },
   {
    "duration": 240,
    "start_time": "2023-02-16T05:26:09.847Z"
   },
   {
    "duration": 170,
    "start_time": "2023-02-16T06:05:48.639Z"
   },
   {
    "duration": 163,
    "start_time": "2023-02-16T06:06:05.000Z"
   },
   {
    "duration": 119,
    "start_time": "2023-02-16T06:08:26.500Z"
   },
   {
    "duration": 184,
    "start_time": "2023-02-16T06:08:40.740Z"
   },
   {
    "duration": 154,
    "start_time": "2023-02-16T06:10:39.663Z"
   },
   {
    "duration": 218,
    "start_time": "2023-02-16T06:37:31.294Z"
   },
   {
    "duration": 159,
    "start_time": "2023-02-16T06:37:45.698Z"
   },
   {
    "duration": 138,
    "start_time": "2023-02-16T06:38:29.549Z"
   },
   {
    "duration": 163,
    "start_time": "2023-02-16T06:38:42.368Z"
   },
   {
    "duration": 154,
    "start_time": "2023-02-16T06:53:56.512Z"
   },
   {
    "duration": 147,
    "start_time": "2023-02-16T06:57:52.970Z"
   },
   {
    "duration": 334,
    "start_time": "2023-02-16T06:59:19.242Z"
   },
   {
    "duration": 347,
    "start_time": "2023-02-16T06:59:36.998Z"
   },
   {
    "duration": 573,
    "start_time": "2023-02-16T07:00:49.740Z"
   },
   {
    "duration": 6,
    "start_time": "2023-02-16T07:35:24.734Z"
   },
   {
    "duration": 3,
    "start_time": "2023-02-16T07:35:31.505Z"
   },
   {
    "duration": 95,
    "start_time": "2023-02-16T07:35:31.510Z"
   },
   {
    "duration": 14,
    "start_time": "2023-02-16T07:35:31.607Z"
   },
   {
    "duration": 39,
    "start_time": "2023-02-16T07:35:31.623Z"
   },
   {
    "duration": 19,
    "start_time": "2023-02-16T07:35:31.664Z"
   },
   {
    "duration": 17,
    "start_time": "2023-02-16T07:35:31.685Z"
   },
   {
    "duration": 33,
    "start_time": "2023-02-16T07:35:31.704Z"
   },
   {
    "duration": 48,
    "start_time": "2023-02-16T07:35:31.739Z"
   },
   {
    "duration": 5,
    "start_time": "2023-02-16T07:35:31.789Z"
   },
   {
    "duration": 22,
    "start_time": "2023-02-16T07:35:31.796Z"
   },
   {
    "duration": 15,
    "start_time": "2023-02-16T07:35:31.821Z"
   },
   {
    "duration": 33,
    "start_time": "2023-02-16T07:35:31.838Z"
   },
   {
    "duration": 42,
    "start_time": "2023-02-16T07:35:31.873Z"
   },
   {
    "duration": 27,
    "start_time": "2023-02-16T07:35:31.916Z"
   },
   {
    "duration": 52,
    "start_time": "2023-02-16T07:35:31.945Z"
   },
   {
    "duration": 19,
    "start_time": "2023-02-16T07:35:31.999Z"
   },
   {
    "duration": 39,
    "start_time": "2023-02-16T07:35:32.020Z"
   },
   {
    "duration": 218,
    "start_time": "2023-02-16T07:35:32.061Z"
   },
   {
    "duration": 370,
    "start_time": "2023-02-16T07:35:32.282Z"
   },
   {
    "duration": 9,
    "start_time": "2023-02-16T07:35:32.654Z"
   },
   {
    "duration": 299,
    "start_time": "2023-02-16T07:35:32.664Z"
   },
   {
    "duration": 2696,
    "start_time": "2023-02-16T07:35:32.964Z"
   },
   {
    "duration": 8,
    "start_time": "2023-02-16T07:35:35.662Z"
   },
   {
    "duration": 12,
    "start_time": "2023-02-16T07:35:35.672Z"
   },
   {
    "duration": 16,
    "start_time": "2023-02-16T07:35:35.687Z"
   },
   {
    "duration": 269,
    "start_time": "2023-02-16T07:35:35.706Z"
   },
   {
    "duration": 389,
    "start_time": "2023-02-16T07:35:35.977Z"
   },
   {
    "duration": 409,
    "start_time": "2023-02-16T07:35:36.368Z"
   },
   {
    "duration": 182,
    "start_time": "2023-02-16T07:35:36.780Z"
   },
   {
    "duration": 6,
    "start_time": "2023-02-16T07:35:36.964Z"
   },
   {
    "duration": 220,
    "start_time": "2023-02-16T07:35:36.972Z"
   },
   {
    "duration": 6,
    "start_time": "2023-02-16T07:35:37.194Z"
   },
   {
    "duration": 15,
    "start_time": "2023-02-16T07:35:37.202Z"
   },
   {
    "duration": 34,
    "start_time": "2023-02-16T07:35:37.219Z"
   },
   {
    "duration": 443,
    "start_time": "2023-02-16T07:35:37.259Z"
   },
   {
    "duration": 404,
    "start_time": "2023-02-16T07:35:37.704Z"
   },
   {
    "duration": 239,
    "start_time": "2023-02-16T07:35:38.110Z"
   },
   {
    "duration": 209,
    "start_time": "2023-02-16T07:35:38.353Z"
   },
   {
    "duration": 189,
    "start_time": "2023-02-16T07:35:38.564Z"
   },
   {
    "duration": 220,
    "start_time": "2023-02-16T07:35:38.755Z"
   },
   {
    "duration": 203,
    "start_time": "2023-02-16T07:35:38.977Z"
   },
   {
    "duration": 201,
    "start_time": "2023-02-16T07:35:39.182Z"
   },
   {
    "duration": 183,
    "start_time": "2023-02-16T07:35:39.385Z"
   },
   {
    "duration": 632,
    "start_time": "2023-02-16T07:35:39.569Z"
   },
   {
    "duration": 13,
    "start_time": "2023-02-16T09:09:56.630Z"
   },
   {
    "duration": 10,
    "start_time": "2023-02-16T09:10:07.028Z"
   },
   {
    "duration": 7,
    "start_time": "2023-02-16T09:10:30.229Z"
   },
   {
    "duration": 7,
    "start_time": "2023-02-16T09:10:45.967Z"
   },
   {
    "duration": 10,
    "start_time": "2023-02-16T09:10:55.162Z"
   },
   {
    "duration": 7,
    "start_time": "2023-02-16T09:11:00.481Z"
   },
   {
    "duration": 10,
    "start_time": "2023-02-16T09:15:31.379Z"
   },
   {
    "duration": 9,
    "start_time": "2023-02-16T09:15:35.756Z"
   },
   {
    "duration": 6,
    "start_time": "2023-02-16T09:15:38.987Z"
   },
   {
    "duration": 6,
    "start_time": "2023-02-16T09:15:49.580Z"
   },
   {
    "duration": 10,
    "start_time": "2023-02-16T09:17:05.928Z"
   },
   {
    "duration": 76,
    "start_time": "2023-02-16T09:17:50.478Z"
   },
   {
    "duration": 81,
    "start_time": "2023-02-16T09:18:10.687Z"
   },
   {
    "duration": 78,
    "start_time": "2023-02-16T09:18:33.876Z"
   },
   {
    "duration": 100,
    "start_time": "2023-02-16T09:19:00.834Z"
   },
   {
    "duration": 9,
    "start_time": "2023-02-16T09:19:36.352Z"
   },
   {
    "duration": 4,
    "start_time": "2023-02-16T09:20:03.057Z"
   },
   {
    "duration": 15,
    "start_time": "2023-02-16T09:20:14.241Z"
   },
   {
    "duration": 12,
    "start_time": "2023-02-16T09:55:50.502Z"
   },
   {
    "duration": 12,
    "start_time": "2023-02-16T10:42:37.650Z"
   },
   {
    "duration": 10,
    "start_time": "2023-02-16T10:43:32.328Z"
   },
   {
    "duration": 19,
    "start_time": "2023-02-16T10:51:34.239Z"
   },
   {
    "duration": 1322,
    "start_time": "2023-02-16T17:12:05.325Z"
   },
   {
    "duration": 94,
    "start_time": "2023-02-16T17:12:06.649Z"
   },
   {
    "duration": 17,
    "start_time": "2023-02-16T17:12:06.745Z"
   },
   {
    "duration": 3,
    "start_time": "2023-02-16T17:12:06.764Z"
   },
   {
    "duration": 18,
    "start_time": "2023-02-16T17:12:06.769Z"
   },
   {
    "duration": 15,
    "start_time": "2023-02-16T17:12:06.789Z"
   },
   {
    "duration": 26,
    "start_time": "2023-02-16T17:12:06.806Z"
   },
   {
    "duration": 16,
    "start_time": "2023-02-16T17:12:06.834Z"
   },
   {
    "duration": 5,
    "start_time": "2023-02-16T17:12:06.851Z"
   },
   {
    "duration": 9,
    "start_time": "2023-02-16T17:12:06.858Z"
   },
   {
    "duration": 8,
    "start_time": "2023-02-16T17:12:06.869Z"
   },
   {
    "duration": 27,
    "start_time": "2023-02-16T17:12:06.879Z"
   },
   {
    "duration": 6,
    "start_time": "2023-02-16T17:12:06.908Z"
   },
   {
    "duration": 11,
    "start_time": "2023-02-16T17:12:06.915Z"
   },
   {
    "duration": 18,
    "start_time": "2023-02-16T17:12:06.928Z"
   },
   {
    "duration": 16,
    "start_time": "2023-02-16T17:12:06.948Z"
   },
   {
    "duration": 8,
    "start_time": "2023-02-16T17:12:06.966Z"
   },
   {
    "duration": 231,
    "start_time": "2023-02-16T17:12:06.975Z"
   },
   {
    "duration": 341,
    "start_time": "2023-02-16T17:12:07.208Z"
   },
   {
    "duration": 9,
    "start_time": "2023-02-16T17:12:07.550Z"
   },
   {
    "duration": 308,
    "start_time": "2023-02-16T17:12:07.561Z"
   },
   {
    "duration": 2074,
    "start_time": "2023-02-16T17:12:07.870Z"
   },
   {
    "duration": 7,
    "start_time": "2023-02-16T17:12:09.945Z"
   },
   {
    "duration": 7,
    "start_time": "2023-02-16T17:12:09.953Z"
   },
   {
    "duration": 16,
    "start_time": "2023-02-16T17:12:09.962Z"
   },
   {
    "duration": 239,
    "start_time": "2023-02-16T17:12:09.980Z"
   },
   {
    "duration": 315,
    "start_time": "2023-02-16T17:12:10.220Z"
   },
   {
    "duration": 317,
    "start_time": "2023-02-16T17:12:10.537Z"
   },
   {
    "duration": 154,
    "start_time": "2023-02-16T17:12:10.856Z"
   },
   {
    "duration": 5,
    "start_time": "2023-02-16T17:12:11.012Z"
   },
   {
    "duration": 148,
    "start_time": "2023-02-16T17:12:11.018Z"
   },
   {
    "duration": 5,
    "start_time": "2023-02-16T17:12:11.168Z"
   },
   {
    "duration": 13,
    "start_time": "2023-02-16T17:12:11.175Z"
   },
   {
    "duration": 24,
    "start_time": "2023-02-16T17:12:11.189Z"
   },
   {
    "duration": 408,
    "start_time": "2023-02-16T17:12:11.214Z"
   },
   {
    "duration": 357,
    "start_time": "2023-02-16T17:12:11.624Z"
   },
   {
    "duration": 194,
    "start_time": "2023-02-16T17:12:11.983Z"
   },
   {
    "duration": 181,
    "start_time": "2023-02-16T17:12:12.179Z"
   },
   {
    "duration": 157,
    "start_time": "2023-02-16T17:12:12.362Z"
   },
   {
    "duration": 169,
    "start_time": "2023-02-16T17:12:12.521Z"
   },
   {
    "duration": 158,
    "start_time": "2023-02-16T17:12:12.691Z"
   },
   {
    "duration": 172,
    "start_time": "2023-02-16T17:12:12.851Z"
   },
   {
    "duration": 164,
    "start_time": "2023-02-16T17:12:13.025Z"
   },
   {
    "duration": 571,
    "start_time": "2023-02-16T17:12:13.191Z"
   },
   {
    "duration": 9,
    "start_time": "2023-02-16T17:12:13.763Z"
   },
   {
    "duration": 9,
    "start_time": "2023-02-16T17:12:13.774Z"
   },
   {
    "duration": 1510,
    "start_time": "2023-02-17T05:48:09.052Z"
   },
   {
    "duration": 107,
    "start_time": "2023-02-17T05:48:10.564Z"
   },
   {
    "duration": 21,
    "start_time": "2023-02-17T05:48:10.672Z"
   },
   {
    "duration": 7,
    "start_time": "2023-02-17T05:48:10.695Z"
   },
   {
    "duration": 27,
    "start_time": "2023-02-17T05:48:10.708Z"
   },
   {
    "duration": 26,
    "start_time": "2023-02-17T05:48:10.737Z"
   },
   {
    "duration": 24,
    "start_time": "2023-02-17T05:48:10.765Z"
   },
   {
    "duration": 23,
    "start_time": "2023-02-17T05:48:10.791Z"
   },
   {
    "duration": 9,
    "start_time": "2023-02-17T05:48:10.817Z"
   },
   {
    "duration": 8,
    "start_time": "2023-02-17T05:48:10.829Z"
   },
   {
    "duration": 9,
    "start_time": "2023-02-17T05:48:10.839Z"
   },
   {
    "duration": 29,
    "start_time": "2023-02-17T05:48:10.850Z"
   },
   {
    "duration": 10,
    "start_time": "2023-02-17T05:48:10.881Z"
   },
   {
    "duration": 9,
    "start_time": "2023-02-17T05:48:10.892Z"
   },
   {
    "duration": 39,
    "start_time": "2023-02-17T05:48:10.902Z"
   },
   {
    "duration": 11,
    "start_time": "2023-02-17T05:48:10.943Z"
   },
   {
    "duration": 7,
    "start_time": "2023-02-17T05:48:10.956Z"
   },
   {
    "duration": 253,
    "start_time": "2023-02-17T05:48:10.965Z"
   },
   {
    "duration": 373,
    "start_time": "2023-02-17T05:48:11.219Z"
   },
   {
    "duration": 23,
    "start_time": "2023-02-17T05:48:11.594Z"
   },
   {
    "duration": 298,
    "start_time": "2023-02-17T05:48:11.619Z"
   },
   {
    "duration": 2147,
    "start_time": "2023-02-17T05:48:11.920Z"
   },
   {
    "duration": 7,
    "start_time": "2023-02-17T05:48:14.069Z"
   },
   {
    "duration": 28,
    "start_time": "2023-02-17T05:48:14.079Z"
   },
   {
    "duration": 28,
    "start_time": "2023-02-17T05:48:14.109Z"
   },
   {
    "duration": 220,
    "start_time": "2023-02-17T05:48:14.139Z"
   },
   {
    "duration": 318,
    "start_time": "2023-02-17T05:48:14.362Z"
   },
   {
    "duration": 299,
    "start_time": "2023-02-17T05:48:14.684Z"
   },
   {
    "duration": 169,
    "start_time": "2023-02-17T05:48:14.984Z"
   },
   {
    "duration": 5,
    "start_time": "2023-02-17T05:48:15.155Z"
   },
   {
    "duration": 180,
    "start_time": "2023-02-17T05:48:15.161Z"
   },
   {
    "duration": 6,
    "start_time": "2023-02-17T05:48:15.343Z"
   },
   {
    "duration": 17,
    "start_time": "2023-02-17T05:48:15.350Z"
   },
   {
    "duration": 9,
    "start_time": "2023-02-17T05:48:15.369Z"
   },
   {
    "duration": 417,
    "start_time": "2023-02-17T05:48:15.400Z"
   },
   {
    "duration": 344,
    "start_time": "2023-02-17T05:48:15.819Z"
   },
   {
    "duration": 217,
    "start_time": "2023-02-17T05:48:16.165Z"
   },
   {
    "duration": 191,
    "start_time": "2023-02-17T05:48:16.384Z"
   },
   {
    "duration": 187,
    "start_time": "2023-02-17T05:48:16.577Z"
   },
   {
    "duration": 184,
    "start_time": "2023-02-17T05:48:16.767Z"
   },
   {
    "duration": 169,
    "start_time": "2023-02-17T05:48:16.953Z"
   },
   {
    "duration": 195,
    "start_time": "2023-02-17T05:48:17.123Z"
   },
   {
    "duration": 164,
    "start_time": "2023-02-17T05:48:17.320Z"
   },
   {
    "duration": 585,
    "start_time": "2023-02-17T05:48:17.486Z"
   },
   {
    "duration": 9,
    "start_time": "2023-02-17T05:48:18.072Z"
   },
   {
    "duration": 32,
    "start_time": "2023-02-17T05:48:18.083Z"
   },
   {
    "duration": 1284,
    "start_time": "2023-02-17T09:11:14.371Z"
   },
   {
    "duration": 82,
    "start_time": "2023-02-17T09:11:15.657Z"
   },
   {
    "duration": 16,
    "start_time": "2023-02-17T09:11:15.741Z"
   },
   {
    "duration": 3,
    "start_time": "2023-02-17T09:11:15.759Z"
   },
   {
    "duration": 30,
    "start_time": "2023-02-17T09:11:15.764Z"
   },
   {
    "duration": 25,
    "start_time": "2023-02-17T09:11:15.795Z"
   },
   {
    "duration": 25,
    "start_time": "2023-02-17T09:11:15.822Z"
   },
   {
    "duration": 15,
    "start_time": "2023-02-17T09:11:15.849Z"
   },
   {
    "duration": 6,
    "start_time": "2023-02-17T09:11:15.866Z"
   },
   {
    "duration": 35,
    "start_time": "2023-02-17T09:11:15.876Z"
   },
   {
    "duration": 9,
    "start_time": "2023-02-17T09:11:15.913Z"
   },
   {
    "duration": 15,
    "start_time": "2023-02-17T09:11:15.924Z"
   },
   {
    "duration": 9,
    "start_time": "2023-02-17T09:11:15.941Z"
   },
   {
    "duration": 7,
    "start_time": "2023-02-17T09:11:15.954Z"
   },
   {
    "duration": 24,
    "start_time": "2023-02-17T09:11:15.963Z"
   },
   {
    "duration": 26,
    "start_time": "2023-02-17T09:11:15.989Z"
   },
   {
    "duration": 10,
    "start_time": "2023-02-17T09:11:16.017Z"
   },
   {
    "duration": 289,
    "start_time": "2023-02-17T09:11:16.029Z"
   },
   {
    "duration": 388,
    "start_time": "2023-02-17T09:11:16.320Z"
   },
   {
    "duration": 11,
    "start_time": "2023-02-17T09:11:16.714Z"
   },
   {
    "duration": 318,
    "start_time": "2023-02-17T09:11:16.728Z"
   },
   {
    "duration": 2543,
    "start_time": "2023-02-17T09:11:17.048Z"
   },
   {
    "duration": 7,
    "start_time": "2023-02-17T09:11:19.596Z"
   },
   {
    "duration": 30,
    "start_time": "2023-02-17T09:11:19.609Z"
   },
   {
    "duration": 36,
    "start_time": "2023-02-17T09:11:19.641Z"
   },
   {
    "duration": 255,
    "start_time": "2023-02-17T09:11:19.683Z"
   },
   {
    "duration": 410,
    "start_time": "2023-02-17T09:11:19.940Z"
   },
   {
    "duration": 412,
    "start_time": "2023-02-17T09:11:20.353Z"
   },
   {
    "duration": 185,
    "start_time": "2023-02-17T09:11:20.767Z"
   },
   {
    "duration": 22,
    "start_time": "2023-02-17T09:11:20.954Z"
   },
   {
    "duration": 279,
    "start_time": "2023-02-17T09:11:20.981Z"
   },
   {
    "duration": 14,
    "start_time": "2023-02-17T09:11:21.262Z"
   },
   {
    "duration": 42,
    "start_time": "2023-02-17T09:11:21.280Z"
   },
   {
    "duration": 10,
    "start_time": "2023-02-17T09:11:21.324Z"
   },
   {
    "duration": 544,
    "start_time": "2023-02-17T09:11:21.335Z"
   },
   {
    "duration": 412,
    "start_time": "2023-02-17T09:11:21.880Z"
   },
   {
    "duration": 225,
    "start_time": "2023-02-17T09:11:22.295Z"
   },
   {
    "duration": 197,
    "start_time": "2023-02-17T09:11:22.522Z"
   },
   {
    "duration": 193,
    "start_time": "2023-02-17T09:11:22.721Z"
   },
   {
    "duration": 221,
    "start_time": "2023-02-17T09:11:22.915Z"
   },
   {
    "duration": 192,
    "start_time": "2023-02-17T09:11:23.140Z"
   },
   {
    "duration": 212,
    "start_time": "2023-02-17T09:11:23.334Z"
   },
   {
    "duration": 203,
    "start_time": "2023-02-17T09:11:23.548Z"
   },
   {
    "duration": 609,
    "start_time": "2023-02-17T09:11:23.753Z"
   },
   {
    "duration": 21,
    "start_time": "2023-02-17T09:11:24.364Z"
   },
   {
    "duration": 29,
    "start_time": "2023-02-17T09:11:24.390Z"
   },
   {
    "duration": 77,
    "start_time": "2023-02-18T12:59:05.262Z"
   },
   {
    "duration": 1355,
    "start_time": "2023-02-18T12:59:12.199Z"
   },
   {
    "duration": 96,
    "start_time": "2023-02-18T12:59:13.557Z"
   },
   {
    "duration": 16,
    "start_time": "2023-02-18T12:59:13.654Z"
   },
   {
    "duration": 3,
    "start_time": "2023-02-18T12:59:13.672Z"
   },
   {
    "duration": 14,
    "start_time": "2023-02-18T12:59:13.676Z"
   },
   {
    "duration": 13,
    "start_time": "2023-02-18T12:59:13.691Z"
   },
   {
    "duration": 14,
    "start_time": "2023-02-18T12:59:13.710Z"
   },
   {
    "duration": 12,
    "start_time": "2023-02-18T12:59:13.726Z"
   },
   {
    "duration": 4,
    "start_time": "2023-02-18T12:59:13.740Z"
   },
   {
    "duration": 8,
    "start_time": "2023-02-18T12:59:13.746Z"
   },
   {
    "duration": 6,
    "start_time": "2023-02-18T12:59:13.756Z"
   },
   {
    "duration": 9,
    "start_time": "2023-02-18T12:59:13.764Z"
   },
   {
    "duration": 41,
    "start_time": "2023-02-18T12:59:13.775Z"
   },
   {
    "duration": 7,
    "start_time": "2023-02-18T12:59:13.818Z"
   },
   {
    "duration": 14,
    "start_time": "2023-02-18T12:59:13.826Z"
   },
   {
    "duration": 8,
    "start_time": "2023-02-18T12:59:13.842Z"
   },
   {
    "duration": 7,
    "start_time": "2023-02-18T12:59:13.851Z"
   },
   {
    "duration": 280,
    "start_time": "2023-02-18T12:59:13.860Z"
   },
   {
    "duration": 332,
    "start_time": "2023-02-18T12:59:14.142Z"
   },
   {
    "duration": 8,
    "start_time": "2023-02-18T12:59:14.475Z"
   },
   {
    "duration": 272,
    "start_time": "2023-02-18T12:59:14.484Z"
   },
   {
    "duration": 2000,
    "start_time": "2023-02-18T12:59:14.758Z"
   },
   {
    "duration": 8,
    "start_time": "2023-02-18T12:59:16.760Z"
   },
   {
    "duration": 15,
    "start_time": "2023-02-18T12:59:16.770Z"
   },
   {
    "duration": 32,
    "start_time": "2023-02-18T12:59:16.787Z"
   },
   {
    "duration": 276,
    "start_time": "2023-02-18T12:59:16.821Z"
   },
   {
    "duration": 299,
    "start_time": "2023-02-18T12:59:17.099Z"
   },
   {
    "duration": 309,
    "start_time": "2023-02-18T12:59:17.409Z"
   },
   {
    "duration": 196,
    "start_time": "2023-02-18T12:59:17.720Z"
   },
   {
    "duration": 5,
    "start_time": "2023-02-18T12:59:17.918Z"
   },
   {
    "duration": 152,
    "start_time": "2023-02-18T12:59:17.925Z"
   },
   {
    "duration": 6,
    "start_time": "2023-02-18T12:59:18.079Z"
   },
   {
    "duration": 25,
    "start_time": "2023-02-18T12:59:18.087Z"
   },
   {
    "duration": 7,
    "start_time": "2023-02-18T12:59:18.114Z"
   },
   {
    "duration": 408,
    "start_time": "2023-02-18T12:59:18.123Z"
   },
   {
    "duration": 319,
    "start_time": "2023-02-18T12:59:18.532Z"
   },
   {
    "duration": 220,
    "start_time": "2023-02-18T12:59:18.852Z"
   },
   {
    "duration": 205,
    "start_time": "2023-02-18T12:59:19.074Z"
   },
   {
    "duration": 219,
    "start_time": "2023-02-18T12:59:19.281Z"
   },
   {
    "duration": 189,
    "start_time": "2023-02-18T12:59:19.502Z"
   },
   {
    "duration": 179,
    "start_time": "2023-02-18T12:59:19.693Z"
   },
   {
    "duration": 172,
    "start_time": "2023-02-18T12:59:19.874Z"
   },
   {
    "duration": 155,
    "start_time": "2023-02-18T12:59:20.047Z"
   },
   {
    "duration": 535,
    "start_time": "2023-02-18T12:59:20.210Z"
   },
   {
    "duration": 9,
    "start_time": "2023-02-18T12:59:20.746Z"
   },
   {
    "duration": 11,
    "start_time": "2023-02-18T12:59:20.756Z"
   },
   {
    "duration": 9,
    "start_time": "2023-02-18T13:03:54.447Z"
   },
   {
    "duration": 117,
    "start_time": "2023-02-18T13:04:39.985Z"
   },
   {
    "duration": 10,
    "start_time": "2023-02-18T13:04:46.882Z"
   },
   {
    "duration": 22,
    "start_time": "2023-02-18T13:05:15.851Z"
   },
   {
    "duration": 27,
    "start_time": "2023-02-18T13:06:35.844Z"
   },
   {
    "duration": 23,
    "start_time": "2023-02-18T13:14:55.780Z"
   },
   {
    "duration": 18,
    "start_time": "2023-02-18T13:15:30.780Z"
   },
   {
    "duration": 24,
    "start_time": "2023-02-18T13:15:44.748Z"
   },
   {
    "duration": 18,
    "start_time": "2023-02-18T13:16:10.684Z"
   },
   {
    "duration": 63,
    "start_time": "2023-02-18T13:19:59.080Z"
   },
   {
    "duration": 15,
    "start_time": "2023-02-18T13:20:25.221Z"
   },
   {
    "duration": 11,
    "start_time": "2023-02-18T13:20:56.208Z"
   },
   {
    "duration": 15,
    "start_time": "2023-02-18T13:21:03.016Z"
   },
   {
    "duration": 11,
    "start_time": "2023-02-18T13:21:43.836Z"
   },
   {
    "duration": 6,
    "start_time": "2023-02-18T13:23:04.273Z"
   },
   {
    "duration": 4,
    "start_time": "2023-02-18T13:23:07.293Z"
   },
   {
    "duration": 45,
    "start_time": "2023-02-18T13:23:07.313Z"
   },
   {
    "duration": 12,
    "start_time": "2023-02-18T13:23:07.360Z"
   },
   {
    "duration": 5,
    "start_time": "2023-02-18T13:23:07.373Z"
   },
   {
    "duration": 16,
    "start_time": "2023-02-18T13:23:07.380Z"
   },
   {
    "duration": 14,
    "start_time": "2023-02-18T13:23:07.399Z"
   },
   {
    "duration": 29,
    "start_time": "2023-02-18T13:23:07.414Z"
   },
   {
    "duration": 16,
    "start_time": "2023-02-18T13:23:07.445Z"
   },
   {
    "duration": 4,
    "start_time": "2023-02-18T13:23:07.463Z"
   },
   {
    "duration": 21,
    "start_time": "2023-02-18T13:23:07.470Z"
   },
   {
    "duration": 5,
    "start_time": "2023-02-18T13:23:07.510Z"
   },
   {
    "duration": 9,
    "start_time": "2023-02-18T13:23:07.516Z"
   },
   {
    "duration": 6,
    "start_time": "2023-02-18T13:23:07.526Z"
   },
   {
    "duration": 5,
    "start_time": "2023-02-18T13:23:07.533Z"
   },
   {
    "duration": 15,
    "start_time": "2023-02-18T13:23:07.540Z"
   },
   {
    "duration": 6,
    "start_time": "2023-02-18T13:23:07.557Z"
   },
   {
    "duration": 46,
    "start_time": "2023-02-18T13:23:07.564Z"
   },
   {
    "duration": 273,
    "start_time": "2023-02-18T13:23:07.612Z"
   },
   {
    "duration": 292,
    "start_time": "2023-02-18T13:23:07.887Z"
   },
   {
    "duration": 7,
    "start_time": "2023-02-18T13:23:08.180Z"
   },
   {
    "duration": 240,
    "start_time": "2023-02-18T13:23:08.190Z"
   },
   {
    "duration": 1953,
    "start_time": "2023-02-18T13:23:08.432Z"
   },
   {
    "duration": 5,
    "start_time": "2023-02-18T13:23:10.387Z"
   },
   {
    "duration": 17,
    "start_time": "2023-02-18T13:23:10.393Z"
   },
   {
    "duration": 18,
    "start_time": "2023-02-18T13:23:10.411Z"
   },
   {
    "duration": 180,
    "start_time": "2023-02-18T13:23:10.431Z"
   },
   {
    "duration": 277,
    "start_time": "2023-02-18T13:23:10.613Z"
   },
   {
    "duration": 270,
    "start_time": "2023-02-18T13:23:10.891Z"
   },
   {
    "duration": 189,
    "start_time": "2023-02-18T13:23:11.163Z"
   },
   {
    "duration": 6,
    "start_time": "2023-02-18T13:23:11.353Z"
   },
   {
    "duration": 163,
    "start_time": "2023-02-18T13:23:11.360Z"
   },
   {
    "duration": 5,
    "start_time": "2023-02-18T13:23:11.524Z"
   },
   {
    "duration": 8,
    "start_time": "2023-02-18T13:23:11.530Z"
   },
   {
    "duration": 7,
    "start_time": "2023-02-18T13:23:11.540Z"
   },
   {
    "duration": 370,
    "start_time": "2023-02-18T13:23:11.548Z"
   },
   {
    "duration": 319,
    "start_time": "2023-02-18T13:23:11.919Z"
   },
   {
    "duration": 182,
    "start_time": "2023-02-18T13:23:12.239Z"
   },
   {
    "duration": 159,
    "start_time": "2023-02-18T13:23:12.423Z"
   },
   {
    "duration": 150,
    "start_time": "2023-02-18T13:23:12.584Z"
   },
   {
    "duration": 157,
    "start_time": "2023-02-18T13:23:12.736Z"
   },
   {
    "duration": 177,
    "start_time": "2023-02-18T13:23:12.895Z"
   },
   {
    "duration": 176,
    "start_time": "2023-02-18T13:23:13.076Z"
   },
   {
    "duration": 158,
    "start_time": "2023-02-18T13:23:13.254Z"
   },
   {
    "duration": 463,
    "start_time": "2023-02-18T13:23:13.413Z"
   },
   {
    "duration": 7,
    "start_time": "2023-02-18T13:23:13.877Z"
   },
   {
    "duration": 24,
    "start_time": "2023-02-18T13:23:13.886Z"
   },
   {
    "duration": 14,
    "start_time": "2023-02-18T13:25:09.205Z"
   },
   {
    "duration": 15,
    "start_time": "2023-02-18T13:27:25.419Z"
   },
   {
    "duration": 438,
    "start_time": "2023-02-18T13:28:47.294Z"
   },
   {
    "duration": 282,
    "start_time": "2023-02-18T13:30:04.723Z"
   },
   {
    "duration": 265,
    "start_time": "2023-02-18T13:30:18.986Z"
   },
   {
    "duration": 264,
    "start_time": "2023-02-18T13:30:33.181Z"
   },
   {
    "duration": 384,
    "start_time": "2023-02-18T13:30:56.609Z"
   },
   {
    "duration": 351,
    "start_time": "2023-02-18T13:31:25.286Z"
   },
   {
    "duration": 341,
    "start_time": "2023-02-18T13:32:31.164Z"
   }
  ],
  "kernelspec": {
   "display_name": "Python 3 (ipykernel)",
   "language": "python",
   "name": "python3"
  },
  "language_info": {
   "codemirror_mode": {
    "name": "ipython",
    "version": 3
   },
   "file_extension": ".py",
   "mimetype": "text/x-python",
   "name": "python",
   "nbconvert_exporter": "python",
   "pygments_lexer": "ipython3",
   "version": "3.9.5"
  },
  "toc": {
   "base_numbering": 1,
   "nav_menu": {},
   "number_sections": true,
   "sideBar": true,
   "skip_h1_title": true,
   "title_cell": "Table of Contents",
   "title_sidebar": "Contents",
   "toc_cell": false,
   "toc_position": {
    "height": "calc(100% - 180px)",
    "left": "10px",
    "top": "150px",
    "width": "165px"
   },
   "toc_section_display": true,
   "toc_window_display": true
  }
 },
 "nbformat": 4,
 "nbformat_minor": 2
}
