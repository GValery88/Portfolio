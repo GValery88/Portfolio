{
 "cells": [
  {
   "cell_type": "markdown",
   "metadata": {},
   "source": [
    "<div class=\"alert alert-success\">\n",
    "<font color='black'>    \n",
    "<br><b>Цели исследования:</b>\n",
    "<br>Инвесторы из фонда «Shut Up and Take My Money» решили попробовать себя в новой области и открыть заведение общественного питания в Москве. Заказчики ещё не знают, что это будет за место: кафе, ресторан, пиццерия, паб или бар, — и какими будут расположение, меню и цены. Для выполнения вышепоставленной задачи необходимо:\n",
    "<br>- подготовить исследование рынка Москвы;\n",
    "<br>- найти интересные особенности и презентовать полученные результаты, которые в будущем помогут в выборе подходящего инвесторам места.</font>\n",
    "</div>"
   ]
  },
  {
   "cell_type": "code",
   "execution_count": null,
   "metadata": {},
   "outputs": [],
   "source": [
    "import pandas as pd\n",
    "import numpy as np\n",
    "import seaborn as sns\n",
    "import matplotlib.pyplot as plt\n",
    "import plotly.express as px\n",
    "import plotly.graph_objects as go"
   ]
  },
  {
   "cell_type": "markdown",
   "metadata": {},
   "source": [
    "### Загрузка данных и изучение общей информации"
   ]
  },
  {
   "cell_type": "code",
   "execution_count": null,
   "metadata": {},
   "outputs": [],
   "source": [
    "df = pd.read_csv('/datasets/moscow_places.csv')\n",
    "df.head()"
   ]
  },
  {
   "cell_type": "code",
   "execution_count": null,
   "metadata": {},
   "outputs": [],
   "source": [
    "df.info()"
   ]
  },
  {
   "cell_type": "code",
   "execution_count": null,
   "metadata": {},
   "outputs": [],
   "source": [
    "df.describe()"
   ]
  },
  {
   "cell_type": "code",
   "execution_count": null,
   "metadata": {},
   "outputs": [],
   "source": [
    "print('В датасете представлено заведений - ', df.name.nunique())"
   ]
  },
  {
   "cell_type": "code",
   "execution_count": null,
   "metadata": {},
   "outputs": [],
   "source": [
    "df['category'].value_counts()"
   ]
  },
  {
   "cell_type": "markdown",
   "metadata": {},
   "source": [
    "<div class=\"alert alert-success\">\n",
    "<font color='black'>    \n",
    "<b><br>- В исходном датасете 8405 строк, число уникальных заведений - 5614, тип данных соответствует значениям, изменять название столбцов не требуется.</b></font>\n",
    "</div>"
   ]
  },
  {
   "cell_type": "markdown",
   "metadata": {},
   "source": [
    "### Выполнение предобработки данных"
   ]
  },
  {
   "cell_type": "code",
   "execution_count": null,
   "metadata": {},
   "outputs": [],
   "source": [
    "df.duplicated(subset=['name', 'address']).sum()"
   ]
  },
  {
   "cell_type": "code",
   "execution_count": null,
   "metadata": {},
   "outputs": [],
   "source": [
    "df.isna().sum()"
   ]
  },
  {
   "cell_type": "markdown",
   "metadata": {},
   "source": [
    "<br>- Имеются ропуски в столбцах hours, price, avg_bill, middle_avg_bill, middle_coffee_cup, seats. Удаление пропусков приведет к искажению в исследовании. Далее рассмотрим возможный вариант заполнения пропусков в данных."
   ]
  },
  {
   "cell_type": "code",
   "execution_count": null,
   "metadata": {},
   "outputs": [],
   "source": [
    "df['name'] = df['name'].str.lower()\n",
    "df['address'] = df['address'].str.lower()\n",
    "df['avg_bill'] = df['avg_bill'].str.lower()"
   ]
  },
  {
   "cell_type": "code",
   "execution_count": null,
   "metadata": {},
   "outputs": [],
   "source": [
    "df.duplicated(subset=['name', 'address']).sum()#выявим неявные дубликаты после приведения к нижнему регистру"
   ]
  },
  {
   "cell_type": "code",
   "execution_count": null,
   "metadata": {},
   "outputs": [],
   "source": [
    "df.loc[df.duplicated(subset=['name', 'address'])]#выявим неявные дубликаты после приведения к нижнему регистру"
   ]
  },
  {
   "cell_type": "code",
   "execution_count": null,
   "metadata": {},
   "outputs": [],
   "source": [
    "df.duplicated(subset=['name', 'address']).sum()\n",
    "print(len(df))\n",
    "df = df.drop_duplicates(subset=['name', 'address'])#произведем удаление дубликатов\n",
    "print(len(df))"
   ]
  },
  {
   "cell_type": "code",
   "execution_count": null,
   "metadata": {},
   "outputs": [],
   "source": [
    "new_avg_bill = df.groupby('avg_bill')['middle_avg_bill'].max().dropna()\n",
    "#Сгруппируем все значения начинающиеся с \"средний счёт:\". создадим переменную -new_avg_bill \n",
    "print(new_avg_bill.index)\n",
    "print(new_avg_bill.head())"
   ]
  },
  {
   "cell_type": "code",
   "execution_count": null,
   "metadata": {},
   "outputs": [],
   "source": [
    "def func_avg(avg_bill):#Создадим функцию с помощью функции заменим пропуски по совпадению из списка\n",
    "    if avg_bill in new_avg_bill:\n",
    "        return new_avg_bill[avg_bill]"
   ]
  },
  {
   "cell_type": "code",
   "execution_count": null,
   "metadata": {},
   "outputs": [],
   "source": [
    "df.loc[df['middle_avg_bill'].isna(), 'middle_avg_bill'] = df['avg_bill'].apply(func_avg)"
   ]
  },
  {
   "cell_type": "code",
   "execution_count": null,
   "metadata": {
    "scrolled": false
   },
   "outputs": [],
   "source": [
    "df1=df[df['middle_avg_bill'].isna()]\n",
    "df1=df1[df1['avg_bill'].notnull()]\n",
    "df1=df1[['avg_bill','middle_avg_bill']]\n",
    "df1['avg_bill'].unique()"
   ]
  },
  {
   "cell_type": "markdown",
   "metadata": {},
   "source": [
    "Из полученных результатов, можем сказать что пропуски вызваны из-за разных категорий заведений. Данные из avg_bill распределяются по разным столбцам и это не является ошибкой.\n",
    "\n",
    "Также считаю, что заполнять средними или медианными значениями по названию заведения остальные столбцы некорректно, так как количество мест в сетевых заведениях, в разных районах, может значительно отличаться. Также в мелких сетях, по условию, могут быть ошибки.\n",
    "Оставим пропуски как есть."
   ]
  },
  {
   "cell_type": "code",
   "execution_count": null,
   "metadata": {},
   "outputs": [],
   "source": [
    "df['seats'].describe()"
   ]
  },
  {
   "cell_type": "code",
   "execution_count": null,
   "metadata": {},
   "outputs": [],
   "source": [
    "sns.set_palette('rocket')\n",
    "sns.boxplot(y='seats', x='category', data=df, hue=\"category\", dodge=False)\n",
    "sns.set(rc={'figure.figsize':(13,10)})\n",
    "plt.title('Количество сидячих мест в заведениях')\n",
    "plt.xlabel('Тип заведения')\n",
    "plt.ylabel('Количество сидячих мест')\n",
    "plt.show()"
   ]
  },
  {
   "cell_type": "markdown",
   "metadata": {},
   "source": [
    "На графике видим выбросы. Скорее всего они связаны с ошибкой при заполнении данных (возможно приписан лишний 0). Оставим все, что меньше 600, посчитаем сколько таких заведений."
   ]
  },
  {
   "cell_type": "code",
   "execution_count": null,
   "metadata": {},
   "outputs": [],
   "source": [
    "df[df['seats'] > 600]['name'].count()"
   ]
  },
  {
   "cell_type": "code",
   "execution_count": null,
   "metadata": {},
   "outputs": [],
   "source": [
    "(df[df['seats'] > 600]['name'].count()/df['seats'].count())*100"
   ]
  },
  {
   "cell_type": "markdown",
   "metadata": {},
   "source": [
    "Таких заведений чуть более 1%, можно их удалить"
   ]
  },
  {
   "cell_type": "code",
   "execution_count": null,
   "metadata": {},
   "outputs": [],
   "source": [
    "df600 = df[df['seats'] > 600]\n",
    "df = df.query('index not in @df600.index')#Сделаем срез данных, исключим заведения с местами более 600"
   ]
  },
  {
   "cell_type": "code",
   "execution_count": null,
   "metadata": {},
   "outputs": [],
   "source": [
    "print('Заведений с числом мест больше 600:', df[df['seats'] > 600]['name'].count())#Проверка результата"
   ]
  },
  {
   "cell_type": "code",
   "execution_count": null,
   "metadata": {},
   "outputs": [],
   "source": [
    "df['street'] = df['address'].str.split(', ').str[1]#Создадим столбец street с названиями улиц из столбца с адресом"
   ]
  },
  {
   "cell_type": "code",
   "execution_count": null,
   "metadata": {},
   "outputs": [],
   "source": [
    "df.head()"
   ]
  },
  {
   "cell_type": "code",
   "execution_count": null,
   "metadata": {
    "scrolled": true
   },
   "outputs": [],
   "source": [
    "df['is_24/7'] = df['hours'].str.contains('ежедневно, круглосуточно')\n",
    "#Создадим столбец is_24/7 с обозначением, что заведение работает ежедневно и круглосуточно (24/7): логическое значение True — если заведение работает ежедневно и круглосуточно; логическое значение False — в противоположном случае.\n",
    "df.head()"
   ]
  },
  {
   "cell_type": "markdown",
   "metadata": {},
   "source": [
    "<div class=\"alert alert-success\">\n",
    "<font color='black'>    \n",
    "<br><b>-Имеются пропуски в столбцах hours, price, avg_bill, middle_avg_bill, middle_coffee_cup, seats. Удаление пропусков приведет к искажению в исследовании. Из полученных результатов, можно сделать вывод, что пропуски вызваны из-за разных категорий заведений. Данные из avg_bill распределяются по разным столбцам и это не является ошибкой. Также считаю, что заполнять средними или медианными значениями по названию заведения остальные столбцы некорректно, так как количество мест в сетевых заведениях, в разных районах, может значительно отличаться. Оставим пропуски как есть.\n",
    "<br> -Обнаружены выбросы в столбце seats. Принято решение оставить данные с количеством посадочных мест меньше 600.</b></font>\n",
    "</div>"
   ]
  },
  {
   "cell_type": "markdown",
   "metadata": {},
   "source": [
    "### Анализ данных"
   ]
  },
  {
   "cell_type": "markdown",
   "metadata": {},
   "source": [
    "#### Какие категории заведений представлены в данных? Исследуйте количество объектов общественного питания по категориям: рестораны, кофейни, пиццерии, бары и так далее. Постройте визуализации. Ответьте на вопрос о распределении заведений по категориям."
   ]
  },
  {
   "cell_type": "code",
   "execution_count": null,
   "metadata": {},
   "outputs": [],
   "source": [
    "category_name = df.groupby('category')['name'].count().reset_index()\n",
    "category_name.columns = ['category', 'count']\n",
    "category_name"
   ]
  },
  {
   "cell_type": "code",
   "execution_count": null,
   "metadata": {},
   "outputs": [],
   "source": [
    "go.Figure(data=[go.Pie(labels=category_name['category'], values=category_name['count'])], \n",
    "          layout=go.Layout(title=go.layout.Title(text=\"Круговая диаграмма категорий заведений\")))"
   ]
  },
  {
   "cell_type": "code",
   "execution_count": null,
   "metadata": {},
   "outputs": [],
   "source": [
    "fig = px.bar(category_name, \n",
    "             x='category', \n",
    "             y='count', \n",
    "             text='count',\n",
    "             title='Количество объектов общественного питания по видам'\n",
    "            )\n",
    "fig.update_layout(xaxis_title='Категории заведений',\n",
    "                  yaxis_title='Количество заведений',\n",
    "                  xaxis={'categoryorder':'total descending'})\n",
    "fig.show() # выводим график"
   ]
  },
  {
   "cell_type": "markdown",
   "metadata": {},
   "source": [
    "<div class=\"alert alert-success\">\n",
    "<font color='black'>    \n",
    "<br><b>Можно сделать промежуточный вывод:</b>\n",
    "<br>По количеству заведений лидируют кафе с численностью 2364, немного меньше ресторан - 2030. На последнем месте булочная - 255.\n",
    "<br>Кафе и рестораны составляют почти 52,6% от всех заведений. Кофейни, бары/пабы и пиццерии составляют 33,43% от общего числа заведений. На булочные, столовые и быстрое питание приходится 13,97%.</font>\n",
    "</div>"
   ]
  },
  {
   "cell_type": "markdown",
   "metadata": {},
   "source": [
    "#### Исследуйте количество посадочных мест в местах по категориям: рестораны, кофейни, пиццерии, бары и так далее. Постройте визуализации. Проанализируйте результаты и сделайте выводы."
   ]
  },
  {
   "cell_type": "code",
   "execution_count": null,
   "metadata": {},
   "outputs": [],
   "source": [
    "df.groupby('category')['seats'].describe().round(2).reset_index()"
   ]
  },
  {
   "cell_type": "code",
   "execution_count": null,
   "metadata": {},
   "outputs": [],
   "source": [
    "mean_seats = df[df['seats'] != 0].groupby('category')['seats'].median().reset_index().sort_values(by='seats', ascending=False).round(2)\n",
    "\n",
    "f, ax = plt.subplots(figsize=(17, 7))\n",
    "\n",
    "ax = sns.barplot(data=mean_seats, x='category', y='seats')\n",
    "\n",
    "ax.set_xlabel('Тип объекта')\n",
    "ax.set_ylabel('Количество мест')\n",
    "ax.set_title('Среднее количество мест в заведениях Москвы')\n",
    "plt.xticks(rotation=45)\n",
    "plt.show()"
   ]
  },
  {
   "cell_type": "code",
   "execution_count": null,
   "metadata": {},
   "outputs": [],
   "source": [
    "plt.figure(figsize=(17, 15))\n",
    "ax = sns.boxplot(data=df, y='seats', x='category', palette=\"Set3\")\n",
    "plt.title('Распределения количества посадочных мест по типам заведений')\n",
    "plt.xlabel('Количество мест')\n",
    "plt.ylabel('Тип заведений')\n",
    "plt.show()"
   ]
  },
  {
   "cell_type": "markdown",
   "metadata": {},
   "source": [
    "<div class=\"alert alert-success\">\n",
    "<font color='black'>    \n",
    "<br><b>Больше всего посадочных мест в ресторанах, далее идут заведения быстрого питания, т.к. они больше всего распространены в Москве. Кафе и столовые располагают меньшим количеством мест.</b></font></div>"
   ]
  },
  {
   "cell_type": "markdown",
   "metadata": {},
   "source": [
    "#### Рассмотрите и изобразите соотношение сетевых и несетевых заведений в датасете. Каких заведений больше?"
   ]
  },
  {
   "cell_type": "code",
   "execution_count": null,
   "metadata": {},
   "outputs": [],
   "source": [
    "chain = df['chain'].value_counts().reset_index()\n",
    "chain.columns = ['chain', 'count']\n",
    "chain"
   ]
  },
  {
   "cell_type": "code",
   "execution_count": null,
   "metadata": {},
   "outputs": [],
   "source": [
    "fig = go.Figure(data=[go.Pie(labels=['несетевые', 'сетевые'], values=chain['count'])], layout=go.Layout(\n",
    "        title=go.layout.Title(text=\"Соотношение сетевых и несетевых заведений\")))\n",
    "fig.show()"
   ]
  },
  {
   "cell_type": "markdown",
   "metadata": {},
   "source": [
    "<div class=\"alert alert-success\">\n",
    "<font color='black'>    \n",
    "<br><b>Анализируя график можно сделать однозначный вывод, что в Москве почти 62% заведений не являются сетевыми.</b></font></div>"
   ]
  },
  {
   "cell_type": "markdown",
   "metadata": {},
   "source": [
    "#### Какие категории заведений чаще являются сетевыми? Исследуйте данные и ответьте на вопрос графиком."
   ]
  },
  {
   "cell_type": "code",
   "execution_count": null,
   "metadata": {
    "scrolled": true
   },
   "outputs": [],
   "source": [
    "objects = df.groupby(['category', 'chain'])['name'].count().reset_index().sort_values(['category','name','chain'])\n",
    "objects.columns = ['category', 'chain', 'count']\n",
    "objects"
   ]
  },
  {
   "cell_type": "code",
   "execution_count": null,
   "metadata": {},
   "outputs": [],
   "source": [
    "fig = px.bar(objects, # загружаем данные и заново их сортируем\n",
    "             y='count', # указываем столбец с данными для оси X\n",
    "             x='category', # указываем столбец с данными для оси Y\n",
    "             text='count', # добавляем аргумент, который отобразит текст с информацией                  \n",
    "             category_orders={\"chain\": [\"сетевой\", \"несетевой\"]},\n",
    "             color='chain'\n",
    "            )\n",
    "# оформляем график\n",
    "fig.update_layout(title='Соотношение сетевых заведений',\n",
    "                   xaxis_title='Количество заведений',\n",
    "                   yaxis_title='Название категорий',\n",
    "                 )\n",
    "fig.show() # выводим график"
   ]
  },
  {
   "cell_type": "code",
   "execution_count": null,
   "metadata": {},
   "outputs": [],
   "source": [
    "chain_t = df.pivot_table(index = 'category', values='name', columns = 'chain', aggfunc='count').reset_index()\n",
    "chain_t['total'] = chain_t[0] + chain_t[1]\n",
    "chain_t['rate'] = round((chain_t[1] / chain_t['total'])*100, 0)\n",
    "chain_t = chain_t.sort_values(by='rate', ascending=False)\n",
    "chain_t"
   ]
  },
  {
   "cell_type": "markdown",
   "metadata": {},
   "source": [
    "<div class=\"alert alert-success\">\n",
    "<font color='black'>    \n",
    "<br><b>Анализируя график можно сделать вывод, что что большинство за несетевыми заведениями за исключением: кофейня - количество сетевых немного больше. 713/688 или 51 % от общего количества заведений данной категории, пиццерия - сетевых заведений больше. 328/301 или 52 % от общего количества заведений данной категории, булочная - сетевых заметно больше. 156/99 или 61 % от общего количества заведений данной категории</b></font></div>"
   ]
  },
  {
   "cell_type": "markdown",
   "metadata": {},
   "source": [
    "#### Сгруппируйте данные по названиям заведений и найдите топ-15 популярных сетей в Москве. Под популярностью понимается количество заведений этой сети в регионе. Постройте подходящую для такой информации визуализацию. Знакомы ли вам эти сети? Есть ли какой-то признак, который их объединяет? К какой категории заведений они относятся?"
   ]
  },
  {
   "cell_type": "code",
   "execution_count": null,
   "metadata": {},
   "outputs": [],
   "source": [
    "top_15 = df[df['chain'] == 1].groupby('name').agg({'category' : pd.Series.mode,'district' : 'count'}).sort_values('district', ascending = False).reset_index().head(15)\n",
    "top_15"
   ]
  },
  {
   "cell_type": "code",
   "execution_count": null,
   "metadata": {},
   "outputs": [],
   "source": [
    "fig = px.bar(top_15, # загружаем данные и заново их сортируем\n",
    "             x='district', # указываем столбец с данными для оси X\n",
    "             y='name', # указываем столбец с данными для оси Y\n",
    "             text='district', # добавляем аргумент, который отобразит текст с информацией\n",
    "             color='name'                   # о количестве объявлений внутри столбца графика\n",
    "            )\n",
    "# оформляем график\n",
    "fig.update_layout(title='ТОП-15 популярных сетей в Москве',\n",
    "                   xaxis_title='Количество заведений',\n",
    "                   yaxis_title='Название заведений',\n",
    "                   showlegend=False)\n",
    "fig.show() # выводим график"
   ]
  },
  {
   "cell_type": "markdown",
   "metadata": {},
   "source": [
    "<div class=\"alert alert-success\">\n",
    "<font color='black'>    \n",
    "<br><b>Из графика видно, что самая популярная сеть в Москве - шоколадница. На втором и третьем месте пиццерии: доминос пицца и додо пицца. Меньше всего заведений в сети му-му.</b></font></div>"
   ]
  },
  {
   "cell_type": "markdown",
   "metadata": {},
   "source": [
    "#### Какие административные районы Москвы присутствуют в датасете? Отобразите общее количество заведений и количество заведений каждой категории по районам. Попробуйте проиллюстрировать эту информацию одним графиком."
   ]
  },
  {
   "cell_type": "code",
   "execution_count": null,
   "metadata": {},
   "outputs": [],
   "source": [
    "district_chain = df.groupby(['district', 'category', 'name']).agg({'rating' : 'median', 'address' : 'count'})\n",
    "district_chain = district_chain.sort_values('rating', ascending = False).reset_index()\n",
    "district_chain = district_chain.rename(columns={'address':'count'})\n",
    "district_chain = district_chain[district_chain['name'].isin(top_15['name'])]\n",
    "district_chain.head()"
   ]
  },
  {
   "cell_type": "code",
   "execution_count": null,
   "metadata": {},
   "outputs": [],
   "source": [
    "fig = px.bar(district_chain, # загружаем данные и заново их сортируем\n",
    "             x='count', # указываем столбец с данными для оси X\n",
    "             y='district', # указываем столбец с данными для оси Y                              \n",
    "             color='category'\n",
    "            )\n",
    "# оформляем график\n",
    "fig.update_layout(title='Количество заведений каждой категории по районам',\n",
    "                   xaxis_title='Количество заведений',\n",
    "                   yaxis_title='Название района',\n",
    "                   yaxis={'categoryorder':'total ascending'}\n",
    "                 )\n",
    "fig.show() # выводим график"
   ]
  },
  {
   "cell_type": "markdown",
   "metadata": {},
   "source": [
    "<div class=\"alert alert-success\">\n",
    "<font color='black'>    \n",
    "<br><b>В датасете представлено всего 9 административных районов Москвы.\n",
    "По графику видно, что больше всего заведений по всем категориям находится в Центральном административном округе. Больше всего в нем категорий кафе, кофейня и ресторан. Отчетливо прослеживается что категория заведений кафейня хорошо распределена по всем округам. Столовых меньше всего по всем округам. У ресторанов, пиццерий и кафе примерно одинаковое количество. Наименьшее количетсво заведений представлено в Северо-Западном администраивном округе. Категории быстрого питания наименее представлена в Центральном административном округе и более распространена в остальных округах.\n",
    "</b></font></div>"
   ]
  },
  {
   "cell_type": "markdown",
   "metadata": {},
   "source": [
    "#### Визуализируйте распределение средних рейтингов по категориям заведений. Сильно ли различаются усреднённые рейтинги в разных типах общепита?"
   ]
  },
  {
   "cell_type": "code",
   "execution_count": null,
   "metadata": {},
   "outputs": [],
   "source": [
    "rating = df.groupby('category').agg({'rating' : 'mean'}).round(1).sort_values('rating', ascending = False).reset_index()\n",
    "rating"
   ]
  },
  {
   "cell_type": "code",
   "execution_count": null,
   "metadata": {},
   "outputs": [],
   "source": [
    "fig = px.bar(rating, # загружаем данные и заново их сортируем\n",
    "             x='rating', # указываем столбец с данными для оси X\n",
    "             y='category', # указываем столбец с данными для оси Y\n",
    "             text='rating', # добавляем аргумент, который отобразит текст с информацией\n",
    "             color='category'                   \n",
    "            )\n",
    "# оформляем график\n",
    "fig.update_layout(title='Распределение средних рейтингов по категориям заведений',\n",
    "                   xaxis_title='Рейтинг',\n",
    "                   yaxis_title='Название категорий')\n",
    "fig.update_xaxes(range=[4, 4.5])\n",
    "fig.show() # выводим график"
   ]
  },
  {
   "cell_type": "markdown",
   "metadata": {},
   "source": [
    "<div class=\"alert alert-success\">\n",
    "<font color='black'>    \n",
    "<br><b>Анализируя график можно сделать вывод, что у категорий бар,паб самый высокий рейтинг 4.4. У пиццерий, ресторанов, кофеин и булочных примерно одинаковый рейтинг. Наименьший рейтинг у заведений быстрого питания.\n",
    "</b></font></div>"
   ]
  },
  {
   "cell_type": "markdown",
   "metadata": {},
   "source": [
    "#### Постройте фоновую картограмму (хороплет) со средним рейтингом заведений каждого района. Границы районов Москвы, которые встречаются в датасете"
   ]
  },
  {
   "cell_type": "code",
   "execution_count": null,
   "metadata": {},
   "outputs": [],
   "source": [
    "rating_1 = df.groupby('district', as_index=False)['rating'].agg('mean').round(1)\n",
    "rating_1"
   ]
  },
  {
   "cell_type": "code",
   "execution_count": null,
   "metadata": {},
   "outputs": [],
   "source": [
    "import json# подключаем модуль для работы с JSON-форматом\n",
    "with open('/datasets/admin_level_geomap.geojson', 'r') as f:\n",
    "    geo_json = json.load(f)# читаем файл и сохраняем в переменной"
   ]
  },
  {
   "cell_type": "code",
   "execution_count": null,
   "metadata": {},
   "outputs": [],
   "source": [
    "# импортируем карту и хороплет\n",
    "from folium import Map, Choropleth\n",
    "\n",
    "# загружаем JSON-файл с границами округов Москвы\n",
    "state_geo = '/datasets/admin_level_geomap.geojson'\n",
    "# moscow_lat - широта центра Москвы, moscow_lng - долгота центра Москвы\n",
    "moscow_lat, moscow_lng = 55.751244, 37.618423\n",
    "\n",
    "# создаём карту Москвы\n",
    "a = Map(location=[moscow_lat, moscow_lng], zoom_start=10)\n",
    "\n",
    "# создаём хороплет с помощью конструктора Choropleth и добавляем его на карту\n",
    "Choropleth(\n",
    "    geo_data=state_geo,\n",
    "    data=rating_1,\n",
    "    columns=['district', 'rating'],\n",
    "    key_on='feature.name',\n",
    "    legend_name='Средний рейтинг заведений по районам',\n",
    ").add_to(a)\n",
    "\n",
    "# выводим карту\n",
    "a"
   ]
  },
  {
   "cell_type": "markdown",
   "metadata": {},
   "source": [
    "<div class=\"alert alert-success\">\n",
    "<font color='black'>    \n",
    "<br><b>По карте видно, что самый высокий рейтинг в заведениях в Центральном админинстративном округе - 4.4. Самый низкий - в Юго-Восточном админинстратвном и Северо-Восточный административных округах- 4.1.\n",
    "</b></font></div>"
   ]
  },
  {
   "cell_type": "markdown",
   "metadata": {},
   "source": [
    "#### Отобразите все заведения датасета на карте с помощью кластеров средствами библиотеки folium."
   ]
  },
  {
   "cell_type": "code",
   "execution_count": null,
   "metadata": {},
   "outputs": [],
   "source": [
    "# импортируем карту и маркер\n",
    "from folium import Map, Marker\n",
    "# импортируем кластер\n",
    "from folium.plugins import MarkerCluster\n",
    "\n",
    "# moscow_lat - широта центра Москвы, moscow_lng - долгота центра Москвы\n",
    "moscow_lat, moscow_lng = 55.751244, 37.618423\n",
    "\n",
    "# создаём карту Москвы\n",
    "a = Map(location=[moscow_lat, moscow_lng], zoom_start=10)\n",
    "# создаём пустой кластер, добавляем его на карту\n",
    "marker_cluster = MarkerCluster().add_to(a)\n",
    "\n",
    "# пишем функцию, которая принимает строку датафрейма,\n",
    "# создаёт маркер в текущей точке и добавляет его в кластер marker_cluster\n",
    "def clusters(row):\n",
    "    Marker(\n",
    "        [row['lat'], row['lng']],\n",
    "        popup=f\"{row['name']} {row['rating']}\",\n",
    "    ).add_to(marker_cluster)\n",
    "\n",
    "# применяем функцию create_clusters() к каждой строке датафрейма\n",
    "df.apply(clusters, axis=1)\n",
    "\n",
    "# выводим карту\n",
    "a"
   ]
  },
  {
   "cell_type": "markdown",
   "metadata": {},
   "source": [
    "<div class=\"alert alert-success\">\n",
    "<font color='black'>    \n",
    "<br><b>Анализируя карту можно сделать вывод, что основная масса заведений сконцентрирована в центре города. Наименьшее количество заведений на севере и на юге города.</b></font></div>"
   ]
  },
  {
   "cell_type": "markdown",
   "metadata": {},
   "source": [
    "#### Найдите топ-15 улиц по количеству заведений. Постройте график распределения количества заведений и их категорий по этим улицам. Попробуйте проиллюстрировать эту информацию одним графиком."
   ]
  },
  {
   "cell_type": "code",
   "execution_count": null,
   "metadata": {},
   "outputs": [],
   "source": [
    "df_streets = df[df['street'].notnull()]\n",
    "df_streets_top15 = df_streets['street'].value_counts().reset_index().head(15)\n",
    "df_streets_top15.columns = ['street_name', 'count']\n",
    "df_streets_top15"
   ]
  },
  {
   "cell_type": "code",
   "execution_count": null,
   "metadata": {},
   "outputs": [],
   "source": [
    "#создадим таблицу с названиями улиц и категорий\n",
    "category_street = df.groupby(['street', 'category'])['name'].count().reset_index().sort_values('name', ascending=False)\n",
    "category_street.columns = ['street_name', 'category', 'count']\n",
    "category_street.head(10)"
   ]
  },
  {
   "cell_type": "code",
   "execution_count": null,
   "metadata": {},
   "outputs": [],
   "source": [
    "#оставим только улицы из топ 15\n",
    "category_street_top15 = category_street[category_street['street_name'].isin(df_streets_top15['street_name'])]\n",
    "category_street_top15.head()"
   ]
  },
  {
   "cell_type": "code",
   "execution_count": null,
   "metadata": {},
   "outputs": [],
   "source": [
    "fig = px.bar(category_street_top15, # загружаем данные и заново их сортируем\n",
    "             x='count', # указываем столбец с данными для оси X\n",
    "             y='street_name', # указываем столбец с данными для оси Y\n",
    "             #text='district', # добавляем аргумент, который отобразит текст с информацией\n",
    "             #barmode='group',                   \n",
    "             color='category'\n",
    "            )\n",
    "# оформляем график\n",
    "fig.update_layout(title='Количество заведений каждой категории по районам',\n",
    "                   xaxis_title='Количество заведений',\n",
    "                   yaxis_title='Название улиц',\n",
    "                   yaxis={'categoryorder':'total ascending'}\n",
    "                   #font=dict(size=8),\n",
    "                   #autosize=False,\n",
    "                   #width=1000,\n",
    "                   #height=800\n",
    "                 )\n",
    "fig.show() # выводим график"
   ]
  },
  {
   "cell_type": "markdown",
   "metadata": {},
   "source": [
    "<div class=\"alert alert-success\">\n",
    "<font color='black'>    \n",
    "<br><b>Из данных графика можно сделать вывод, что больше всего заведений расположено на проспекте Мира. Часто встречаются категории кафе, кофейни и рестораны. Столовых и булочных меньше всего. Далее по количеству заведений идет улица Профсоюзная. Меньше всего заведений на улице Миклухо-Маклая. Топ-3 популярных категорий кафе, кофейни и рестораны.</b></font></div>"
   ]
  },
  {
   "cell_type": "markdown",
   "metadata": {},
   "source": [
    "#### Найдите улицы, на которых находится только один объект общепита. Что можно сказать об этих заведениях?"
   ]
  },
  {
   "cell_type": "code",
   "execution_count": null,
   "metadata": {
    "scrolled": false
   },
   "outputs": [],
   "source": [
    "one = df['street'].value_counts().reset_index()\n",
    "one.columns = ['street_name', 'cafe_count']\n",
    "one = one[one['cafe_count'] == 1]\n",
    "one.head()"
   ]
  },
  {
   "cell_type": "code",
   "execution_count": null,
   "metadata": {},
   "outputs": [],
   "source": [
    "print('Итого улиц, на которых находится только один объект общепита -', len(one))"
   ]
  },
  {
   "cell_type": "code",
   "execution_count": null,
   "metadata": {},
   "outputs": [],
   "source": [
    "#добавим районы\n",
    "str_category = category_street[category_street['street_name'].isin(one['street_name'])]\n",
    "str_category = str_category.groupby('category')['street_name'].count().sort_values(ascending=False)\n",
    "str_category"
   ]
  },
  {
   "cell_type": "markdown",
   "metadata": {},
   "source": [
    "<div class=\"alert alert-success\">\n",
    "<font color='black'>    \n",
    "<br><b>Из сформированных таблиц видно, что 457 улиц имеют только одно заведение. Больше всего из них относятся к категории кафе - 159 заведений.</b></font></div>"
   ]
  },
  {
   "cell_type": "markdown",
   "metadata": {},
   "source": [
    "#### Значения средних чеков заведений хранятся в столбце middle_avg_bill. Эти числа показывают примерную стоимость заказа в рублях, которая чаще всего выражена диапазоном. Посчитайте медиану этого столбца для каждого района. Используйте это значение в качестве ценового индикатора района. Постройте фоновую картограмму (хороплет) с полученными значениями для каждого района. Проанализируйте цены в центральном административном округе и других. Как удалённость от центра влияет на цены в заведениях?"
   ]
  },
  {
   "cell_type": "code",
   "execution_count": null,
   "metadata": {},
   "outputs": [],
   "source": [
    "median_avg_bill = df.groupby('district')['middle_avg_bill'].median().reset_index()\n",
    "median_avg_bill"
   ]
  },
  {
   "cell_type": "code",
   "execution_count": null,
   "metadata": {
    "scrolled": false
   },
   "outputs": [],
   "source": [
    "# создаём карту Москвы\n",
    "b = Map(location=[moscow_lat, moscow_lng], zoom_start=10)\n",
    "\n",
    "# создаём хороплет с помощью конструктора Choropleth и добавляем его на карту\n",
    "Choropleth(\n",
    "    geo_data=state_geo,\n",
    "    data=median_avg_bill,\n",
    "    columns=['district', 'middle_avg_bill'],\n",
    "    key_on='feature.name',\n",
    "    legend_name='Средний чек заведений по районам',\n",
    ").add_to(b)\n",
    "\n",
    "# выводим карту\n",
    "b"
   ]
  },
  {
   "cell_type": "markdown",
   "metadata": {},
   "source": [
    "<div class=\"alert alert-success\">\n",
    "<font color='black'>    \n",
    "<br><b>По интерактивной карте видно, что самый высокий средний чек в Центральном и Западном административных округах. Самый маленький в Юго-Восточном  и Северо-Восточном административных округах. Средний чек округов вокруг центрального в среднем отличается практически в 2 раза.</b></font></div>"
   ]
  },
  {
   "cell_type": "markdown",
   "metadata": {},
   "source": [
    "<div class=\"alert alert-success\">\n",
    "<font color='black'>    \n",
    "<br><b>ОБЩИЙ ВЫВОД ИССЛЕДОВАНИЯ:</b>\n",
    "<br> - По результатам исследования известно, что по количеству заведений лидируют кафе с численностью 2366, немного меньше ресторан - 2031. На последнем месте булочная - 255. Кафе и рестораны составляют почти 52,6% от всех заведений. Кофейни, бары/пабы и пиццерии составляют 33,43% от общего числа заведений. На булочные, столовые и быстрое питание приходится 13,97%.   \n",
    "<br> - Больше всего посадочных мест в ресторанах, далее идут заведения быстрого питания, т.к. они больше всего распространены в Москве. Кафе и столовые располагают меньшим количеством мест.\n",
    "<br> - В Москве почти 62% заведений не являются сетевыми.\n",
    "<br> - Большинство за несетевыми заведениями за исключением: кофейня - количество сетевых немного больше. 713/688, пиццерия - сетевых заведений больше. 328/301, булочная - сетевых заметно больше. 156/99\n",
    "<br> - Самая популярная сеть в Москве - шоколадница. На втором и третьем месте пиццерии: доминос пицца и додо пицца. Меньше всего заведений в сети му-му.\n",
    "<br> - Всего представлено  9 административных районов Москвы. Больше всего заведений по всем категориям находится в Центральном административном округе. Больше всего в нем категорий кафе, кофейня и ресторан. Отчетливо прослеживается что категория заведений кафейня хорошо распределена по всем округам. Столовых меньше всего по всем округам. У ресторанов, пиццерий и кафе примерно одинаковое количество. Наименьшее количетсво заведений представлено в Северо-Западном администраивном округе. Категории быстрого питания наименее представлена в Центральном административном округе и более распространена в остальных округах.\n",
    "<br> -У категорий бар,паб самый высокий рейтинг 4.4. У пиццерий, ресторанов, кофеин и булочных примерно одинаковый рейтинг. Наименьший рейтинг у заведений быстрого питания.\n",
    "<br> - Самый высокий рейтинг в заведениях в Центральном админинстративном округе - 4.4. Самый низкий - в Юго-Восточном админинстратвном и Северо-Восточный административных округах- 4.1.\n",
    "<br> -Основная масса заведений сконцентрирована в центре города. Наименьшее количество заведений на севере и на юге города.\n",
    "<br> -  Из данных графика можно сделать вывод, что больше всего заведений расположено на проспекте Мира. Часто встречаются категории кафе, кофейни и рестораны. Столовых и булочных меньше всего. Далее по количеству заведений идет улица Профсоюзная. Меньше всего заведений на улице Миклухо-Маклая. Топ-3 популярных категорий кафе, кофейни и рестораны.\n",
    "<br> -457 улиц имеют только одно заведение. Больше всего из них относятся к категории кафе - 159 заведений.\n",
    "<br> -По интерактивной карте видно, что самый высокий средний чек в Центральном и Западном административных округах. Самый маленький в Юго-Восточном и Северо-Восточном административных округах. Средний чек округов вокруг центрального в среднем отличается практически в 2 раза.</font></div>"
   ]
  },
  {
   "cell_type": "markdown",
   "metadata": {},
   "source": [
    "### Детализируем исследование: открытие кофейни"
   ]
  },
  {
   "cell_type": "markdown",
   "metadata": {},
   "source": [
    "#### Сколько всего кофеен в датасете? В каких районах их больше всего, каковы особенности их расположения?"
   ]
  },
  {
   "cell_type": "code",
   "execution_count": null,
   "metadata": {},
   "outputs": [],
   "source": [
    "coffein = df[df['category'] == 'кофейня']\n",
    "print('Количество кофеин в датасете -', len(coffein))"
   ]
  },
  {
   "cell_type": "code",
   "execution_count": null,
   "metadata": {},
   "outputs": [],
   "source": [
    "# создаем карту\n",
    "с = Map(location=[moscow_lat, moscow_lng], zoom_start=10)\n",
    "# создаем пустой кластер и добавляем его на карту\n",
    "marker_cluster = MarkerCluster().add_to(с)\n",
    "\n",
    "# функция, которая принимает строку датафрейма,\n",
    "# создаёт маркер в текущей точке и добавляет его в кластер marker_cluster\n",
    "\n",
    "def create_clusters(row):\n",
    "    Marker(\n",
    "        [row['lat'], row['lng']],\n",
    "        popup=f\"{row['name']} {row['rating']}\",\n",
    "    ).add_to(marker_cluster)\n",
    "\n",
    "# применяем функцию create_clusters() к каждой строке датафрейма\n",
    "coffein.apply(create_clusters, axis=1)\n",
    "\n",
    "# выводим карту\n",
    "с"
   ]
  },
  {
   "cell_type": "markdown",
   "metadata": {},
   "source": [
    "<div class=\"alert alert-success\">\n",
    "<font color='black'>    \n",
    "<br><b>Всего в датасете представлено 1401 заведений в категории кофейня. Большая часть кофеин располагается в Центральном административном округе. Наименьшее число кофеин находится в Восточном и Южной административных округах.</b></font></div>"
   ]
  },
  {
   "cell_type": "markdown",
   "metadata": {},
   "source": [
    "#### Есть ли круглосуточные кофейни?"
   ]
  },
  {
   "cell_type": "code",
   "execution_count": null,
   "metadata": {},
   "outputs": [],
   "source": [
    "coffein_24_7 = coffein[coffein['is_24/7'] == True]\n",
    "print('Количество круглосуточных кофеен в городе - ', len(coffein_24_7))"
   ]
  },
  {
   "cell_type": "code",
   "execution_count": null,
   "metadata": {},
   "outputs": [],
   "source": [
    "# создаём карту Москвы\n",
    "d = Map(location=[moscow_lat, moscow_lng], zoom_start=10)\n",
    "# создаём пустой кластер, добавляем его на карту\n",
    "marker_cluster = MarkerCluster().add_to(d)\n",
    "\n",
    "# пишем функцию, которая принимает строку датафрейма,\n",
    "# создаёт маркер в текущей точке и добавляет его в кластер marker_cluster\n",
    "def create_clusters(row):\n",
    "    Marker(\n",
    "        [row['lat'], row['lng']],\n",
    "        popup=f\"{row['name']} {row['rating']}\",\n",
    "    ).add_to(marker_cluster)\n",
    "\n",
    "# применяем функцию create_clusters() к каждой строке датафрейма\n",
    "coffein_24_7.apply(create_clusters, axis=1)\n",
    "\n",
    "# выводим карту\n",
    "d"
   ]
  },
  {
   "cell_type": "markdown",
   "metadata": {},
   "source": [
    "<div class=\"alert alert-success\">\n",
    "<font color='black'>    \n",
    "<br><b> Количество круглосуточных кофеен в городе - 59, большинство из которых в центре города.</b></font></div>"
   ]
  },
  {
   "cell_type": "markdown",
   "metadata": {},
   "source": [
    "#### Какие у кофеен рейтинги? Как они распределяются по районам?"
   ]
  },
  {
   "cell_type": "code",
   "execution_count": null,
   "metadata": {},
   "outputs": [],
   "source": [
    "rating = coffein.groupby('district', as_index=False)['rating'].agg('mean').round(2).sort_values('rating', ascending=False)\n",
    "rating"
   ]
  },
  {
   "cell_type": "code",
   "execution_count": null,
   "metadata": {},
   "outputs": [],
   "source": [
    "# создаём карту\n",
    "e = Map(location=[moscow_lat, moscow_lng], zoom_start=10)\n",
    "\n",
    "# создаём хороплет с помощью конструктора Choropleth и добавляем его на карту\n",
    "Choropleth(\n",
    "    geo_data=state_geo,\n",
    "    data = rating,\n",
    "    columns=['district', 'rating'],\n",
    "    key_on='feature.name',\n",
    "    legend_name='Средний рейтинг заведений по районам',\n",
    ").add_to(e)\n",
    "\n",
    "# выводим карту\n",
    "e"
   ]
  },
  {
   "cell_type": "markdown",
   "metadata": {},
   "source": [
    "<div class=\"alert alert-success\">\n",
    "<font color='black'>    \n",
    "<br><b>По карте видно, что самый высокий рейтинг в  Центральном административном и Северо-Западном административных округах. Самый низкий рейтинг у Западного административного округа.</b></font></div>"
   ]
  },
  {
   "cell_type": "markdown",
   "metadata": {},
   "source": [
    "#### На какую стоимость чашки капучино стоит ориентироваться при открытии и почему?"
   ]
  },
  {
   "cell_type": "code",
   "execution_count": null,
   "metadata": {},
   "outputs": [],
   "source": [
    "cup_of_cappuccino = coffein.groupby('district', as_index=False)['middle_coffee_cup'].agg('mean').round(0).sort_values('middle_coffee_cup', ascending=False)\n",
    "print(cup_of_cappuccino)\n",
    "price = round(cup_of_cappuccino['middle_coffee_cup'].mean(), 0)\n",
    "print(f'Средняя стоимость чашки:', price)"
   ]
  },
  {
   "cell_type": "code",
   "execution_count": null,
   "metadata": {},
   "outputs": [],
   "source": [
    "g = Map(location=[moscow_lat, moscow_lng], zoom_start=10)\n",
    "\n",
    "# создаём хороплет с помощью конструктора Choropleth и добавляем его на карту\n",
    "Choropleth(\n",
    "    geo_data=state_geo,\n",
    "    data=cup_of_cappuccino,\n",
    "    columns=['district', 'middle_coffee_cup'],\n",
    "    key_on='feature.name',\n",
    "    legend_name='Средняя цена чашки кофе по районам',\n",
    ").add_to(g)\n",
    "\n",
    "# выводим карту\n",
    "g"
   ]
  },
  {
   "cell_type": "markdown",
   "metadata": {},
   "source": [
    "<div class=\"alert alert-success\">\n",
    "<font color='black'>    \n",
    "<br><b>Дороже всего чашка кофе в Западном и Центральном административных округах. Дешевле всего в Юго-Восточном административном округе. Средняя стоимость чашки кофе - 171.</b></font></div>"
   ]
  },
  {
   "cell_type": "markdown",
   "metadata": {},
   "source": [
    "<div class=\"alert alert-success\">\n",
    "<font color='black'>    \n",
    "<br><b>Рекомендации по открытию нового заведения:</b>\n",
    "<br>Исходя из логики что самые популярные категории заведений: кафе, ресторан и кофейни, можно сделать вывод, что открытие заведения из вышеуказанных категорий может оказаться наимболее успешным предприятием;\n",
    "<br>Териториально для открытия можно рассмотреть Центральный и Западный административные округа. Средний чек здесь наиболее высок по сравнению с остальными;\n",
    "<br>Можно рассмотреть открытие заведения на одной из топ-15 улиц по количеству заведений, такие как  - Проект Мира. Высокая конкуренция сопровождается так же высоким траффиком.\n",
    "<br>По количетсву посадочных мест стоит ориентироваться на цифру до 100 мест;\n",
    "<br>Средняя цена на капучино должна быть от 170 до 175 рублей, что попадает в диапазон средних значений по городу.</font></div>"
   ]
  },
  {
   "cell_type": "markdown",
   "metadata": {},
   "source": [
    "<b>Презинтация: https://disk.yandex.ru/d/kD48ygZ9jcfHIw</b>"
   ]
  }
 ],
 "metadata": {
  "ExecuteTimeLog": [
   {
    "duration": 1356,
    "start_time": "2023-05-11T05:30:19.896Z"
   },
   {
    "duration": 3,
    "start_time": "2023-05-11T05:30:29.463Z"
   },
   {
    "duration": 127,
    "start_time": "2023-05-11T05:36:55.659Z"
   },
   {
    "duration": 14,
    "start_time": "2023-05-11T05:37:12.775Z"
   },
   {
    "duration": 35,
    "start_time": "2023-05-11T05:52:57.846Z"
   },
   {
    "duration": 6,
    "start_time": "2023-05-11T06:02:30.279Z"
   },
   {
    "duration": 5,
    "start_time": "2023-05-11T06:03:35.822Z"
   },
   {
    "duration": 7,
    "start_time": "2023-05-11T06:08:00.491Z"
   },
   {
    "duration": 10,
    "start_time": "2023-05-11T06:09:04.299Z"
   },
   {
    "duration": 8,
    "start_time": "2023-05-11T06:16:40.067Z"
   },
   {
    "duration": 8,
    "start_time": "2023-05-11T06:22:43.961Z"
   },
   {
    "duration": 8,
    "start_time": "2023-05-11T06:23:01.232Z"
   },
   {
    "duration": 127,
    "start_time": "2023-05-11T06:31:31.548Z"
   },
   {
    "duration": 3,
    "start_time": "2023-05-11T06:31:39.487Z"
   },
   {
    "duration": 3,
    "start_time": "2023-05-11T06:31:42.519Z"
   },
   {
    "duration": 79,
    "start_time": "2023-05-11T06:31:42.524Z"
   },
   {
    "duration": 11,
    "start_time": "2023-05-11T06:31:42.605Z"
   },
   {
    "duration": 31,
    "start_time": "2023-05-11T06:31:42.618Z"
   },
   {
    "duration": 5,
    "start_time": "2023-05-11T06:31:42.650Z"
   },
   {
    "duration": 7,
    "start_time": "2023-05-11T06:31:42.657Z"
   },
   {
    "duration": 37,
    "start_time": "2023-05-11T06:31:42.665Z"
   },
   {
    "duration": 7,
    "start_time": "2023-05-11T06:31:42.704Z"
   },
   {
    "duration": 15,
    "start_time": "2023-05-11T06:33:06.112Z"
   },
   {
    "duration": 16,
    "start_time": "2023-05-11T06:33:51.391Z"
   },
   {
    "duration": 8,
    "start_time": "2023-05-11T06:38:52.454Z"
   },
   {
    "duration": 3,
    "start_time": "2023-05-11T06:39:20.483Z"
   },
   {
    "duration": 21,
    "start_time": "2023-05-11T06:39:46.061Z"
   },
   {
    "duration": 3,
    "start_time": "2023-05-11T07:40:52.489Z"
   },
   {
    "duration": 22,
    "start_time": "2023-05-11T07:40:55.115Z"
   },
   {
    "duration": 12,
    "start_time": "2023-05-11T07:50:10.577Z"
   },
   {
    "duration": 9,
    "start_time": "2023-05-11T07:50:20.664Z"
   },
   {
    "duration": 15,
    "start_time": "2023-05-11T07:54:55.692Z"
   },
   {
    "duration": 8,
    "start_time": "2023-05-11T09:07:05.551Z"
   },
   {
    "duration": 438,
    "start_time": "2023-05-11T09:07:40.263Z"
   },
   {
    "duration": 526,
    "start_time": "2023-05-11T09:07:57.810Z"
   },
   {
    "duration": 566,
    "start_time": "2023-05-11T09:08:12.644Z"
   },
   {
    "duration": 620,
    "start_time": "2023-05-11T09:08:30.926Z"
   },
   {
    "duration": 610,
    "start_time": "2023-05-11T09:08:43.462Z"
   },
   {
    "duration": 517,
    "start_time": "2023-05-11T09:08:57.105Z"
   },
   {
    "duration": 465,
    "start_time": "2023-05-11T09:09:05.063Z"
   },
   {
    "duration": 487,
    "start_time": "2023-05-11T09:09:27.417Z"
   },
   {
    "duration": 490,
    "start_time": "2023-05-11T09:09:37.493Z"
   },
   {
    "duration": 39,
    "start_time": "2023-05-11T10:00:23.938Z"
   },
   {
    "duration": 7,
    "start_time": "2023-05-11T10:01:49.703Z"
   },
   {
    "duration": 7,
    "start_time": "2023-05-11T10:02:08.758Z"
   },
   {
    "duration": 5,
    "start_time": "2023-05-11T10:04:30.783Z"
   },
   {
    "duration": 7,
    "start_time": "2023-05-11T10:05:05.590Z"
   },
   {
    "duration": 5,
    "start_time": "2023-05-11T10:05:28.445Z"
   },
   {
    "duration": 103,
    "start_time": "2023-05-11T10:05:39.832Z"
   },
   {
    "duration": 4,
    "start_time": "2023-05-11T10:06:03.344Z"
   },
   {
    "duration": 7,
    "start_time": "2023-05-11T10:06:07.814Z"
   },
   {
    "duration": 6,
    "start_time": "2023-05-11T10:06:41.013Z"
   },
   {
    "duration": 7,
    "start_time": "2023-05-11T10:09:30.643Z"
   },
   {
    "duration": 6,
    "start_time": "2023-05-11T10:09:51.186Z"
   },
   {
    "duration": 6,
    "start_time": "2023-05-11T10:10:04.654Z"
   },
   {
    "duration": 7,
    "start_time": "2023-05-11T10:10:06.507Z"
   },
   {
    "duration": 6,
    "start_time": "2023-05-11T10:11:52.650Z"
   },
   {
    "duration": 10,
    "start_time": "2023-05-11T10:12:02.770Z"
   },
   {
    "duration": 10,
    "start_time": "2023-05-11T10:12:45.152Z"
   },
   {
    "duration": 4,
    "start_time": "2023-05-11T10:12:48.864Z"
   },
   {
    "duration": 97,
    "start_time": "2023-05-11T10:12:48.870Z"
   },
   {
    "duration": 15,
    "start_time": "2023-05-11T10:12:48.969Z"
   },
   {
    "duration": 42,
    "start_time": "2023-05-11T10:12:48.996Z"
   },
   {
    "duration": 7,
    "start_time": "2023-05-11T10:12:49.039Z"
   },
   {
    "duration": 21,
    "start_time": "2023-05-11T10:12:49.048Z"
   },
   {
    "duration": 33,
    "start_time": "2023-05-11T10:12:49.071Z"
   },
   {
    "duration": 10,
    "start_time": "2023-05-11T10:12:49.106Z"
   },
   {
    "duration": 24,
    "start_time": "2023-05-11T10:12:49.118Z"
   },
   {
    "duration": 8,
    "start_time": "2023-05-11T10:12:49.144Z"
   },
   {
    "duration": 3,
    "start_time": "2023-05-11T10:12:49.154Z"
   },
   {
    "duration": 70,
    "start_time": "2023-05-11T10:12:49.159Z"
   },
   {
    "duration": 13,
    "start_time": "2023-05-11T10:12:49.231Z"
   },
   {
    "duration": 8,
    "start_time": "2023-05-11T10:12:49.245Z"
   },
   {
    "duration": 635,
    "start_time": "2023-05-11T10:12:49.255Z"
   },
   {
    "duration": 11,
    "start_time": "2023-05-11T10:12:49.896Z"
   },
   {
    "duration": 10,
    "start_time": "2023-05-11T10:12:49.909Z"
   },
   {
    "duration": 9,
    "start_time": "2023-05-11T10:12:49.921Z"
   },
   {
    "duration": 8,
    "start_time": "2023-05-11T10:12:49.932Z"
   },
   {
    "duration": 19,
    "start_time": "2023-05-11T10:12:49.942Z"
   },
   {
    "duration": 54,
    "start_time": "2023-05-11T10:12:49.963Z"
   },
   {
    "duration": 6,
    "start_time": "2023-05-11T10:17:19.015Z"
   },
   {
    "duration": 111,
    "start_time": "2023-05-11T10:17:22.716Z"
   },
   {
    "duration": 186,
    "start_time": "2023-05-11T10:17:59.976Z"
   },
   {
    "duration": 5,
    "start_time": "2023-05-11T10:18:37.000Z"
   },
   {
    "duration": 86,
    "start_time": "2023-05-11T10:18:40.418Z"
   },
   {
    "duration": 4,
    "start_time": "2023-05-11T10:18:56.719Z"
   },
   {
    "duration": 91,
    "start_time": "2023-05-11T10:18:56.725Z"
   },
   {
    "duration": 13,
    "start_time": "2023-05-11T10:18:56.818Z"
   },
   {
    "duration": 41,
    "start_time": "2023-05-11T10:18:56.833Z"
   },
   {
    "duration": 6,
    "start_time": "2023-05-11T10:18:56.876Z"
   },
   {
    "duration": 10,
    "start_time": "2023-05-11T10:18:56.897Z"
   },
   {
    "duration": 16,
    "start_time": "2023-05-11T10:18:56.909Z"
   },
   {
    "duration": 12,
    "start_time": "2023-05-11T10:18:56.927Z"
   },
   {
    "duration": 16,
    "start_time": "2023-05-11T10:18:56.940Z"
   },
   {
    "duration": 10,
    "start_time": "2023-05-11T10:18:56.957Z"
   },
   {
    "duration": 30,
    "start_time": "2023-05-11T10:18:56.968Z"
   },
   {
    "duration": 26,
    "start_time": "2023-05-11T10:18:57.010Z"
   },
   {
    "duration": 21,
    "start_time": "2023-05-11T10:18:57.037Z"
   },
   {
    "duration": 9,
    "start_time": "2023-05-11T10:18:57.061Z"
   },
   {
    "duration": 580,
    "start_time": "2023-05-11T10:18:57.072Z"
   },
   {
    "duration": 7,
    "start_time": "2023-05-11T10:18:57.654Z"
   },
   {
    "duration": 7,
    "start_time": "2023-05-11T10:18:57.663Z"
   },
   {
    "duration": 15,
    "start_time": "2023-05-11T10:18:57.696Z"
   },
   {
    "duration": 7,
    "start_time": "2023-05-11T10:18:57.715Z"
   },
   {
    "duration": 15,
    "start_time": "2023-05-11T10:18:57.724Z"
   },
   {
    "duration": 2373,
    "start_time": "2023-05-11T10:18:57.741Z"
   },
   {
    "duration": 4,
    "start_time": "2023-05-11T10:21:38.620Z"
   },
   {
    "duration": 74,
    "start_time": "2023-05-11T10:21:40.859Z"
   },
   {
    "duration": 26,
    "start_time": "2023-05-11T10:22:04.295Z"
   },
   {
    "duration": 26,
    "start_time": "2023-05-11T10:22:11.581Z"
   },
   {
    "duration": 24,
    "start_time": "2023-05-11T10:22:58.808Z"
   },
   {
    "duration": 17,
    "start_time": "2023-05-11T10:30:16.863Z"
   },
   {
    "duration": 19,
    "start_time": "2023-05-11T10:30:20.061Z"
   },
   {
    "duration": 25,
    "start_time": "2023-05-11T10:30:31.065Z"
   },
   {
    "duration": 4,
    "start_time": "2023-05-11T10:30:48.747Z"
   },
   {
    "duration": 86,
    "start_time": "2023-05-11T10:30:48.754Z"
   },
   {
    "duration": 14,
    "start_time": "2023-05-11T10:30:48.842Z"
   },
   {
    "duration": 48,
    "start_time": "2023-05-11T10:30:48.859Z"
   },
   {
    "duration": 7,
    "start_time": "2023-05-11T10:30:48.908Z"
   },
   {
    "duration": 13,
    "start_time": "2023-05-11T10:30:48.917Z"
   },
   {
    "duration": 9,
    "start_time": "2023-05-11T10:30:48.932Z"
   },
   {
    "duration": 12,
    "start_time": "2023-05-11T10:30:48.944Z"
   },
   {
    "duration": 56,
    "start_time": "2023-05-11T10:30:48.958Z"
   },
   {
    "duration": 9,
    "start_time": "2023-05-11T10:30:49.017Z"
   },
   {
    "duration": 6,
    "start_time": "2023-05-11T10:30:49.029Z"
   },
   {
    "duration": 25,
    "start_time": "2023-05-11T10:30:49.037Z"
   },
   {
    "duration": 37,
    "start_time": "2023-05-11T10:30:49.064Z"
   },
   {
    "duration": 31,
    "start_time": "2023-05-11T10:30:49.102Z"
   },
   {
    "duration": 538,
    "start_time": "2023-05-11T10:30:49.135Z"
   },
   {
    "duration": 5,
    "start_time": "2023-05-11T10:30:49.675Z"
   },
   {
    "duration": 22,
    "start_time": "2023-05-11T10:30:49.682Z"
   },
   {
    "duration": 15,
    "start_time": "2023-05-11T10:30:49.707Z"
   },
   {
    "duration": 9,
    "start_time": "2023-05-11T10:30:49.724Z"
   },
   {
    "duration": 13,
    "start_time": "2023-05-11T10:30:49.735Z"
   },
   {
    "duration": 22,
    "start_time": "2023-05-11T10:30:49.749Z"
   },
   {
    "duration": 44,
    "start_time": "2023-05-11T10:30:49.773Z"
   },
   {
    "duration": 73,
    "start_time": "2023-05-11T10:32:48.310Z"
   },
   {
    "duration": 9,
    "start_time": "2023-05-11T10:32:56.124Z"
   },
   {
    "duration": 6,
    "start_time": "2023-05-11T10:32:58.927Z"
   },
   {
    "duration": 4,
    "start_time": "2023-05-11T10:33:04.976Z"
   },
   {
    "duration": 95,
    "start_time": "2023-05-11T10:33:04.982Z"
   },
   {
    "duration": 12,
    "start_time": "2023-05-11T10:33:05.078Z"
   },
   {
    "duration": 48,
    "start_time": "2023-05-11T10:33:05.092Z"
   },
   {
    "duration": 6,
    "start_time": "2023-05-11T10:33:05.142Z"
   },
   {
    "duration": 8,
    "start_time": "2023-05-11T10:33:05.149Z"
   },
   {
    "duration": 13,
    "start_time": "2023-05-11T10:33:05.158Z"
   },
   {
    "duration": 32,
    "start_time": "2023-05-11T10:33:05.172Z"
   },
   {
    "duration": 24,
    "start_time": "2023-05-11T10:33:05.206Z"
   },
   {
    "duration": 9,
    "start_time": "2023-05-11T10:33:05.231Z"
   },
   {
    "duration": 10,
    "start_time": "2023-05-11T10:33:05.242Z"
   },
   {
    "duration": 22,
    "start_time": "2023-05-11T10:33:05.254Z"
   },
   {
    "duration": 24,
    "start_time": "2023-05-11T10:33:05.278Z"
   },
   {
    "duration": 10,
    "start_time": "2023-05-11T10:33:05.308Z"
   },
   {
    "duration": 505,
    "start_time": "2023-05-11T10:33:05.319Z"
   },
   {
    "duration": 5,
    "start_time": "2023-05-11T10:33:05.826Z"
   },
   {
    "duration": 8,
    "start_time": "2023-05-11T10:33:05.833Z"
   },
   {
    "duration": 16,
    "start_time": "2023-05-11T10:33:05.842Z"
   },
   {
    "duration": 10,
    "start_time": "2023-05-11T10:33:05.860Z"
   },
   {
    "duration": 19,
    "start_time": "2023-05-11T10:33:05.872Z"
   },
   {
    "duration": 29,
    "start_time": "2023-05-11T10:33:05.894Z"
   },
   {
    "duration": 22,
    "start_time": "2023-05-11T10:33:05.925Z"
   },
   {
    "duration": 9,
    "start_time": "2023-05-11T10:38:47.575Z"
   },
   {
    "duration": 17,
    "start_time": "2023-05-11T10:39:00.923Z"
   },
   {
    "duration": 8,
    "start_time": "2023-05-11T10:39:06.818Z"
   },
   {
    "duration": 92,
    "start_time": "2023-05-11T10:39:06.829Z"
   },
   {
    "duration": 24,
    "start_time": "2023-05-11T10:39:06.923Z"
   },
   {
    "duration": 71,
    "start_time": "2023-05-11T10:39:06.950Z"
   },
   {
    "duration": 10,
    "start_time": "2023-05-11T10:39:07.026Z"
   },
   {
    "duration": 12,
    "start_time": "2023-05-11T10:39:07.038Z"
   },
   {
    "duration": 11,
    "start_time": "2023-05-11T10:39:07.052Z"
   },
   {
    "duration": 8,
    "start_time": "2023-05-11T10:39:07.065Z"
   },
   {
    "duration": 15,
    "start_time": "2023-05-11T10:39:07.075Z"
   },
   {
    "duration": 24,
    "start_time": "2023-05-11T10:39:07.092Z"
   },
   {
    "duration": 7,
    "start_time": "2023-05-11T10:39:07.118Z"
   },
   {
    "duration": 37,
    "start_time": "2023-05-11T10:39:07.128Z"
   },
   {
    "duration": 11,
    "start_time": "2023-05-11T10:39:07.168Z"
   },
   {
    "duration": 35,
    "start_time": "2023-05-11T10:39:07.181Z"
   },
   {
    "duration": 704,
    "start_time": "2023-05-11T10:39:07.218Z"
   },
   {
    "duration": 14,
    "start_time": "2023-05-11T10:39:07.934Z"
   },
   {
    "duration": 11,
    "start_time": "2023-05-11T10:39:07.951Z"
   },
   {
    "duration": 7,
    "start_time": "2023-05-11T10:39:07.964Z"
   },
   {
    "duration": 5,
    "start_time": "2023-05-11T10:39:07.972Z"
   },
   {
    "duration": 11,
    "start_time": "2023-05-11T10:39:07.979Z"
   },
   {
    "duration": 30,
    "start_time": "2023-05-11T10:39:07.991Z"
   },
   {
    "duration": 57,
    "start_time": "2023-05-11T10:39:08.023Z"
   },
   {
    "duration": 12,
    "start_time": "2023-05-11T11:07:15.975Z"
   },
   {
    "duration": 392,
    "start_time": "2023-05-11T11:07:28.132Z"
   },
   {
    "duration": 1721,
    "start_time": "2023-05-11T11:07:58.524Z"
   },
   {
    "duration": 103,
    "start_time": "2023-05-11T11:10:12.357Z"
   },
   {
    "duration": 62,
    "start_time": "2023-05-11T11:10:26.450Z"
   },
   {
    "duration": 12,
    "start_time": "2023-05-11T11:23:30.025Z"
   },
   {
    "duration": 5,
    "start_time": "2023-05-11T11:23:33.830Z"
   },
   {
    "duration": 100,
    "start_time": "2023-05-11T11:23:33.838Z"
   },
   {
    "duration": 18,
    "start_time": "2023-05-11T11:23:33.940Z"
   },
   {
    "duration": 61,
    "start_time": "2023-05-11T11:23:33.961Z"
   },
   {
    "duration": 9,
    "start_time": "2023-05-11T11:23:34.024Z"
   },
   {
    "duration": 8,
    "start_time": "2023-05-11T11:23:34.036Z"
   },
   {
    "duration": 18,
    "start_time": "2023-05-11T11:23:34.047Z"
   },
   {
    "duration": 36,
    "start_time": "2023-05-11T11:23:34.067Z"
   },
   {
    "duration": 38,
    "start_time": "2023-05-11T11:23:34.106Z"
   },
   {
    "duration": 12,
    "start_time": "2023-05-11T11:23:34.148Z"
   },
   {
    "duration": 4,
    "start_time": "2023-05-11T11:23:34.163Z"
   },
   {
    "duration": 58,
    "start_time": "2023-05-11T11:23:34.170Z"
   },
   {
    "duration": 19,
    "start_time": "2023-05-11T11:23:34.231Z"
   },
   {
    "duration": 13,
    "start_time": "2023-05-11T11:23:34.253Z"
   },
   {
    "duration": 880,
    "start_time": "2023-05-11T11:23:34.268Z"
   },
   {
    "duration": 8,
    "start_time": "2023-05-11T11:23:35.150Z"
   },
   {
    "duration": 8,
    "start_time": "2023-05-11T11:23:35.160Z"
   },
   {
    "duration": 40,
    "start_time": "2023-05-11T11:23:35.170Z"
   },
   {
    "duration": 7,
    "start_time": "2023-05-11T11:23:35.217Z"
   },
   {
    "duration": 23,
    "start_time": "2023-05-11T11:23:35.226Z"
   },
   {
    "duration": 30,
    "start_time": "2023-05-11T11:23:35.251Z"
   },
   {
    "duration": 41,
    "start_time": "2023-05-11T11:23:35.299Z"
   },
   {
    "duration": 18,
    "start_time": "2023-05-11T11:23:35.343Z"
   },
   {
    "duration": 38,
    "start_time": "2023-05-11T11:23:35.364Z"
   },
   {
    "duration": 98,
    "start_time": "2023-05-11T11:23:35.404Z"
   },
   {
    "duration": 5,
    "start_time": "2023-05-11T11:24:10.420Z"
   },
   {
    "duration": 88,
    "start_time": "2023-05-11T11:24:10.427Z"
   },
   {
    "duration": 22,
    "start_time": "2023-05-11T11:24:10.517Z"
   },
   {
    "duration": 34,
    "start_time": "2023-05-11T11:24:10.541Z"
   },
   {
    "duration": 24,
    "start_time": "2023-05-11T11:24:10.578Z"
   },
   {
    "duration": 12,
    "start_time": "2023-05-11T11:24:10.604Z"
   },
   {
    "duration": 15,
    "start_time": "2023-05-11T11:24:10.618Z"
   },
   {
    "duration": 15,
    "start_time": "2023-05-11T11:24:10.635Z"
   },
   {
    "duration": 55,
    "start_time": "2023-05-11T11:24:10.653Z"
   },
   {
    "duration": 15,
    "start_time": "2023-05-11T11:24:10.711Z"
   },
   {
    "duration": 3,
    "start_time": "2023-05-11T11:24:10.729Z"
   },
   {
    "duration": 33,
    "start_time": "2023-05-11T11:24:10.734Z"
   },
   {
    "duration": 41,
    "start_time": "2023-05-11T11:24:10.769Z"
   },
   {
    "duration": 19,
    "start_time": "2023-05-11T11:24:10.815Z"
   },
   {
    "duration": 594,
    "start_time": "2023-05-11T11:24:10.837Z"
   },
   {
    "duration": 7,
    "start_time": "2023-05-11T11:24:11.443Z"
   },
   {
    "duration": 41,
    "start_time": "2023-05-11T11:24:11.452Z"
   },
   {
    "duration": 22,
    "start_time": "2023-05-11T11:24:11.499Z"
   },
   {
    "duration": 10,
    "start_time": "2023-05-11T11:24:11.523Z"
   },
   {
    "duration": 5,
    "start_time": "2023-05-11T11:24:11.535Z"
   },
   {
    "duration": 29,
    "start_time": "2023-05-11T11:24:11.542Z"
   },
   {
    "duration": 21,
    "start_time": "2023-05-11T11:24:11.573Z"
   },
   {
    "duration": 16,
    "start_time": "2023-05-11T11:24:11.601Z"
   },
   {
    "duration": 108,
    "start_time": "2023-05-11T11:24:11.625Z"
   },
   {
    "duration": 51,
    "start_time": "2023-05-11T11:24:11.735Z"
   },
   {
    "duration": 4,
    "start_time": "2023-05-11T11:24:35.266Z"
   },
   {
    "duration": 91,
    "start_time": "2023-05-11T11:24:35.273Z"
   },
   {
    "duration": 16,
    "start_time": "2023-05-11T11:24:35.366Z"
   },
   {
    "duration": 62,
    "start_time": "2023-05-11T11:24:35.384Z"
   },
   {
    "duration": 17,
    "start_time": "2023-05-11T11:24:35.448Z"
   },
   {
    "duration": 18,
    "start_time": "2023-05-11T11:24:35.469Z"
   },
   {
    "duration": 30,
    "start_time": "2023-05-11T11:24:35.489Z"
   },
   {
    "duration": 32,
    "start_time": "2023-05-11T11:24:35.521Z"
   },
   {
    "duration": 25,
    "start_time": "2023-05-11T11:24:35.559Z"
   },
   {
    "duration": 38,
    "start_time": "2023-05-11T11:24:35.588Z"
   },
   {
    "duration": 13,
    "start_time": "2023-05-11T11:24:35.628Z"
   },
   {
    "duration": 52,
    "start_time": "2023-05-11T11:24:35.644Z"
   },
   {
    "duration": 17,
    "start_time": "2023-05-11T11:24:35.697Z"
   },
   {
    "duration": 17,
    "start_time": "2023-05-11T11:24:35.717Z"
   },
   {
    "duration": 736,
    "start_time": "2023-05-11T11:24:35.736Z"
   },
   {
    "duration": 7,
    "start_time": "2023-05-11T11:24:36.475Z"
   },
   {
    "duration": 16,
    "start_time": "2023-05-11T11:24:36.496Z"
   },
   {
    "duration": 15,
    "start_time": "2023-05-11T11:24:36.514Z"
   },
   {
    "duration": 8,
    "start_time": "2023-05-11T11:24:36.531Z"
   },
   {
    "duration": 20,
    "start_time": "2023-05-11T11:24:36.542Z"
   },
   {
    "duration": 54,
    "start_time": "2023-05-11T11:24:36.565Z"
   },
   {
    "duration": 32,
    "start_time": "2023-05-11T11:24:36.621Z"
   },
   {
    "duration": 61,
    "start_time": "2023-05-11T11:24:36.655Z"
   },
   {
    "duration": 14,
    "start_time": "2023-05-11T11:24:36.719Z"
   },
   {
    "duration": 97,
    "start_time": "2023-05-11T11:24:36.735Z"
   },
   {
    "duration": 7,
    "start_time": "2023-05-11T11:25:58.938Z"
   },
   {
    "duration": 6,
    "start_time": "2023-05-11T11:26:41.428Z"
   },
   {
    "duration": 97,
    "start_time": "2023-05-11T11:26:41.437Z"
   },
   {
    "duration": 26,
    "start_time": "2023-05-11T11:26:41.537Z"
   },
   {
    "duration": 60,
    "start_time": "2023-05-11T11:26:41.566Z"
   },
   {
    "duration": 11,
    "start_time": "2023-05-11T11:26:41.629Z"
   },
   {
    "duration": 9,
    "start_time": "2023-05-11T11:26:41.642Z"
   },
   {
    "duration": 37,
    "start_time": "2023-05-11T11:26:41.653Z"
   },
   {
    "duration": 17,
    "start_time": "2023-05-11T11:26:41.699Z"
   },
   {
    "duration": 19,
    "start_time": "2023-05-11T11:26:41.721Z"
   },
   {
    "duration": 14,
    "start_time": "2023-05-11T11:26:41.742Z"
   },
   {
    "duration": 4,
    "start_time": "2023-05-11T11:26:41.759Z"
   },
   {
    "duration": 64,
    "start_time": "2023-05-11T11:26:41.765Z"
   },
   {
    "duration": 11,
    "start_time": "2023-05-11T11:26:41.831Z"
   },
   {
    "duration": 11,
    "start_time": "2023-05-11T11:26:41.845Z"
   },
   {
    "duration": 572,
    "start_time": "2023-05-11T11:26:41.858Z"
   },
   {
    "duration": 6,
    "start_time": "2023-05-11T11:26:42.432Z"
   },
   {
    "duration": 20,
    "start_time": "2023-05-11T11:26:42.441Z"
   },
   {
    "duration": 20,
    "start_time": "2023-05-11T11:26:42.463Z"
   },
   {
    "duration": 21,
    "start_time": "2023-05-11T11:26:42.485Z"
   },
   {
    "duration": 33,
    "start_time": "2023-05-11T11:26:42.512Z"
   },
   {
    "duration": 18,
    "start_time": "2023-05-11T11:26:42.547Z"
   },
   {
    "duration": 46,
    "start_time": "2023-05-11T11:26:42.568Z"
   },
   {
    "duration": 24,
    "start_time": "2023-05-11T11:26:42.618Z"
   },
   {
    "duration": 13,
    "start_time": "2023-05-11T11:26:42.645Z"
   },
   {
    "duration": 76,
    "start_time": "2023-05-11T11:26:42.660Z"
   },
   {
    "duration": 54,
    "start_time": "2023-05-11T12:00:53.483Z"
   },
   {
    "duration": 259,
    "start_time": "2023-05-11T12:01:15.639Z"
   },
   {
    "duration": 427,
    "start_time": "2023-05-11T12:03:49.967Z"
   },
   {
    "duration": 412,
    "start_time": "2023-05-11T12:04:09.536Z"
   },
   {
    "duration": 528,
    "start_time": "2023-05-11T12:04:26.437Z"
   },
   {
    "duration": 453,
    "start_time": "2023-05-11T12:04:50.861Z"
   },
   {
    "duration": 402,
    "start_time": "2023-05-11T12:08:54.834Z"
   },
   {
    "duration": 10,
    "start_time": "2023-05-11T12:19:27.080Z"
   },
   {
    "duration": 12,
    "start_time": "2023-05-11T12:19:41.716Z"
   },
   {
    "duration": 12,
    "start_time": "2023-05-11T12:20:00.119Z"
   },
   {
    "duration": 15,
    "start_time": "2023-05-11T12:20:21.720Z"
   },
   {
    "duration": 5,
    "start_time": "2023-05-11T12:21:41.286Z"
   },
   {
    "duration": 99,
    "start_time": "2023-05-11T12:21:41.294Z"
   },
   {
    "duration": 23,
    "start_time": "2023-05-11T12:21:41.398Z"
   },
   {
    "duration": 55,
    "start_time": "2023-05-11T12:21:41.427Z"
   },
   {
    "duration": 15,
    "start_time": "2023-05-11T12:21:41.484Z"
   },
   {
    "duration": 17,
    "start_time": "2023-05-11T12:21:41.501Z"
   },
   {
    "duration": 21,
    "start_time": "2023-05-11T12:21:41.522Z"
   },
   {
    "duration": 13,
    "start_time": "2023-05-11T12:21:41.545Z"
   },
   {
    "duration": 61,
    "start_time": "2023-05-11T12:21:41.560Z"
   },
   {
    "duration": 11,
    "start_time": "2023-05-11T12:21:41.628Z"
   },
   {
    "duration": 11,
    "start_time": "2023-05-11T12:21:41.642Z"
   },
   {
    "duration": 52,
    "start_time": "2023-05-11T12:21:41.655Z"
   },
   {
    "duration": 18,
    "start_time": "2023-05-11T12:21:41.713Z"
   },
   {
    "duration": 14,
    "start_time": "2023-05-11T12:21:41.733Z"
   },
   {
    "duration": 635,
    "start_time": "2023-05-11T12:21:41.748Z"
   },
   {
    "duration": 23,
    "start_time": "2023-05-11T12:21:42.384Z"
   },
   {
    "duration": 8,
    "start_time": "2023-05-11T12:21:42.411Z"
   },
   {
    "duration": 18,
    "start_time": "2023-05-11T12:21:42.421Z"
   },
   {
    "duration": 7,
    "start_time": "2023-05-11T12:21:42.444Z"
   },
   {
    "duration": 47,
    "start_time": "2023-05-11T12:21:42.454Z"
   },
   {
    "duration": 39,
    "start_time": "2023-05-11T12:21:42.503Z"
   },
   {
    "duration": 25,
    "start_time": "2023-05-11T12:21:42.544Z"
   },
   {
    "duration": 38,
    "start_time": "2023-05-11T12:21:42.571Z"
   },
   {
    "duration": 22,
    "start_time": "2023-05-11T12:21:42.618Z"
   },
   {
    "duration": 103,
    "start_time": "2023-05-11T12:21:42.642Z"
   },
   {
    "duration": 67,
    "start_time": "2023-05-11T12:21:42.747Z"
   },
   {
    "duration": 420,
    "start_time": "2023-05-11T12:21:42.816Z"
   },
   {
    "duration": 487,
    "start_time": "2023-05-11T12:21:43.239Z"
   },
   {
    "duration": 11,
    "start_time": "2023-05-11T12:21:43.728Z"
   },
   {
    "duration": 147,
    "start_time": "2023-05-11T12:21:43.741Z"
   },
   {
    "duration": 13,
    "start_time": "2023-05-11T12:23:31.062Z"
   },
   {
    "duration": 18,
    "start_time": "2023-05-11T12:23:47.500Z"
   },
   {
    "duration": 11,
    "start_time": "2023-05-11T12:23:51.012Z"
   },
   {
    "duration": 6,
    "start_time": "2023-05-11T12:24:47.921Z"
   },
   {
    "duration": 90,
    "start_time": "2023-05-11T12:24:47.930Z"
   },
   {
    "duration": 23,
    "start_time": "2023-05-11T12:24:48.022Z"
   },
   {
    "duration": 65,
    "start_time": "2023-05-11T12:24:48.047Z"
   },
   {
    "duration": 8,
    "start_time": "2023-05-11T12:24:48.115Z"
   },
   {
    "duration": 17,
    "start_time": "2023-05-11T12:24:48.125Z"
   },
   {
    "duration": 17,
    "start_time": "2023-05-11T12:24:48.145Z"
   },
   {
    "duration": 43,
    "start_time": "2023-05-11T12:24:48.165Z"
   },
   {
    "duration": 23,
    "start_time": "2023-05-11T12:24:48.211Z"
   },
   {
    "duration": 11,
    "start_time": "2023-05-11T12:24:48.238Z"
   },
   {
    "duration": 3,
    "start_time": "2023-05-11T12:24:48.251Z"
   },
   {
    "duration": 56,
    "start_time": "2023-05-11T12:24:48.256Z"
   },
   {
    "duration": 15,
    "start_time": "2023-05-11T12:24:48.315Z"
   },
   {
    "duration": 9,
    "start_time": "2023-05-11T12:24:48.332Z"
   },
   {
    "duration": 592,
    "start_time": "2023-05-11T12:24:48.343Z"
   },
   {
    "duration": 6,
    "start_time": "2023-05-11T12:24:48.938Z"
   },
   {
    "duration": 8,
    "start_time": "2023-05-11T12:24:48.946Z"
   },
   {
    "duration": 49,
    "start_time": "2023-05-11T12:24:48.956Z"
   },
   {
    "duration": 8,
    "start_time": "2023-05-11T12:24:49.007Z"
   },
   {
    "duration": 33,
    "start_time": "2023-05-11T12:24:49.017Z"
   },
   {
    "duration": 27,
    "start_time": "2023-05-11T12:24:49.052Z"
   },
   {
    "duration": 53,
    "start_time": "2023-05-11T12:24:49.082Z"
   },
   {
    "duration": 20,
    "start_time": "2023-05-11T12:24:49.137Z"
   },
   {
    "duration": 13,
    "start_time": "2023-05-11T12:24:49.159Z"
   },
   {
    "duration": 63,
    "start_time": "2023-05-11T12:24:49.175Z"
   },
   {
    "duration": 92,
    "start_time": "2023-05-11T12:24:49.240Z"
   },
   {
    "duration": 285,
    "start_time": "2023-05-11T12:24:49.334Z"
   },
   {
    "duration": 435,
    "start_time": "2023-05-11T12:24:49.624Z"
   },
   {
    "duration": 10,
    "start_time": "2023-05-11T12:24:50.061Z"
   },
   {
    "duration": 42,
    "start_time": "2023-05-11T12:24:50.073Z"
   },
   {
    "duration": 65,
    "start_time": "2023-05-11T12:25:05.384Z"
   },
   {
    "duration": 1288,
    "start_time": "2023-05-11T12:25:37.545Z"
   },
   {
    "duration": 4,
    "start_time": "2023-05-11T12:25:40.324Z"
   },
   {
    "duration": 95,
    "start_time": "2023-05-11T12:25:40.329Z"
   },
   {
    "duration": 14,
    "start_time": "2023-05-11T12:25:40.426Z"
   },
   {
    "duration": 72,
    "start_time": "2023-05-11T12:25:40.442Z"
   },
   {
    "duration": 9,
    "start_time": "2023-05-11T12:25:40.518Z"
   },
   {
    "duration": 16,
    "start_time": "2023-05-11T12:25:40.529Z"
   },
   {
    "duration": 22,
    "start_time": "2023-05-11T12:25:40.548Z"
   },
   {
    "duration": 32,
    "start_time": "2023-05-11T12:25:40.572Z"
   },
   {
    "duration": 25,
    "start_time": "2023-05-11T12:25:40.606Z"
   },
   {
    "duration": 11,
    "start_time": "2023-05-11T12:25:40.633Z"
   },
   {
    "duration": 4,
    "start_time": "2023-05-11T12:25:40.647Z"
   },
   {
    "duration": 76,
    "start_time": "2023-05-11T12:25:40.653Z"
   },
   {
    "duration": 17,
    "start_time": "2023-05-11T12:25:40.732Z"
   },
   {
    "duration": 13,
    "start_time": "2023-05-11T12:25:40.753Z"
   },
   {
    "duration": 654,
    "start_time": "2023-05-11T12:25:40.768Z"
   },
   {
    "duration": 11,
    "start_time": "2023-05-11T12:25:41.432Z"
   },
   {
    "duration": 17,
    "start_time": "2023-05-11T12:25:41.446Z"
   },
   {
    "duration": 26,
    "start_time": "2023-05-11T12:25:41.466Z"
   },
   {
    "duration": 18,
    "start_time": "2023-05-11T12:25:41.495Z"
   },
   {
    "duration": 45,
    "start_time": "2023-05-11T12:25:41.516Z"
   },
   {
    "duration": 39,
    "start_time": "2023-05-11T12:25:41.563Z"
   },
   {
    "duration": 46,
    "start_time": "2023-05-11T12:25:41.609Z"
   },
   {
    "duration": 16,
    "start_time": "2023-05-11T12:25:41.658Z"
   },
   {
    "duration": 204,
    "start_time": "2023-05-11T12:25:41.676Z"
   },
   {
    "duration": 629,
    "start_time": "2023-05-11T12:25:41.883Z"
   },
   {
    "duration": 42,
    "start_time": "2023-05-11T12:25:42.516Z"
   },
   {
    "duration": 290,
    "start_time": "2023-05-11T12:25:42.561Z"
   },
   {
    "duration": 410,
    "start_time": "2023-05-11T12:25:42.853Z"
   },
   {
    "duration": 11,
    "start_time": "2023-05-11T12:25:43.265Z"
   },
   {
    "duration": 36,
    "start_time": "2023-05-11T12:25:43.278Z"
   },
   {
    "duration": 33,
    "start_time": "2023-05-11T12:29:11.486Z"
   },
   {
    "duration": 24,
    "start_time": "2023-05-11T12:30:22.328Z"
   },
   {
    "duration": 23,
    "start_time": "2023-05-11T12:30:45.615Z"
   },
   {
    "duration": 19,
    "start_time": "2023-05-11T12:31:47.424Z"
   },
   {
    "duration": 29,
    "start_time": "2023-05-11T12:32:26.618Z"
   },
   {
    "duration": 240,
    "start_time": "2023-05-11T12:33:53.679Z"
   },
   {
    "duration": 66,
    "start_time": "2023-05-11T12:34:13.108Z"
   },
   {
    "duration": 18,
    "start_time": "2023-05-11T12:34:51.962Z"
   },
   {
    "duration": 28,
    "start_time": "2023-05-11T12:35:14.395Z"
   },
   {
    "duration": 24,
    "start_time": "2023-05-11T12:35:36.246Z"
   },
   {
    "duration": 28,
    "start_time": "2023-05-11T12:36:46.168Z"
   },
   {
    "duration": 23,
    "start_time": "2023-05-11T12:37:24.236Z"
   },
   {
    "duration": 93,
    "start_time": "2023-05-11T12:38:19.948Z"
   },
   {
    "duration": 72,
    "start_time": "2023-05-11T12:39:22.145Z"
   },
   {
    "duration": 132,
    "start_time": "2023-05-11T12:39:51.395Z"
   },
   {
    "duration": 71,
    "start_time": "2023-05-11T12:40:02.740Z"
   },
   {
    "duration": 101,
    "start_time": "2023-05-11T12:41:52.549Z"
   },
   {
    "duration": 56,
    "start_time": "2023-05-11T12:42:02.120Z"
   },
   {
    "duration": 65,
    "start_time": "2023-05-11T12:42:51.138Z"
   },
   {
    "duration": 65,
    "start_time": "2023-05-11T12:43:43.428Z"
   },
   {
    "duration": 61,
    "start_time": "2023-05-11T13:04:13.841Z"
   },
   {
    "duration": 64,
    "start_time": "2023-05-11T13:04:41.126Z"
   },
   {
    "duration": 53,
    "start_time": "2023-05-11T13:13:48.782Z"
   },
   {
    "duration": 70,
    "start_time": "2023-05-11T13:13:58.110Z"
   },
   {
    "duration": 33,
    "start_time": "2023-05-11T13:17:12.881Z"
   },
   {
    "duration": 62,
    "start_time": "2023-05-11T13:17:32.394Z"
   },
   {
    "duration": 137,
    "start_time": "2023-05-11T13:22:57.228Z"
   },
   {
    "duration": 114,
    "start_time": "2023-05-11T13:24:10.200Z"
   },
   {
    "duration": 107,
    "start_time": "2023-05-11T13:24:39.264Z"
   },
   {
    "duration": 128,
    "start_time": "2023-05-11T13:25:22.879Z"
   },
   {
    "duration": 40,
    "start_time": "2023-05-11T13:31:22.005Z"
   },
   {
    "duration": 118,
    "start_time": "2023-05-11T13:31:50.828Z"
   },
   {
    "duration": 36,
    "start_time": "2023-05-11T13:33:41.148Z"
   },
   {
    "duration": 19,
    "start_time": "2023-05-11T13:33:55.343Z"
   },
   {
    "duration": 15,
    "start_time": "2023-05-11T13:34:47.080Z"
   },
   {
    "duration": 102,
    "start_time": "2023-05-11T13:35:53.597Z"
   },
   {
    "duration": 34,
    "start_time": "2023-05-11T13:36:33.534Z"
   },
   {
    "duration": 37,
    "start_time": "2023-05-11T13:36:55.532Z"
   },
   {
    "duration": 130,
    "start_time": "2023-05-11T13:37:21.376Z"
   },
   {
    "duration": 1465,
    "start_time": "2023-05-11T17:07:17.534Z"
   },
   {
    "duration": 130,
    "start_time": "2023-05-11T17:07:19.001Z"
   },
   {
    "duration": 16,
    "start_time": "2023-05-11T17:07:19.133Z"
   },
   {
    "duration": 38,
    "start_time": "2023-05-11T17:07:19.152Z"
   },
   {
    "duration": 5,
    "start_time": "2023-05-11T17:07:19.192Z"
   },
   {
    "duration": 15,
    "start_time": "2023-05-11T17:07:19.199Z"
   },
   {
    "duration": 16,
    "start_time": "2023-05-11T17:07:19.216Z"
   },
   {
    "duration": 13,
    "start_time": "2023-05-11T17:07:19.234Z"
   },
   {
    "duration": 49,
    "start_time": "2023-05-11T17:07:19.250Z"
   },
   {
    "duration": 9,
    "start_time": "2023-05-11T17:07:19.302Z"
   },
   {
    "duration": 6,
    "start_time": "2023-05-11T17:07:19.312Z"
   },
   {
    "duration": 25,
    "start_time": "2023-05-11T17:07:19.320Z"
   },
   {
    "duration": 36,
    "start_time": "2023-05-11T17:07:19.347Z"
   },
   {
    "duration": 10,
    "start_time": "2023-05-11T17:07:19.385Z"
   },
   {
    "duration": 526,
    "start_time": "2023-05-11T17:07:19.397Z"
   },
   {
    "duration": 7,
    "start_time": "2023-05-11T17:07:19.925Z"
   },
   {
    "duration": 7,
    "start_time": "2023-05-11T17:07:19.934Z"
   },
   {
    "duration": 36,
    "start_time": "2023-05-11T17:07:19.942Z"
   },
   {
    "duration": 5,
    "start_time": "2023-05-11T17:07:19.980Z"
   },
   {
    "duration": 21,
    "start_time": "2023-05-11T17:07:19.987Z"
   },
   {
    "duration": 28,
    "start_time": "2023-05-11T17:07:20.010Z"
   },
   {
    "duration": 39,
    "start_time": "2023-05-11T17:07:20.040Z"
   },
   {
    "duration": 16,
    "start_time": "2023-05-11T17:07:20.081Z"
   },
   {
    "duration": 162,
    "start_time": "2023-05-11T17:07:20.099Z"
   },
   {
    "duration": 409,
    "start_time": "2023-05-11T17:07:20.262Z"
   },
   {
    "duration": 44,
    "start_time": "2023-05-11T17:07:20.678Z"
   },
   {
    "duration": 243,
    "start_time": "2023-05-11T17:07:20.723Z"
   },
   {
    "duration": 408,
    "start_time": "2023-05-11T17:07:20.970Z"
   },
   {
    "duration": 10,
    "start_time": "2023-05-11T17:07:21.379Z"
   },
   {
    "duration": 15,
    "start_time": "2023-05-11T17:07:21.390Z"
   },
   {
    "duration": 24,
    "start_time": "2023-05-11T17:07:21.407Z"
   },
   {
    "duration": 83,
    "start_time": "2023-05-11T17:07:21.433Z"
   },
   {
    "duration": 144,
    "start_time": "2023-05-11T17:07:21.519Z"
   },
   {
    "duration": 132,
    "start_time": "2023-05-11T17:07:21.666Z"
   },
   {
    "duration": 39,
    "start_time": "2023-05-11T17:33:22.164Z"
   },
   {
    "duration": 74,
    "start_time": "2023-05-11T17:33:49.207Z"
   },
   {
    "duration": 85,
    "start_time": "2023-05-11T17:34:05.142Z"
   },
   {
    "duration": 84,
    "start_time": "2023-05-11T17:34:48.164Z"
   },
   {
    "duration": 72,
    "start_time": "2023-05-11T17:34:58.962Z"
   },
   {
    "duration": 96,
    "start_time": "2023-05-11T17:35:16.672Z"
   },
   {
    "duration": 78,
    "start_time": "2023-05-11T17:35:26.390Z"
   },
   {
    "duration": 74,
    "start_time": "2023-05-11T17:35:38.988Z"
   },
   {
    "duration": 76,
    "start_time": "2023-05-11T17:35:49.231Z"
   },
   {
    "duration": 95,
    "start_time": "2023-05-11T17:36:17.655Z"
   },
   {
    "duration": 76,
    "start_time": "2023-05-11T17:36:49.622Z"
   },
   {
    "duration": 73,
    "start_time": "2023-05-11T17:36:59.711Z"
   },
   {
    "duration": 4,
    "start_time": "2023-05-11T17:45:59.856Z"
   },
   {
    "duration": 71,
    "start_time": "2023-05-11T17:45:59.862Z"
   },
   {
    "duration": 13,
    "start_time": "2023-05-11T17:45:59.935Z"
   },
   {
    "duration": 46,
    "start_time": "2023-05-11T17:45:59.950Z"
   },
   {
    "duration": 6,
    "start_time": "2023-05-11T17:45:59.998Z"
   },
   {
    "duration": 33,
    "start_time": "2023-05-11T17:46:00.005Z"
   },
   {
    "duration": 18,
    "start_time": "2023-05-11T17:46:00.039Z"
   },
   {
    "duration": 8,
    "start_time": "2023-05-11T17:46:00.059Z"
   },
   {
    "duration": 28,
    "start_time": "2023-05-11T17:46:00.069Z"
   },
   {
    "duration": 8,
    "start_time": "2023-05-11T17:46:00.099Z"
   },
   {
    "duration": 16,
    "start_time": "2023-05-11T17:46:00.109Z"
   },
   {
    "duration": 25,
    "start_time": "2023-05-11T17:46:00.127Z"
   },
   {
    "duration": 46,
    "start_time": "2023-05-11T17:46:00.154Z"
   },
   {
    "duration": 30,
    "start_time": "2023-05-11T17:46:00.202Z"
   },
   {
    "duration": 483,
    "start_time": "2023-05-11T17:46:00.234Z"
   },
   {
    "duration": 6,
    "start_time": "2023-05-11T17:46:00.718Z"
   },
   {
    "duration": 24,
    "start_time": "2023-05-11T17:46:00.726Z"
   },
   {
    "duration": 20,
    "start_time": "2023-05-11T17:46:00.751Z"
   },
   {
    "duration": 20,
    "start_time": "2023-05-11T17:46:00.773Z"
   },
   {
    "duration": 130,
    "start_time": "2023-05-11T17:46:00.794Z"
   },
   {
    "duration": 25,
    "start_time": "2023-05-11T17:46:00.925Z"
   },
   {
    "duration": 55,
    "start_time": "2023-05-11T17:46:00.952Z"
   },
   {
    "duration": 34,
    "start_time": "2023-05-11T17:46:01.008Z"
   },
   {
    "duration": 35,
    "start_time": "2023-05-11T17:46:01.044Z"
   },
   {
    "duration": 74,
    "start_time": "2023-05-11T17:46:01.081Z"
   },
   {
    "duration": 62,
    "start_time": "2023-05-11T17:46:01.157Z"
   },
   {
    "duration": 237,
    "start_time": "2023-05-11T17:46:01.221Z"
   },
   {
    "duration": 378,
    "start_time": "2023-05-11T17:46:01.460Z"
   },
   {
    "duration": 9,
    "start_time": "2023-05-11T17:46:01.841Z"
   },
   {
    "duration": 58,
    "start_time": "2023-05-11T17:46:01.852Z"
   },
   {
    "duration": 82,
    "start_time": "2023-05-11T17:46:01.912Z"
   },
   {
    "duration": 57,
    "start_time": "2023-05-11T17:46:01.995Z"
   },
   {
    "duration": 107,
    "start_time": "2023-05-11T17:46:02.054Z"
   },
   {
    "duration": 99,
    "start_time": "2023-05-11T17:46:02.163Z"
   },
   {
    "duration": 44,
    "start_time": "2023-05-11T17:46:02.264Z"
   },
   {
    "duration": 84,
    "start_time": "2023-05-11T17:46:02.310Z"
   },
   {
    "duration": 4,
    "start_time": "2023-05-11T17:47:49.975Z"
   },
   {
    "duration": 156,
    "start_time": "2023-05-11T17:48:01.377Z"
   },
   {
    "duration": 5,
    "start_time": "2023-05-11T17:48:44.805Z"
   },
   {
    "duration": 12,
    "start_time": "2023-05-11T17:49:10.646Z"
   },
   {
    "duration": 4,
    "start_time": "2023-05-11T17:49:21.327Z"
   },
   {
    "duration": 1350,
    "start_time": "2023-05-12T04:47:57.386Z"
   },
   {
    "duration": 247,
    "start_time": "2023-05-12T04:47:58.737Z"
   },
   {
    "duration": 13,
    "start_time": "2023-05-12T04:47:58.986Z"
   },
   {
    "duration": 25,
    "start_time": "2023-05-12T04:47:59.001Z"
   },
   {
    "duration": 5,
    "start_time": "2023-05-12T04:47:59.028Z"
   },
   {
    "duration": 7,
    "start_time": "2023-05-12T04:47:59.034Z"
   },
   {
    "duration": 12,
    "start_time": "2023-05-12T04:47:59.042Z"
   },
   {
    "duration": 40,
    "start_time": "2023-05-12T04:47:59.055Z"
   },
   {
    "duration": 16,
    "start_time": "2023-05-12T04:47:59.097Z"
   },
   {
    "duration": 8,
    "start_time": "2023-05-12T04:47:59.115Z"
   },
   {
    "duration": 5,
    "start_time": "2023-05-12T04:47:59.124Z"
   },
   {
    "duration": 21,
    "start_time": "2023-05-12T04:47:59.131Z"
   },
   {
    "duration": 9,
    "start_time": "2023-05-12T04:47:59.153Z"
   },
   {
    "duration": 7,
    "start_time": "2023-05-12T04:47:59.164Z"
   },
   {
    "duration": 391,
    "start_time": "2023-05-12T04:47:59.195Z"
   },
   {
    "duration": 5,
    "start_time": "2023-05-12T04:47:59.594Z"
   },
   {
    "duration": 15,
    "start_time": "2023-05-12T04:47:59.601Z"
   },
   {
    "duration": 7,
    "start_time": "2023-05-12T04:47:59.618Z"
   },
   {
    "duration": 6,
    "start_time": "2023-05-12T04:47:59.627Z"
   },
   {
    "duration": 18,
    "start_time": "2023-05-12T04:47:59.634Z"
   },
   {
    "duration": 14,
    "start_time": "2023-05-12T04:47:59.654Z"
   },
   {
    "duration": 35,
    "start_time": "2023-05-12T04:47:59.670Z"
   },
   {
    "duration": 9,
    "start_time": "2023-05-12T04:47:59.706Z"
   },
   {
    "duration": 137,
    "start_time": "2023-05-12T04:47:59.716Z"
   },
   {
    "duration": 384,
    "start_time": "2023-05-12T04:47:59.854Z"
   },
   {
    "duration": 34,
    "start_time": "2023-05-12T04:48:00.240Z"
   },
   {
    "duration": 223,
    "start_time": "2023-05-12T04:48:00.275Z"
   },
   {
    "duration": 347,
    "start_time": "2023-05-12T04:48:00.501Z"
   },
   {
    "duration": 9,
    "start_time": "2023-05-12T04:48:00.849Z"
   },
   {
    "duration": 34,
    "start_time": "2023-05-12T04:48:00.859Z"
   },
   {
    "duration": 62,
    "start_time": "2023-05-12T04:48:00.894Z"
   },
   {
    "duration": 66,
    "start_time": "2023-05-12T04:48:00.958Z"
   },
   {
    "duration": 131,
    "start_time": "2023-05-12T04:48:01.025Z"
   },
   {
    "duration": 102,
    "start_time": "2023-05-12T04:48:01.157Z"
   },
   {
    "duration": 71,
    "start_time": "2023-05-12T04:48:01.260Z"
   },
   {
    "duration": 185,
    "start_time": "2023-05-12T04:48:01.332Z"
   },
   {
    "duration": 68,
    "start_time": "2023-05-12T05:01:18.592Z"
   },
   {
    "duration": 13,
    "start_time": "2023-05-12T05:38:18.552Z"
   },
   {
    "duration": 12,
    "start_time": "2023-05-12T05:38:30.051Z"
   },
   {
    "duration": 70,
    "start_time": "2023-05-12T05:39:07.841Z"
   },
   {
    "duration": 13,
    "start_time": "2023-05-12T05:45:47.118Z"
   },
   {
    "duration": 14,
    "start_time": "2023-05-12T05:45:58.986Z"
   },
   {
    "duration": 116,
    "start_time": "2023-05-12T05:46:10.932Z"
   },
   {
    "duration": 34,
    "start_time": "2023-05-12T05:46:45.439Z"
   },
   {
    "duration": 419,
    "start_time": "2023-05-12T05:47:38.978Z"
   },
   {
    "duration": 9098,
    "start_time": "2023-05-12T06:40:16.222Z"
   },
   {
    "duration": 10194,
    "start_time": "2023-05-12T06:55:59.347Z"
   },
   {
    "duration": 26,
    "start_time": "2023-05-12T07:24:38.383Z"
   },
   {
    "duration": 1159,
    "start_time": "2023-05-12T07:25:12.814Z"
   },
   {
    "duration": 19,
    "start_time": "2023-05-12T07:25:36.196Z"
   },
   {
    "duration": 90,
    "start_time": "2023-05-12T07:26:01.363Z"
   },
   {
    "duration": 5,
    "start_time": "2023-05-12T07:26:09.075Z"
   },
   {
    "duration": 5,
    "start_time": "2023-05-12T07:26:22.825Z"
   },
   {
    "duration": 18,
    "start_time": "2023-05-12T07:40:14.876Z"
   },
   {
    "duration": 244,
    "start_time": "2023-05-12T07:41:48.100Z"
   },
   {
    "duration": 19,
    "start_time": "2023-05-12T07:44:13.388Z"
   },
   {
    "duration": 12,
    "start_time": "2023-05-12T07:44:28.815Z"
   },
   {
    "duration": 11,
    "start_time": "2023-05-12T07:44:34.809Z"
   },
   {
    "duration": 14,
    "start_time": "2023-05-12T07:49:17.330Z"
   },
   {
    "duration": 11,
    "start_time": "2023-05-12T07:49:20.289Z"
   },
   {
    "duration": 320,
    "start_time": "2023-05-12T07:49:44.720Z"
   },
   {
    "duration": 14,
    "start_time": "2023-05-12T07:50:03.260Z"
   },
   {
    "duration": 22,
    "start_time": "2023-05-12T07:50:11.573Z"
   },
   {
    "duration": 16,
    "start_time": "2023-05-12T07:52:30.396Z"
   },
   {
    "duration": 14,
    "start_time": "2023-05-12T07:53:22.074Z"
   },
   {
    "duration": 10,
    "start_time": "2023-05-12T07:53:45.659Z"
   },
   {
    "duration": 78,
    "start_time": "2023-05-12T07:54:02.537Z"
   },
   {
    "duration": 45,
    "start_time": "2023-05-12T09:33:27.307Z"
   },
   {
    "duration": 71,
    "start_time": "2023-05-12T09:34:38.572Z"
   },
   {
    "duration": 31,
    "start_time": "2023-05-12T09:35:12.289Z"
   },
   {
    "duration": 4,
    "start_time": "2023-05-12T09:35:31.324Z"
   },
   {
    "duration": 4,
    "start_time": "2023-05-12T09:35:33.811Z"
   },
   {
    "duration": 130,
    "start_time": "2023-05-12T09:35:33.817Z"
   },
   {
    "duration": 14,
    "start_time": "2023-05-12T09:35:33.949Z"
   },
   {
    "duration": 55,
    "start_time": "2023-05-12T09:35:33.966Z"
   },
   {
    "duration": 8,
    "start_time": "2023-05-12T09:35:34.024Z"
   },
   {
    "duration": 31,
    "start_time": "2023-05-12T09:35:34.034Z"
   },
   {
    "duration": 22,
    "start_time": "2023-05-12T09:35:34.068Z"
   },
   {
    "duration": 13,
    "start_time": "2023-05-12T09:35:34.092Z"
   },
   {
    "duration": 29,
    "start_time": "2023-05-12T09:35:34.107Z"
   },
   {
    "duration": 21,
    "start_time": "2023-05-12T09:35:34.138Z"
   },
   {
    "duration": 9,
    "start_time": "2023-05-12T09:35:34.160Z"
   },
   {
    "duration": 31,
    "start_time": "2023-05-12T09:35:34.171Z"
   },
   {
    "duration": 18,
    "start_time": "2023-05-12T09:35:34.204Z"
   },
   {
    "duration": 9,
    "start_time": "2023-05-12T09:35:34.224Z"
   },
   {
    "duration": 524,
    "start_time": "2023-05-12T09:35:34.234Z"
   },
   {
    "duration": 7,
    "start_time": "2023-05-12T09:35:34.760Z"
   },
   {
    "duration": 21,
    "start_time": "2023-05-12T09:35:34.769Z"
   },
   {
    "duration": 8,
    "start_time": "2023-05-12T09:35:34.794Z"
   },
   {
    "duration": 12,
    "start_time": "2023-05-12T09:35:34.804Z"
   },
   {
    "duration": 31,
    "start_time": "2023-05-12T09:35:34.817Z"
   },
   {
    "duration": 91,
    "start_time": "2023-05-12T09:35:34.850Z"
   },
   {
    "duration": 68,
    "start_time": "2023-05-12T09:35:34.943Z"
   },
   {
    "duration": 12,
    "start_time": "2023-05-12T09:35:35.013Z"
   },
   {
    "duration": 29,
    "start_time": "2023-05-12T09:35:35.029Z"
   },
   {
    "duration": 65,
    "start_time": "2023-05-12T09:35:35.059Z"
   },
   {
    "duration": 35,
    "start_time": "2023-05-12T09:35:35.125Z"
   },
   {
    "duration": 220,
    "start_time": "2023-05-12T09:35:35.162Z"
   },
   {
    "duration": 346,
    "start_time": "2023-05-12T09:35:35.384Z"
   },
   {
    "duration": 9,
    "start_time": "2023-05-12T09:35:35.732Z"
   },
   {
    "duration": 14,
    "start_time": "2023-05-12T09:35:35.743Z"
   },
   {
    "duration": 17,
    "start_time": "2023-05-12T09:35:35.759Z"
   },
   {
    "duration": 46,
    "start_time": "2023-05-12T09:35:35.795Z"
   },
   {
    "duration": 132,
    "start_time": "2023-05-12T09:35:35.843Z"
   },
   {
    "duration": 101,
    "start_time": "2023-05-12T09:35:35.977Z"
   },
   {
    "duration": 43,
    "start_time": "2023-05-12T09:35:36.080Z"
   },
   {
    "duration": 81,
    "start_time": "2023-05-12T09:35:36.124Z"
   },
   {
    "duration": 17,
    "start_time": "2023-05-12T09:35:36.207Z"
   },
   {
    "duration": 104,
    "start_time": "2023-05-12T09:35:36.226Z"
   },
   {
    "duration": 14,
    "start_time": "2023-05-12T09:35:36.333Z"
   },
   {
    "duration": 34,
    "start_time": "2023-05-12T09:35:36.349Z"
   },
   {
    "duration": 132,
    "start_time": "2023-05-12T09:35:36.386Z"
   },
   {
    "duration": 10123,
    "start_time": "2023-05-12T09:35:36.521Z"
   },
   {
    "duration": 16,
    "start_time": "2023-05-12T09:35:46.647Z"
   },
   {
    "duration": 23,
    "start_time": "2023-05-12T09:35:46.696Z"
   },
   {
    "duration": 8,
    "start_time": "2023-05-12T09:35:46.721Z"
   },
   {
    "duration": 185,
    "start_time": "2023-05-12T09:35:46.730Z"
   },
   {
    "duration": 89,
    "start_time": "2023-05-12T09:35:46.917Z"
   },
   {
    "duration": 13,
    "start_time": "2023-05-12T09:36:31.902Z"
   },
   {
    "duration": 9,
    "start_time": "2023-05-12T09:37:06.177Z"
   },
   {
    "duration": 33,
    "start_time": "2023-05-12T09:37:14.379Z"
   },
   {
    "duration": 34,
    "start_time": "2023-05-12T09:38:16.902Z"
   },
   {
    "duration": 52,
    "start_time": "2023-05-12T09:38:31.263Z"
   },
   {
    "duration": 5,
    "start_time": "2023-05-12T09:38:54.666Z"
   },
   {
    "duration": 4,
    "start_time": "2023-05-12T09:38:57.459Z"
   },
   {
    "duration": 95,
    "start_time": "2023-05-12T09:38:57.467Z"
   },
   {
    "duration": 33,
    "start_time": "2023-05-12T09:38:57.564Z"
   },
   {
    "duration": 45,
    "start_time": "2023-05-12T09:38:57.600Z"
   },
   {
    "duration": 8,
    "start_time": "2023-05-12T09:38:57.647Z"
   },
   {
    "duration": 24,
    "start_time": "2023-05-12T09:38:57.657Z"
   },
   {
    "duration": 32,
    "start_time": "2023-05-12T09:38:57.683Z"
   },
   {
    "duration": 10,
    "start_time": "2023-05-12T09:38:57.717Z"
   },
   {
    "duration": 32,
    "start_time": "2023-05-12T09:38:57.731Z"
   },
   {
    "duration": 11,
    "start_time": "2023-05-12T09:38:57.766Z"
   },
   {
    "duration": 18,
    "start_time": "2023-05-12T09:38:57.780Z"
   },
   {
    "duration": 39,
    "start_time": "2023-05-12T09:38:57.800Z"
   },
   {
    "duration": 12,
    "start_time": "2023-05-12T09:38:57.841Z"
   },
   {
    "duration": 11,
    "start_time": "2023-05-12T09:38:57.855Z"
   },
   {
    "duration": 544,
    "start_time": "2023-05-12T09:38:57.868Z"
   },
   {
    "duration": 6,
    "start_time": "2023-05-12T09:38:58.415Z"
   },
   {
    "duration": 49,
    "start_time": "2023-05-12T09:38:58.423Z"
   },
   {
    "duration": 16,
    "start_time": "2023-05-12T09:38:58.474Z"
   },
   {
    "duration": 8,
    "start_time": "2023-05-12T09:38:58.492Z"
   },
   {
    "duration": 36,
    "start_time": "2023-05-12T09:38:58.502Z"
   },
   {
    "duration": 23,
    "start_time": "2023-05-12T09:38:58.543Z"
   },
   {
    "duration": 28,
    "start_time": "2023-05-12T09:38:58.568Z"
   },
   {
    "duration": 34,
    "start_time": "2023-05-12T09:38:58.598Z"
   },
   {
    "duration": 13,
    "start_time": "2023-05-12T09:38:58.636Z"
   },
   {
    "duration": 83,
    "start_time": "2023-05-12T09:38:58.651Z"
   },
   {
    "duration": 37,
    "start_time": "2023-05-12T09:38:58.736Z"
   },
   {
    "duration": 267,
    "start_time": "2023-05-12T09:38:58.775Z"
   },
   {
    "duration": 483,
    "start_time": "2023-05-12T09:38:59.044Z"
   },
   {
    "duration": 9,
    "start_time": "2023-05-12T09:38:59.529Z"
   },
   {
    "duration": 163,
    "start_time": "2023-05-12T09:38:59.539Z"
   },
   {
    "duration": 46,
    "start_time": "2023-05-12T09:38:59.704Z"
   },
   {
    "duration": 72,
    "start_time": "2023-05-12T09:38:59.752Z"
   },
   {
    "duration": 128,
    "start_time": "2023-05-12T09:38:59.826Z"
   },
   {
    "duration": 105,
    "start_time": "2023-05-12T09:38:59.957Z"
   },
   {
    "duration": 48,
    "start_time": "2023-05-12T09:39:00.065Z"
   },
   {
    "duration": 91,
    "start_time": "2023-05-12T09:39:00.116Z"
   },
   {
    "duration": 18,
    "start_time": "2023-05-12T09:39:00.209Z"
   },
   {
    "duration": 173,
    "start_time": "2023-05-12T09:39:00.230Z"
   },
   {
    "duration": 20,
    "start_time": "2023-05-12T09:39:00.405Z"
   },
   {
    "duration": 76,
    "start_time": "2023-05-12T09:39:00.427Z"
   },
   {
    "duration": 161,
    "start_time": "2023-05-12T09:39:00.506Z"
   },
   {
    "duration": 11904,
    "start_time": "2023-05-12T09:39:00.670Z"
   },
   {
    "duration": 35,
    "start_time": "2023-05-12T09:39:12.577Z"
   },
   {
    "duration": 89,
    "start_time": "2023-05-12T09:39:12.614Z"
   },
   {
    "duration": 17,
    "start_time": "2023-05-12T09:39:12.705Z"
   },
   {
    "duration": 197,
    "start_time": "2023-05-12T09:39:12.724Z"
   },
   {
    "duration": 104,
    "start_time": "2023-05-12T09:39:12.924Z"
   },
   {
    "duration": 22,
    "start_time": "2023-05-12T09:40:07.632Z"
   },
   {
    "duration": 18,
    "start_time": "2023-05-12T09:40:19.409Z"
   },
   {
    "duration": 13,
    "start_time": "2023-05-12T09:40:29.003Z"
   },
   {
    "duration": 18,
    "start_time": "2023-05-12T09:40:50.796Z"
   },
   {
    "duration": 3,
    "start_time": "2023-05-12T09:40:53.840Z"
   },
   {
    "duration": 3,
    "start_time": "2023-05-12T09:41:39.823Z"
   },
   {
    "duration": 12,
    "start_time": "2023-05-12T09:43:00.813Z"
   },
   {
    "duration": 11,
    "start_time": "2023-05-12T09:43:48.280Z"
   },
   {
    "duration": 13,
    "start_time": "2023-05-12T09:43:54.187Z"
   },
   {
    "duration": 30,
    "start_time": "2023-05-12T09:44:55.825Z"
   },
   {
    "duration": 11,
    "start_time": "2023-05-12T09:45:06.876Z"
   },
   {
    "duration": 3,
    "start_time": "2023-05-12T09:45:12.445Z"
   },
   {
    "duration": 8,
    "start_time": "2023-05-12T09:49:45.521Z"
   },
   {
    "duration": 7,
    "start_time": "2023-05-12T09:52:19.044Z"
   },
   {
    "duration": 8,
    "start_time": "2023-05-12T09:52:43.828Z"
   },
   {
    "duration": 7,
    "start_time": "2023-05-12T09:52:52.782Z"
   },
   {
    "duration": 8,
    "start_time": "2023-05-12T09:53:57.022Z"
   },
   {
    "duration": 11,
    "start_time": "2023-05-12T10:34:48.926Z"
   },
   {
    "duration": 10,
    "start_time": "2023-05-12T10:35:53.304Z"
   },
   {
    "duration": 111,
    "start_time": "2023-05-12T10:36:32.518Z"
   },
   {
    "duration": 5,
    "start_time": "2023-05-12T14:00:02.473Z"
   },
   {
    "duration": 6,
    "start_time": "2023-05-12T14:00:10.173Z"
   },
   {
    "duration": 16,
    "start_time": "2023-05-12T14:00:48.717Z"
   },
   {
    "duration": 1572,
    "start_time": "2023-05-12T14:01:18.895Z"
   },
   {
    "duration": 6,
    "start_time": "2023-05-12T14:09:42.288Z"
   },
   {
    "duration": 50,
    "start_time": "2023-05-12T14:22:09.985Z"
   },
   {
    "duration": 1281,
    "start_time": "2023-05-12T14:22:30.637Z"
   },
   {
    "duration": 73,
    "start_time": "2023-05-12T14:22:31.920Z"
   },
   {
    "duration": 13,
    "start_time": "2023-05-12T14:22:31.995Z"
   },
   {
    "duration": 43,
    "start_time": "2023-05-12T14:22:32.010Z"
   },
   {
    "duration": 6,
    "start_time": "2023-05-12T14:22:32.055Z"
   },
   {
    "duration": 19,
    "start_time": "2023-05-12T14:22:32.063Z"
   },
   {
    "duration": 20,
    "start_time": "2023-05-12T14:22:32.083Z"
   },
   {
    "duration": 18,
    "start_time": "2023-05-12T14:22:32.104Z"
   },
   {
    "duration": 21,
    "start_time": "2023-05-12T14:22:32.123Z"
   },
   {
    "duration": 17,
    "start_time": "2023-05-12T14:22:32.146Z"
   },
   {
    "duration": 20,
    "start_time": "2023-05-12T14:22:32.164Z"
   },
   {
    "duration": 56,
    "start_time": "2023-05-12T14:22:32.186Z"
   },
   {
    "duration": 14,
    "start_time": "2023-05-12T14:22:32.244Z"
   },
   {
    "duration": 16,
    "start_time": "2023-05-12T14:22:32.260Z"
   },
   {
    "duration": 417,
    "start_time": "2023-05-12T14:22:32.278Z"
   },
   {
    "duration": 5,
    "start_time": "2023-05-12T14:22:32.696Z"
   },
   {
    "duration": 31,
    "start_time": "2023-05-12T14:22:32.702Z"
   },
   {
    "duration": 30,
    "start_time": "2023-05-12T14:22:32.737Z"
   },
   {
    "duration": 23,
    "start_time": "2023-05-12T14:22:32.769Z"
   },
   {
    "duration": 29,
    "start_time": "2023-05-12T14:22:32.793Z"
   },
   {
    "duration": 27,
    "start_time": "2023-05-12T14:22:32.824Z"
   },
   {
    "duration": 35,
    "start_time": "2023-05-12T14:22:32.852Z"
   },
   {
    "duration": 18,
    "start_time": "2023-05-12T14:22:32.889Z"
   },
   {
    "duration": 215,
    "start_time": "2023-05-12T14:22:32.909Z"
   },
   {
    "duration": 342,
    "start_time": "2023-05-12T14:22:33.126Z"
   },
   {
    "duration": 50,
    "start_time": "2023-05-12T14:22:33.470Z"
   },
   {
    "duration": 253,
    "start_time": "2023-05-12T14:22:33.522Z"
   },
   {
    "duration": 346,
    "start_time": "2023-05-12T14:22:33.779Z"
   },
   {
    "duration": 10,
    "start_time": "2023-05-12T14:22:34.127Z"
   },
   {
    "duration": 41,
    "start_time": "2023-05-12T14:22:34.138Z"
   },
   {
    "duration": 32,
    "start_time": "2023-05-12T14:22:34.181Z"
   },
   {
    "duration": 65,
    "start_time": "2023-05-12T14:22:34.215Z"
   },
   {
    "duration": 98,
    "start_time": "2023-05-12T14:22:34.282Z"
   },
   {
    "duration": 100,
    "start_time": "2023-05-12T14:22:34.382Z"
   },
   {
    "duration": 33,
    "start_time": "2023-05-12T14:22:34.495Z"
   },
   {
    "duration": 109,
    "start_time": "2023-05-12T14:22:34.530Z"
   },
   {
    "duration": 18,
    "start_time": "2023-05-12T14:22:34.641Z"
   },
   {
    "duration": 104,
    "start_time": "2023-05-12T14:22:34.661Z"
   },
   {
    "duration": 12,
    "start_time": "2023-05-12T14:22:34.766Z"
   },
   {
    "duration": 34,
    "start_time": "2023-05-12T14:22:34.795Z"
   },
   {
    "duration": 352,
    "start_time": "2023-05-12T14:22:34.830Z"
   },
   {
    "duration": 9228,
    "start_time": "2023-05-12T14:22:35.183Z"
   },
   {
    "duration": 231,
    "start_time": "2023-05-12T14:22:44.413Z"
   },
   {
    "duration": 0,
    "start_time": "2023-05-12T14:22:44.695Z"
   },
   {
    "duration": 0,
    "start_time": "2023-05-12T14:22:44.696Z"
   },
   {
    "duration": 0,
    "start_time": "2023-05-12T14:22:44.699Z"
   },
   {
    "duration": 0,
    "start_time": "2023-05-12T14:22:44.700Z"
   },
   {
    "duration": 0,
    "start_time": "2023-05-12T14:22:44.702Z"
   },
   {
    "duration": 0,
    "start_time": "2023-05-12T14:22:44.704Z"
   },
   {
    "duration": 0,
    "start_time": "2023-05-12T14:22:44.706Z"
   },
   {
    "duration": 0,
    "start_time": "2023-05-12T14:22:44.707Z"
   },
   {
    "duration": 0,
    "start_time": "2023-05-12T14:22:44.709Z"
   },
   {
    "duration": 0,
    "start_time": "2023-05-12T14:22:44.710Z"
   },
   {
    "duration": 0,
    "start_time": "2023-05-12T14:22:44.711Z"
   },
   {
    "duration": 0,
    "start_time": "2023-05-12T14:22:44.713Z"
   },
   {
    "duration": 15,
    "start_time": "2023-05-12T14:23:57.326Z"
   },
   {
    "duration": 16,
    "start_time": "2023-05-12T14:24:03.051Z"
   },
   {
    "duration": 11,
    "start_time": "2023-05-12T14:24:05.415Z"
   },
   {
    "duration": 82,
    "start_time": "2023-05-12T14:24:08.872Z"
   },
   {
    "duration": 12,
    "start_time": "2023-05-12T14:24:15.472Z"
   },
   {
    "duration": 9,
    "start_time": "2023-05-12T14:24:18.018Z"
   },
   {
    "duration": 4,
    "start_time": "2023-05-12T14:24:22.300Z"
   },
   {
    "duration": 82,
    "start_time": "2023-05-12T14:24:22.306Z"
   },
   {
    "duration": 16,
    "start_time": "2023-05-12T14:24:22.390Z"
   },
   {
    "duration": 43,
    "start_time": "2023-05-12T14:24:22.408Z"
   },
   {
    "duration": 6,
    "start_time": "2023-05-12T14:24:22.454Z"
   },
   {
    "duration": 6,
    "start_time": "2023-05-12T14:24:22.462Z"
   },
   {
    "duration": 33,
    "start_time": "2023-05-12T14:24:22.469Z"
   },
   {
    "duration": 16,
    "start_time": "2023-05-12T14:24:22.506Z"
   },
   {
    "duration": 15,
    "start_time": "2023-05-12T14:24:22.524Z"
   },
   {
    "duration": 10,
    "start_time": "2023-05-12T14:24:22.541Z"
   },
   {
    "duration": 5,
    "start_time": "2023-05-12T14:24:22.554Z"
   },
   {
    "duration": 35,
    "start_time": "2023-05-12T14:24:22.561Z"
   },
   {
    "duration": 17,
    "start_time": "2023-05-12T14:24:22.598Z"
   },
   {
    "duration": 13,
    "start_time": "2023-05-12T14:24:22.616Z"
   },
   {
    "duration": 484,
    "start_time": "2023-05-12T14:24:22.631Z"
   },
   {
    "duration": 5,
    "start_time": "2023-05-12T14:24:23.117Z"
   },
   {
    "duration": 7,
    "start_time": "2023-05-12T14:24:23.124Z"
   },
   {
    "duration": 10,
    "start_time": "2023-05-12T14:24:23.132Z"
   },
   {
    "duration": 4,
    "start_time": "2023-05-12T14:24:23.144Z"
   },
   {
    "duration": 18,
    "start_time": "2023-05-12T14:24:23.150Z"
   },
   {
    "duration": 44,
    "start_time": "2023-05-12T14:24:23.169Z"
   },
   {
    "duration": 27,
    "start_time": "2023-05-12T14:24:23.214Z"
   },
   {
    "duration": 11,
    "start_time": "2023-05-12T14:24:23.243Z"
   },
   {
    "duration": 9,
    "start_time": "2023-05-12T14:24:23.255Z"
   },
   {
    "duration": 66,
    "start_time": "2023-05-12T14:24:23.266Z"
   },
   {
    "duration": 34,
    "start_time": "2023-05-12T14:24:23.334Z"
   },
   {
    "duration": 237,
    "start_time": "2023-05-12T14:24:23.370Z"
   },
   {
    "duration": 313,
    "start_time": "2023-05-12T14:24:23.609Z"
   },
   {
    "duration": 8,
    "start_time": "2023-05-12T14:24:23.925Z"
   },
   {
    "duration": 26,
    "start_time": "2023-05-12T14:24:23.935Z"
   },
   {
    "duration": 19,
    "start_time": "2023-05-12T14:24:23.962Z"
   },
   {
    "duration": 51,
    "start_time": "2023-05-12T14:24:23.982Z"
   },
   {
    "duration": 102,
    "start_time": "2023-05-12T14:24:24.035Z"
   },
   {
    "duration": 99,
    "start_time": "2023-05-12T14:24:24.139Z"
   },
   {
    "duration": 28,
    "start_time": "2023-05-12T14:24:24.239Z"
   },
   {
    "duration": 94,
    "start_time": "2023-05-12T14:24:24.268Z"
   },
   {
    "duration": 15,
    "start_time": "2023-05-12T14:24:24.363Z"
   },
   {
    "duration": 76,
    "start_time": "2023-05-12T14:24:24.395Z"
   },
   {
    "duration": 34,
    "start_time": "2023-05-12T14:24:24.473Z"
   },
   {
    "duration": 36,
    "start_time": "2023-05-12T14:24:24.509Z"
   },
   {
    "duration": 143,
    "start_time": "2023-05-12T14:24:24.547Z"
   },
   {
    "duration": 10357,
    "start_time": "2023-05-12T14:24:24.692Z"
   },
   {
    "duration": 46,
    "start_time": "2023-05-12T14:24:35.050Z"
   },
   {
    "duration": 34,
    "start_time": "2023-05-12T14:24:35.098Z"
   },
   {
    "duration": 9,
    "start_time": "2023-05-12T14:24:35.134Z"
   },
   {
    "duration": 196,
    "start_time": "2023-05-12T14:24:35.144Z"
   },
   {
    "duration": 66,
    "start_time": "2023-05-12T14:24:35.342Z"
   },
   {
    "duration": 15,
    "start_time": "2023-05-12T14:24:35.410Z"
   },
   {
    "duration": 20,
    "start_time": "2023-05-12T14:24:35.427Z"
   },
   {
    "duration": 15,
    "start_time": "2023-05-12T14:24:35.449Z"
   },
   {
    "duration": 19,
    "start_time": "2023-05-12T14:24:35.465Z"
   },
   {
    "duration": 0,
    "start_time": "2023-05-12T14:24:35.499Z"
   },
   {
    "duration": 0,
    "start_time": "2023-05-12T14:24:35.500Z"
   },
   {
    "duration": 0,
    "start_time": "2023-05-12T14:24:35.502Z"
   },
   {
    "duration": 0,
    "start_time": "2023-05-12T14:24:35.504Z"
   },
   {
    "duration": 118,
    "start_time": "2023-05-12T14:26:09.138Z"
   },
   {
    "duration": 6,
    "start_time": "2023-05-12T14:26:24.413Z"
   },
   {
    "duration": 1623,
    "start_time": "2023-05-12T14:26:26.311Z"
   },
   {
    "duration": 17,
    "start_time": "2023-05-12T14:26:39.107Z"
   },
   {
    "duration": 16,
    "start_time": "2023-05-12T14:27:20.628Z"
   },
   {
    "duration": 5,
    "start_time": "2023-05-12T14:27:27.121Z"
   },
   {
    "duration": 83,
    "start_time": "2023-05-12T14:27:33.132Z"
   },
   {
    "duration": 1755,
    "start_time": "2023-05-15T06:15:55.180Z"
   },
   {
    "duration": 308,
    "start_time": "2023-05-15T06:15:56.937Z"
   },
   {
    "duration": 16,
    "start_time": "2023-05-15T06:15:57.247Z"
   },
   {
    "duration": 35,
    "start_time": "2023-05-15T06:15:57.265Z"
   },
   {
    "duration": 7,
    "start_time": "2023-05-15T06:15:57.302Z"
   },
   {
    "duration": 10,
    "start_time": "2023-05-15T06:15:57.311Z"
   },
   {
    "duration": 24,
    "start_time": "2023-05-15T06:15:57.323Z"
   },
   {
    "duration": 9,
    "start_time": "2023-05-15T06:15:57.349Z"
   },
   {
    "duration": 44,
    "start_time": "2023-05-15T06:15:57.360Z"
   },
   {
    "duration": 14,
    "start_time": "2023-05-15T06:15:57.407Z"
   },
   {
    "duration": 22,
    "start_time": "2023-05-15T06:15:57.423Z"
   },
   {
    "duration": 33,
    "start_time": "2023-05-15T06:15:57.447Z"
   },
   {
    "duration": 15,
    "start_time": "2023-05-15T06:15:57.482Z"
   },
   {
    "duration": 9,
    "start_time": "2023-05-15T06:15:57.498Z"
   },
   {
    "duration": 511,
    "start_time": "2023-05-15T06:15:57.509Z"
   },
   {
    "duration": 7,
    "start_time": "2023-05-15T06:15:58.022Z"
   },
   {
    "duration": 9,
    "start_time": "2023-05-15T06:15:58.030Z"
   },
   {
    "duration": 22,
    "start_time": "2023-05-15T06:15:58.041Z"
   },
   {
    "duration": 11,
    "start_time": "2023-05-15T06:15:58.065Z"
   },
   {
    "duration": 35,
    "start_time": "2023-05-15T06:15:58.078Z"
   },
   {
    "duration": 28,
    "start_time": "2023-05-15T06:15:58.115Z"
   },
   {
    "duration": 35,
    "start_time": "2023-05-15T06:15:58.145Z"
   },
   {
    "duration": 23,
    "start_time": "2023-05-15T06:15:58.182Z"
   },
   {
    "duration": 194,
    "start_time": "2023-05-15T06:15:58.207Z"
   },
   {
    "duration": 457,
    "start_time": "2023-05-15T06:15:58.402Z"
   },
   {
    "duration": 49,
    "start_time": "2023-05-15T06:15:58.861Z"
   },
   {
    "duration": 258,
    "start_time": "2023-05-15T06:15:58.912Z"
   },
   {
    "duration": 360,
    "start_time": "2023-05-15T06:15:59.174Z"
   },
   {
    "duration": 10,
    "start_time": "2023-05-15T06:15:59.536Z"
   },
   {
    "duration": 16,
    "start_time": "2023-05-15T06:15:59.548Z"
   },
   {
    "duration": 35,
    "start_time": "2023-05-15T06:15:59.566Z"
   },
   {
    "duration": 56,
    "start_time": "2023-05-15T06:15:59.603Z"
   },
   {
    "duration": 124,
    "start_time": "2023-05-15T06:15:59.661Z"
   },
   {
    "duration": 110,
    "start_time": "2023-05-15T06:15:59.787Z"
   },
   {
    "duration": 34,
    "start_time": "2023-05-15T06:15:59.899Z"
   },
   {
    "duration": 97,
    "start_time": "2023-05-15T06:15:59.935Z"
   },
   {
    "duration": 14,
    "start_time": "2023-05-15T06:16:00.034Z"
   },
   {
    "duration": 103,
    "start_time": "2023-05-15T06:16:00.049Z"
   },
   {
    "duration": 30,
    "start_time": "2023-05-15T06:16:00.154Z"
   },
   {
    "duration": 126,
    "start_time": "2023-05-15T06:16:00.186Z"
   },
   {
    "duration": 423,
    "start_time": "2023-05-15T06:16:00.314Z"
   },
   {
    "duration": 11153,
    "start_time": "2023-05-15T06:16:00.739Z"
   },
   {
    "duration": 24,
    "start_time": "2023-05-15T06:16:11.896Z"
   },
   {
    "duration": 83,
    "start_time": "2023-05-15T06:16:11.923Z"
   },
   {
    "duration": 14,
    "start_time": "2023-05-15T06:16:12.008Z"
   },
   {
    "duration": 188,
    "start_time": "2023-05-15T06:16:12.025Z"
   },
   {
    "duration": 19,
    "start_time": "2023-05-15T06:16:12.215Z"
   },
   {
    "duration": 62,
    "start_time": "2023-05-15T06:16:12.236Z"
   },
   {
    "duration": 16,
    "start_time": "2023-05-15T06:16:12.300Z"
   },
   {
    "duration": 17,
    "start_time": "2023-05-15T06:16:12.318Z"
   },
   {
    "duration": 131,
    "start_time": "2023-05-15T06:16:12.337Z"
   },
   {
    "duration": 6,
    "start_time": "2023-05-15T06:16:12.470Z"
   },
   {
    "duration": 1738,
    "start_time": "2023-05-15T06:16:12.478Z"
   },
   {
    "duration": 5,
    "start_time": "2023-05-15T06:16:14.218Z"
   },
   {
    "duration": 127,
    "start_time": "2023-05-15T06:16:14.225Z"
   },
   {
    "duration": 18,
    "start_time": "2023-05-15T06:19:35.270Z"
   },
   {
    "duration": 129,
    "start_time": "2023-05-15T06:20:39.070Z"
   },
   {
    "duration": 17,
    "start_time": "2023-05-15T06:27:03.586Z"
   },
   {
    "duration": 14,
    "start_time": "2023-05-15T06:27:57.558Z"
   },
   {
    "duration": 12,
    "start_time": "2023-05-15T06:28:04.459Z"
   },
   {
    "duration": 12,
    "start_time": "2023-05-15T06:29:04.547Z"
   },
   {
    "duration": 119,
    "start_time": "2023-05-15T06:31:21.041Z"
   },
   {
    "duration": 18,
    "start_time": "2023-05-15T06:33:34.558Z"
   },
   {
    "duration": 137,
    "start_time": "2023-05-15T06:33:40.620Z"
   },
   {
    "duration": 14,
    "start_time": "2023-05-15T06:33:52.210Z"
   },
   {
    "duration": 136,
    "start_time": "2023-05-15T06:33:58.228Z"
   },
   {
    "duration": 1460,
    "start_time": "2023-05-15T15:38:40.803Z"
   },
   {
    "duration": 565,
    "start_time": "2023-05-15T15:38:42.265Z"
   },
   {
    "duration": 16,
    "start_time": "2023-05-15T15:38:42.832Z"
   },
   {
    "duration": 65,
    "start_time": "2023-05-15T15:38:42.850Z"
   },
   {
    "duration": 6,
    "start_time": "2023-05-15T15:38:42.917Z"
   },
   {
    "duration": 12,
    "start_time": "2023-05-15T15:38:42.925Z"
   },
   {
    "duration": 33,
    "start_time": "2023-05-15T15:38:42.939Z"
   },
   {
    "duration": 11,
    "start_time": "2023-05-15T15:38:42.974Z"
   },
   {
    "duration": 23,
    "start_time": "2023-05-15T15:38:42.986Z"
   },
   {
    "duration": 10,
    "start_time": "2023-05-15T15:38:43.012Z"
   },
   {
    "duration": 3,
    "start_time": "2023-05-15T15:38:43.024Z"
   },
   {
    "duration": 34,
    "start_time": "2023-05-15T15:38:43.029Z"
   },
   {
    "duration": 18,
    "start_time": "2023-05-15T15:38:43.065Z"
   },
   {
    "duration": 11,
    "start_time": "2023-05-15T15:38:43.085Z"
   },
   {
    "duration": 476,
    "start_time": "2023-05-15T15:38:43.098Z"
   },
   {
    "duration": 8,
    "start_time": "2023-05-15T15:38:43.576Z"
   },
   {
    "duration": 12,
    "start_time": "2023-05-15T15:38:43.586Z"
   },
   {
    "duration": 21,
    "start_time": "2023-05-15T15:38:43.600Z"
   },
   {
    "duration": 17,
    "start_time": "2023-05-15T15:38:43.623Z"
   },
   {
    "duration": 33,
    "start_time": "2023-05-15T15:38:43.642Z"
   },
   {
    "duration": 17,
    "start_time": "2023-05-15T15:38:43.677Z"
   },
   {
    "duration": 27,
    "start_time": "2023-05-15T15:38:43.695Z"
   },
   {
    "duration": 16,
    "start_time": "2023-05-15T15:38:43.724Z"
   },
   {
    "duration": 223,
    "start_time": "2023-05-15T15:38:43.757Z"
   },
   {
    "duration": 401,
    "start_time": "2023-05-15T15:38:43.982Z"
   },
   {
    "duration": 38,
    "start_time": "2023-05-15T15:38:44.385Z"
   },
   {
    "duration": 246,
    "start_time": "2023-05-15T15:38:44.425Z"
   },
   {
    "duration": 340,
    "start_time": "2023-05-15T15:38:44.674Z"
   },
   {
    "duration": 11,
    "start_time": "2023-05-15T15:38:45.017Z"
   },
   {
    "duration": 29,
    "start_time": "2023-05-15T15:38:45.030Z"
   },
   {
    "duration": 17,
    "start_time": "2023-05-15T15:38:45.062Z"
   },
   {
    "duration": 79,
    "start_time": "2023-05-15T15:38:45.082Z"
   },
   {
    "duration": 127,
    "start_time": "2023-05-15T15:38:45.163Z"
   },
   {
    "duration": 124,
    "start_time": "2023-05-15T15:38:45.292Z"
   },
   {
    "duration": 51,
    "start_time": "2023-05-15T15:38:45.418Z"
   },
   {
    "duration": 88,
    "start_time": "2023-05-15T15:38:45.470Z"
   },
   {
    "duration": 14,
    "start_time": "2023-05-15T15:38:45.560Z"
   },
   {
    "duration": 96,
    "start_time": "2023-05-15T15:38:45.576Z"
   },
   {
    "duration": 13,
    "start_time": "2023-05-15T15:38:45.673Z"
   },
   {
    "duration": 111,
    "start_time": "2023-05-15T15:38:45.688Z"
   },
   {
    "duration": 431,
    "start_time": "2023-05-15T15:38:45.802Z"
   },
   {
    "duration": 10469,
    "start_time": "2023-05-15T15:38:46.235Z"
   },
   {
    "duration": 55,
    "start_time": "2023-05-15T15:38:56.707Z"
   },
   {
    "duration": 27,
    "start_time": "2023-05-15T15:38:56.764Z"
   },
   {
    "duration": 63,
    "start_time": "2023-05-15T15:38:56.793Z"
   },
   {
    "duration": 147,
    "start_time": "2023-05-15T15:38:56.859Z"
   },
   {
    "duration": 57,
    "start_time": "2023-05-15T15:38:57.007Z"
   },
   {
    "duration": 4,
    "start_time": "2023-05-15T15:38:57.067Z"
   },
   {
    "duration": 23,
    "start_time": "2023-05-15T15:38:57.073Z"
   },
   {
    "duration": 25,
    "start_time": "2023-05-15T15:38:57.098Z"
   },
   {
    "duration": 134,
    "start_time": "2023-05-15T15:38:57.125Z"
   },
   {
    "duration": 19,
    "start_time": "2023-05-15T15:38:57.262Z"
   },
   {
    "duration": 1639,
    "start_time": "2023-05-15T15:38:57.284Z"
   },
   {
    "duration": 7,
    "start_time": "2023-05-15T15:38:58.925Z"
   },
   {
    "duration": 148,
    "start_time": "2023-05-15T15:38:58.934Z"
   },
   {
    "duration": 18,
    "start_time": "2023-05-15T15:38:59.084Z"
   },
   {
    "duration": 120,
    "start_time": "2023-05-15T15:38:59.106Z"
   },
   {
    "duration": 34,
    "start_time": "2023-05-15T15:38:59.228Z"
   },
   {
    "duration": 102,
    "start_time": "2023-05-15T15:38:59.264Z"
   },
   {
    "duration": 522,
    "start_time": "2023-05-15T15:50:57.722Z"
   },
   {
    "duration": 527,
    "start_time": "2023-05-15T15:51:32.299Z"
   },
   {
    "duration": 556,
    "start_time": "2023-05-15T15:51:42.281Z"
   },
   {
    "duration": 575,
    "start_time": "2023-05-15T15:52:03.148Z"
   },
   {
    "duration": 789,
    "start_time": "2023-05-15T15:52:10.574Z"
   },
   {
    "duration": 577,
    "start_time": "2023-05-15T15:52:18.960Z"
   },
   {
    "duration": 527,
    "start_time": "2023-05-15T15:52:23.348Z"
   },
   {
    "duration": 125,
    "start_time": "2023-05-15T16:08:11.851Z"
   },
   {
    "duration": 108,
    "start_time": "2023-05-15T16:09:39.492Z"
   },
   {
    "duration": 1367,
    "start_time": "2023-05-15T18:06:09.436Z"
   },
   {
    "duration": 131,
    "start_time": "2023-05-15T18:06:10.805Z"
   },
   {
    "duration": 15,
    "start_time": "2023-05-15T18:06:10.938Z"
   },
   {
    "duration": 39,
    "start_time": "2023-05-15T18:06:10.954Z"
   },
   {
    "duration": 5,
    "start_time": "2023-05-15T18:06:10.996Z"
   },
   {
    "duration": 15,
    "start_time": "2023-05-15T18:06:11.003Z"
   },
   {
    "duration": 26,
    "start_time": "2023-05-15T18:06:11.019Z"
   },
   {
    "duration": 18,
    "start_time": "2023-05-15T18:06:11.047Z"
   },
   {
    "duration": 19,
    "start_time": "2023-05-15T18:06:11.067Z"
   },
   {
    "duration": 13,
    "start_time": "2023-05-15T18:06:11.088Z"
   },
   {
    "duration": 5,
    "start_time": "2023-05-15T18:06:11.103Z"
   },
   {
    "duration": 27,
    "start_time": "2023-05-15T18:06:11.110Z"
   },
   {
    "duration": 14,
    "start_time": "2023-05-15T18:06:11.139Z"
   },
   {
    "duration": 9,
    "start_time": "2023-05-15T18:06:11.157Z"
   },
   {
    "duration": 460,
    "start_time": "2023-05-15T18:06:11.168Z"
   },
   {
    "duration": 6,
    "start_time": "2023-05-15T18:06:11.630Z"
   },
   {
    "duration": 6,
    "start_time": "2023-05-15T18:06:11.637Z"
   },
   {
    "duration": 8,
    "start_time": "2023-05-15T18:06:11.645Z"
   },
   {
    "duration": 6,
    "start_time": "2023-05-15T18:06:11.654Z"
   },
   {
    "duration": 43,
    "start_time": "2023-05-15T18:06:11.662Z"
   },
   {
    "duration": 16,
    "start_time": "2023-05-15T18:06:11.706Z"
   },
   {
    "duration": 25,
    "start_time": "2023-05-15T18:06:11.723Z"
   },
   {
    "duration": 13,
    "start_time": "2023-05-15T18:06:11.749Z"
   },
   {
    "duration": 162,
    "start_time": "2023-05-15T18:06:11.763Z"
   },
   {
    "duration": 357,
    "start_time": "2023-05-15T18:06:11.926Z"
   },
   {
    "duration": 41,
    "start_time": "2023-05-15T18:06:12.285Z"
   },
   {
    "duration": 221,
    "start_time": "2023-05-15T18:06:12.328Z"
   },
   {
    "duration": 319,
    "start_time": "2023-05-15T18:06:12.550Z"
   },
   {
    "duration": 9,
    "start_time": "2023-05-15T18:06:12.870Z"
   },
   {
    "duration": 24,
    "start_time": "2023-05-15T18:06:12.880Z"
   },
   {
    "duration": 15,
    "start_time": "2023-05-15T18:06:12.907Z"
   },
   {
    "duration": 50,
    "start_time": "2023-05-15T18:06:12.923Z"
   },
   {
    "duration": 126,
    "start_time": "2023-05-15T18:06:12.975Z"
   },
   {
    "duration": 101,
    "start_time": "2023-05-15T18:06:13.104Z"
   },
   {
    "duration": 30,
    "start_time": "2023-05-15T18:06:13.207Z"
   },
   {
    "duration": 94,
    "start_time": "2023-05-15T18:06:13.239Z"
   },
   {
    "duration": 14,
    "start_time": "2023-05-15T18:06:13.335Z"
   },
   {
    "duration": 92,
    "start_time": "2023-05-15T18:06:13.351Z"
   },
   {
    "duration": 17,
    "start_time": "2023-05-15T18:06:13.445Z"
   },
   {
    "duration": 101,
    "start_time": "2023-05-15T18:06:13.463Z"
   },
   {
    "duration": 369,
    "start_time": "2023-05-15T18:06:13.568Z"
   },
   {
    "duration": 9720,
    "start_time": "2023-05-15T18:06:13.939Z"
   },
   {
    "duration": 39,
    "start_time": "2023-05-15T18:06:23.661Z"
   },
   {
    "duration": 31,
    "start_time": "2023-05-15T18:06:23.701Z"
   },
   {
    "duration": 9,
    "start_time": "2023-05-15T18:06:23.734Z"
   },
   {
    "duration": 179,
    "start_time": "2023-05-15T18:06:23.744Z"
   },
   {
    "duration": 13,
    "start_time": "2023-05-15T18:06:23.925Z"
   },
   {
    "duration": 60,
    "start_time": "2023-05-15T18:06:23.939Z"
   },
   {
    "duration": 9,
    "start_time": "2023-05-15T18:06:24.001Z"
   },
   {
    "duration": 17,
    "start_time": "2023-05-15T18:06:24.012Z"
   },
   {
    "duration": 125,
    "start_time": "2023-05-15T18:06:24.031Z"
   },
   {
    "duration": 6,
    "start_time": "2023-05-15T18:06:24.158Z"
   },
   {
    "duration": 1634,
    "start_time": "2023-05-15T18:06:24.166Z"
   },
   {
    "duration": 5,
    "start_time": "2023-05-15T18:06:25.802Z"
   },
   {
    "duration": 125,
    "start_time": "2023-05-15T18:06:25.809Z"
   },
   {
    "duration": 12,
    "start_time": "2023-05-15T18:06:25.936Z"
   },
   {
    "duration": 120,
    "start_time": "2023-05-15T18:06:25.950Z"
   },
   {
    "duration": 11,
    "start_time": "2023-05-15T18:06:26.071Z"
   },
   {
    "duration": 91,
    "start_time": "2023-05-15T18:06:26.097Z"
   },
   {
    "duration": 1831,
    "start_time": "2023-05-16T05:40:14.464Z"
   },
   {
    "duration": 567,
    "start_time": "2023-05-16T05:40:16.297Z"
   },
   {
    "duration": 16,
    "start_time": "2023-05-16T05:40:16.865Z"
   },
   {
    "duration": 37,
    "start_time": "2023-05-16T05:40:16.884Z"
   },
   {
    "duration": 12,
    "start_time": "2023-05-16T05:40:16.923Z"
   },
   {
    "duration": 20,
    "start_time": "2023-05-16T05:40:16.938Z"
   },
   {
    "duration": 11,
    "start_time": "2023-05-16T05:40:16.960Z"
   },
   {
    "duration": 11,
    "start_time": "2023-05-16T05:40:16.973Z"
   },
   {
    "duration": 25,
    "start_time": "2023-05-16T05:40:16.985Z"
   },
   {
    "duration": 46,
    "start_time": "2023-05-16T05:40:17.014Z"
   },
   {
    "duration": 8,
    "start_time": "2023-05-16T05:40:17.062Z"
   },
   {
    "duration": 27,
    "start_time": "2023-05-16T05:40:17.072Z"
   },
   {
    "duration": 13,
    "start_time": "2023-05-16T05:40:17.101Z"
   },
   {
    "duration": 11,
    "start_time": "2023-05-16T05:40:17.116Z"
   },
   {
    "duration": 475,
    "start_time": "2023-05-16T05:40:17.130Z"
   },
   {
    "duration": 7,
    "start_time": "2023-05-16T05:40:17.608Z"
   },
   {
    "duration": 7,
    "start_time": "2023-05-16T05:40:17.617Z"
   },
   {
    "duration": 31,
    "start_time": "2023-05-16T05:40:17.626Z"
   },
   {
    "duration": 5,
    "start_time": "2023-05-16T05:40:17.659Z"
   },
   {
    "duration": 24,
    "start_time": "2023-05-16T05:40:17.666Z"
   },
   {
    "duration": 35,
    "start_time": "2023-05-16T05:40:17.692Z"
   },
   {
    "duration": 22,
    "start_time": "2023-05-16T05:40:17.729Z"
   },
   {
    "duration": 17,
    "start_time": "2023-05-16T05:40:17.758Z"
   },
   {
    "duration": 196,
    "start_time": "2023-05-16T05:40:17.777Z"
   },
   {
    "duration": 404,
    "start_time": "2023-05-16T05:40:17.975Z"
   },
   {
    "duration": 56,
    "start_time": "2023-05-16T05:40:18.381Z"
   },
   {
    "duration": 291,
    "start_time": "2023-05-16T05:40:18.439Z"
   },
   {
    "duration": 358,
    "start_time": "2023-05-16T05:40:18.736Z"
   },
   {
    "duration": 11,
    "start_time": "2023-05-16T05:40:19.096Z"
   },
   {
    "duration": 28,
    "start_time": "2023-05-16T05:40:19.109Z"
   },
   {
    "duration": 28,
    "start_time": "2023-05-16T05:40:19.140Z"
   },
   {
    "duration": 95,
    "start_time": "2023-05-16T05:40:19.170Z"
   },
   {
    "duration": 118,
    "start_time": "2023-05-16T05:40:19.267Z"
   },
   {
    "duration": 111,
    "start_time": "2023-05-16T05:40:19.387Z"
   },
   {
    "duration": 35,
    "start_time": "2023-05-16T05:40:19.499Z"
   },
   {
    "duration": 91,
    "start_time": "2023-05-16T05:40:19.536Z"
   },
   {
    "duration": 30,
    "start_time": "2023-05-16T05:40:19.629Z"
   },
   {
    "duration": 75,
    "start_time": "2023-05-16T05:40:19.660Z"
   },
   {
    "duration": 29,
    "start_time": "2023-05-16T05:40:19.736Z"
   },
   {
    "duration": 120,
    "start_time": "2023-05-16T05:40:19.767Z"
   },
   {
    "duration": 424,
    "start_time": "2023-05-16T05:40:19.889Z"
   },
   {
    "duration": 9529,
    "start_time": "2023-05-16T05:40:20.315Z"
   },
   {
    "duration": 28,
    "start_time": "2023-05-16T05:40:29.845Z"
   },
   {
    "duration": 17,
    "start_time": "2023-05-16T05:40:29.874Z"
   },
   {
    "duration": 9,
    "start_time": "2023-05-16T05:40:29.892Z"
   },
   {
    "duration": 127,
    "start_time": "2023-05-16T05:40:29.957Z"
   },
   {
    "duration": 12,
    "start_time": "2023-05-16T05:40:30.086Z"
   },
   {
    "duration": 8,
    "start_time": "2023-05-16T05:40:30.099Z"
   },
   {
    "duration": 53,
    "start_time": "2023-05-16T05:40:30.109Z"
   },
   {
    "duration": 27,
    "start_time": "2023-05-16T05:40:30.164Z"
   },
   {
    "duration": 118,
    "start_time": "2023-05-16T05:40:30.193Z"
   },
   {
    "duration": 5,
    "start_time": "2023-05-16T05:40:30.313Z"
   },
   {
    "duration": 1483,
    "start_time": "2023-05-16T05:40:30.319Z"
   },
   {
    "duration": 4,
    "start_time": "2023-05-16T05:40:31.804Z"
   },
   {
    "duration": 117,
    "start_time": "2023-05-16T05:40:31.810Z"
   },
   {
    "duration": 14,
    "start_time": "2023-05-16T05:40:31.929Z"
   },
   {
    "duration": 117,
    "start_time": "2023-05-16T05:40:31.958Z"
   },
   {
    "duration": 10,
    "start_time": "2023-05-16T05:40:32.076Z"
   },
   {
    "duration": 147,
    "start_time": "2023-05-16T05:40:32.088Z"
   },
   {
    "duration": 189,
    "start_time": "2023-05-16T05:41:30.112Z"
   },
   {
    "duration": 151,
    "start_time": "2023-05-16T05:45:32.858Z"
   },
   {
    "duration": 3,
    "start_time": "2023-05-16T05:46:12.740Z"
   },
   {
    "duration": 4,
    "start_time": "2023-05-16T05:46:25.804Z"
   },
   {
    "duration": 3,
    "start_time": "2023-05-16T05:46:33.303Z"
   },
   {
    "duration": 72,
    "start_time": "2023-05-16T05:46:33.307Z"
   },
   {
    "duration": 12,
    "start_time": "2023-05-16T05:46:33.381Z"
   },
   {
    "duration": 29,
    "start_time": "2023-05-16T05:46:33.395Z"
   },
   {
    "duration": 34,
    "start_time": "2023-05-16T05:46:33.426Z"
   },
   {
    "duration": 7,
    "start_time": "2023-05-16T05:46:33.462Z"
   },
   {
    "duration": 11,
    "start_time": "2023-05-16T05:46:33.470Z"
   },
   {
    "duration": 7,
    "start_time": "2023-05-16T05:46:33.483Z"
   },
   {
    "duration": 17,
    "start_time": "2023-05-16T05:46:33.492Z"
   },
   {
    "duration": 7,
    "start_time": "2023-05-16T05:46:33.511Z"
   },
   {
    "duration": 47,
    "start_time": "2023-05-16T05:46:33.519Z"
   },
   {
    "duration": 27,
    "start_time": "2023-05-16T05:46:33.567Z"
   },
   {
    "duration": 10,
    "start_time": "2023-05-16T05:46:33.595Z"
   },
   {
    "duration": 8,
    "start_time": "2023-05-16T05:46:33.606Z"
   },
   {
    "duration": 536,
    "start_time": "2023-05-16T05:46:33.616Z"
   },
   {
    "duration": 5,
    "start_time": "2023-05-16T05:46:34.154Z"
   },
   {
    "duration": 7,
    "start_time": "2023-05-16T05:46:34.161Z"
   },
   {
    "duration": 8,
    "start_time": "2023-05-16T05:46:34.169Z"
   },
   {
    "duration": 4,
    "start_time": "2023-05-16T05:46:34.178Z"
   },
   {
    "duration": 15,
    "start_time": "2023-05-16T05:46:34.184Z"
   },
   {
    "duration": 19,
    "start_time": "2023-05-16T05:46:34.202Z"
   },
   {
    "duration": 52,
    "start_time": "2023-05-16T05:46:34.222Z"
   },
   {
    "duration": 8,
    "start_time": "2023-05-16T05:46:34.276Z"
   },
   {
    "duration": 9,
    "start_time": "2023-05-16T05:46:34.289Z"
   },
   {
    "duration": 66,
    "start_time": "2023-05-16T05:46:34.299Z"
   },
   {
    "duration": 34,
    "start_time": "2023-05-16T05:46:34.366Z"
   },
   {
    "duration": 210,
    "start_time": "2023-05-16T05:46:34.401Z"
   },
   {
    "duration": 292,
    "start_time": "2023-05-16T05:46:34.612Z"
   },
   {
    "duration": 9,
    "start_time": "2023-05-16T05:46:34.906Z"
   },
   {
    "duration": 37,
    "start_time": "2023-05-16T05:46:34.916Z"
   },
   {
    "duration": 21,
    "start_time": "2023-05-16T05:46:34.955Z"
   },
   {
    "duration": 4,
    "start_time": "2023-05-16T05:46:34.978Z"
   },
   {
    "duration": 56,
    "start_time": "2023-05-16T05:46:34.983Z"
   },
   {
    "duration": 101,
    "start_time": "2023-05-16T05:46:35.041Z"
   },
   {
    "duration": 333,
    "start_time": "2023-05-16T05:46:35.144Z"
   },
   {
    "duration": 35,
    "start_time": "2023-05-16T05:46:35.479Z"
   },
   {
    "duration": 103,
    "start_time": "2023-05-16T05:46:35.516Z"
   },
   {
    "duration": 15,
    "start_time": "2023-05-16T05:46:35.622Z"
   },
   {
    "duration": 83,
    "start_time": "2023-05-16T05:46:35.659Z"
   },
   {
    "duration": 25,
    "start_time": "2023-05-16T05:46:35.743Z"
   },
   {
    "duration": 35,
    "start_time": "2023-05-16T05:46:35.770Z"
   },
   {
    "duration": 103,
    "start_time": "2023-05-16T05:46:35.807Z"
   },
   {
    "duration": 9053,
    "start_time": "2023-05-16T05:46:35.912Z"
   },
   {
    "duration": 16,
    "start_time": "2023-05-16T05:46:44.967Z"
   },
   {
    "duration": 16,
    "start_time": "2023-05-16T05:46:44.984Z"
   },
   {
    "duration": 57,
    "start_time": "2023-05-16T05:46:45.001Z"
   },
   {
    "duration": 455,
    "start_time": "2023-05-16T05:46:45.060Z"
   },
   {
    "duration": 11,
    "start_time": "2023-05-16T05:46:45.516Z"
   },
   {
    "duration": 6,
    "start_time": "2023-05-16T05:46:45.528Z"
   },
   {
    "duration": 26,
    "start_time": "2023-05-16T05:46:45.535Z"
   },
   {
    "duration": 13,
    "start_time": "2023-05-16T05:46:45.563Z"
   },
   {
    "duration": 101,
    "start_time": "2023-05-16T05:46:45.578Z"
   },
   {
    "duration": 6,
    "start_time": "2023-05-16T05:46:45.680Z"
   },
   {
    "duration": 1471,
    "start_time": "2023-05-16T05:46:45.687Z"
   },
   {
    "duration": 5,
    "start_time": "2023-05-16T05:46:47.159Z"
   },
   {
    "duration": 101,
    "start_time": "2023-05-16T05:46:47.166Z"
   },
   {
    "duration": 14,
    "start_time": "2023-05-16T05:46:47.268Z"
   },
   {
    "duration": 109,
    "start_time": "2023-05-16T05:46:47.284Z"
   },
   {
    "duration": 15,
    "start_time": "2023-05-16T05:46:47.395Z"
   },
   {
    "duration": 112,
    "start_time": "2023-05-16T05:46:47.412Z"
   },
   {
    "duration": 9,
    "start_time": "2023-05-16T05:47:34.438Z"
   },
   {
    "duration": 7,
    "start_time": "2023-05-16T05:51:24.812Z"
   },
   {
    "duration": 34,
    "start_time": "2023-05-16T05:56:31.663Z"
   },
   {
    "duration": 28,
    "start_time": "2023-05-16T06:00:18.210Z"
   },
   {
    "duration": 22,
    "start_time": "2023-05-16T06:00:46.042Z"
   },
   {
    "duration": 1123,
    "start_time": "2023-05-16T06:01:42.610Z"
   },
   {
    "duration": 17,
    "start_time": "2023-05-16T06:02:12.800Z"
   },
   {
    "duration": 21,
    "start_time": "2023-05-16T06:04:30.747Z"
   },
   {
    "duration": 21,
    "start_time": "2023-05-16T06:04:55.396Z"
   },
   {
    "duration": 20,
    "start_time": "2023-05-16T06:05:47.906Z"
   },
   {
    "duration": 109,
    "start_time": "2023-05-16T06:12:55.212Z"
   },
   {
    "duration": 25,
    "start_time": "2023-05-16T06:13:27.125Z"
   },
   {
    "duration": 22,
    "start_time": "2023-05-16T06:13:40.270Z"
   },
   {
    "duration": 26,
    "start_time": "2023-05-16T06:14:23.988Z"
   },
   {
    "duration": 19,
    "start_time": "2023-05-16T06:14:34.579Z"
   },
   {
    "duration": 22,
    "start_time": "2023-05-16T06:15:33.514Z"
   },
   {
    "duration": 1464,
    "start_time": "2023-05-16T09:11:23.054Z"
   },
   {
    "duration": 641,
    "start_time": "2023-05-16T09:11:24.526Z"
   },
   {
    "duration": 14,
    "start_time": "2023-05-16T09:11:25.168Z"
   },
   {
    "duration": 40,
    "start_time": "2023-05-16T09:11:25.184Z"
   },
   {
    "duration": 6,
    "start_time": "2023-05-16T09:11:25.227Z"
   },
   {
    "duration": 10,
    "start_time": "2023-05-16T09:11:25.234Z"
   },
   {
    "duration": 11,
    "start_time": "2023-05-16T09:11:25.246Z"
   },
   {
    "duration": 7,
    "start_time": "2023-05-16T09:11:25.259Z"
   },
   {
    "duration": 16,
    "start_time": "2023-05-16T09:11:25.267Z"
   },
   {
    "duration": 8,
    "start_time": "2023-05-16T09:11:25.286Z"
   },
   {
    "duration": 25,
    "start_time": "2023-05-16T09:11:25.295Z"
   },
   {
    "duration": 32,
    "start_time": "2023-05-16T09:11:25.322Z"
   },
   {
    "duration": 13,
    "start_time": "2023-05-16T09:11:25.356Z"
   },
   {
    "duration": 15,
    "start_time": "2023-05-16T09:11:25.371Z"
   },
   {
    "duration": 406,
    "start_time": "2023-05-16T09:11:25.387Z"
   },
   {
    "duration": 31,
    "start_time": "2023-05-16T09:11:25.794Z"
   },
   {
    "duration": 7,
    "start_time": "2023-05-16T09:11:25.826Z"
   },
   {
    "duration": 10,
    "start_time": "2023-05-16T09:11:25.834Z"
   },
   {
    "duration": 5,
    "start_time": "2023-05-16T09:11:25.846Z"
   },
   {
    "duration": 25,
    "start_time": "2023-05-16T09:11:25.853Z"
   },
   {
    "duration": 48,
    "start_time": "2023-05-16T09:11:25.880Z"
   },
   {
    "duration": 37,
    "start_time": "2023-05-16T09:11:25.930Z"
   },
   {
    "duration": 11,
    "start_time": "2023-05-16T09:11:25.969Z"
   },
   {
    "duration": 249,
    "start_time": "2023-05-16T09:11:25.981Z"
   },
   {
    "duration": 410,
    "start_time": "2023-05-16T09:11:26.231Z"
   },
   {
    "duration": 42,
    "start_time": "2023-05-16T09:11:26.644Z"
   },
   {
    "duration": 273,
    "start_time": "2023-05-16T09:11:26.688Z"
   },
   {
    "duration": 382,
    "start_time": "2023-05-16T09:11:26.966Z"
   },
   {
    "duration": 9,
    "start_time": "2023-05-16T09:11:27.350Z"
   },
   {
    "duration": 9,
    "start_time": "2023-05-16T09:11:27.361Z"
   },
   {
    "duration": 51,
    "start_time": "2023-05-16T09:11:27.372Z"
   },
   {
    "duration": 55,
    "start_time": "2023-05-16T09:11:27.425Z"
   },
   {
    "duration": 42,
    "start_time": "2023-05-16T09:11:27.482Z"
   },
   {
    "duration": 108,
    "start_time": "2023-05-16T09:11:27.526Z"
   },
   {
    "duration": 118,
    "start_time": "2023-05-16T09:11:27.636Z"
   },
   {
    "duration": 29,
    "start_time": "2023-05-16T09:11:27.756Z"
   },
   {
    "duration": 94,
    "start_time": "2023-05-16T09:11:27.787Z"
   },
   {
    "duration": 28,
    "start_time": "2023-05-16T09:11:27.882Z"
   },
   {
    "duration": 76,
    "start_time": "2023-05-16T09:11:27.911Z"
   },
   {
    "duration": 33,
    "start_time": "2023-05-16T09:11:27.989Z"
   },
   {
    "duration": 128,
    "start_time": "2023-05-16T09:11:28.025Z"
   },
   {
    "duration": 356,
    "start_time": "2023-05-16T09:11:28.154Z"
   },
   {
    "duration": 9234,
    "start_time": "2023-05-16T09:11:28.518Z"
   },
   {
    "duration": 21,
    "start_time": "2023-05-16T09:11:37.754Z"
   },
   {
    "duration": 52,
    "start_time": "2023-05-16T09:11:37.777Z"
   },
   {
    "duration": 8,
    "start_time": "2023-05-16T09:11:37.831Z"
   },
   {
    "duration": 174,
    "start_time": "2023-05-16T09:11:37.840Z"
   },
   {
    "duration": 15,
    "start_time": "2023-05-16T09:11:38.016Z"
   },
   {
    "duration": 17,
    "start_time": "2023-05-16T09:11:38.033Z"
   },
   {
    "duration": 19,
    "start_time": "2023-05-16T09:11:38.052Z"
   },
   {
    "duration": 37,
    "start_time": "2023-05-16T09:11:38.073Z"
   },
   {
    "duration": 123,
    "start_time": "2023-05-16T09:11:38.112Z"
   },
   {
    "duration": 5,
    "start_time": "2023-05-16T09:11:38.236Z"
   },
   {
    "duration": 1486,
    "start_time": "2023-05-16T09:11:38.243Z"
   },
   {
    "duration": 5,
    "start_time": "2023-05-16T09:11:39.730Z"
   },
   {
    "duration": 131,
    "start_time": "2023-05-16T09:11:39.736Z"
   },
   {
    "duration": 13,
    "start_time": "2023-05-16T09:11:39.868Z"
   },
   {
    "duration": 112,
    "start_time": "2023-05-16T09:11:39.882Z"
   },
   {
    "duration": 13,
    "start_time": "2023-05-16T09:11:39.995Z"
   },
   {
    "duration": 97,
    "start_time": "2023-05-16T09:11:40.014Z"
   },
   {
    "duration": 147,
    "start_time": "2023-05-16T09:14:26.431Z"
   },
   {
    "duration": 9,
    "start_time": "2023-05-16T09:14:29.578Z"
   },
   {
    "duration": 53,
    "start_time": "2023-05-16T09:45:14.799Z"
   },
   {
    "duration": 1546,
    "start_time": "2023-05-16T09:45:19.495Z"
   },
   {
    "duration": 249,
    "start_time": "2023-05-16T09:45:21.043Z"
   },
   {
    "duration": 14,
    "start_time": "2023-05-16T09:45:21.293Z"
   },
   {
    "duration": 39,
    "start_time": "2023-05-16T09:45:21.309Z"
   },
   {
    "duration": 10,
    "start_time": "2023-05-16T09:45:21.350Z"
   },
   {
    "duration": 18,
    "start_time": "2023-05-16T09:45:21.361Z"
   },
   {
    "duration": 24,
    "start_time": "2023-05-16T09:45:21.381Z"
   },
   {
    "duration": 21,
    "start_time": "2023-05-16T09:45:21.407Z"
   },
   {
    "duration": 27,
    "start_time": "2023-05-16T09:45:21.430Z"
   },
   {
    "duration": 25,
    "start_time": "2023-05-16T09:45:21.458Z"
   },
   {
    "duration": 30,
    "start_time": "2023-05-16T09:45:21.485Z"
   },
   {
    "duration": 14,
    "start_time": "2023-05-16T09:45:21.516Z"
   },
   {
    "duration": 32,
    "start_time": "2023-05-16T09:45:21.532Z"
   },
   {
    "duration": 32,
    "start_time": "2023-05-16T09:45:21.568Z"
   },
   {
    "duration": 23,
    "start_time": "2023-05-16T09:45:21.602Z"
   },
   {
    "duration": 446,
    "start_time": "2023-05-16T09:45:21.627Z"
   },
   {
    "duration": 6,
    "start_time": "2023-05-16T09:45:22.075Z"
   },
   {
    "duration": 21,
    "start_time": "2023-05-16T09:45:22.082Z"
   },
   {
    "duration": 25,
    "start_time": "2023-05-16T09:45:22.105Z"
   },
   {
    "duration": 37,
    "start_time": "2023-05-16T09:45:22.131Z"
   },
   {
    "duration": 32,
    "start_time": "2023-05-16T09:45:22.170Z"
   },
   {
    "duration": 36,
    "start_time": "2023-05-16T09:45:22.203Z"
   },
   {
    "duration": 47,
    "start_time": "2023-05-16T09:45:22.240Z"
   },
   {
    "duration": 17,
    "start_time": "2023-05-16T09:45:22.289Z"
   },
   {
    "duration": 159,
    "start_time": "2023-05-16T09:45:22.307Z"
   },
   {
    "duration": 379,
    "start_time": "2023-05-16T09:45:22.470Z"
   },
   {
    "duration": 42,
    "start_time": "2023-05-16T09:45:22.851Z"
   },
   {
    "duration": 245,
    "start_time": "2023-05-16T09:45:22.895Z"
   },
   {
    "duration": 331,
    "start_time": "2023-05-16T09:45:23.142Z"
   },
   {
    "duration": 10,
    "start_time": "2023-05-16T09:45:23.475Z"
   },
   {
    "duration": 38,
    "start_time": "2023-05-16T09:45:23.487Z"
   },
   {
    "duration": 36,
    "start_time": "2023-05-16T09:45:23.527Z"
   },
   {
    "duration": 65,
    "start_time": "2023-05-16T09:45:23.565Z"
   },
   {
    "duration": 114,
    "start_time": "2023-05-16T09:45:23.632Z"
   },
   {
    "duration": 111,
    "start_time": "2023-05-16T09:45:23.748Z"
   },
   {
    "duration": 105,
    "start_time": "2023-05-16T09:45:23.861Z"
   },
   {
    "duration": 31,
    "start_time": "2023-05-16T09:45:23.968Z"
   },
   {
    "duration": 89,
    "start_time": "2023-05-16T09:45:24.001Z"
   },
   {
    "duration": 34,
    "start_time": "2023-05-16T09:45:24.092Z"
   },
   {
    "duration": 72,
    "start_time": "2023-05-16T09:45:24.128Z"
   },
   {
    "duration": 13,
    "start_time": "2023-05-16T09:45:24.225Z"
   },
   {
    "duration": 125,
    "start_time": "2023-05-16T09:45:24.240Z"
   },
   {
    "duration": 379,
    "start_time": "2023-05-16T09:45:24.367Z"
   },
   {
    "duration": 10077,
    "start_time": "2023-05-16T09:45:24.748Z"
   },
   {
    "duration": 29,
    "start_time": "2023-05-16T09:45:34.826Z"
   },
   {
    "duration": 19,
    "start_time": "2023-05-16T09:45:34.857Z"
   },
   {
    "duration": 53,
    "start_time": "2023-05-16T09:45:34.878Z"
   },
   {
    "duration": 130,
    "start_time": "2023-05-16T09:45:34.933Z"
   },
   {
    "duration": 64,
    "start_time": "2023-05-16T09:45:35.065Z"
   },
   {
    "duration": 9,
    "start_time": "2023-05-16T09:45:35.131Z"
   },
   {
    "duration": 20,
    "start_time": "2023-05-16T09:45:35.142Z"
   },
   {
    "duration": 12,
    "start_time": "2023-05-16T09:45:35.164Z"
   },
   {
    "duration": 164,
    "start_time": "2023-05-16T09:45:35.178Z"
   },
   {
    "duration": 6,
    "start_time": "2023-05-16T09:45:35.344Z"
   },
   {
    "duration": 1543,
    "start_time": "2023-05-16T09:45:35.352Z"
   },
   {
    "duration": 6,
    "start_time": "2023-05-16T09:45:36.898Z"
   },
   {
    "duration": 96,
    "start_time": "2023-05-16T09:45:36.905Z"
   },
   {
    "duration": 15,
    "start_time": "2023-05-16T09:45:37.025Z"
   },
   {
    "duration": 115,
    "start_time": "2023-05-16T09:45:37.042Z"
   },
   {
    "duration": 12,
    "start_time": "2023-05-16T09:45:37.158Z"
   },
   {
    "duration": 132,
    "start_time": "2023-05-16T09:45:37.172Z"
   },
   {
    "duration": 14,
    "start_time": "2023-05-16T09:45:52.460Z"
   },
   {
    "duration": 137,
    "start_time": "2023-05-16T09:46:07.156Z"
   },
   {
    "duration": 11,
    "start_time": "2023-05-16T09:46:15.821Z"
   },
   {
    "duration": 121,
    "start_time": "2023-05-16T09:46:45.003Z"
   },
   {
    "duration": 3,
    "start_time": "2023-05-16T09:49:09.149Z"
   },
   {
    "duration": 26,
    "start_time": "2023-05-16T09:49:22.360Z"
   },
   {
    "duration": 10,
    "start_time": "2023-05-16T09:51:19.194Z"
   },
   {
    "duration": 14,
    "start_time": "2023-05-16T09:52:42.151Z"
   },
   {
    "duration": 3,
    "start_time": "2023-05-16T09:52:51.868Z"
   },
   {
    "duration": 88,
    "start_time": "2023-05-16T09:52:51.880Z"
   },
   {
    "duration": 13,
    "start_time": "2023-05-16T09:52:51.970Z"
   },
   {
    "duration": 51,
    "start_time": "2023-05-16T09:52:51.984Z"
   },
   {
    "duration": 6,
    "start_time": "2023-05-16T09:52:52.037Z"
   },
   {
    "duration": 23,
    "start_time": "2023-05-16T09:52:52.044Z"
   },
   {
    "duration": 62,
    "start_time": "2023-05-16T09:52:52.069Z"
   },
   {
    "duration": 33,
    "start_time": "2023-05-16T09:52:52.133Z"
   },
   {
    "duration": 56,
    "start_time": "2023-05-16T09:52:52.168Z"
   },
   {
    "duration": 49,
    "start_time": "2023-05-16T09:52:52.226Z"
   },
   {
    "duration": 26,
    "start_time": "2023-05-16T09:52:52.278Z"
   },
   {
    "duration": 13,
    "start_time": "2023-05-16T09:52:52.306Z"
   },
   {
    "duration": 30,
    "start_time": "2023-05-16T09:52:52.320Z"
   },
   {
    "duration": 31,
    "start_time": "2023-05-16T09:52:52.352Z"
   },
   {
    "duration": 47,
    "start_time": "2023-05-16T09:52:52.385Z"
   },
   {
    "duration": 26,
    "start_time": "2023-05-16T09:52:52.434Z"
   },
   {
    "duration": 36,
    "start_time": "2023-05-16T09:52:52.462Z"
   },
   {
    "duration": 500,
    "start_time": "2023-05-16T09:52:52.500Z"
   },
   {
    "duration": 5,
    "start_time": "2023-05-16T09:52:53.002Z"
   },
   {
    "duration": 36,
    "start_time": "2023-05-16T09:52:53.009Z"
   },
   {
    "duration": 17,
    "start_time": "2023-05-16T09:52:53.047Z"
   },
   {
    "duration": 13,
    "start_time": "2023-05-16T09:52:53.066Z"
   },
   {
    "duration": 39,
    "start_time": "2023-05-16T09:52:53.080Z"
   },
   {
    "duration": 24,
    "start_time": "2023-05-16T09:52:53.121Z"
   },
   {
    "duration": 34,
    "start_time": "2023-05-16T09:52:53.147Z"
   },
   {
    "duration": 21,
    "start_time": "2023-05-16T09:52:53.183Z"
   },
   {
    "duration": 19,
    "start_time": "2023-05-16T09:52:53.206Z"
   },
   {
    "duration": 62,
    "start_time": "2023-05-16T09:52:53.226Z"
   },
   {
    "duration": 68,
    "start_time": "2023-05-16T09:52:53.292Z"
   },
   {
    "duration": 234,
    "start_time": "2023-05-16T09:52:53.362Z"
   },
   {
    "duration": 336,
    "start_time": "2023-05-16T09:52:53.598Z"
   },
   {
    "duration": 11,
    "start_time": "2023-05-16T09:52:53.936Z"
   },
   {
    "duration": 43,
    "start_time": "2023-05-16T09:52:53.949Z"
   },
   {
    "duration": 28,
    "start_time": "2023-05-16T09:52:53.994Z"
   },
   {
    "duration": 78,
    "start_time": "2023-05-16T09:52:54.024Z"
   },
   {
    "duration": 53,
    "start_time": "2023-05-16T09:52:54.104Z"
   },
   {
    "duration": 110,
    "start_time": "2023-05-16T09:52:54.159Z"
   },
   {
    "duration": 97,
    "start_time": "2023-05-16T09:52:54.271Z"
   },
   {
    "duration": 29,
    "start_time": "2023-05-16T09:52:54.370Z"
   },
   {
    "duration": 94,
    "start_time": "2023-05-16T09:52:54.401Z"
   },
   {
    "duration": 28,
    "start_time": "2023-05-16T09:52:54.497Z"
   },
   {
    "duration": 280,
    "start_time": "2023-05-16T09:52:54.527Z"
   },
   {
    "duration": 24,
    "start_time": "2023-05-16T09:52:54.809Z"
   },
   {
    "duration": 38,
    "start_time": "2023-05-16T09:52:54.835Z"
   },
   {
    "duration": 96,
    "start_time": "2023-05-16T09:52:54.875Z"
   },
   {
    "duration": 9833,
    "start_time": "2023-05-16T09:52:54.972Z"
   },
   {
    "duration": 32,
    "start_time": "2023-05-16T09:53:04.808Z"
   },
   {
    "duration": 21,
    "start_time": "2023-05-16T09:53:04.842Z"
   },
   {
    "duration": 61,
    "start_time": "2023-05-16T09:53:04.864Z"
   },
   {
    "duration": 133,
    "start_time": "2023-05-16T09:53:04.927Z"
   },
   {
    "duration": 66,
    "start_time": "2023-05-16T09:53:05.062Z"
   },
   {
    "duration": 39,
    "start_time": "2023-05-16T09:53:05.130Z"
   },
   {
    "duration": 24,
    "start_time": "2023-05-16T09:53:05.172Z"
   },
   {
    "duration": 17,
    "start_time": "2023-05-16T09:53:05.198Z"
   },
   {
    "duration": 409,
    "start_time": "2023-05-16T09:53:05.217Z"
   },
   {
    "duration": 7,
    "start_time": "2023-05-16T09:53:05.629Z"
   },
   {
    "duration": 1597,
    "start_time": "2023-05-16T09:53:05.638Z"
   },
   {
    "duration": 5,
    "start_time": "2023-05-16T09:53:07.237Z"
   },
   {
    "duration": 124,
    "start_time": "2023-05-16T09:53:07.244Z"
   },
   {
    "duration": 13,
    "start_time": "2023-05-16T09:53:07.370Z"
   },
   {
    "duration": 122,
    "start_time": "2023-05-16T09:53:07.385Z"
   },
   {
    "duration": 18,
    "start_time": "2023-05-16T09:53:07.509Z"
   },
   {
    "duration": 130,
    "start_time": "2023-05-16T09:53:07.529Z"
   }
  ],
  "kernelspec": {
   "display_name": "Python 3 (ipykernel)",
   "language": "python",
   "name": "python3"
  },
  "language_info": {
   "codemirror_mode": {
    "name": "ipython",
    "version": 3
   },
   "file_extension": ".py",
   "mimetype": "text/x-python",
   "name": "python",
   "nbconvert_exporter": "python",
   "pygments_lexer": "ipython3",
   "version": "3.9.5"
  },
  "toc": {
   "base_numbering": 1,
   "nav_menu": {},
   "number_sections": true,
   "sideBar": true,
   "skip_h1_title": true,
   "title_cell": "Table of Contents",
   "title_sidebar": "Contents",
   "toc_cell": false,
   "toc_position": {},
   "toc_section_display": true,
   "toc_window_display": false
  }
 },
 "nbformat": 4,
 "nbformat_minor": 2
}
