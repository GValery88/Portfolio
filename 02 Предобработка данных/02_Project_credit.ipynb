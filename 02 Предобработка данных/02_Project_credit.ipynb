{
 "cells": [
  {
   "cell_type": "markdown",
   "id": "93e8b84a",
   "metadata": {
    "deletable": false,
    "editable": false,
    "id": "c81daeeb"
   },
   "source": [
    "# Исследование надежности заемщиков\n"
   ]
  },
  {
   "cell_type": "markdown",
   "id": "ebb6e335",
   "metadata": {
    "deletable": false,
    "editable": false,
    "id": "827c20bf"
   },
   "source": [
    "Во второй части проекта вы выполните шаги 3 и 4. Их вручную проверит ревьюер.\n",
    "Чтобы вам не пришлось писать код заново для шагов 1 и 2, мы добавили авторские решения в ячейки с кодом. \n",
    "\n"
   ]
  },
  {
   "cell_type": "markdown",
   "id": "a62d008b",
   "metadata": {
    "deletable": false,
    "editable": false,
    "id": "744d7639"
   },
   "source": [
    "## Откройте таблицу и изучите общую информацию о данных"
   ]
  },
  {
   "cell_type": "markdown",
   "id": "19fd0c71",
   "metadata": {
    "deletable": false,
    "editable": false,
    "id": "e7a14c31"
   },
   "source": [
    "**Задание 1. Импортируйте библиотеку pandas. Считайте данные из csv-файла в датафрейм и сохраните в переменную `data`. Путь к файлу:**\n",
    "\n",
    "`/datasets/data.csv`"
   ]
  },
  {
   "cell_type": "code",
   "execution_count": 1,
   "id": "2f7264a5",
   "metadata": {
    "deletable": false,
    "id": "7bcf75c9"
   },
   "outputs": [],
   "source": [
    "import pandas as pd\n",
    "\n",
    "try:\n",
    "    data = pd.read_csv('/datasets/data.csv')\n",
    "except:\n",
    "    data = pd.read_csv('https://code.s3.yandex.net/datasets/data.csv')"
   ]
  },
  {
   "cell_type": "markdown",
   "id": "1ec82481",
   "metadata": {
    "deletable": false,
    "editable": false,
    "id": "b8038fe3"
   },
   "source": [
    "**Задание 2. Выведите первые 20 строчек датафрейма `data` на экран.**"
   ]
  },
  {
   "cell_type": "code",
   "execution_count": 2,
   "id": "207e188f",
   "metadata": {
    "deletable": false,
    "id": "2a7cab99",
    "outputId": "1a8f3ef2-d323-4ec2-ddf7-89670b5944c4"
   },
   "outputs": [
    {
     "data": {
      "text/html": [
       "<div>\n",
       "<style scoped>\n",
       "    .dataframe tbody tr th:only-of-type {\n",
       "        vertical-align: middle;\n",
       "    }\n",
       "\n",
       "    .dataframe tbody tr th {\n",
       "        vertical-align: top;\n",
       "    }\n",
       "\n",
       "    .dataframe thead th {\n",
       "        text-align: right;\n",
       "    }\n",
       "</style>\n",
       "<table border=\"1\" class=\"dataframe\">\n",
       "  <thead>\n",
       "    <tr style=\"text-align: right;\">\n",
       "      <th></th>\n",
       "      <th>children</th>\n",
       "      <th>days_employed</th>\n",
       "      <th>dob_years</th>\n",
       "      <th>education</th>\n",
       "      <th>education_id</th>\n",
       "      <th>family_status</th>\n",
       "      <th>family_status_id</th>\n",
       "      <th>gender</th>\n",
       "      <th>income_type</th>\n",
       "      <th>debt</th>\n",
       "      <th>total_income</th>\n",
       "      <th>purpose</th>\n",
       "    </tr>\n",
       "  </thead>\n",
       "  <tbody>\n",
       "    <tr>\n",
       "      <th>0</th>\n",
       "      <td>1</td>\n",
       "      <td>-8437.673028</td>\n",
       "      <td>42</td>\n",
       "      <td>высшее</td>\n",
       "      <td>0</td>\n",
       "      <td>женат / замужем</td>\n",
       "      <td>0</td>\n",
       "      <td>F</td>\n",
       "      <td>сотрудник</td>\n",
       "      <td>0</td>\n",
       "      <td>253875.639453</td>\n",
       "      <td>покупка жилья</td>\n",
       "    </tr>\n",
       "    <tr>\n",
       "      <th>1</th>\n",
       "      <td>1</td>\n",
       "      <td>-4024.803754</td>\n",
       "      <td>36</td>\n",
       "      <td>среднее</td>\n",
       "      <td>1</td>\n",
       "      <td>женат / замужем</td>\n",
       "      <td>0</td>\n",
       "      <td>F</td>\n",
       "      <td>сотрудник</td>\n",
       "      <td>0</td>\n",
       "      <td>112080.014102</td>\n",
       "      <td>приобретение автомобиля</td>\n",
       "    </tr>\n",
       "    <tr>\n",
       "      <th>2</th>\n",
       "      <td>0</td>\n",
       "      <td>-5623.422610</td>\n",
       "      <td>33</td>\n",
       "      <td>Среднее</td>\n",
       "      <td>1</td>\n",
       "      <td>женат / замужем</td>\n",
       "      <td>0</td>\n",
       "      <td>M</td>\n",
       "      <td>сотрудник</td>\n",
       "      <td>0</td>\n",
       "      <td>145885.952297</td>\n",
       "      <td>покупка жилья</td>\n",
       "    </tr>\n",
       "    <tr>\n",
       "      <th>3</th>\n",
       "      <td>3</td>\n",
       "      <td>-4124.747207</td>\n",
       "      <td>32</td>\n",
       "      <td>среднее</td>\n",
       "      <td>1</td>\n",
       "      <td>женат / замужем</td>\n",
       "      <td>0</td>\n",
       "      <td>M</td>\n",
       "      <td>сотрудник</td>\n",
       "      <td>0</td>\n",
       "      <td>267628.550329</td>\n",
       "      <td>дополнительное образование</td>\n",
       "    </tr>\n",
       "    <tr>\n",
       "      <th>4</th>\n",
       "      <td>0</td>\n",
       "      <td>340266.072047</td>\n",
       "      <td>53</td>\n",
       "      <td>среднее</td>\n",
       "      <td>1</td>\n",
       "      <td>гражданский брак</td>\n",
       "      <td>1</td>\n",
       "      <td>F</td>\n",
       "      <td>пенсионер</td>\n",
       "      <td>0</td>\n",
       "      <td>158616.077870</td>\n",
       "      <td>сыграть свадьбу</td>\n",
       "    </tr>\n",
       "    <tr>\n",
       "      <th>5</th>\n",
       "      <td>0</td>\n",
       "      <td>-926.185831</td>\n",
       "      <td>27</td>\n",
       "      <td>высшее</td>\n",
       "      <td>0</td>\n",
       "      <td>гражданский брак</td>\n",
       "      <td>1</td>\n",
       "      <td>M</td>\n",
       "      <td>компаньон</td>\n",
       "      <td>0</td>\n",
       "      <td>255763.565419</td>\n",
       "      <td>покупка жилья</td>\n",
       "    </tr>\n",
       "    <tr>\n",
       "      <th>6</th>\n",
       "      <td>0</td>\n",
       "      <td>-2879.202052</td>\n",
       "      <td>43</td>\n",
       "      <td>высшее</td>\n",
       "      <td>0</td>\n",
       "      <td>женат / замужем</td>\n",
       "      <td>0</td>\n",
       "      <td>F</td>\n",
       "      <td>компаньон</td>\n",
       "      <td>0</td>\n",
       "      <td>240525.971920</td>\n",
       "      <td>операции с жильем</td>\n",
       "    </tr>\n",
       "    <tr>\n",
       "      <th>7</th>\n",
       "      <td>0</td>\n",
       "      <td>-152.779569</td>\n",
       "      <td>50</td>\n",
       "      <td>СРЕДНЕЕ</td>\n",
       "      <td>1</td>\n",
       "      <td>женат / замужем</td>\n",
       "      <td>0</td>\n",
       "      <td>M</td>\n",
       "      <td>сотрудник</td>\n",
       "      <td>0</td>\n",
       "      <td>135823.934197</td>\n",
       "      <td>образование</td>\n",
       "    </tr>\n",
       "    <tr>\n",
       "      <th>8</th>\n",
       "      <td>2</td>\n",
       "      <td>-6929.865299</td>\n",
       "      <td>35</td>\n",
       "      <td>ВЫСШЕЕ</td>\n",
       "      <td>0</td>\n",
       "      <td>гражданский брак</td>\n",
       "      <td>1</td>\n",
       "      <td>F</td>\n",
       "      <td>сотрудник</td>\n",
       "      <td>0</td>\n",
       "      <td>95856.832424</td>\n",
       "      <td>на проведение свадьбы</td>\n",
       "    </tr>\n",
       "    <tr>\n",
       "      <th>9</th>\n",
       "      <td>0</td>\n",
       "      <td>-2188.756445</td>\n",
       "      <td>41</td>\n",
       "      <td>среднее</td>\n",
       "      <td>1</td>\n",
       "      <td>женат / замужем</td>\n",
       "      <td>0</td>\n",
       "      <td>M</td>\n",
       "      <td>сотрудник</td>\n",
       "      <td>0</td>\n",
       "      <td>144425.938277</td>\n",
       "      <td>покупка жилья для семьи</td>\n",
       "    </tr>\n",
       "    <tr>\n",
       "      <th>10</th>\n",
       "      <td>2</td>\n",
       "      <td>-4171.483647</td>\n",
       "      <td>36</td>\n",
       "      <td>высшее</td>\n",
       "      <td>0</td>\n",
       "      <td>женат / замужем</td>\n",
       "      <td>0</td>\n",
       "      <td>M</td>\n",
       "      <td>компаньон</td>\n",
       "      <td>0</td>\n",
       "      <td>113943.491460</td>\n",
       "      <td>покупка недвижимости</td>\n",
       "    </tr>\n",
       "    <tr>\n",
       "      <th>11</th>\n",
       "      <td>0</td>\n",
       "      <td>-792.701887</td>\n",
       "      <td>40</td>\n",
       "      <td>среднее</td>\n",
       "      <td>1</td>\n",
       "      <td>женат / замужем</td>\n",
       "      <td>0</td>\n",
       "      <td>F</td>\n",
       "      <td>сотрудник</td>\n",
       "      <td>0</td>\n",
       "      <td>77069.234271</td>\n",
       "      <td>покупка коммерческой недвижимости</td>\n",
       "    </tr>\n",
       "    <tr>\n",
       "      <th>12</th>\n",
       "      <td>0</td>\n",
       "      <td>NaN</td>\n",
       "      <td>65</td>\n",
       "      <td>среднее</td>\n",
       "      <td>1</td>\n",
       "      <td>гражданский брак</td>\n",
       "      <td>1</td>\n",
       "      <td>M</td>\n",
       "      <td>пенсионер</td>\n",
       "      <td>0</td>\n",
       "      <td>NaN</td>\n",
       "      <td>сыграть свадьбу</td>\n",
       "    </tr>\n",
       "    <tr>\n",
       "      <th>13</th>\n",
       "      <td>0</td>\n",
       "      <td>-1846.641941</td>\n",
       "      <td>54</td>\n",
       "      <td>неоконченное высшее</td>\n",
       "      <td>2</td>\n",
       "      <td>женат / замужем</td>\n",
       "      <td>0</td>\n",
       "      <td>F</td>\n",
       "      <td>сотрудник</td>\n",
       "      <td>0</td>\n",
       "      <td>130458.228857</td>\n",
       "      <td>приобретение автомобиля</td>\n",
       "    </tr>\n",
       "    <tr>\n",
       "      <th>14</th>\n",
       "      <td>0</td>\n",
       "      <td>-1844.956182</td>\n",
       "      <td>56</td>\n",
       "      <td>высшее</td>\n",
       "      <td>0</td>\n",
       "      <td>гражданский брак</td>\n",
       "      <td>1</td>\n",
       "      <td>F</td>\n",
       "      <td>компаньон</td>\n",
       "      <td>1</td>\n",
       "      <td>165127.911772</td>\n",
       "      <td>покупка жилой недвижимости</td>\n",
       "    </tr>\n",
       "    <tr>\n",
       "      <th>15</th>\n",
       "      <td>1</td>\n",
       "      <td>-972.364419</td>\n",
       "      <td>26</td>\n",
       "      <td>среднее</td>\n",
       "      <td>1</td>\n",
       "      <td>женат / замужем</td>\n",
       "      <td>0</td>\n",
       "      <td>F</td>\n",
       "      <td>сотрудник</td>\n",
       "      <td>0</td>\n",
       "      <td>116820.904450</td>\n",
       "      <td>строительство собственной недвижимости</td>\n",
       "    </tr>\n",
       "    <tr>\n",
       "      <th>16</th>\n",
       "      <td>0</td>\n",
       "      <td>-1719.934226</td>\n",
       "      <td>35</td>\n",
       "      <td>среднее</td>\n",
       "      <td>1</td>\n",
       "      <td>женат / замужем</td>\n",
       "      <td>0</td>\n",
       "      <td>F</td>\n",
       "      <td>сотрудник</td>\n",
       "      <td>0</td>\n",
       "      <td>289202.704229</td>\n",
       "      <td>недвижимость</td>\n",
       "    </tr>\n",
       "    <tr>\n",
       "      <th>17</th>\n",
       "      <td>0</td>\n",
       "      <td>-2369.999720</td>\n",
       "      <td>33</td>\n",
       "      <td>высшее</td>\n",
       "      <td>0</td>\n",
       "      <td>гражданский брак</td>\n",
       "      <td>1</td>\n",
       "      <td>M</td>\n",
       "      <td>сотрудник</td>\n",
       "      <td>0</td>\n",
       "      <td>90410.586745</td>\n",
       "      <td>строительство недвижимости</td>\n",
       "    </tr>\n",
       "    <tr>\n",
       "      <th>18</th>\n",
       "      <td>0</td>\n",
       "      <td>400281.136913</td>\n",
       "      <td>53</td>\n",
       "      <td>среднее</td>\n",
       "      <td>1</td>\n",
       "      <td>вдовец / вдова</td>\n",
       "      <td>2</td>\n",
       "      <td>F</td>\n",
       "      <td>пенсионер</td>\n",
       "      <td>0</td>\n",
       "      <td>56823.777243</td>\n",
       "      <td>на покупку подержанного автомобиля</td>\n",
       "    </tr>\n",
       "    <tr>\n",
       "      <th>19</th>\n",
       "      <td>0</td>\n",
       "      <td>-10038.818549</td>\n",
       "      <td>48</td>\n",
       "      <td>СРЕДНЕЕ</td>\n",
       "      <td>1</td>\n",
       "      <td>в разводе</td>\n",
       "      <td>3</td>\n",
       "      <td>F</td>\n",
       "      <td>сотрудник</td>\n",
       "      <td>0</td>\n",
       "      <td>242831.107982</td>\n",
       "      <td>на покупку своего автомобиля</td>\n",
       "    </tr>\n",
       "  </tbody>\n",
       "</table>\n",
       "</div>"
      ],
      "text/plain": [
       "    children  days_employed  dob_years            education  education_id  \\\n",
       "0          1   -8437.673028         42               высшее             0   \n",
       "1          1   -4024.803754         36              среднее             1   \n",
       "2          0   -5623.422610         33              Среднее             1   \n",
       "3          3   -4124.747207         32              среднее             1   \n",
       "4          0  340266.072047         53              среднее             1   \n",
       "5          0    -926.185831         27               высшее             0   \n",
       "6          0   -2879.202052         43               высшее             0   \n",
       "7          0    -152.779569         50              СРЕДНЕЕ             1   \n",
       "8          2   -6929.865299         35               ВЫСШЕЕ             0   \n",
       "9          0   -2188.756445         41              среднее             1   \n",
       "10         2   -4171.483647         36               высшее             0   \n",
       "11         0    -792.701887         40              среднее             1   \n",
       "12         0            NaN         65              среднее             1   \n",
       "13         0   -1846.641941         54  неоконченное высшее             2   \n",
       "14         0   -1844.956182         56               высшее             0   \n",
       "15         1    -972.364419         26              среднее             1   \n",
       "16         0   -1719.934226         35              среднее             1   \n",
       "17         0   -2369.999720         33               высшее             0   \n",
       "18         0  400281.136913         53              среднее             1   \n",
       "19         0  -10038.818549         48              СРЕДНЕЕ             1   \n",
       "\n",
       "       family_status  family_status_id gender income_type  debt  \\\n",
       "0    женат / замужем                 0      F   сотрудник     0   \n",
       "1    женат / замужем                 0      F   сотрудник     0   \n",
       "2    женат / замужем                 0      M   сотрудник     0   \n",
       "3    женат / замужем                 0      M   сотрудник     0   \n",
       "4   гражданский брак                 1      F   пенсионер     0   \n",
       "5   гражданский брак                 1      M   компаньон     0   \n",
       "6    женат / замужем                 0      F   компаньон     0   \n",
       "7    женат / замужем                 0      M   сотрудник     0   \n",
       "8   гражданский брак                 1      F   сотрудник     0   \n",
       "9    женат / замужем                 0      M   сотрудник     0   \n",
       "10   женат / замужем                 0      M   компаньон     0   \n",
       "11   женат / замужем                 0      F   сотрудник     0   \n",
       "12  гражданский брак                 1      M   пенсионер     0   \n",
       "13   женат / замужем                 0      F   сотрудник     0   \n",
       "14  гражданский брак                 1      F   компаньон     1   \n",
       "15   женат / замужем                 0      F   сотрудник     0   \n",
       "16   женат / замужем                 0      F   сотрудник     0   \n",
       "17  гражданский брак                 1      M   сотрудник     0   \n",
       "18    вдовец / вдова                 2      F   пенсионер     0   \n",
       "19         в разводе                 3      F   сотрудник     0   \n",
       "\n",
       "     total_income                                 purpose  \n",
       "0   253875.639453                           покупка жилья  \n",
       "1   112080.014102                 приобретение автомобиля  \n",
       "2   145885.952297                           покупка жилья  \n",
       "3   267628.550329              дополнительное образование  \n",
       "4   158616.077870                         сыграть свадьбу  \n",
       "5   255763.565419                           покупка жилья  \n",
       "6   240525.971920                       операции с жильем  \n",
       "7   135823.934197                             образование  \n",
       "8    95856.832424                   на проведение свадьбы  \n",
       "9   144425.938277                 покупка жилья для семьи  \n",
       "10  113943.491460                    покупка недвижимости  \n",
       "11   77069.234271       покупка коммерческой недвижимости  \n",
       "12            NaN                         сыграть свадьбу  \n",
       "13  130458.228857                 приобретение автомобиля  \n",
       "14  165127.911772              покупка жилой недвижимости  \n",
       "15  116820.904450  строительство собственной недвижимости  \n",
       "16  289202.704229                            недвижимость  \n",
       "17   90410.586745              строительство недвижимости  \n",
       "18   56823.777243      на покупку подержанного автомобиля  \n",
       "19  242831.107982            на покупку своего автомобиля  "
      ]
     },
     "execution_count": 2,
     "metadata": {},
     "output_type": "execute_result"
    }
   ],
   "source": [
    "data.head(20)"
   ]
  },
  {
   "cell_type": "markdown",
   "id": "38dd5bd7",
   "metadata": {
    "deletable": false,
    "editable": false,
    "id": "1c12e233"
   },
   "source": [
    "**Задание 3. Выведите основную информацию о датафрейме с помощью метода `info()`.**"
   ]
  },
  {
   "cell_type": "code",
   "execution_count": 3,
   "id": "f02e62dd",
   "metadata": {
    "deletable": false,
    "id": "2b757bca",
    "outputId": "15376089-8dad-46c9-b520-c05248d43158"
   },
   "outputs": [
    {
     "name": "stdout",
     "output_type": "stream",
     "text": [
      "<class 'pandas.core.frame.DataFrame'>\n",
      "RangeIndex: 21525 entries, 0 to 21524\n",
      "Data columns (total 12 columns):\n",
      " #   Column            Non-Null Count  Dtype  \n",
      "---  ------            --------------  -----  \n",
      " 0   children          21525 non-null  int64  \n",
      " 1   days_employed     19351 non-null  float64\n",
      " 2   dob_years         21525 non-null  int64  \n",
      " 3   education         21525 non-null  object \n",
      " 4   education_id      21525 non-null  int64  \n",
      " 5   family_status     21525 non-null  object \n",
      " 6   family_status_id  21525 non-null  int64  \n",
      " 7   gender            21525 non-null  object \n",
      " 8   income_type       21525 non-null  object \n",
      " 9   debt              21525 non-null  int64  \n",
      " 10  total_income      19351 non-null  float64\n",
      " 11  purpose           21525 non-null  object \n",
      "dtypes: float64(2), int64(5), object(5)\n",
      "memory usage: 2.0+ MB\n"
     ]
    }
   ],
   "source": [
    "data.info()"
   ]
  },
  {
   "cell_type": "markdown",
   "id": "30efaf7a",
   "metadata": {
    "deletable": false,
    "editable": false,
    "id": "333ec665"
   },
   "source": [
    "## Предобработка данных"
   ]
  },
  {
   "cell_type": "markdown",
   "id": "b4fd8b19",
   "metadata": {
    "deletable": false,
    "editable": false,
    "id": "02d92d53"
   },
   "source": [
    "### Удаление пропусков"
   ]
  },
  {
   "cell_type": "markdown",
   "id": "aacd9ff1",
   "metadata": {
    "deletable": false,
    "editable": false,
    "id": "cd84967c"
   },
   "source": [
    "**Задание 4. Выведите количество пропущенных значений для каждого столбца. Используйте комбинацию двух методов.**"
   ]
  },
  {
   "cell_type": "code",
   "execution_count": 4,
   "id": "8820370a",
   "metadata": {
    "deletable": false,
    "id": "7f9b2309",
    "outputId": "81f4d817-781c-465c-ed15-91ce4446810d"
   },
   "outputs": [
    {
     "data": {
      "text/plain": [
       "children               0\n",
       "days_employed       2174\n",
       "dob_years              0\n",
       "education              0\n",
       "education_id           0\n",
       "family_status          0\n",
       "family_status_id       0\n",
       "gender                 0\n",
       "income_type            0\n",
       "debt                   0\n",
       "total_income        2174\n",
       "purpose                0\n",
       "dtype: int64"
      ]
     },
     "execution_count": 4,
     "metadata": {},
     "output_type": "execute_result"
    }
   ],
   "source": [
    "data.isna().sum()"
   ]
  },
  {
   "cell_type": "markdown",
   "id": "b866fa70",
   "metadata": {
    "deletable": false,
    "editable": false,
    "id": "db86e27b"
   },
   "source": [
    "**Задание 5. В двух столбцах есть пропущенные значения. Один из них — `days_employed`. Пропуски в этом столбце вы обработаете на следующем этапе. Другой столбец с пропущенными значениями — `total_income` — хранит данные о доходах. На сумму дохода сильнее всего влияет тип занятости, поэтому заполнить пропуски в этом столбце нужно медианным значением по каждому типу из столбца `income_type`. Например, у человека с типом занятости `сотрудник` пропуск в столбце `total_income` должен быть заполнен медианным доходом среди всех записей с тем же типом.**"
   ]
  },
  {
   "cell_type": "code",
   "execution_count": 5,
   "id": "932a4d40",
   "metadata": {
    "deletable": false,
    "id": "42006a93"
   },
   "outputs": [],
   "source": [
    "for t in data['income_type'].unique():\n",
    "    data.loc[(data['income_type'] == t) & (data['total_income'].isna()), 'total_income'] = \\\n",
    "    data.loc[(data['income_type'] == t), 'total_income'].median()"
   ]
  },
  {
   "cell_type": "markdown",
   "id": "ec026c41",
   "metadata": {
    "deletable": false,
    "editable": false,
    "id": "89da5ece"
   },
   "source": [
    "### Обработка аномальных значений"
   ]
  },
  {
   "cell_type": "markdown",
   "id": "0c9d276c",
   "metadata": {
    "deletable": false,
    "editable": false,
    "id": "57964554"
   },
   "source": [
    "**Задание 6. В данных могут встречаться артефакты (аномалии) — значения, которые не отражают действительность и появились по какой-то ошибке. таким артефактом будет отрицательное количество дней трудового стажа в столбце `days_employed`. Для реальных данных это нормально. Обработайте значения в этом столбце: замените все отрицательные значения положительными с помощью метода `abs()`.**"
   ]
  },
  {
   "cell_type": "code",
   "execution_count": 6,
   "id": "7ce970a5",
   "metadata": {
    "deletable": false,
    "id": "f6f055bf"
   },
   "outputs": [],
   "source": [
    "data['days_employed'] = data['days_employed'].abs()"
   ]
  },
  {
   "cell_type": "markdown",
   "id": "48006b08",
   "metadata": {
    "deletable": false,
    "editable": false,
    "id": "6107dd2f"
   },
   "source": [
    "**Задание 7. Для каждого типа занятости выведите медианное значение трудового стажа `days_employed` в днях.**"
   ]
  },
  {
   "cell_type": "code",
   "execution_count": 7,
   "id": "fe110d50",
   "metadata": {
    "deletable": false,
    "id": "85a5faf6",
    "outputId": "801ef80e-522b-4668-f34e-565af7432bcf"
   },
   "outputs": [
    {
     "data": {
      "text/plain": [
       "income_type\n",
       "безработный        366413.652744\n",
       "в декрете            3296.759962\n",
       "госслужащий          2689.368353\n",
       "компаньон            1547.382223\n",
       "пенсионер          365213.306266\n",
       "предприниматель       520.848083\n",
       "сотрудник            1574.202821\n",
       "студент               578.751554\n",
       "Name: days_employed, dtype: float64"
      ]
     },
     "execution_count": 7,
     "metadata": {},
     "output_type": "execute_result"
    }
   ],
   "source": [
    "data.groupby('income_type')['days_employed'].agg('median')"
   ]
  },
  {
   "cell_type": "markdown",
   "id": "b0ac6079",
   "metadata": {
    "deletable": false,
    "editable": false,
    "id": "38d1a030"
   },
   "source": [
    "У двух типов (безработные и пенсионеры) получатся аномально большие значения. Исправить такие значения сложно, поэтому оставьте их как есть. Тем более этот столбец не понадобится вам для исследования."
   ]
  },
  {
   "cell_type": "markdown",
   "id": "307fdd63",
   "metadata": {
    "deletable": false,
    "editable": false,
    "id": "d8a9f147"
   },
   "source": [
    "**Задание 8. Выведите перечень уникальных значений столбца `children`.**"
   ]
  },
  {
   "cell_type": "code",
   "execution_count": 8,
   "id": "3e83d01d",
   "metadata": {
    "deletable": false,
    "id": "ef5056eb",
    "outputId": "6975b15c-7f95-4697-d16d-a0c79b657b03"
   },
   "outputs": [
    {
     "data": {
      "text/plain": [
       "array([ 1,  0,  3,  2, -1,  4, 20,  5])"
      ]
     },
     "execution_count": 8,
     "metadata": {},
     "output_type": "execute_result"
    }
   ],
   "source": [
    "data['children'].unique()"
   ]
  },
  {
   "cell_type": "markdown",
   "id": "4519ae3d",
   "metadata": {
    "deletable": false,
    "editable": false,
    "id": "40b9ebf2"
   },
   "source": [
    "**Задание 9. В столбце `children` есть два аномальных значения. Удалите строки, в которых встречаются такие аномальные значения из датафрейма `data`.**"
   ]
  },
  {
   "cell_type": "code",
   "execution_count": 9,
   "id": "12be9858",
   "metadata": {
    "deletable": false,
    "id": "3ff9801d"
   },
   "outputs": [],
   "source": [
    "data = data[(data['children'] != -1) & (data['children'] != 20)]"
   ]
  },
  {
   "cell_type": "markdown",
   "id": "f9cffd4b",
   "metadata": {
    "deletable": false,
    "editable": false,
    "id": "bbc4d0ce"
   },
   "source": [
    "**Задание 10. Ещё раз выведите перечень уникальных значений столбца `children`, чтобы убедиться, что артефакты удалены.**"
   ]
  },
  {
   "cell_type": "code",
   "execution_count": 10,
   "id": "70e237ca",
   "metadata": {
    "deletable": false,
    "id": "ad4fa8b7",
    "outputId": "b2097101-d49d-44d9-901b-32a65c9463d1"
   },
   "outputs": [
    {
     "data": {
      "text/plain": [
       "array([1, 0, 3, 2, 4, 5])"
      ]
     },
     "execution_count": 10,
     "metadata": {},
     "output_type": "execute_result"
    }
   ],
   "source": [
    "data['children'].unique()"
   ]
  },
  {
   "cell_type": "markdown",
   "id": "5a493ebb",
   "metadata": {
    "deletable": false,
    "editable": false,
    "id": "75440b63"
   },
   "source": [
    "### Удаление пропусков (продолжение)"
   ]
  },
  {
   "cell_type": "markdown",
   "id": "a721de87",
   "metadata": {
    "deletable": false,
    "editable": false,
    "id": "f4ea573f"
   },
   "source": [
    "**Задание 11. Заполните пропуски в столбце `days_employed` медианными значениями по каждого типа занятости `income_type`.**"
   ]
  },
  {
   "cell_type": "code",
   "execution_count": 11,
   "id": "36d590b1",
   "metadata": {
    "deletable": false,
    "id": "af6b1a7e"
   },
   "outputs": [],
   "source": [
    "for t in data['income_type'].unique():\n",
    "    data.query('ceiling_height>10') "
   ]
  },
  {
   "cell_type": "markdown",
   "id": "72b0b537",
   "metadata": {
    "deletable": false,
    "editable": false,
    "id": "2753f40d"
   },
   "source": [
    "**Задание 12. Убедитесь, что все пропуски заполнены. Проверьте себя и ещё раз выведите количество пропущенных значений для каждого столбца с помощью двух методов.**"
   ]
  },
  {
   "cell_type": "code",
   "execution_count": 12,
   "id": "32553572",
   "metadata": {
    "deletable": false,
    "id": "55f78bc2",
    "outputId": "8da1e4e1-358e-4e87-98c9-f261bce0a7b2"
   },
   "outputs": [
    {
     "data": {
      "text/plain": [
       "children            0\n",
       "days_employed       0\n",
       "dob_years           0\n",
       "education           0\n",
       "education_id        0\n",
       "family_status       0\n",
       "family_status_id    0\n",
       "gender              0\n",
       "income_type         0\n",
       "debt                0\n",
       "total_income        0\n",
       "purpose             0\n",
       "dtype: int64"
      ]
     },
     "execution_count": 12,
     "metadata": {},
     "output_type": "execute_result"
    }
   ],
   "source": [
    "data.isna().sum()"
   ]
  },
  {
   "cell_type": "markdown",
   "id": "c6289e07",
   "metadata": {
    "deletable": false,
    "editable": false,
    "id": "ddc81e43"
   },
   "source": [
    "### Изменение типов данных"
   ]
  },
  {
   "cell_type": "markdown",
   "id": "259218d8",
   "metadata": {
    "deletable": false,
    "editable": false,
    "id": "42d19d24"
   },
   "source": [
    "**Задание 13. Замените вещественный тип данных в столбце `total_income` на целочисленный с помощью метода `astype()`.**"
   ]
  },
  {
   "cell_type": "code",
   "execution_count": 13,
   "id": "7acd6e5a",
   "metadata": {
    "deletable": false,
    "id": "920b65ad"
   },
   "outputs": [],
   "source": [
    "data['total_income'] = data['total_income'].astype(int)"
   ]
  },
  {
   "cell_type": "markdown",
   "id": "c8e1eb36",
   "metadata": {
    "deletable": false,
    "editable": false,
    "id": "80c420ba"
   },
   "source": [
    "### Обработка дубликатов"
   ]
  },
  {
   "cell_type": "markdown",
   "id": "7ae716a6",
   "metadata": {
    "deletable": false,
    "editable": false
   },
   "source": [
    "**Задание 14. Обработайте неявные дубликаты в столбце `education`. В этом столбце есть одни и те же значения, но записанные по-разному: с использованием заглавных и строчных букв. Приведите их к нижнему регистру.**"
   ]
  },
  {
   "cell_type": "code",
   "execution_count": 14,
   "id": "7797841a",
   "metadata": {
    "deletable": false
   },
   "outputs": [],
   "source": [
    "data['education'] = data['education'].str.lower()"
   ]
  },
  {
   "cell_type": "markdown",
   "id": "c505ab62",
   "metadata": {
    "deletable": false,
    "editable": false,
    "id": "dc587695"
   },
   "source": [
    "**Задание 15. Выведите на экран количество строк-дубликатов в данных. Если такие строки присутствуют, удалите их.**"
   ]
  },
  {
   "cell_type": "code",
   "execution_count": 15,
   "id": "a5da5ee7",
   "metadata": {
    "deletable": false,
    "id": "3ee445e4",
    "outputId": "9684deba-1934-42d1-99e1-cda61740f822"
   },
   "outputs": [
    {
     "data": {
      "text/plain": [
       "71"
      ]
     },
     "execution_count": 15,
     "metadata": {},
     "output_type": "execute_result"
    }
   ],
   "source": [
    "data.duplicated().sum()"
   ]
  },
  {
   "cell_type": "code",
   "execution_count": 16,
   "id": "de3dcbec",
   "metadata": {
    "deletable": false,
    "id": "8575fe05"
   },
   "outputs": [],
   "source": [
    "data = data.drop_duplicates()"
   ]
  },
  {
   "cell_type": "markdown",
   "id": "274fb6ba",
   "metadata": {
    "deletable": false,
    "editable": false,
    "id": "9904cf55"
   },
   "source": [
    "### Категоризация данных"
   ]
  },
  {
   "cell_type": "markdown",
   "id": "7933d6ed",
   "metadata": {
    "deletable": false,
    "editable": false,
    "id": "72fcc8a2"
   },
   "source": [
    "**Задание 16. На основании диапазонов, указанных ниже, создайте в датафрейме `data` столбец `total_income_category` с категориями:**\n",
    "\n",
    "- 0–30000 — `'E'`;\n",
    "- 30001–50000 — `'D'`;\n",
    "- 50001–200000 — `'C'`;\n",
    "- 200001–1000000 — `'B'`;\n",
    "- 1000001 и выше — `'A'`.\n",
    "\n",
    "\n",
    "**Например, кредитополучателю с доходом 25000 нужно назначить категорию `'E'`, а клиенту, получающему 235000, — `'B'`. Используйте собственную функцию с именем `categorize_income()` и метод `apply()`.**"
   ]
  },
  {
   "cell_type": "code",
   "execution_count": 17,
   "id": "0b39a14c",
   "metadata": {
    "deletable": false,
    "id": "e1771346"
   },
   "outputs": [],
   "source": [
    "def categorize_income(income):\n",
    "    try:\n",
    "        if 0 <= income <= 30000:\n",
    "            return 'E'\n",
    "        elif 30001 <= income <= 50000:\n",
    "            return 'D'\n",
    "        elif 50001 <= income <= 200000:\n",
    "            return 'C'\n",
    "        elif 200001 <= income <= 1000000:\n",
    "            return 'B'\n",
    "        elif income >= 1000001:\n",
    "            return 'A'\n",
    "    except:\n",
    "        pass"
   ]
  },
  {
   "cell_type": "code",
   "execution_count": 18,
   "id": "d2ffdfcd",
   "metadata": {
    "deletable": false,
    "id": "d5f3586d"
   },
   "outputs": [],
   "source": [
    "data['total_income_category'] = data['total_income'].apply(categorize_income)"
   ]
  },
  {
   "cell_type": "markdown",
   "id": "1112710e",
   "metadata": {
    "deletable": false,
    "editable": false,
    "id": "dde49b5c"
   },
   "source": [
    "**Задание 17. Выведите на экран перечень уникальных целей взятия кредита из столбца `purpose`.**"
   ]
  },
  {
   "cell_type": "code",
   "execution_count": 19,
   "id": "d62b288d",
   "metadata": {
    "deletable": false,
    "id": "f67ce9b3",
    "outputId": "673c12d9-7d7e-4ae0-9812-c622c89dd244"
   },
   "outputs": [
    {
     "data": {
      "text/plain": [
       "array(['покупка жилья', 'приобретение автомобиля',\n",
       "       'дополнительное образование', 'сыграть свадьбу',\n",
       "       'операции с жильем', 'образование', 'на проведение свадьбы',\n",
       "       'покупка жилья для семьи', 'покупка недвижимости',\n",
       "       'покупка коммерческой недвижимости', 'покупка жилой недвижимости',\n",
       "       'строительство собственной недвижимости', 'недвижимость',\n",
       "       'строительство недвижимости', 'на покупку подержанного автомобиля',\n",
       "       'на покупку своего автомобиля',\n",
       "       'операции с коммерческой недвижимостью',\n",
       "       'строительство жилой недвижимости', 'жилье',\n",
       "       'операции со своей недвижимостью', 'автомобили',\n",
       "       'заняться образованием', 'сделка с подержанным автомобилем',\n",
       "       'получение образования', 'автомобиль', 'свадьба',\n",
       "       'получение дополнительного образования', 'покупка своего жилья',\n",
       "       'операции с недвижимостью', 'получение высшего образования',\n",
       "       'свой автомобиль', 'сделка с автомобилем',\n",
       "       'профильное образование', 'высшее образование',\n",
       "       'покупка жилья для сдачи', 'на покупку автомобиля', 'ремонт жилью',\n",
       "       'заняться высшим образованием'], dtype=object)"
      ]
     },
     "execution_count": 19,
     "metadata": {},
     "output_type": "execute_result"
    }
   ],
   "source": [
    "data['purpose'].unique()"
   ]
  },
  {
   "cell_type": "markdown",
   "id": "e941a7ca",
   "metadata": {
    "deletable": false,
    "editable": false,
    "id": "85d0aef0"
   },
   "source": [
    "**Задание 18. Создайте функцию, которая на основании данных из столбца `purpose` сформирует новый столбец `purpose_category`, в который войдут следующие категории:**\n",
    "\n",
    "- `'операции с автомобилем'`,\n",
    "- `'операции с недвижимостью'`,\n",
    "- `'проведение свадьбы'`,\n",
    "- `'получение образования'`.\n",
    "\n",
    "**Например, если в столбце `purpose` находится подстрока `'на покупку автомобиля'`, то в столбце `purpose_category` должна появиться строка `'операции с автомобилем'`.**\n",
    "\n",
    "**Используйте собственную функцию с именем `categorize_purpose()` и метод `apply()`. Изучите данные в столбце `purpose` и определите, какие подстроки помогут вам правильно определить категорию.**"
   ]
  },
  {
   "cell_type": "code",
   "execution_count": 20,
   "id": "d2709e11",
   "metadata": {
    "deletable": false,
    "id": "e149fab4"
   },
   "outputs": [],
   "source": [
    "def categorize_purpose(row):\n",
    "    try:\n",
    "        if 'автом' in row:\n",
    "            return 'операции с автомобилем'\n",
    "        elif 'жил' in row or 'недвиж' in row:\n",
    "            return 'операции с недвижимостью'\n",
    "        elif 'свад' in row:\n",
    "            return 'проведение свадьбы'\n",
    "        elif 'образов' in row:\n",
    "            return 'получение образования'\n",
    "    except:\n",
    "        return 'нет категории'"
   ]
  },
  {
   "cell_type": "code",
   "execution_count": 21,
   "id": "43f4ec3d",
   "metadata": {
    "deletable": false,
    "id": "bf36e69b"
   },
   "outputs": [],
   "source": [
    "data['purpose_category'] = data['purpose'].apply(categorize_purpose)"
   ]
  },
  {
   "cell_type": "markdown",
   "id": "51cf02ff",
   "metadata": {
    "deletable": false,
    "editable": false,
    "id": "09b242bf"
   },
   "source": [
    "### Шаг 3. Исследуйте данные и ответьте на вопросы"
   ]
  },
  {
   "cell_type": "markdown",
   "id": "a879b22a",
   "metadata": {
    "deletable": false,
    "editable": false,
    "id": "c5d66278"
   },
   "source": [
    "#### 3.1 Есть ли зависимость между количеством детей и возвратом кредита в срок?"
   ]
  },
  {
   "cell_type": "code",
   "execution_count": 22,
   "id": "3299644e",
   "metadata": {
    "deletable": false,
    "id": "2cacfc4a"
   },
   "outputs": [
    {
     "data": {
      "text/html": [
       "<div>\n",
       "<style scoped>\n",
       "    .dataframe tbody tr th:only-of-type {\n",
       "        vertical-align: middle;\n",
       "    }\n",
       "\n",
       "    .dataframe tbody tr th {\n",
       "        vertical-align: top;\n",
       "    }\n",
       "\n",
       "    .dataframe thead tr th {\n",
       "        text-align: left;\n",
       "    }\n",
       "\n",
       "    .dataframe thead tr:last-of-type th {\n",
       "        text-align: right;\n",
       "    }\n",
       "</style>\n",
       "<table border=\"1\" class=\"dataframe\">\n",
       "  <thead>\n",
       "    <tr>\n",
       "      <th></th>\n",
       "      <th>Итого заемщиков</th>\n",
       "      <th>Итого должников</th>\n",
       "      <th>Доля должников %</th>\n",
       "    </tr>\n",
       "    <tr>\n",
       "      <th></th>\n",
       "      <th></th>\n",
       "      <th></th>\n",
       "      <th></th>\n",
       "    </tr>\n",
       "    <tr>\n",
       "      <th>children</th>\n",
       "      <th></th>\n",
       "      <th></th>\n",
       "      <th></th>\n",
       "    </tr>\n",
       "  </thead>\n",
       "  <tbody>\n",
       "    <tr>\n",
       "      <th>0</th>\n",
       "      <td>14091</td>\n",
       "      <td>1063</td>\n",
       "      <td>0.075438</td>\n",
       "    </tr>\n",
       "    <tr>\n",
       "      <th>1</th>\n",
       "      <td>4808</td>\n",
       "      <td>444</td>\n",
       "      <td>0.092346</td>\n",
       "    </tr>\n",
       "    <tr>\n",
       "      <th>2</th>\n",
       "      <td>2052</td>\n",
       "      <td>194</td>\n",
       "      <td>0.094542</td>\n",
       "    </tr>\n",
       "    <tr>\n",
       "      <th>3</th>\n",
       "      <td>330</td>\n",
       "      <td>27</td>\n",
       "      <td>0.081818</td>\n",
       "    </tr>\n",
       "    <tr>\n",
       "      <th>4</th>\n",
       "      <td>41</td>\n",
       "      <td>4</td>\n",
       "      <td>0.097561</td>\n",
       "    </tr>\n",
       "    <tr>\n",
       "      <th>5</th>\n",
       "      <td>9</td>\n",
       "      <td>0</td>\n",
       "      <td>0.000000</td>\n",
       "    </tr>\n",
       "  </tbody>\n",
       "</table>\n",
       "</div>"
      ],
      "text/plain": [
       "         Итого заемщиков  Итого должников Доля должников %\n",
       "                                                          \n",
       "children                                                  \n",
       "0                  14091             1063         0.075438\n",
       "1                   4808              444         0.092346\n",
       "2                   2052              194         0.094542\n",
       "3                    330               27         0.081818\n",
       "4                     41                4         0.097561\n",
       "5                      9                0         0.000000"
      ]
     },
     "execution_count": 22,
     "metadata": {},
     "output_type": "execute_result"
    }
   ],
   "source": [
    "data_pivot = data.pivot_table(index=['children'], values=['debt'], aggfunc=['count',sum, 'mean'])\n",
    "data_pivot = data_pivot.rename(columns = {'debt':'', 'count':'Итого заемщиков', 'sum':' Итого должников',\n",
    "                                          'mean': 'Доля должников %'})\n",
    "data_pivot\n",
    "#Ваш код будет здесь. Вы можете создавать новые ячейки. Ваш код будет здесь. Вы можете создавать новые ячейки."
   ]
  },
  {
   "cell_type": "markdown",
   "id": "a9b2eb10",
   "metadata": {
    "deletable": false,
    "id": "3a6b99ec"
   },
   "source": [
    "**Вывод:** Из вышеуказанной  таблицы можно сделать вывод, что самые надежные заемщики без детей их доля составлет 7,5%. Менее надежными заемщиками можно считать заемщиками у которых 4 и 2 детей. Их доля составлет 9,7% и 9,45%. Так же из данного исследования видно что чем больше детей у заемщика тем меньше у него  кредитных обзательств. <font color='blue'>Для оценки доли должников с 5-ю детьми данные о количестве задолженностей отсутствуют. Но если следовать гипотезе, что многодетные семьи имеют наибольшую долю задалженностей по займам, то эту категорию можно отнести так же к менее надежным заемщикам.</font>"
   ]
  },
  {
   "cell_type": "markdown",
   "id": "156f3467",
   "metadata": {
    "deletable": false,
    "editable": false,
    "id": "97be82ca"
   },
   "source": [
    "#### 3.2 Есть ли зависимость между семейным положением и возвратом кредита в срок?"
   ]
  },
  {
   "cell_type": "code",
   "execution_count": 23,
   "id": "2d477575",
   "metadata": {
    "deletable": false,
    "id": "dc3f7ee8"
   },
   "outputs": [
    {
     "data": {
      "text/html": [
       "<div>\n",
       "<style scoped>\n",
       "    .dataframe tbody tr th:only-of-type {\n",
       "        vertical-align: middle;\n",
       "    }\n",
       "\n",
       "    .dataframe tbody tr th {\n",
       "        vertical-align: top;\n",
       "    }\n",
       "\n",
       "    .dataframe thead tr th {\n",
       "        text-align: left;\n",
       "    }\n",
       "\n",
       "    .dataframe thead tr:last-of-type th {\n",
       "        text-align: right;\n",
       "    }\n",
       "</style>\n",
       "<table border=\"1\" class=\"dataframe\">\n",
       "  <thead>\n",
       "    <tr>\n",
       "      <th></th>\n",
       "      <th>Итого заемщиков</th>\n",
       "      <th>Итого должников</th>\n",
       "      <th>Доля должников %</th>\n",
       "    </tr>\n",
       "    <tr>\n",
       "      <th></th>\n",
       "      <th></th>\n",
       "      <th></th>\n",
       "      <th></th>\n",
       "    </tr>\n",
       "    <tr>\n",
       "      <th>children</th>\n",
       "      <th></th>\n",
       "      <th></th>\n",
       "      <th></th>\n",
       "    </tr>\n",
       "  </thead>\n",
       "  <tbody>\n",
       "    <tr>\n",
       "      <th>0</th>\n",
       "      <td>14091</td>\n",
       "      <td>1063</td>\n",
       "      <td>0.075438</td>\n",
       "    </tr>\n",
       "    <tr>\n",
       "      <th>1</th>\n",
       "      <td>4808</td>\n",
       "      <td>444</td>\n",
       "      <td>0.092346</td>\n",
       "    </tr>\n",
       "    <tr>\n",
       "      <th>2</th>\n",
       "      <td>2052</td>\n",
       "      <td>194</td>\n",
       "      <td>0.094542</td>\n",
       "    </tr>\n",
       "    <tr>\n",
       "      <th>3</th>\n",
       "      <td>330</td>\n",
       "      <td>27</td>\n",
       "      <td>0.081818</td>\n",
       "    </tr>\n",
       "    <tr>\n",
       "      <th>4</th>\n",
       "      <td>41</td>\n",
       "      <td>4</td>\n",
       "      <td>0.097561</td>\n",
       "    </tr>\n",
       "    <tr>\n",
       "      <th>5</th>\n",
       "      <td>9</td>\n",
       "      <td>0</td>\n",
       "      <td>0.000000</td>\n",
       "    </tr>\n",
       "  </tbody>\n",
       "</table>\n",
       "</div>"
      ],
      "text/plain": [
       "         Итого заемщиков  Итого должников Доля должников %\n",
       "                                                          \n",
       "children                                                  \n",
       "0                  14091             1063         0.075438\n",
       "1                   4808              444         0.092346\n",
       "2                   2052              194         0.094542\n",
       "3                    330               27         0.081818\n",
       "4                     41                4         0.097561\n",
       "5                      9                0         0.000000"
      ]
     },
     "execution_count": 23,
     "metadata": {},
     "output_type": "execute_result"
    }
   ],
   "source": [
    "data_pivot_2 = data.pivot_table(index=['family_status'], values=['debt'], aggfunc=['count',sum, 'mean'])\n",
    "data_pivot_2 = data_pivot.rename(columns = {'debt':'', 'count':'Итого заемщиков', 'sum':' Итого должников',\n",
    "                                          'mean': 'Доля должников %'})\n",
    "data_pivot_2"
   ]
  },
  {
   "cell_type": "markdown",
   "id": "c98d1f34",
   "metadata": {
    "deletable": false,
    "id": "1cef7837"
   },
   "source": [
    "**Вывод:** Самыми надежными заемщиками, имеющими наименьщее процентное отнощение задолженности по займам - 6.62%, являются вдовец(вдова). Менее надежными являются не женатые(не замужние) и лица живущие гражданским браком. Процентное отнощение задолженностей к общему числу выданных займов составляет 9,76 % и 9,31%. Т.е, если округлить, порядка 10 займов из 100, заемщиками в семейном статусе: не женат/не замужем и(или) в гражданскои браке оплачиваются с нарущением срока."
   ]
  },
  {
   "cell_type": "markdown",
   "id": "b6abeb19",
   "metadata": {
    "deletable": false,
    "editable": false,
    "id": "1e8b2fca"
   },
   "source": [
    "#### 3.3 Есть ли зависимость между уровнем дохода и возвратом кредита в срок?"
   ]
  },
  {
   "cell_type": "code",
   "execution_count": 24,
   "id": "66c31da1",
   "metadata": {
    "deletable": false,
    "id": "cd7e3720"
   },
   "outputs": [
    {
     "data": {
      "text/html": [
       "<div>\n",
       "<style scoped>\n",
       "    .dataframe tbody tr th:only-of-type {\n",
       "        vertical-align: middle;\n",
       "    }\n",
       "\n",
       "    .dataframe tbody tr th {\n",
       "        vertical-align: top;\n",
       "    }\n",
       "\n",
       "    .dataframe thead tr th {\n",
       "        text-align: left;\n",
       "    }\n",
       "\n",
       "    .dataframe thead tr:last-of-type th {\n",
       "        text-align: right;\n",
       "    }\n",
       "</style>\n",
       "<table border=\"1\" class=\"dataframe\">\n",
       "  <thead>\n",
       "    <tr>\n",
       "      <th></th>\n",
       "      <th>Итого заемщиков</th>\n",
       "      <th>Итого должников</th>\n",
       "      <th>Доля должников %</th>\n",
       "    </tr>\n",
       "    <tr>\n",
       "      <th></th>\n",
       "      <th></th>\n",
       "      <th></th>\n",
       "      <th></th>\n",
       "    </tr>\n",
       "    <tr>\n",
       "      <th>children</th>\n",
       "      <th></th>\n",
       "      <th></th>\n",
       "      <th></th>\n",
       "    </tr>\n",
       "  </thead>\n",
       "  <tbody>\n",
       "    <tr>\n",
       "      <th>0</th>\n",
       "      <td>14091</td>\n",
       "      <td>1063</td>\n",
       "      <td>0.075438</td>\n",
       "    </tr>\n",
       "    <tr>\n",
       "      <th>1</th>\n",
       "      <td>4808</td>\n",
       "      <td>444</td>\n",
       "      <td>0.092346</td>\n",
       "    </tr>\n",
       "    <tr>\n",
       "      <th>2</th>\n",
       "      <td>2052</td>\n",
       "      <td>194</td>\n",
       "      <td>0.094542</td>\n",
       "    </tr>\n",
       "    <tr>\n",
       "      <th>3</th>\n",
       "      <td>330</td>\n",
       "      <td>27</td>\n",
       "      <td>0.081818</td>\n",
       "    </tr>\n",
       "    <tr>\n",
       "      <th>4</th>\n",
       "      <td>41</td>\n",
       "      <td>4</td>\n",
       "      <td>0.097561</td>\n",
       "    </tr>\n",
       "    <tr>\n",
       "      <th>5</th>\n",
       "      <td>9</td>\n",
       "      <td>0</td>\n",
       "      <td>0.000000</td>\n",
       "    </tr>\n",
       "  </tbody>\n",
       "</table>\n",
       "</div>"
      ],
      "text/plain": [
       "         Итого заемщиков  Итого должников Доля должников %\n",
       "                                                          \n",
       "children                                                  \n",
       "0                  14091             1063         0.075438\n",
       "1                   4808              444         0.092346\n",
       "2                   2052              194         0.094542\n",
       "3                    330               27         0.081818\n",
       "4                     41                4         0.097561\n",
       "5                      9                0         0.000000"
      ]
     },
     "execution_count": 24,
     "metadata": {},
     "output_type": "execute_result"
    }
   ],
   "source": [
    "data_pivot_3 = data.pivot_table(index=['total_income_category'], values=['debt'], aggfunc=['count',sum, 'mean'])\n",
    "data_pivot_3 = data_pivot.rename(columns = {'debt':'', 'count':'Итого заемщиков', 'sum':' Итого должников',\n",
    "                                          'mean': 'Доля должников %'})\n",
    "data_pivot_3# Ваш код будет здесь. Вы можете создавать новые ячейки.# Ваш код будет здесь. Вы можете создавать новые ячейки."
   ]
  },
  {
   "cell_type": "markdown",
   "id": "10ebacba",
   "metadata": {
    "deletable": false,
    "id": "e8593def"
   },
   "source": [
    "**Вывод:** \n",
    "(0–30000 — 'E';\n",
    "30001–50000 — 'D';\n",
    "50001–200000 — 'C';\n",
    "200001–1000000 — 'B';\n",
    "1000001 и выше — 'A'.) СПРАВОЧНО\n",
    "\n",
    "По уровню дохода наименее надажные заемщики, заемщики категории 'Е', с уровнем дохода до 30 тыс.руб. Меньше всего допускают просрочек по займам, заемщики категории 'D'. Их уровень дохода составляет  от 30 до 50 тыс.руб."
   ]
  },
  {
   "cell_type": "markdown",
   "id": "2187bf53",
   "metadata": {
    "deletable": false,
    "editable": false,
    "id": "99ecbd1f"
   },
   "source": [
    "#### 3.4 Как разные цели кредита влияют на его возврат в срок?"
   ]
  },
  {
   "cell_type": "code",
   "execution_count": 25,
   "id": "f94ca3fa",
   "metadata": {
    "deletable": false,
    "id": "2b687290"
   },
   "outputs": [
    {
     "data": {
      "text/html": [
       "<div>\n",
       "<style scoped>\n",
       "    .dataframe tbody tr th:only-of-type {\n",
       "        vertical-align: middle;\n",
       "    }\n",
       "\n",
       "    .dataframe tbody tr th {\n",
       "        vertical-align: top;\n",
       "    }\n",
       "\n",
       "    .dataframe thead tr th {\n",
       "        text-align: left;\n",
       "    }\n",
       "\n",
       "    .dataframe thead tr:last-of-type th {\n",
       "        text-align: right;\n",
       "    }\n",
       "</style>\n",
       "<table border=\"1\" class=\"dataframe\">\n",
       "  <thead>\n",
       "    <tr>\n",
       "      <th></th>\n",
       "      <th>Итого заемщиков</th>\n",
       "      <th>Итого должников</th>\n",
       "      <th>Доля должников %</th>\n",
       "    </tr>\n",
       "    <tr>\n",
       "      <th></th>\n",
       "      <th></th>\n",
       "      <th></th>\n",
       "      <th></th>\n",
       "    </tr>\n",
       "    <tr>\n",
       "      <th>children</th>\n",
       "      <th></th>\n",
       "      <th></th>\n",
       "      <th></th>\n",
       "    </tr>\n",
       "  </thead>\n",
       "  <tbody>\n",
       "    <tr>\n",
       "      <th>0</th>\n",
       "      <td>14091</td>\n",
       "      <td>1063</td>\n",
       "      <td>0.075438</td>\n",
       "    </tr>\n",
       "    <tr>\n",
       "      <th>1</th>\n",
       "      <td>4808</td>\n",
       "      <td>444</td>\n",
       "      <td>0.092346</td>\n",
       "    </tr>\n",
       "    <tr>\n",
       "      <th>2</th>\n",
       "      <td>2052</td>\n",
       "      <td>194</td>\n",
       "      <td>0.094542</td>\n",
       "    </tr>\n",
       "    <tr>\n",
       "      <th>3</th>\n",
       "      <td>330</td>\n",
       "      <td>27</td>\n",
       "      <td>0.081818</td>\n",
       "    </tr>\n",
       "    <tr>\n",
       "      <th>4</th>\n",
       "      <td>41</td>\n",
       "      <td>4</td>\n",
       "      <td>0.097561</td>\n",
       "    </tr>\n",
       "    <tr>\n",
       "      <th>5</th>\n",
       "      <td>9</td>\n",
       "      <td>0</td>\n",
       "      <td>0.000000</td>\n",
       "    </tr>\n",
       "  </tbody>\n",
       "</table>\n",
       "</div>"
      ],
      "text/plain": [
       "         Итого заемщиков  Итого должников Доля должников %\n",
       "                                                          \n",
       "children                                                  \n",
       "0                  14091             1063         0.075438\n",
       "1                   4808              444         0.092346\n",
       "2                   2052              194         0.094542\n",
       "3                    330               27         0.081818\n",
       "4                     41                4         0.097561\n",
       "5                      9                0         0.000000"
      ]
     },
     "execution_count": 25,
     "metadata": {},
     "output_type": "execute_result"
    }
   ],
   "source": [
    "data_pivot_4 = data.pivot_table(index=['purpose_category'], values=['debt'], aggfunc=['count',sum, 'mean'])\n",
    "data_pivot_4 = data_pivot.rename(columns = {'debt':'', 'count':'Итого заемщиков', 'sum':' Итого должников',\n",
    "                                          'mean': 'Доля должников %'})\n",
    "data_pivot_4# Ваш код будет здесь. Вы можете создавать новые ячейки."
   ]
  },
  {
   "cell_type": "markdown",
   "id": "3b609384",
   "metadata": {
    "deletable": false,
    "id": "b4bb2ce6"
   },
   "source": [
    "**Вывод:** Анализирую данную таблицу можно сделать вывод, что наименьшая доля задолженностей по займам, свзанными с операцими, с недвижимостью - 7,25%. Далее по условному рейтингу надежности идут займы связанные с проведением сбадьбы - 7,91%. Наибольшее процентное отношение между общим количеством займов и задолженностью по ним имеют займы на операции с автомобилями - 9,34% и получение образования - 9,25%."
   ]
  },
  {
   "cell_type": "markdown",
   "id": "c59ef228",
   "metadata": {
    "deletable": false,
    "editable": false,
    "id": "09c3ac4c"
   },
   "source": [
    "#### 3.5 Приведите возможные причины появления пропусков в исходных данных."
   ]
  },
  {
   "cell_type": "markdown",
   "id": "a56b371f",
   "metadata": {
    "deletable": false,
    "id": "9da2ceda"
   },
   "source": [
    "*Ответ:* Одиноковое количество пропусков имеют столбцы 'days_employed' и 'total_income' -2174 пропука. Можно сделать вывод, что данные этих столбцов взаимосвзанны. Возможно эти столбцы имеют общее свойство: не обзательны для заполнения, либо не заполнение одного влечет к пропускам в данных в другом столбце."
   ]
  },
  {
   "cell_type": "markdown",
   "id": "69a739ec",
   "metadata": {
    "deletable": false,
    "editable": false,
    "id": "7b0487d6"
   },
   "source": [
    "#### 3.6 Объясните, почему заполнить пропуски медианным значением — лучшее решение для количественных переменных."
   ]
  },
  {
   "cell_type": "markdown",
   "id": "5cebf8d9",
   "metadata": {
    "deletable": false,
    "id": "7ecf2b8e"
   },
   "source": [
    "*Ответ:* В количественных переменных из-за наличия \"аномальных значений\"(разброса между маскимальным и минимальным значением) только с помощью медианного значения можно получить максимально среднее значение."
   ]
  },
  {
   "cell_type": "markdown",
   "id": "343afb8d",
   "metadata": {
    "deletable": false,
    "editable": false,
    "id": "6db5255a"
   },
   "source": [
    "### Шаг 4: общий вывод."
   ]
  },
  {
   "cell_type": "markdown",
   "id": "43611b9d",
   "metadata": {
    "deletable": false,
    "id": "bad65432"
   },
   "source": [
    "Из исследовани можно сделать общий вывод, что на возврат займом в срок могут повлиять множество факторов, это и наличие детей у заемщика, его семейное положение, уровень дохода, а так же цель, на осуществление  которой, береться займ. Если детально расмотреть по каждой категории, то самые надежные заемщики без детей их доля составлет 7,5%. Менее надежными заемщиками можно считать заемщиками у которых 4 и 2 детей. Их доля составлет 9,7% и 9,45%. Так же из данного исследования видно что чем больше детей у заемщика тем меньше у него  кредитных обзательств. Для оценки доли должников с 5-ю детьми данные о количестве задолженностей отсутствуют. Но если следовать гипотезе, что многодетные семьи имеют наибольшую долю задалженностей по займам, то эту категорию можно отнести так же к менее надежным заемщикам. \n",
    "В категории влиния семейного положения самыми надежными заемщиками, имеющими наименьщее процентное отнощение задолженности по займам - 6.62%, являются вдовец(вдова). Менее надежными являются не женатые(не замужние) и лица живущие гражданским браком. Процентное отнощение задолженностей к общему числу выданных займов составляет 9,76 % и 9,31%. Т.е, если округлить, порядка 10 займов из 100, заемщиками в семейном статусе: не женат/не замужем и(или) в гражданскои браке оплачиваются с нарущением срока. По уровню дохода наименее надажные заемщики, заемщики категории 'Е', с уровнем дохода до 30 тыс.руб. Меньше всего допускают просрочек по займам, заемщики категории 'D'. Их уровень дохода составляет  от 30 до 50 тыс.руб.  \n",
    "В категории влияния цели займа на возврат его в срок, наименьшая доля задолженностей по займам, свзанными с операцими, с недвижимостью - 7,25%. Далее по условному рейтингу надежности идут займы связанные с проведением сбадьбы - 7,91%. Наибольшее процентное отношение между общим количеством займов и задолженностью по ним имеют займы на операции с автомобилями - 9,34% и получение образования - 9,25%."
   ]
  }
 ],
 "metadata": {
  "ExecuteTimeLog": [
   {
    "duration": 44,
    "start_time": "2023-01-04T11:06:46.384Z"
   },
   {
    "duration": 6,
    "start_time": "2023-01-04T11:08:33.048Z"
   },
   {
    "duration": 6,
    "start_time": "2023-01-04T11:09:26.948Z"
   },
   {
    "duration": 6,
    "start_time": "2023-01-04T11:10:24.308Z"
   },
   {
    "duration": 6,
    "start_time": "2023-01-04T11:10:57.362Z"
   },
   {
    "duration": 476,
    "start_time": "2023-01-04T11:14:34.943Z"
   },
   {
    "duration": 19,
    "start_time": "2023-01-04T11:14:35.421Z"
   },
   {
    "duration": 16,
    "start_time": "2023-01-04T11:14:35.442Z"
   },
   {
    "duration": 9,
    "start_time": "2023-01-04T11:14:35.460Z"
   },
   {
    "duration": 54,
    "start_time": "2023-01-04T11:14:35.471Z"
   },
   {
    "duration": 3,
    "start_time": "2023-01-04T11:14:35.526Z"
   },
   {
    "duration": 13,
    "start_time": "2023-01-04T11:14:35.530Z"
   },
   {
    "duration": 5,
    "start_time": "2023-01-04T11:14:35.545Z"
   },
   {
    "duration": 7,
    "start_time": "2023-01-04T11:14:35.551Z"
   },
   {
    "duration": 11,
    "start_time": "2023-01-04T11:14:35.560Z"
   },
   {
    "duration": 40,
    "start_time": "2023-01-04T11:14:35.573Z"
   },
   {
    "duration": 9,
    "start_time": "2023-01-04T11:14:35.620Z"
   },
   {
    "duration": 19,
    "start_time": "2023-01-04T11:14:35.630Z"
   },
   {
    "duration": 14,
    "start_time": "2023-01-04T11:14:35.651Z"
   },
   {
    "duration": 19,
    "start_time": "2023-01-04T11:14:35.667Z"
   },
   {
    "duration": 15,
    "start_time": "2023-01-04T11:14:35.688Z"
   },
   {
    "duration": 3,
    "start_time": "2023-01-04T11:14:35.704Z"
   },
   {
    "duration": 19,
    "start_time": "2023-01-04T11:14:35.708Z"
   },
   {
    "duration": 5,
    "start_time": "2023-01-04T11:14:35.728Z"
   },
   {
    "duration": 5,
    "start_time": "2023-01-04T11:14:35.735Z"
   },
   {
    "duration": 10,
    "start_time": "2023-01-04T11:14:35.741Z"
   },
   {
    "duration": 7,
    "start_time": "2023-01-04T11:14:35.753Z"
   },
   {
    "duration": 7,
    "start_time": "2023-01-04T11:14:35.761Z"
   },
   {
    "duration": 14,
    "start_time": "2023-01-04T11:14:35.770Z"
   },
   {
    "duration": 5,
    "start_time": "2023-01-04T11:14:35.785Z"
   },
   {
    "duration": 5,
    "start_time": "2023-01-04T11:14:46.474Z"
   },
   {
    "duration": 18,
    "start_time": "2023-01-04T11:14:58.019Z"
   },
   {
    "duration": 3,
    "start_time": "2023-01-04T11:15:52.941Z"
   },
   {
    "duration": 7,
    "start_time": "2023-01-04T11:16:40.893Z"
   },
   {
    "duration": 6,
    "start_time": "2023-01-04T11:17:47.478Z"
   },
   {
    "duration": 5,
    "start_time": "2023-01-04T11:18:00.141Z"
   },
   {
    "duration": 6,
    "start_time": "2023-01-04T11:19:48.848Z"
   },
   {
    "duration": 43,
    "start_time": "2023-01-04T11:32:14.111Z"
   },
   {
    "duration": 49,
    "start_time": "2023-01-04T11:32:33.279Z"
   },
   {
    "duration": 46,
    "start_time": "2023-01-04T11:36:14.748Z"
   },
   {
    "duration": 45,
    "start_time": "2023-01-04T11:36:50.116Z"
   },
   {
    "duration": 51,
    "start_time": "2023-01-04T11:37:10.180Z"
   },
   {
    "duration": 51,
    "start_time": "2023-01-04T11:38:58.367Z"
   },
   {
    "duration": 39,
    "start_time": "2023-01-04T11:40:19.089Z"
   },
   {
    "duration": 51,
    "start_time": "2023-01-04T11:40:35.746Z"
   },
   {
    "duration": 27,
    "start_time": "2023-01-04T11:44:45.329Z"
   },
   {
    "duration": 50,
    "start_time": "2023-01-04T11:48:21.777Z"
   },
   {
    "duration": 44,
    "start_time": "2023-01-04T11:49:23.236Z"
   },
   {
    "duration": 49,
    "start_time": "2023-01-04T11:49:53.676Z"
   },
   {
    "duration": 334,
    "start_time": "2023-01-04T11:50:02.092Z"
   },
   {
    "duration": 45,
    "start_time": "2023-01-04T11:50:13.549Z"
   },
   {
    "duration": 51,
    "start_time": "2023-01-04T11:50:27.456Z"
   },
   {
    "duration": 47,
    "start_time": "2023-01-04T11:53:25.033Z"
   },
   {
    "duration": 19,
    "start_time": "2023-01-04T11:53:49.832Z"
   },
   {
    "duration": 4,
    "start_time": "2023-01-04T11:55:17.652Z"
   },
   {
    "duration": 4,
    "start_time": "2023-01-04T11:56:33.948Z"
   },
   {
    "duration": 53,
    "start_time": "2023-01-04T11:56:41.860Z"
   },
   {
    "duration": 57,
    "start_time": "2023-01-04T12:07:17.048Z"
   },
   {
    "duration": 44,
    "start_time": "2023-01-04T12:08:43.212Z"
   },
   {
    "duration": 53,
    "start_time": "2023-01-04T12:17:20.599Z"
   },
   {
    "duration": 43,
    "start_time": "2023-01-04T12:18:20.479Z"
   },
   {
    "duration": 45,
    "start_time": "2023-01-04T12:19:24.553Z"
   },
   {
    "duration": 43,
    "start_time": "2023-01-04T12:19:47.329Z"
   },
   {
    "duration": 42,
    "start_time": "2023-01-04T12:19:52.088Z"
   },
   {
    "duration": 3,
    "start_time": "2023-01-04T12:19:54.214Z"
   },
   {
    "duration": 42,
    "start_time": "2023-01-04T12:20:04.825Z"
   },
   {
    "duration": 700,
    "start_time": "2023-01-04T12:20:13.361Z"
   },
   {
    "duration": 26,
    "start_time": "2023-01-04T12:20:14.063Z"
   },
   {
    "duration": 16,
    "start_time": "2023-01-04T12:20:14.091Z"
   },
   {
    "duration": 8,
    "start_time": "2023-01-04T12:20:14.109Z"
   },
   {
    "duration": 33,
    "start_time": "2023-01-04T12:20:14.119Z"
   },
   {
    "duration": 25,
    "start_time": "2023-01-04T12:20:14.154Z"
   },
   {
    "duration": 10,
    "start_time": "2023-01-04T12:20:14.180Z"
   },
   {
    "duration": 5,
    "start_time": "2023-01-04T12:20:14.192Z"
   },
   {
    "duration": 10,
    "start_time": "2023-01-04T12:20:14.198Z"
   },
   {
    "duration": 12,
    "start_time": "2023-01-04T12:20:14.210Z"
   },
   {
    "duration": 35,
    "start_time": "2023-01-04T12:20:14.223Z"
   },
   {
    "duration": 23,
    "start_time": "2023-01-04T12:20:14.260Z"
   },
   {
    "duration": 6,
    "start_time": "2023-01-04T12:20:14.284Z"
   },
   {
    "duration": 12,
    "start_time": "2023-01-04T12:20:14.292Z"
   },
   {
    "duration": 20,
    "start_time": "2023-01-04T12:20:14.306Z"
   },
   {
    "duration": 18,
    "start_time": "2023-01-04T12:20:14.328Z"
   },
   {
    "duration": 31,
    "start_time": "2023-01-04T12:20:14.348Z"
   },
   {
    "duration": 22,
    "start_time": "2023-01-04T12:20:14.380Z"
   },
   {
    "duration": 16,
    "start_time": "2023-01-04T12:20:14.403Z"
   },
   {
    "duration": 14,
    "start_time": "2023-01-04T12:20:14.421Z"
   },
   {
    "duration": 33,
    "start_time": "2023-01-04T12:20:14.436Z"
   },
   {
    "duration": 33,
    "start_time": "2023-01-04T12:20:14.470Z"
   },
   {
    "duration": 19,
    "start_time": "2023-01-04T12:20:14.504Z"
   },
   {
    "duration": 18,
    "start_time": "2023-01-04T12:20:14.524Z"
   },
   {
    "duration": 11,
    "start_time": "2023-01-04T12:20:14.544Z"
   },
   {
    "duration": 14,
    "start_time": "2023-01-04T12:30:25.359Z"
   },
   {
    "duration": 9,
    "start_time": "2023-01-04T12:30:42.326Z"
   },
   {
    "duration": 9,
    "start_time": "2023-01-04T12:30:47.553Z"
   },
   {
    "duration": 73,
    "start_time": "2023-01-04T12:30:51.743Z"
   },
   {
    "duration": 16,
    "start_time": "2023-01-04T12:30:51.818Z"
   },
   {
    "duration": 33,
    "start_time": "2023-01-04T12:30:51.835Z"
   },
   {
    "duration": 22,
    "start_time": "2023-01-04T12:30:51.871Z"
   },
   {
    "duration": 45,
    "start_time": "2023-01-04T12:30:51.895Z"
   },
   {
    "duration": 20,
    "start_time": "2023-01-04T12:30:51.942Z"
   },
   {
    "duration": 37,
    "start_time": "2023-01-04T12:30:51.963Z"
   },
   {
    "duration": 26,
    "start_time": "2023-01-04T12:30:52.003Z"
   },
   {
    "duration": 27,
    "start_time": "2023-01-04T12:30:52.031Z"
   },
   {
    "duration": 12,
    "start_time": "2023-01-04T12:30:52.061Z"
   },
   {
    "duration": 53,
    "start_time": "2023-01-04T12:30:52.075Z"
   },
   {
    "duration": 11,
    "start_time": "2023-01-04T12:30:52.130Z"
   },
   {
    "duration": 27,
    "start_time": "2023-01-04T12:30:52.142Z"
   },
   {
    "duration": 32,
    "start_time": "2023-01-04T12:30:52.170Z"
   },
   {
    "duration": 37,
    "start_time": "2023-01-04T12:30:52.204Z"
   },
   {
    "duration": 35,
    "start_time": "2023-01-04T12:30:52.243Z"
   },
   {
    "duration": 9,
    "start_time": "2023-01-04T12:30:52.280Z"
   },
   {
    "duration": 38,
    "start_time": "2023-01-04T12:30:52.291Z"
   },
   {
    "duration": 23,
    "start_time": "2023-01-04T12:30:52.331Z"
   },
   {
    "duration": 22,
    "start_time": "2023-01-04T12:30:52.355Z"
   },
   {
    "duration": 47,
    "start_time": "2023-01-04T12:30:52.379Z"
   },
   {
    "duration": 29,
    "start_time": "2023-01-04T12:30:52.427Z"
   },
   {
    "duration": 16,
    "start_time": "2023-01-04T12:30:52.457Z"
   },
   {
    "duration": 24,
    "start_time": "2023-01-04T12:30:52.474Z"
   },
   {
    "duration": 25,
    "start_time": "2023-01-04T12:30:52.499Z"
   },
   {
    "duration": 68,
    "start_time": "2023-01-04T12:31:39.965Z"
   },
   {
    "duration": 15,
    "start_time": "2023-01-04T12:31:40.035Z"
   },
   {
    "duration": 41,
    "start_time": "2023-01-04T12:31:40.052Z"
   },
   {
    "duration": 13,
    "start_time": "2023-01-04T12:31:40.095Z"
   },
   {
    "duration": 56,
    "start_time": "2023-01-04T12:31:40.110Z"
   },
   {
    "duration": 3,
    "start_time": "2023-01-04T12:31:40.168Z"
   },
   {
    "duration": 25,
    "start_time": "2023-01-04T12:31:40.172Z"
   },
   {
    "duration": 22,
    "start_time": "2023-01-04T12:31:40.199Z"
   },
   {
    "duration": 19,
    "start_time": "2023-01-04T12:31:40.223Z"
   },
   {
    "duration": 25,
    "start_time": "2023-01-04T12:31:40.244Z"
   },
   {
    "duration": 49,
    "start_time": "2023-01-04T12:31:40.271Z"
   },
   {
    "duration": 9,
    "start_time": "2023-01-04T12:31:40.322Z"
   },
   {
    "duration": 19,
    "start_time": "2023-01-04T12:31:40.333Z"
   },
   {
    "duration": 13,
    "start_time": "2023-01-04T12:31:40.354Z"
   },
   {
    "duration": 19,
    "start_time": "2023-01-04T12:31:40.369Z"
   },
   {
    "duration": 18,
    "start_time": "2023-01-04T12:31:40.390Z"
   },
   {
    "duration": 4,
    "start_time": "2023-01-04T12:31:40.409Z"
   },
   {
    "duration": 13,
    "start_time": "2023-01-04T12:31:40.415Z"
   },
   {
    "duration": 6,
    "start_time": "2023-01-04T12:31:40.430Z"
   },
   {
    "duration": 4,
    "start_time": "2023-01-04T12:31:40.437Z"
   },
   {
    "duration": 35,
    "start_time": "2023-01-04T12:31:40.443Z"
   },
   {
    "duration": 14,
    "start_time": "2023-01-04T12:31:40.480Z"
   },
   {
    "duration": 2,
    "start_time": "2023-01-04T12:31:40.496Z"
   },
   {
    "duration": 4,
    "start_time": "2023-01-04T12:31:40.501Z"
   },
   {
    "duration": 5,
    "start_time": "2023-01-04T12:31:40.506Z"
   },
   {
    "duration": 10,
    "start_time": "2023-01-04T12:31:50.169Z"
   },
   {
    "duration": 10,
    "start_time": "2023-01-04T12:31:52.175Z"
   },
   {
    "duration": 71,
    "start_time": "2023-01-04T12:32:28.781Z"
   },
   {
    "duration": 16,
    "start_time": "2023-01-04T12:32:28.854Z"
   },
   {
    "duration": 31,
    "start_time": "2023-01-04T12:32:28.871Z"
   },
   {
    "duration": 33,
    "start_time": "2023-01-04T12:32:28.904Z"
   },
   {
    "duration": 44,
    "start_time": "2023-01-04T12:32:28.938Z"
   },
   {
    "duration": 3,
    "start_time": "2023-01-04T12:32:28.984Z"
   },
   {
    "duration": 26,
    "start_time": "2023-01-04T12:32:28.988Z"
   },
   {
    "duration": 8,
    "start_time": "2023-01-04T12:32:29.016Z"
   },
   {
    "duration": 38,
    "start_time": "2023-01-04T12:32:29.026Z"
   },
   {
    "duration": 19,
    "start_time": "2023-01-04T12:32:29.066Z"
   },
   {
    "duration": 60,
    "start_time": "2023-01-04T12:32:29.087Z"
   },
   {
    "duration": 9,
    "start_time": "2023-01-04T12:32:29.149Z"
   },
   {
    "duration": 39,
    "start_time": "2023-01-04T12:32:29.160Z"
   },
   {
    "duration": 18,
    "start_time": "2023-01-04T12:32:29.201Z"
   },
   {
    "duration": 25,
    "start_time": "2023-01-04T12:32:29.220Z"
   },
   {
    "duration": 18,
    "start_time": "2023-01-04T12:32:29.246Z"
   },
   {
    "duration": 3,
    "start_time": "2023-01-04T12:32:29.266Z"
   },
   {
    "duration": 41,
    "start_time": "2023-01-04T12:32:29.271Z"
   },
   {
    "duration": 29,
    "start_time": "2023-01-04T12:32:29.314Z"
   },
   {
    "duration": 9,
    "start_time": "2023-01-04T12:32:29.345Z"
   },
   {
    "duration": 34,
    "start_time": "2023-01-04T12:32:29.356Z"
   },
   {
    "duration": 41,
    "start_time": "2023-01-04T12:32:29.392Z"
   },
   {
    "duration": 23,
    "start_time": "2023-01-04T12:32:29.435Z"
   },
   {
    "duration": 29,
    "start_time": "2023-01-04T12:32:29.460Z"
   },
   {
    "duration": 14,
    "start_time": "2023-01-04T12:32:29.490Z"
   },
   {
    "duration": 10,
    "start_time": "2023-01-04T12:32:33.983Z"
   },
   {
    "duration": 9,
    "start_time": "2023-01-04T12:33:19.623Z"
   },
   {
    "duration": 9,
    "start_time": "2023-01-04T12:33:24.649Z"
   },
   {
    "duration": 13,
    "start_time": "2023-01-04T12:33:51.201Z"
   },
   {
    "duration": 37,
    "start_time": "2023-01-04T12:37:25.560Z"
   },
   {
    "duration": 14,
    "start_time": "2023-01-04T12:37:44.957Z"
   },
   {
    "duration": 15,
    "start_time": "2023-01-04T12:44:35.222Z"
   },
   {
    "duration": 18,
    "start_time": "2023-01-04T12:45:27.663Z"
   },
   {
    "duration": 21,
    "start_time": "2023-01-04T12:46:00.394Z"
   },
   {
    "duration": 13,
    "start_time": "2023-01-04T12:51:39.184Z"
   },
   {
    "duration": 43,
    "start_time": "2023-01-04T14:45:04.641Z"
   },
   {
    "duration": 7,
    "start_time": "2023-01-04T14:45:40.349Z"
   },
   {
    "duration": 541,
    "start_time": "2023-01-04T14:45:53.903Z"
   },
   {
    "duration": 22,
    "start_time": "2023-01-04T14:45:54.446Z"
   },
   {
    "duration": 21,
    "start_time": "2023-01-04T14:45:54.469Z"
   },
   {
    "duration": 67,
    "start_time": "2023-01-04T14:45:54.492Z"
   },
   {
    "duration": 57,
    "start_time": "2023-01-04T14:45:54.561Z"
   },
   {
    "duration": 18,
    "start_time": "2023-01-04T14:45:54.620Z"
   },
   {
    "duration": 70,
    "start_time": "2023-01-04T14:45:54.639Z"
   },
   {
    "duration": 10,
    "start_time": "2023-01-04T14:45:54.711Z"
   },
   {
    "duration": 40,
    "start_time": "2023-01-04T14:45:54.722Z"
   },
   {
    "duration": 37,
    "start_time": "2023-01-04T14:45:54.765Z"
   },
   {
    "duration": 43,
    "start_time": "2023-01-04T14:45:54.803Z"
   },
   {
    "duration": 10,
    "start_time": "2023-01-04T14:45:54.848Z"
   },
   {
    "duration": 23,
    "start_time": "2023-01-04T14:45:54.859Z"
   },
   {
    "duration": 23,
    "start_time": "2023-01-04T14:45:54.884Z"
   },
   {
    "duration": 81,
    "start_time": "2023-01-04T14:45:54.908Z"
   },
   {
    "duration": 25,
    "start_time": "2023-01-04T14:45:54.991Z"
   },
   {
    "duration": 5,
    "start_time": "2023-01-04T14:45:55.018Z"
   },
   {
    "duration": 54,
    "start_time": "2023-01-04T14:45:55.025Z"
   },
   {
    "duration": 29,
    "start_time": "2023-01-04T14:45:55.081Z"
   },
   {
    "duration": 42,
    "start_time": "2023-01-04T14:45:55.112Z"
   },
   {
    "duration": 23,
    "start_time": "2023-01-04T14:45:55.156Z"
   },
   {
    "duration": 60,
    "start_time": "2023-01-04T14:45:55.181Z"
   },
   {
    "duration": 6,
    "start_time": "2023-01-04T14:45:55.242Z"
   },
   {
    "duration": 27,
    "start_time": "2023-01-04T14:45:55.250Z"
   },
   {
    "duration": 32,
    "start_time": "2023-01-04T14:45:55.279Z"
   },
   {
    "duration": 41,
    "start_time": "2023-01-04T14:46:38.349Z"
   },
   {
    "duration": 12,
    "start_time": "2023-01-04T14:47:05.689Z"
   },
   {
    "duration": 14,
    "start_time": "2023-01-04T14:49:59.788Z"
   },
   {
    "duration": 12,
    "start_time": "2023-01-04T14:50:32.534Z"
   },
   {
    "duration": 30,
    "start_time": "2023-01-04T15:00:22.391Z"
   },
   {
    "duration": 22,
    "start_time": "2023-01-04T15:02:36.958Z"
   },
   {
    "duration": 12,
    "start_time": "2023-01-04T15:02:46.837Z"
   },
   {
    "duration": 93,
    "start_time": "2023-01-04T15:03:09.876Z"
   },
   {
    "duration": 78,
    "start_time": "2023-01-04T15:03:25.955Z"
   },
   {
    "duration": 11,
    "start_time": "2023-01-04T15:03:42.212Z"
   },
   {
    "duration": 26,
    "start_time": "2023-01-04T15:06:00.328Z"
   },
   {
    "duration": 21,
    "start_time": "2023-01-04T15:08:43.250Z"
   },
   {
    "duration": 13,
    "start_time": "2023-01-04T15:08:58.122Z"
   },
   {
    "duration": 78,
    "start_time": "2023-01-04T15:10:16.893Z"
   },
   {
    "duration": 37,
    "start_time": "2023-01-04T15:11:30.829Z"
   },
   {
    "duration": 38,
    "start_time": "2023-01-04T15:13:28.896Z"
   },
   {
    "duration": 15,
    "start_time": "2023-01-04T15:14:09.555Z"
   },
   {
    "duration": 14,
    "start_time": "2023-01-04T15:14:43.276Z"
   },
   {
    "duration": 12,
    "start_time": "2023-01-04T15:14:55.954Z"
   },
   {
    "duration": 11,
    "start_time": "2023-01-04T15:19:05.943Z"
   },
   {
    "duration": 30,
    "start_time": "2023-01-04T15:20:46.209Z"
   },
   {
    "duration": 31,
    "start_time": "2023-01-04T15:21:23.665Z"
   },
   {
    "duration": 24,
    "start_time": "2023-01-04T15:23:43.101Z"
   },
   {
    "duration": 13,
    "start_time": "2023-01-04T15:25:37.695Z"
   },
   {
    "duration": 16,
    "start_time": "2023-01-04T15:27:16.695Z"
   },
   {
    "duration": 6,
    "start_time": "2023-01-04T15:29:51.012Z"
   },
   {
    "duration": 10,
    "start_time": "2023-01-04T15:35:24.011Z"
   },
   {
    "duration": 15,
    "start_time": "2023-01-04T15:35:52.499Z"
   },
   {
    "duration": 13,
    "start_time": "2023-01-04T15:43:59.284Z"
   },
   {
    "duration": 19,
    "start_time": "2023-01-04T15:44:14.412Z"
   },
   {
    "duration": 6,
    "start_time": "2023-01-04T15:45:30.949Z"
   },
   {
    "duration": 8,
    "start_time": "2023-01-04T15:48:36.673Z"
   },
   {
    "duration": 22,
    "start_time": "2023-01-04T15:48:55.549Z"
   },
   {
    "duration": 6,
    "start_time": "2023-01-04T15:50:36.499Z"
   },
   {
    "duration": 32,
    "start_time": "2023-01-04T15:51:50.093Z"
   },
   {
    "duration": 5,
    "start_time": "2023-01-04T15:51:50.143Z"
   },
   {
    "duration": 15,
    "start_time": "2023-01-04T15:53:52.362Z"
   },
   {
    "duration": 22,
    "start_time": "2023-01-04T15:54:30.065Z"
   },
   {
    "duration": 29,
    "start_time": "2023-01-04T15:55:07.746Z"
   },
   {
    "duration": 5,
    "start_time": "2023-01-04T15:55:07.793Z"
   },
   {
    "duration": 13,
    "start_time": "2023-01-04T15:57:20.268Z"
   },
   {
    "duration": 75,
    "start_time": "2023-01-04T15:58:56.111Z"
   },
   {
    "duration": 0,
    "start_time": "2023-01-04T15:58:56.188Z"
   },
   {
    "duration": 13,
    "start_time": "2023-01-04T15:59:42.564Z"
   },
   {
    "duration": 13,
    "start_time": "2023-01-04T16:00:13.639Z"
   },
   {
    "duration": 13,
    "start_time": "2023-01-04T16:00:46.000Z"
   },
   {
    "duration": 6,
    "start_time": "2023-01-04T16:00:46.049Z"
   },
   {
    "duration": 37,
    "start_time": "2023-01-04T16:01:08.216Z"
   },
   {
    "duration": 6,
    "start_time": "2023-01-04T16:01:08.266Z"
   },
   {
    "duration": 8,
    "start_time": "2023-01-04T16:02:47.723Z"
   },
   {
    "duration": 21,
    "start_time": "2023-01-04T16:03:46.724Z"
   },
   {
    "duration": 7,
    "start_time": "2023-01-04T16:03:46.774Z"
   },
   {
    "duration": 22,
    "start_time": "2023-01-04T16:12:03.573Z"
   },
   {
    "duration": 20,
    "start_time": "2023-01-04T16:14:51.049Z"
   },
   {
    "duration": 20,
    "start_time": "2023-01-04T16:15:50.842Z"
   },
   {
    "duration": 745,
    "start_time": "2023-01-04T17:26:29.020Z"
   },
   {
    "duration": 22,
    "start_time": "2023-01-04T17:26:29.767Z"
   },
   {
    "duration": 15,
    "start_time": "2023-01-04T17:26:29.791Z"
   },
   {
    "duration": 12,
    "start_time": "2023-01-04T17:26:29.809Z"
   },
   {
    "duration": 52,
    "start_time": "2023-01-04T17:26:29.823Z"
   },
   {
    "duration": 3,
    "start_time": "2023-01-04T17:26:29.877Z"
   },
   {
    "duration": 14,
    "start_time": "2023-01-04T17:26:29.882Z"
   },
   {
    "duration": 22,
    "start_time": "2023-01-04T17:26:29.897Z"
   },
   {
    "duration": 13,
    "start_time": "2023-01-04T17:26:29.920Z"
   },
   {
    "duration": 7,
    "start_time": "2023-01-04T17:26:29.936Z"
   },
   {
    "duration": 50,
    "start_time": "2023-01-04T17:26:29.944Z"
   },
   {
    "duration": 23,
    "start_time": "2023-01-04T17:26:29.995Z"
   },
   {
    "duration": 5,
    "start_time": "2023-01-04T17:26:30.020Z"
   },
   {
    "duration": 22,
    "start_time": "2023-01-04T17:26:30.027Z"
   },
   {
    "duration": 29,
    "start_time": "2023-01-04T17:26:30.051Z"
   },
   {
    "duration": 16,
    "start_time": "2023-01-04T17:26:30.083Z"
   },
   {
    "duration": 4,
    "start_time": "2023-01-04T17:26:30.115Z"
   },
   {
    "duration": 24,
    "start_time": "2023-01-04T17:26:30.121Z"
   },
   {
    "duration": 8,
    "start_time": "2023-01-04T17:26:30.147Z"
   },
   {
    "duration": 20,
    "start_time": "2023-01-04T17:26:30.156Z"
   },
   {
    "duration": 34,
    "start_time": "2023-01-04T17:26:30.178Z"
   },
   {
    "duration": 35,
    "start_time": "2023-01-04T17:26:30.214Z"
   },
   {
    "duration": 4,
    "start_time": "2023-01-04T17:26:30.251Z"
   },
   {
    "duration": 31,
    "start_time": "2023-01-04T17:26:30.257Z"
   },
   {
    "duration": 72,
    "start_time": "2023-01-04T17:29:52.328Z"
   },
   {
    "duration": 16,
    "start_time": "2023-01-04T17:30:12.599Z"
   },
   {
    "duration": 46,
    "start_time": "2023-01-04T17:30:42.165Z"
   },
   {
    "duration": 71,
    "start_time": "2023-01-04T17:30:54.666Z"
   },
   {
    "duration": 14,
    "start_time": "2023-01-04T17:30:54.738Z"
   },
   {
    "duration": 15,
    "start_time": "2023-01-04T17:30:54.753Z"
   },
   {
    "duration": 12,
    "start_time": "2023-01-04T17:30:54.770Z"
   },
   {
    "duration": 57,
    "start_time": "2023-01-04T17:30:54.785Z"
   },
   {
    "duration": 4,
    "start_time": "2023-01-04T17:30:54.843Z"
   },
   {
    "duration": 11,
    "start_time": "2023-01-04T17:30:54.848Z"
   },
   {
    "duration": 3,
    "start_time": "2023-01-04T17:30:54.861Z"
   },
   {
    "duration": 6,
    "start_time": "2023-01-04T17:30:54.866Z"
   },
   {
    "duration": 4,
    "start_time": "2023-01-04T17:30:54.873Z"
   },
   {
    "duration": 60,
    "start_time": "2023-01-04T17:30:54.878Z"
   },
   {
    "duration": 10,
    "start_time": "2023-01-04T17:30:54.940Z"
   },
   {
    "duration": 6,
    "start_time": "2023-01-04T17:30:54.951Z"
   },
   {
    "duration": 16,
    "start_time": "2023-01-04T17:30:54.960Z"
   },
   {
    "duration": 41,
    "start_time": "2023-01-04T17:30:54.978Z"
   },
   {
    "duration": 16,
    "start_time": "2023-01-04T17:30:55.020Z"
   },
   {
    "duration": 4,
    "start_time": "2023-01-04T17:30:55.037Z"
   },
   {
    "duration": 16,
    "start_time": "2023-01-04T17:30:55.042Z"
   },
   {
    "duration": 7,
    "start_time": "2023-01-04T17:30:55.059Z"
   },
   {
    "duration": 4,
    "start_time": "2023-01-04T17:30:55.068Z"
   },
   {
    "duration": 17,
    "start_time": "2023-01-04T17:30:55.074Z"
   },
   {
    "duration": 57,
    "start_time": "2023-01-04T17:30:55.092Z"
   },
   {
    "duration": 2,
    "start_time": "2023-01-04T17:30:55.151Z"
   },
   {
    "duration": 5,
    "start_time": "2023-01-04T17:30:55.154Z"
   },
   {
    "duration": 18,
    "start_time": "2023-01-04T17:32:29.933Z"
   },
   {
    "duration": 27,
    "start_time": "2023-01-04T17:32:45.135Z"
   },
   {
    "duration": 18,
    "start_time": "2023-01-04T17:33:47.802Z"
   },
   {
    "duration": 43,
    "start_time": "2023-01-04T17:34:20.434Z"
   },
   {
    "duration": 8,
    "start_time": "2023-01-04T17:35:49.490Z"
   },
   {
    "duration": 45,
    "start_time": "2023-01-04T17:36:05.933Z"
   },
   {
    "duration": 14,
    "start_time": "2023-01-04T17:36:36.879Z"
   },
   {
    "duration": 11,
    "start_time": "2023-01-04T17:36:59.239Z"
   },
   {
    "duration": 45,
    "start_time": "2023-01-04T17:37:15.056Z"
   },
   {
    "duration": 20,
    "start_time": "2023-01-04T17:37:28.501Z"
   },
   {
    "duration": 48,
    "start_time": "2023-01-04T17:38:53.400Z"
   },
   {
    "duration": 16,
    "start_time": "2023-01-04T17:39:03.648Z"
   },
   {
    "duration": 14,
    "start_time": "2023-01-04T17:39:18.031Z"
   },
   {
    "duration": 7,
    "start_time": "2023-01-04T17:39:31.164Z"
   },
   {
    "duration": 3,
    "start_time": "2023-01-04T17:40:09.711Z"
   },
   {
    "duration": 7,
    "start_time": "2023-01-04T17:40:22.822Z"
   },
   {
    "duration": 44,
    "start_time": "2023-01-04T17:40:44.952Z"
   },
   {
    "duration": 7,
    "start_time": "2023-01-04T17:41:23.604Z"
   },
   {
    "duration": 59,
    "start_time": "2023-01-04T17:41:34.992Z"
   },
   {
    "duration": 50,
    "start_time": "2023-01-04T17:45:21.636Z"
   },
   {
    "duration": 56,
    "start_time": "2023-01-04T17:45:31.139Z"
   },
   {
    "duration": 48,
    "start_time": "2023-01-04T17:46:02.373Z"
   },
   {
    "duration": 29,
    "start_time": "2023-01-04T18:27:40.791Z"
   },
   {
    "duration": 25,
    "start_time": "2023-01-04T18:52:58.840Z"
   },
   {
    "duration": 25,
    "start_time": "2023-01-04T18:53:28.695Z"
   },
   {
    "duration": 26,
    "start_time": "2023-01-04T18:55:52.580Z"
   },
   {
    "duration": 32,
    "start_time": "2023-01-04T18:56:02.477Z"
   },
   {
    "duration": 4,
    "start_time": "2023-01-04T18:58:12.294Z"
   },
   {
    "duration": 7,
    "start_time": "2023-01-04T18:58:24.782Z"
   },
   {
    "duration": 6,
    "start_time": "2023-01-04T18:58:45.654Z"
   },
   {
    "duration": 6,
    "start_time": "2023-01-04T18:58:50.851Z"
   },
   {
    "duration": 548,
    "start_time": "2023-01-06T17:06:32.574Z"
   },
   {
    "duration": 31,
    "start_time": "2023-01-06T17:06:33.125Z"
   },
   {
    "duration": 13,
    "start_time": "2023-01-06T17:06:33.158Z"
   },
   {
    "duration": 9,
    "start_time": "2023-01-06T17:06:33.174Z"
   },
   {
    "duration": 63,
    "start_time": "2023-01-06T17:06:33.185Z"
   },
   {
    "duration": 6,
    "start_time": "2023-01-06T17:06:33.250Z"
   },
   {
    "duration": 17,
    "start_time": "2023-01-06T17:06:33.257Z"
   },
   {
    "duration": 4,
    "start_time": "2023-01-06T17:06:33.276Z"
   },
   {
    "duration": 9,
    "start_time": "2023-01-06T17:06:33.282Z"
   },
   {
    "duration": 24,
    "start_time": "2023-01-06T17:06:33.294Z"
   },
   {
    "duration": 47,
    "start_time": "2023-01-06T17:06:33.320Z"
   },
   {
    "duration": 8,
    "start_time": "2023-01-06T17:06:33.369Z"
   },
   {
    "duration": 7,
    "start_time": "2023-01-06T17:06:33.379Z"
   },
   {
    "duration": 34,
    "start_time": "2023-01-06T17:06:33.388Z"
   },
   {
    "duration": 24,
    "start_time": "2023-01-06T17:06:33.424Z"
   },
   {
    "duration": 26,
    "start_time": "2023-01-06T17:06:33.450Z"
   },
   {
    "duration": 5,
    "start_time": "2023-01-06T17:06:33.478Z"
   },
   {
    "duration": 38,
    "start_time": "2023-01-06T17:06:33.485Z"
   },
   {
    "duration": 9,
    "start_time": "2023-01-06T17:06:33.525Z"
   },
   {
    "duration": 6,
    "start_time": "2023-01-06T17:06:33.536Z"
   },
   {
    "duration": 18,
    "start_time": "2023-01-06T17:06:33.543Z"
   },
   {
    "duration": 38,
    "start_time": "2023-01-06T17:06:33.563Z"
   },
   {
    "duration": 37,
    "start_time": "2023-01-06T17:06:33.603Z"
   },
   {
    "duration": 2,
    "start_time": "2023-01-06T17:06:33.642Z"
   },
   {
    "duration": 11,
    "start_time": "2023-01-06T17:06:33.645Z"
   },
   {
    "duration": 89,
    "start_time": "2023-01-06T17:07:07.417Z"
   },
   {
    "duration": 21,
    "start_time": "2023-01-06T17:07:46.203Z"
   },
   {
    "duration": 1090,
    "start_time": "2023-01-06T17:13:51.410Z"
   },
   {
    "duration": 18,
    "start_time": "2023-01-06T17:16:25.836Z"
   },
   {
    "duration": 1269,
    "start_time": "2023-01-06T17:16:58.258Z"
   },
   {
    "duration": 30,
    "start_time": "2023-01-06T17:18:54.440Z"
   },
   {
    "duration": 24,
    "start_time": "2023-01-06T17:19:11.936Z"
   },
   {
    "duration": 24,
    "start_time": "2023-01-06T17:21:04.259Z"
   },
   {
    "duration": 100,
    "start_time": "2023-01-06T17:21:37.403Z"
   },
   {
    "duration": 76,
    "start_time": "2023-01-06T17:21:56.209Z"
   },
   {
    "duration": 80,
    "start_time": "2023-01-06T17:22:01.506Z"
   },
   {
    "duration": 33,
    "start_time": "2023-01-06T17:22:05.531Z"
   },
   {
    "duration": 26,
    "start_time": "2023-01-06T17:22:11.653Z"
   },
   {
    "duration": 26,
    "start_time": "2023-01-06T17:23:08.233Z"
   },
   {
    "duration": 22,
    "start_time": "2023-01-06T17:23:19.661Z"
   },
   {
    "duration": 23,
    "start_time": "2023-01-06T17:24:01.007Z"
   },
   {
    "duration": 23,
    "start_time": "2023-01-06T17:25:05.250Z"
   },
   {
    "duration": 24,
    "start_time": "2023-01-06T17:25:25.003Z"
   },
   {
    "duration": 22,
    "start_time": "2023-01-06T17:25:32.844Z"
   },
   {
    "duration": 85,
    "start_time": "2023-01-06T17:25:44.959Z"
   },
   {
    "duration": 21,
    "start_time": "2023-01-06T17:26:03.847Z"
   },
   {
    "duration": 22,
    "start_time": "2023-01-06T17:26:15.001Z"
   },
   {
    "duration": 25,
    "start_time": "2023-01-06T17:35:06.419Z"
   },
   {
    "duration": 24,
    "start_time": "2023-01-06T17:35:27.955Z"
   },
   {
    "duration": 24,
    "start_time": "2023-01-06T17:35:41.688Z"
   },
   {
    "duration": 25,
    "start_time": "2023-01-06T17:36:58.822Z"
   },
   {
    "duration": 24,
    "start_time": "2023-01-06T17:37:27.759Z"
   },
   {
    "duration": 22,
    "start_time": "2023-01-06T17:52:34.113Z"
   },
   {
    "duration": 25,
    "start_time": "2023-01-06T17:53:49.761Z"
   },
   {
    "duration": 23,
    "start_time": "2023-01-06T18:08:17.885Z"
   },
   {
    "duration": 665,
    "start_time": "2023-01-07T14:25:23.304Z"
   },
   {
    "duration": 21,
    "start_time": "2023-01-07T14:25:23.971Z"
   },
   {
    "duration": 13,
    "start_time": "2023-01-07T14:25:23.994Z"
   },
   {
    "duration": 11,
    "start_time": "2023-01-07T14:25:24.009Z"
   },
   {
    "duration": 40,
    "start_time": "2023-01-07T14:25:24.022Z"
   },
   {
    "duration": 4,
    "start_time": "2023-01-07T14:25:24.063Z"
   },
   {
    "duration": 20,
    "start_time": "2023-01-07T14:25:24.068Z"
   },
   {
    "duration": 9,
    "start_time": "2023-01-07T14:25:24.089Z"
   },
   {
    "duration": 11,
    "start_time": "2023-01-07T14:25:24.100Z"
   },
   {
    "duration": 12,
    "start_time": "2023-01-07T14:25:24.114Z"
   },
   {
    "duration": 33,
    "start_time": "2023-01-07T14:25:24.127Z"
   },
   {
    "duration": 9,
    "start_time": "2023-01-07T14:25:24.161Z"
   },
   {
    "duration": 8,
    "start_time": "2023-01-07T14:25:24.171Z"
   },
   {
    "duration": 19,
    "start_time": "2023-01-07T14:25:24.180Z"
   },
   {
    "duration": 19,
    "start_time": "2023-01-07T14:25:24.201Z"
   },
   {
    "duration": 20,
    "start_time": "2023-01-07T14:25:24.221Z"
   },
   {
    "duration": 4,
    "start_time": "2023-01-07T14:25:24.242Z"
   },
   {
    "duration": 23,
    "start_time": "2023-01-07T14:25:24.247Z"
   },
   {
    "duration": 6,
    "start_time": "2023-01-07T14:25:24.272Z"
   },
   {
    "duration": 18,
    "start_time": "2023-01-07T14:25:24.279Z"
   },
   {
    "duration": 23,
    "start_time": "2023-01-07T14:25:24.299Z"
   },
   {
    "duration": 37,
    "start_time": "2023-01-07T14:25:24.324Z"
   },
   {
    "duration": 26,
    "start_time": "2023-01-07T14:25:24.363Z"
   },
   {
    "duration": 6,
    "start_time": "2023-01-07T14:25:24.391Z"
   },
   {
    "duration": 4,
    "start_time": "2023-01-07T14:25:24.398Z"
   },
   {
    "duration": 26,
    "start_time": "2023-01-07T14:25:42.276Z"
   },
   {
    "duration": 739,
    "start_time": "2023-01-07T14:46:50.165Z"
   },
   {
    "duration": 26,
    "start_time": "2023-01-07T14:46:59.776Z"
   },
   {
    "duration": 31,
    "start_time": "2023-01-07T14:47:07.960Z"
   },
   {
    "duration": 29,
    "start_time": "2023-01-07T14:47:15.122Z"
   },
   {
    "duration": 35,
    "start_time": "2023-01-07T14:47:40.335Z"
   },
   {
    "duration": 30,
    "start_time": "2023-01-07T16:20:05.794Z"
   },
   {
    "duration": 29,
    "start_time": "2023-01-07T17:01:53.539Z"
   },
   {
    "duration": 842,
    "start_time": "2023-01-07T17:41:17.018Z"
   },
   {
    "duration": 31,
    "start_time": "2023-01-07T17:41:41.880Z"
   },
   {
    "duration": 850,
    "start_time": "2023-01-07T17:42:37.189Z"
   },
   {
    "duration": 25,
    "start_time": "2023-01-07T17:43:00.110Z"
   },
   {
    "duration": 25,
    "start_time": "2023-01-07T17:43:53.329Z"
   },
   {
    "duration": 29,
    "start_time": "2023-01-07T17:45:12.040Z"
   },
   {
    "duration": 75,
    "start_time": "2023-01-07T18:00:16.967Z"
   },
   {
    "duration": 27,
    "start_time": "2023-01-07T18:00:17.044Z"
   },
   {
    "duration": 14,
    "start_time": "2023-01-07T18:00:17.073Z"
   },
   {
    "duration": 46,
    "start_time": "2023-01-07T18:00:17.089Z"
   },
   {
    "duration": 32,
    "start_time": "2023-01-07T18:00:17.137Z"
   },
   {
    "duration": 4,
    "start_time": "2023-01-07T18:00:17.170Z"
   },
   {
    "duration": 13,
    "start_time": "2023-01-07T18:00:17.176Z"
   },
   {
    "duration": 6,
    "start_time": "2023-01-07T18:00:17.191Z"
   },
   {
    "duration": 35,
    "start_time": "2023-01-07T18:00:17.199Z"
   },
   {
    "duration": 6,
    "start_time": "2023-01-07T18:00:17.237Z"
   },
   {
    "duration": 31,
    "start_time": "2023-01-07T18:00:17.244Z"
   },
   {
    "duration": 9,
    "start_time": "2023-01-07T18:00:17.277Z"
   },
   {
    "duration": 34,
    "start_time": "2023-01-07T18:00:17.288Z"
   },
   {
    "duration": 27,
    "start_time": "2023-01-07T18:00:17.324Z"
   },
   {
    "duration": 23,
    "start_time": "2023-01-07T18:00:17.352Z"
   },
   {
    "duration": 36,
    "start_time": "2023-01-07T18:00:17.376Z"
   },
   {
    "duration": 5,
    "start_time": "2023-01-07T18:00:17.416Z"
   },
   {
    "duration": 16,
    "start_time": "2023-01-07T18:00:17.423Z"
   },
   {
    "duration": 6,
    "start_time": "2023-01-07T18:00:17.440Z"
   },
   {
    "duration": 9,
    "start_time": "2023-01-07T18:00:17.447Z"
   },
   {
    "duration": 14,
    "start_time": "2023-01-07T18:00:17.457Z"
   },
   {
    "duration": 35,
    "start_time": "2023-01-07T18:00:17.472Z"
   },
   {
    "duration": 31,
    "start_time": "2023-01-07T18:00:17.510Z"
   },
   {
    "duration": 24,
    "start_time": "2023-01-07T18:00:17.542Z"
   },
   {
    "duration": 60,
    "start_time": "2023-01-07T18:00:17.568Z"
   },
   {
    "duration": 47,
    "start_time": "2023-01-08T17:15:17.701Z"
   },
   {
    "duration": 689,
    "start_time": "2023-01-08T17:15:52.409Z"
   },
   {
    "duration": 22,
    "start_time": "2023-01-08T17:15:53.101Z"
   },
   {
    "duration": 14,
    "start_time": "2023-01-08T17:15:53.125Z"
   },
   {
    "duration": 9,
    "start_time": "2023-01-08T17:15:53.142Z"
   },
   {
    "duration": 38,
    "start_time": "2023-01-08T17:15:53.152Z"
   },
   {
    "duration": 21,
    "start_time": "2023-01-08T17:15:53.192Z"
   },
   {
    "duration": 7,
    "start_time": "2023-01-08T17:15:53.215Z"
   },
   {
    "duration": 5,
    "start_time": "2023-01-08T17:15:53.223Z"
   },
   {
    "duration": 9,
    "start_time": "2023-01-08T17:15:53.229Z"
   },
   {
    "duration": 4,
    "start_time": "2023-01-08T17:15:53.240Z"
   },
   {
    "duration": 34,
    "start_time": "2023-01-08T17:15:53.246Z"
   },
   {
    "duration": 33,
    "start_time": "2023-01-08T17:15:53.282Z"
   },
   {
    "duration": 7,
    "start_time": "2023-01-08T17:15:53.317Z"
   },
   {
    "duration": 11,
    "start_time": "2023-01-08T17:15:53.326Z"
   },
   {
    "duration": 24,
    "start_time": "2023-01-08T17:15:53.338Z"
   },
   {
    "duration": 16,
    "start_time": "2023-01-08T17:15:53.363Z"
   },
   {
    "duration": 3,
    "start_time": "2023-01-08T17:15:53.381Z"
   },
   {
    "duration": 31,
    "start_time": "2023-01-08T17:15:53.386Z"
   },
   {
    "duration": 5,
    "start_time": "2023-01-08T17:15:53.419Z"
   },
   {
    "duration": 3,
    "start_time": "2023-01-08T17:15:53.426Z"
   },
   {
    "duration": 9,
    "start_time": "2023-01-08T17:15:53.431Z"
   },
   {
    "duration": 25,
    "start_time": "2023-01-08T17:15:53.441Z"
   },
   {
    "duration": 45,
    "start_time": "2023-01-08T17:15:53.468Z"
   },
   {
    "duration": 24,
    "start_time": "2023-01-08T17:15:53.514Z"
   },
   {
    "duration": 25,
    "start_time": "2023-01-08T17:15:53.539Z"
   },
   {
    "duration": 24,
    "start_time": "2023-01-08T17:16:44.472Z"
   },
   {
    "duration": 24,
    "start_time": "2023-01-08T17:17:06.647Z"
   },
   {
    "duration": 25,
    "start_time": "2023-01-08T17:17:53.664Z"
   },
   {
    "duration": 26,
    "start_time": "2023-01-08T17:19:30.100Z"
   },
   {
    "duration": 26,
    "start_time": "2023-01-08T17:19:48.968Z"
   },
   {
    "duration": 29,
    "start_time": "2023-01-08T17:21:12.680Z"
   },
   {
    "duration": 29,
    "start_time": "2023-01-08T17:22:03.383Z"
   },
   {
    "duration": 29,
    "start_time": "2023-01-08T17:22:56.278Z"
   },
   {
    "duration": 720,
    "start_time": "2023-01-09T06:42:55.877Z"
   },
   {
    "duration": 23,
    "start_time": "2023-01-09T06:42:56.599Z"
   },
   {
    "duration": 67,
    "start_time": "2023-01-09T06:42:56.623Z"
   },
   {
    "duration": 27,
    "start_time": "2023-01-09T06:42:56.692Z"
   },
   {
    "duration": 55,
    "start_time": "2023-01-09T06:42:56.721Z"
   },
   {
    "duration": 4,
    "start_time": "2023-01-09T06:42:56.778Z"
   },
   {
    "duration": 23,
    "start_time": "2023-01-09T06:42:56.784Z"
   },
   {
    "duration": 39,
    "start_time": "2023-01-09T06:42:56.808Z"
   },
   {
    "duration": 38,
    "start_time": "2023-01-09T06:42:56.849Z"
   },
   {
    "duration": 25,
    "start_time": "2023-01-09T06:42:56.891Z"
   },
   {
    "duration": 49,
    "start_time": "2023-01-09T06:42:56.917Z"
   },
   {
    "duration": 10,
    "start_time": "2023-01-09T06:42:56.968Z"
   },
   {
    "duration": 25,
    "start_time": "2023-01-09T06:42:56.979Z"
   },
   {
    "duration": 26,
    "start_time": "2023-01-09T06:42:57.006Z"
   },
   {
    "duration": 40,
    "start_time": "2023-01-09T06:42:57.034Z"
   },
   {
    "duration": 24,
    "start_time": "2023-01-09T06:42:57.076Z"
   },
   {
    "duration": 11,
    "start_time": "2023-01-09T06:42:57.102Z"
   },
   {
    "duration": 33,
    "start_time": "2023-01-09T06:42:57.115Z"
   },
   {
    "duration": 19,
    "start_time": "2023-01-09T06:42:57.149Z"
   },
   {
    "duration": 20,
    "start_time": "2023-01-09T06:42:57.169Z"
   },
   {
    "duration": 39,
    "start_time": "2023-01-09T06:42:57.191Z"
   },
   {
    "duration": 64,
    "start_time": "2023-01-09T06:42:57.233Z"
   },
   {
    "duration": 38,
    "start_time": "2023-01-09T06:42:57.299Z"
   },
   {
    "duration": 39,
    "start_time": "2023-01-09T06:42:57.339Z"
   },
   {
    "duration": 32,
    "start_time": "2023-01-09T06:42:57.379Z"
   }
  ],
  "colab": {
   "name": "dpp_template_part2.ipynb",
   "provenance": []
  },
  "kernelspec": {
   "display_name": "Python 3 (ipykernel)",
   "language": "python",
   "name": "python3"
  },
  "language_info": {
   "codemirror_mode": {
    "name": "ipython",
    "version": 3
   },
   "file_extension": ".py",
   "mimetype": "text/x-python",
   "name": "python",
   "nbconvert_exporter": "python",
   "pygments_lexer": "ipython3",
   "version": "3.9.5"
  },
  "toc": {
   "base_numbering": 1,
   "nav_menu": {},
   "number_sections": true,
   "sideBar": true,
   "skip_h1_title": true,
   "title_cell": "Table of Contents",
   "title_sidebar": "Contents",
   "toc_cell": false,
   "toc_position": {},
   "toc_section_display": true,
   "toc_window_display": false
  }
 },
 "nbformat": 4,
 "nbformat_minor": 5
}
