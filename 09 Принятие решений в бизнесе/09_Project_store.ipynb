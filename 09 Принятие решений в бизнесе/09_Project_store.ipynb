{
 "cells": [
  {
   "cell_type": "markdown",
   "metadata": {},
   "source": [
    "<div class=\"alert alert-success\">\n",
    "<font color='black'>    \n",
    "<br><b>Цели исследования:</b>\n",
    "<br>- Приоритизировать гипотезы для увеличения выручки крупного интернет-магазина из подготовленного с отделом маркетинга списка.\n",
    "<br>- Запустить A/B-тест.\n",
    "<br>- Проанализировать результаты.\n",
    "    </font>\n",
    "</div>"
   ]
  },
  {
   "cell_type": "code",
   "execution_count": 2,
   "metadata": {},
   "outputs": [],
   "source": [
    "import pandas as pd\n",
    "import numpy as np\n",
    "import matplotlib.pyplot as plt\n",
    "import scipy.stats as stats\n",
    "import seaborn as sns\n",
    "pd.set_option('max_colwidth', 120)\n",
    "pd.set_option('display.width', 400)\n",
    "import datetime as dt"
   ]
  },
  {
   "cell_type": "markdown",
   "metadata": {},
   "source": [
    "### Часть 1. Приоритизация гипотез."
   ]
  },
  {
   "cell_type": "code",
   "execution_count": 3,
   "metadata": {},
   "outputs": [
    {
     "data": {
      "text/html": [
       "<div>\n",
       "<style scoped>\n",
       "    .dataframe tbody tr th:only-of-type {\n",
       "        vertical-align: middle;\n",
       "    }\n",
       "\n",
       "    .dataframe tbody tr th {\n",
       "        vertical-align: top;\n",
       "    }\n",
       "\n",
       "    .dataframe thead th {\n",
       "        text-align: right;\n",
       "    }\n",
       "</style>\n",
       "<table border=\"1\" class=\"dataframe\">\n",
       "  <thead>\n",
       "    <tr style=\"text-align: right;\">\n",
       "      <th></th>\n",
       "      <th>Hypothesis</th>\n",
       "      <th>Reach</th>\n",
       "      <th>Impact</th>\n",
       "      <th>Confidence</th>\n",
       "      <th>Efforts</th>\n",
       "    </tr>\n",
       "  </thead>\n",
       "  <tbody>\n",
       "    <tr>\n",
       "      <th>0</th>\n",
       "      <td>Добавить два новых канала привлечения трафика, что позволит привлекать на 30% больше пользователей</td>\n",
       "      <td>3</td>\n",
       "      <td>10</td>\n",
       "      <td>8</td>\n",
       "      <td>6</td>\n",
       "    </tr>\n",
       "    <tr>\n",
       "      <th>1</th>\n",
       "      <td>Запустить собственную службу доставки, что сократит срок доставки заказов</td>\n",
       "      <td>2</td>\n",
       "      <td>5</td>\n",
       "      <td>4</td>\n",
       "      <td>10</td>\n",
       "    </tr>\n",
       "    <tr>\n",
       "      <th>2</th>\n",
       "      <td>Добавить блоки рекомендаций товаров на сайт интернет магазина, чтобы повысить конверсию и средний чек заказа</td>\n",
       "      <td>8</td>\n",
       "      <td>3</td>\n",
       "      <td>7</td>\n",
       "      <td>3</td>\n",
       "    </tr>\n",
       "    <tr>\n",
       "      <th>3</th>\n",
       "      <td>Изменить структура категорий, что увеличит конверсию, т.к. пользователи быстрее найдут нужный товар</td>\n",
       "      <td>8</td>\n",
       "      <td>3</td>\n",
       "      <td>3</td>\n",
       "      <td>8</td>\n",
       "    </tr>\n",
       "    <tr>\n",
       "      <th>4</th>\n",
       "      <td>Изменить цвет фона главной страницы, чтобы увеличить вовлеченность пользователей</td>\n",
       "      <td>3</td>\n",
       "      <td>1</td>\n",
       "      <td>1</td>\n",
       "      <td>1</td>\n",
       "    </tr>\n",
       "    <tr>\n",
       "      <th>5</th>\n",
       "      <td>Добавить страницу отзывов клиентов о магазине, что позволит увеличить количество заказов</td>\n",
       "      <td>3</td>\n",
       "      <td>2</td>\n",
       "      <td>2</td>\n",
       "      <td>3</td>\n",
       "    </tr>\n",
       "    <tr>\n",
       "      <th>6</th>\n",
       "      <td>Показать на главной странице баннеры с актуальными акциями и распродажами, чтобы увеличить конверсию</td>\n",
       "      <td>5</td>\n",
       "      <td>3</td>\n",
       "      <td>8</td>\n",
       "      <td>3</td>\n",
       "    </tr>\n",
       "    <tr>\n",
       "      <th>7</th>\n",
       "      <td>Добавить форму подписки на все основные страницы, чтобы собрать базу клиентов для email-рассылок</td>\n",
       "      <td>10</td>\n",
       "      <td>7</td>\n",
       "      <td>8</td>\n",
       "      <td>5</td>\n",
       "    </tr>\n",
       "    <tr>\n",
       "      <th>8</th>\n",
       "      <td>Запустить акцию, дающую скидку на товар в день рождения</td>\n",
       "      <td>1</td>\n",
       "      <td>9</td>\n",
       "      <td>9</td>\n",
       "      <td>5</td>\n",
       "    </tr>\n",
       "  </tbody>\n",
       "</table>\n",
       "</div>"
      ],
      "text/plain": [
       "                                                                                                     Hypothesis  Reach  Impact  Confidence  Efforts\n",
       "0            Добавить два новых канала привлечения трафика, что позволит привлекать на 30% больше пользователей      3      10           8        6\n",
       "1                                     Запустить собственную службу доставки, что сократит срок доставки заказов      2       5           4       10\n",
       "2  Добавить блоки рекомендаций товаров на сайт интернет магазина, чтобы повысить конверсию и средний чек заказа      8       3           7        3\n",
       "3           Изменить структура категорий, что увеличит конверсию, т.к. пользователи быстрее найдут нужный товар      8       3           3        8\n",
       "4                              Изменить цвет фона главной страницы, чтобы увеличить вовлеченность пользователей      3       1           1        1\n",
       "5                      Добавить страницу отзывов клиентов о магазине, что позволит увеличить количество заказов      3       2           2        3\n",
       "6          Показать на главной странице баннеры с актуальными акциями и распродажами, чтобы увеличить конверсию      5       3           8        3\n",
       "7              Добавить форму подписки на все основные страницы, чтобы собрать базу клиентов для email-рассылок     10       7           8        5\n",
       "8                                                       Запустить акцию, дающую скидку на товар в день рождения      1       9           9        5"
      ]
     },
     "execution_count": 3,
     "metadata": {},
     "output_type": "execute_result"
    }
   ],
   "source": [
    "hypothesis = pd.read_csv('/datasets/hypothesis.csv')\n",
    "hypothesis"
   ]
  },
  {
   "cell_type": "code",
   "execution_count": 4,
   "metadata": {},
   "outputs": [],
   "source": [
    "hypothesis.columns = hypothesis.columns.str.lower()"
   ]
  },
  {
   "cell_type": "code",
   "execution_count": 5,
   "metadata": {},
   "outputs": [
    {
     "data": {
      "text/html": [
       "<div>\n",
       "<style scoped>\n",
       "    .dataframe tbody tr th:only-of-type {\n",
       "        vertical-align: middle;\n",
       "    }\n",
       "\n",
       "    .dataframe tbody tr th {\n",
       "        vertical-align: top;\n",
       "    }\n",
       "\n",
       "    .dataframe thead th {\n",
       "        text-align: right;\n",
       "    }\n",
       "</style>\n",
       "<table border=\"1\" class=\"dataframe\">\n",
       "  <thead>\n",
       "    <tr style=\"text-align: right;\">\n",
       "      <th></th>\n",
       "      <th>hypothesis</th>\n",
       "      <th>reach</th>\n",
       "      <th>impact</th>\n",
       "      <th>confidence</th>\n",
       "      <th>efforts</th>\n",
       "    </tr>\n",
       "  </thead>\n",
       "  <tbody>\n",
       "    <tr>\n",
       "      <th>0</th>\n",
       "      <td>Добавить два новых канала привлечения трафика, что позволит привлекать на 30% больше пользователей</td>\n",
       "      <td>3</td>\n",
       "      <td>10</td>\n",
       "      <td>8</td>\n",
       "      <td>6</td>\n",
       "    </tr>\n",
       "    <tr>\n",
       "      <th>1</th>\n",
       "      <td>Запустить собственную службу доставки, что сократит срок доставки заказов</td>\n",
       "      <td>2</td>\n",
       "      <td>5</td>\n",
       "      <td>4</td>\n",
       "      <td>10</td>\n",
       "    </tr>\n",
       "    <tr>\n",
       "      <th>2</th>\n",
       "      <td>Добавить блоки рекомендаций товаров на сайт интернет магазина, чтобы повысить конверсию и средний чек заказа</td>\n",
       "      <td>8</td>\n",
       "      <td>3</td>\n",
       "      <td>7</td>\n",
       "      <td>3</td>\n",
       "    </tr>\n",
       "    <tr>\n",
       "      <th>3</th>\n",
       "      <td>Изменить структура категорий, что увеличит конверсию, т.к. пользователи быстрее найдут нужный товар</td>\n",
       "      <td>8</td>\n",
       "      <td>3</td>\n",
       "      <td>3</td>\n",
       "      <td>8</td>\n",
       "    </tr>\n",
       "    <tr>\n",
       "      <th>4</th>\n",
       "      <td>Изменить цвет фона главной страницы, чтобы увеличить вовлеченность пользователей</td>\n",
       "      <td>3</td>\n",
       "      <td>1</td>\n",
       "      <td>1</td>\n",
       "      <td>1</td>\n",
       "    </tr>\n",
       "    <tr>\n",
       "      <th>5</th>\n",
       "      <td>Добавить страницу отзывов клиентов о магазине, что позволит увеличить количество заказов</td>\n",
       "      <td>3</td>\n",
       "      <td>2</td>\n",
       "      <td>2</td>\n",
       "      <td>3</td>\n",
       "    </tr>\n",
       "    <tr>\n",
       "      <th>6</th>\n",
       "      <td>Показать на главной странице баннеры с актуальными акциями и распродажами, чтобы увеличить конверсию</td>\n",
       "      <td>5</td>\n",
       "      <td>3</td>\n",
       "      <td>8</td>\n",
       "      <td>3</td>\n",
       "    </tr>\n",
       "    <tr>\n",
       "      <th>7</th>\n",
       "      <td>Добавить форму подписки на все основные страницы, чтобы собрать базу клиентов для email-рассылок</td>\n",
       "      <td>10</td>\n",
       "      <td>7</td>\n",
       "      <td>8</td>\n",
       "      <td>5</td>\n",
       "    </tr>\n",
       "    <tr>\n",
       "      <th>8</th>\n",
       "      <td>Запустить акцию, дающую скидку на товар в день рождения</td>\n",
       "      <td>1</td>\n",
       "      <td>9</td>\n",
       "      <td>9</td>\n",
       "      <td>5</td>\n",
       "    </tr>\n",
       "  </tbody>\n",
       "</table>\n",
       "</div>"
      ],
      "text/plain": [
       "                                                                                                     hypothesis  reach  impact  confidence  efforts\n",
       "0            Добавить два новых канала привлечения трафика, что позволит привлекать на 30% больше пользователей      3      10           8        6\n",
       "1                                     Запустить собственную службу доставки, что сократит срок доставки заказов      2       5           4       10\n",
       "2  Добавить блоки рекомендаций товаров на сайт интернет магазина, чтобы повысить конверсию и средний чек заказа      8       3           7        3\n",
       "3           Изменить структура категорий, что увеличит конверсию, т.к. пользователи быстрее найдут нужный товар      8       3           3        8\n",
       "4                              Изменить цвет фона главной страницы, чтобы увеличить вовлеченность пользователей      3       1           1        1\n",
       "5                      Добавить страницу отзывов клиентов о магазине, что позволит увеличить количество заказов      3       2           2        3\n",
       "6          Показать на главной странице баннеры с актуальными акциями и распродажами, чтобы увеличить конверсию      5       3           8        3\n",
       "7              Добавить форму подписки на все основные страницы, чтобы собрать базу клиентов для email-рассылок     10       7           8        5\n",
       "8                                                       Запустить акцию, дающую скидку на товар в день рождения      1       9           9        5"
      ]
     },
     "execution_count": 5,
     "metadata": {},
     "output_type": "execute_result"
    }
   ],
   "source": [
    "hypothesis"
   ]
  },
  {
   "cell_type": "markdown",
   "metadata": {},
   "source": [
    "#### Фреймворк ICE"
   ]
  },
  {
   "cell_type": "code",
   "execution_count": 6,
   "metadata": {},
   "outputs": [
    {
     "data": {
      "text/html": [
       "<div>\n",
       "<style scoped>\n",
       "    .dataframe tbody tr th:only-of-type {\n",
       "        vertical-align: middle;\n",
       "    }\n",
       "\n",
       "    .dataframe tbody tr th {\n",
       "        vertical-align: top;\n",
       "    }\n",
       "\n",
       "    .dataframe thead th {\n",
       "        text-align: right;\n",
       "    }\n",
       "</style>\n",
       "<table border=\"1\" class=\"dataframe\">\n",
       "  <thead>\n",
       "    <tr style=\"text-align: right;\">\n",
       "      <th></th>\n",
       "      <th>hypothesis</th>\n",
       "      <th>ICE</th>\n",
       "    </tr>\n",
       "  </thead>\n",
       "  <tbody>\n",
       "    <tr>\n",
       "      <th>8</th>\n",
       "      <td>Запустить акцию, дающую скидку на товар в день рождения</td>\n",
       "      <td>16.20</td>\n",
       "    </tr>\n",
       "    <tr>\n",
       "      <th>0</th>\n",
       "      <td>Добавить два новых канала привлечения трафика, что позволит привлекать на 30% больше пользователей</td>\n",
       "      <td>13.33</td>\n",
       "    </tr>\n",
       "    <tr>\n",
       "      <th>7</th>\n",
       "      <td>Добавить форму подписки на все основные страницы, чтобы собрать базу клиентов для email-рассылок</td>\n",
       "      <td>11.20</td>\n",
       "    </tr>\n",
       "    <tr>\n",
       "      <th>6</th>\n",
       "      <td>Показать на главной странице баннеры с актуальными акциями и распродажами, чтобы увеличить конверсию</td>\n",
       "      <td>8.00</td>\n",
       "    </tr>\n",
       "    <tr>\n",
       "      <th>2</th>\n",
       "      <td>Добавить блоки рекомендаций товаров на сайт интернет магазина, чтобы повысить конверсию и средний чек заказа</td>\n",
       "      <td>7.00</td>\n",
       "    </tr>\n",
       "    <tr>\n",
       "      <th>1</th>\n",
       "      <td>Запустить собственную службу доставки, что сократит срок доставки заказов</td>\n",
       "      <td>2.00</td>\n",
       "    </tr>\n",
       "    <tr>\n",
       "      <th>5</th>\n",
       "      <td>Добавить страницу отзывов клиентов о магазине, что позволит увеличить количество заказов</td>\n",
       "      <td>1.33</td>\n",
       "    </tr>\n",
       "    <tr>\n",
       "      <th>3</th>\n",
       "      <td>Изменить структура категорий, что увеличит конверсию, т.к. пользователи быстрее найдут нужный товар</td>\n",
       "      <td>1.12</td>\n",
       "    </tr>\n",
       "    <tr>\n",
       "      <th>4</th>\n",
       "      <td>Изменить цвет фона главной страницы, чтобы увеличить вовлеченность пользователей</td>\n",
       "      <td>1.00</td>\n",
       "    </tr>\n",
       "  </tbody>\n",
       "</table>\n",
       "</div>"
      ],
      "text/plain": [
       "                                                                                                     hypothesis    ICE\n",
       "8                                                       Запустить акцию, дающую скидку на товар в день рождения  16.20\n",
       "0            Добавить два новых канала привлечения трафика, что позволит привлекать на 30% больше пользователей  13.33\n",
       "7              Добавить форму подписки на все основные страницы, чтобы собрать базу клиентов для email-рассылок  11.20\n",
       "6          Показать на главной странице баннеры с актуальными акциями и распродажами, чтобы увеличить конверсию   8.00\n",
       "2  Добавить блоки рекомендаций товаров на сайт интернет магазина, чтобы повысить конверсию и средний чек заказа   7.00\n",
       "1                                     Запустить собственную службу доставки, что сократит срок доставки заказов   2.00\n",
       "5                      Добавить страницу отзывов клиентов о магазине, что позволит увеличить количество заказов   1.33\n",
       "3           Изменить структура категорий, что увеличит конверсию, т.к. пользователи быстрее найдут нужный товар   1.12\n",
       "4                              Изменить цвет фона главной страницы, чтобы увеличить вовлеченность пользователей   1.00"
      ]
     },
     "metadata": {},
     "output_type": "display_data"
    }
   ],
   "source": [
    "hypothesis['ICE'] = (hypothesis['impact']*hypothesis['confidence'])/hypothesis['efforts']\n",
    "\n",
    "display((hypothesis[['hypothesis', 'ICE']].sort_values(by='ICE', ascending=False)).round(2))"
   ]
  },
  {
   "cell_type": "markdown",
   "metadata": {},
   "source": [
    "#### Фреймворк RICE"
   ]
  },
  {
   "cell_type": "code",
   "execution_count": 7,
   "metadata": {},
   "outputs": [
    {
     "data": {
      "text/html": [
       "<div>\n",
       "<style scoped>\n",
       "    .dataframe tbody tr th:only-of-type {\n",
       "        vertical-align: middle;\n",
       "    }\n",
       "\n",
       "    .dataframe tbody tr th {\n",
       "        vertical-align: top;\n",
       "    }\n",
       "\n",
       "    .dataframe thead th {\n",
       "        text-align: right;\n",
       "    }\n",
       "</style>\n",
       "<table border=\"1\" class=\"dataframe\">\n",
       "  <thead>\n",
       "    <tr style=\"text-align: right;\">\n",
       "      <th></th>\n",
       "      <th>hypothesis</th>\n",
       "      <th>RICE</th>\n",
       "    </tr>\n",
       "  </thead>\n",
       "  <tbody>\n",
       "    <tr>\n",
       "      <th>7</th>\n",
       "      <td>Добавить форму подписки на все основные страницы, чтобы собрать базу клиентов для email-рассылок</td>\n",
       "      <td>112.0</td>\n",
       "    </tr>\n",
       "    <tr>\n",
       "      <th>2</th>\n",
       "      <td>Добавить блоки рекомендаций товаров на сайт интернет магазина, чтобы повысить конверсию и средний чек заказа</td>\n",
       "      <td>56.0</td>\n",
       "    </tr>\n",
       "    <tr>\n",
       "      <th>0</th>\n",
       "      <td>Добавить два новых канала привлечения трафика, что позволит привлекать на 30% больше пользователей</td>\n",
       "      <td>40.0</td>\n",
       "    </tr>\n",
       "    <tr>\n",
       "      <th>6</th>\n",
       "      <td>Показать на главной странице баннеры с актуальными акциями и распродажами, чтобы увеличить конверсию</td>\n",
       "      <td>40.0</td>\n",
       "    </tr>\n",
       "    <tr>\n",
       "      <th>8</th>\n",
       "      <td>Запустить акцию, дающую скидку на товар в день рождения</td>\n",
       "      <td>16.2</td>\n",
       "    </tr>\n",
       "    <tr>\n",
       "      <th>3</th>\n",
       "      <td>Изменить структура категорий, что увеличит конверсию, т.к. пользователи быстрее найдут нужный товар</td>\n",
       "      <td>9.0</td>\n",
       "    </tr>\n",
       "    <tr>\n",
       "      <th>1</th>\n",
       "      <td>Запустить собственную службу доставки, что сократит срок доставки заказов</td>\n",
       "      <td>4.0</td>\n",
       "    </tr>\n",
       "    <tr>\n",
       "      <th>5</th>\n",
       "      <td>Добавить страницу отзывов клиентов о магазине, что позволит увеличить количество заказов</td>\n",
       "      <td>4.0</td>\n",
       "    </tr>\n",
       "    <tr>\n",
       "      <th>4</th>\n",
       "      <td>Изменить цвет фона главной страницы, чтобы увеличить вовлеченность пользователей</td>\n",
       "      <td>3.0</td>\n",
       "    </tr>\n",
       "  </tbody>\n",
       "</table>\n",
       "</div>"
      ],
      "text/plain": [
       "                                                                                                     hypothesis   RICE\n",
       "7              Добавить форму подписки на все основные страницы, чтобы собрать базу клиентов для email-рассылок  112.0\n",
       "2  Добавить блоки рекомендаций товаров на сайт интернет магазина, чтобы повысить конверсию и средний чек заказа   56.0\n",
       "0            Добавить два новых канала привлечения трафика, что позволит привлекать на 30% больше пользователей   40.0\n",
       "6          Показать на главной странице баннеры с актуальными акциями и распродажами, чтобы увеличить конверсию   40.0\n",
       "8                                                       Запустить акцию, дающую скидку на товар в день рождения   16.2\n",
       "3           Изменить структура категорий, что увеличит конверсию, т.к. пользователи быстрее найдут нужный товар    9.0\n",
       "1                                     Запустить собственную службу доставки, что сократит срок доставки заказов    4.0\n",
       "5                      Добавить страницу отзывов клиентов о магазине, что позволит увеличить количество заказов    4.0\n",
       "4                              Изменить цвет фона главной страницы, чтобы увеличить вовлеченность пользователей    3.0"
      ]
     },
     "metadata": {},
     "output_type": "display_data"
    }
   ],
   "source": [
    "hypothesis['RICE'] = (hypothesis['reach']*hypothesis['impact']*hypothesis['confidence'])/hypothesis['efforts']\n",
    "\n",
    "display(hypothesis[['hypothesis', 'RICE']].sort_values(by='RICE', ascending=False))"
   ]
  },
  {
   "cell_type": "markdown",
   "metadata": {},
   "source": [
    "<div class=\"alert alert-success\">\n",
    "<font color='black'>    \n",
    "<br><b>Вывод:</b>\n",
    "<br><b>По фреймворку ICE наиболее приоритетными были гипотезы:</b>\n",
    "<br>1)Запустить акцию, дающую скидку на товар в день рождения\n",
    "<br>2)Добавить два новых канала привлечения трафика, что позволит привлекать на 30% больше пользователей\n",
    "<br>3)Добавить форму подписки на все основные страницы, чтобы собрать базу клиентов для email-рассылок\n",
    "<br><b>По фреймворку RICE наиболее приоритетные гипотезы расположились следующим образом:</b>\n",
    "<br>1)Добавить форму подписки на все основные страницы, чтобы собрать базу клиентов для email-рассылок\n",
    "<br>2)Добавить блоки рекомендаций товаров на сайт интернет магазина, чтобы повысить конверсию и средний чек заказа\n",
    "<br>3)Добавить два новых канала привлечения трафика, что позволит привлекать на 30% больше пользователей\n",
    "    \n",
    "<br>Хорошо заметно различие в обеих таблицах. Главное меняется тройка лидеров, это отличие обусловлено, тем что в фреймворке RICE мы учитываем важный параметр - Reach (скольких пользователей затронет изменение, которое мы хотим внести), и в лидеры вышли гипотезы с наибольшим охватом пользователей.<b></font></div>"
   ]
  },
  {
   "cell_type": "markdown",
   "metadata": {},
   "source": [
    "### Часть 2. Анализ A/B-теста"
   ]
  },
  {
   "cell_type": "code",
   "execution_count": 8,
   "metadata": {},
   "outputs": [],
   "source": [
    "orders = pd.read_csv('/datasets/orders.csv')\n",
    "orders.columns = orders.columns.str.lower()\n",
    "visitors = pd.read_csv('/datasets/visitors.csv')"
   ]
  },
  {
   "cell_type": "code",
   "execution_count": 9,
   "metadata": {},
   "outputs": [
    {
     "data": {
      "text/html": [
       "<div>\n",
       "<style scoped>\n",
       "    .dataframe tbody tr th:only-of-type {\n",
       "        vertical-align: middle;\n",
       "    }\n",
       "\n",
       "    .dataframe tbody tr th {\n",
       "        vertical-align: top;\n",
       "    }\n",
       "\n",
       "    .dataframe thead th {\n",
       "        text-align: right;\n",
       "    }\n",
       "</style>\n",
       "<table border=\"1\" class=\"dataframe\">\n",
       "  <thead>\n",
       "    <tr style=\"text-align: right;\">\n",
       "      <th></th>\n",
       "      <th>transactionid</th>\n",
       "      <th>visitorid</th>\n",
       "      <th>date</th>\n",
       "      <th>revenue</th>\n",
       "      <th>group</th>\n",
       "    </tr>\n",
       "  </thead>\n",
       "  <tbody>\n",
       "    <tr>\n",
       "      <th>0</th>\n",
       "      <td>3667963787</td>\n",
       "      <td>3312258926</td>\n",
       "      <td>2019-08-15</td>\n",
       "      <td>1650</td>\n",
       "      <td>B</td>\n",
       "    </tr>\n",
       "    <tr>\n",
       "      <th>1</th>\n",
       "      <td>2804400009</td>\n",
       "      <td>3642806036</td>\n",
       "      <td>2019-08-15</td>\n",
       "      <td>730</td>\n",
       "      <td>B</td>\n",
       "    </tr>\n",
       "    <tr>\n",
       "      <th>2</th>\n",
       "      <td>2961555356</td>\n",
       "      <td>4069496402</td>\n",
       "      <td>2019-08-15</td>\n",
       "      <td>400</td>\n",
       "      <td>A</td>\n",
       "    </tr>\n",
       "    <tr>\n",
       "      <th>3</th>\n",
       "      <td>3797467345</td>\n",
       "      <td>1196621759</td>\n",
       "      <td>2019-08-15</td>\n",
       "      <td>9759</td>\n",
       "      <td>B</td>\n",
       "    </tr>\n",
       "    <tr>\n",
       "      <th>4</th>\n",
       "      <td>2282983706</td>\n",
       "      <td>2322279887</td>\n",
       "      <td>2019-08-15</td>\n",
       "      <td>2308</td>\n",
       "      <td>B</td>\n",
       "    </tr>\n",
       "  </tbody>\n",
       "</table>\n",
       "</div>"
      ],
      "text/plain": [
       "   transactionid   visitorid        date  revenue group\n",
       "0     3667963787  3312258926  2019-08-15     1650     B\n",
       "1     2804400009  3642806036  2019-08-15      730     B\n",
       "2     2961555356  4069496402  2019-08-15      400     A\n",
       "3     3797467345  1196621759  2019-08-15     9759     B\n",
       "4     2282983706  2322279887  2019-08-15     2308     B"
      ]
     },
     "execution_count": 9,
     "metadata": {},
     "output_type": "execute_result"
    }
   ],
   "source": [
    "orders.head()"
   ]
  },
  {
   "cell_type": "code",
   "execution_count": 10,
   "metadata": {},
   "outputs": [
    {
     "data": {
      "text/html": [
       "<div>\n",
       "<style scoped>\n",
       "    .dataframe tbody tr th:only-of-type {\n",
       "        vertical-align: middle;\n",
       "    }\n",
       "\n",
       "    .dataframe tbody tr th {\n",
       "        vertical-align: top;\n",
       "    }\n",
       "\n",
       "    .dataframe thead th {\n",
       "        text-align: right;\n",
       "    }\n",
       "</style>\n",
       "<table border=\"1\" class=\"dataframe\">\n",
       "  <thead>\n",
       "    <tr style=\"text-align: right;\">\n",
       "      <th></th>\n",
       "      <th>date</th>\n",
       "      <th>group</th>\n",
       "      <th>visitors</th>\n",
       "    </tr>\n",
       "  </thead>\n",
       "  <tbody>\n",
       "    <tr>\n",
       "      <th>0</th>\n",
       "      <td>2019-08-01</td>\n",
       "      <td>A</td>\n",
       "      <td>719</td>\n",
       "    </tr>\n",
       "    <tr>\n",
       "      <th>1</th>\n",
       "      <td>2019-08-02</td>\n",
       "      <td>A</td>\n",
       "      <td>619</td>\n",
       "    </tr>\n",
       "    <tr>\n",
       "      <th>2</th>\n",
       "      <td>2019-08-03</td>\n",
       "      <td>A</td>\n",
       "      <td>507</td>\n",
       "    </tr>\n",
       "    <tr>\n",
       "      <th>3</th>\n",
       "      <td>2019-08-04</td>\n",
       "      <td>A</td>\n",
       "      <td>717</td>\n",
       "    </tr>\n",
       "    <tr>\n",
       "      <th>4</th>\n",
       "      <td>2019-08-05</td>\n",
       "      <td>A</td>\n",
       "      <td>756</td>\n",
       "    </tr>\n",
       "  </tbody>\n",
       "</table>\n",
       "</div>"
      ],
      "text/plain": [
       "         date group  visitors\n",
       "0  2019-08-01     A       719\n",
       "1  2019-08-02     A       619\n",
       "2  2019-08-03     A       507\n",
       "3  2019-08-04     A       717\n",
       "4  2019-08-05     A       756"
      ]
     },
     "execution_count": 10,
     "metadata": {},
     "output_type": "execute_result"
    }
   ],
   "source": [
    "visitors.head()"
   ]
  },
  {
   "cell_type": "code",
   "execution_count": 43,
   "metadata": {},
   "outputs": [
    {
     "data": {
      "text/html": [
       "<div>\n",
       "<style scoped>\n",
       "    .dataframe tbody tr th:only-of-type {\n",
       "        vertical-align: middle;\n",
       "    }\n",
       "\n",
       "    .dataframe tbody tr th {\n",
       "        vertical-align: top;\n",
       "    }\n",
       "\n",
       "    .dataframe thead th {\n",
       "        text-align: right;\n",
       "    }\n",
       "</style>\n",
       "<table border=\"1\" class=\"dataframe\">\n",
       "  <thead>\n",
       "    <tr style=\"text-align: right;\">\n",
       "      <th></th>\n",
       "      <th>date</th>\n",
       "      <th>group</th>\n",
       "    </tr>\n",
       "  </thead>\n",
       "  <tbody>\n",
       "    <tr>\n",
       "      <th>0</th>\n",
       "      <td>2019-08-01</td>\n",
       "      <td>A</td>\n",
       "    </tr>\n",
       "    <tr>\n",
       "      <th>1</th>\n",
       "      <td>2019-08-01</td>\n",
       "      <td>B</td>\n",
       "    </tr>\n",
       "    <tr>\n",
       "      <th>2</th>\n",
       "      <td>2019-08-02</td>\n",
       "      <td>A</td>\n",
       "    </tr>\n",
       "    <tr>\n",
       "      <th>3</th>\n",
       "      <td>2019-08-02</td>\n",
       "      <td>B</td>\n",
       "    </tr>\n",
       "    <tr>\n",
       "      <th>4</th>\n",
       "      <td>2019-08-03</td>\n",
       "      <td>A</td>\n",
       "    </tr>\n",
       "    <tr>\n",
       "      <th>...</th>\n",
       "      <td>...</td>\n",
       "      <td>...</td>\n",
       "    </tr>\n",
       "    <tr>\n",
       "      <th>57</th>\n",
       "      <td>2019-08-29</td>\n",
       "      <td>B</td>\n",
       "    </tr>\n",
       "    <tr>\n",
       "      <th>58</th>\n",
       "      <td>2019-08-30</td>\n",
       "      <td>A</td>\n",
       "    </tr>\n",
       "    <tr>\n",
       "      <th>59</th>\n",
       "      <td>2019-08-30</td>\n",
       "      <td>B</td>\n",
       "    </tr>\n",
       "    <tr>\n",
       "      <th>60</th>\n",
       "      <td>2019-08-31</td>\n",
       "      <td>A</td>\n",
       "    </tr>\n",
       "    <tr>\n",
       "      <th>61</th>\n",
       "      <td>2019-08-31</td>\n",
       "      <td>B</td>\n",
       "    </tr>\n",
       "  </tbody>\n",
       "</table>\n",
       "<p>62 rows × 2 columns</p>\n",
       "</div>"
      ],
      "text/plain": [
       "         date group\n",
       "0  2019-08-01     A\n",
       "1  2019-08-01     B\n",
       "2  2019-08-02     A\n",
       "3  2019-08-02     B\n",
       "4  2019-08-03     A\n",
       "..        ...   ...\n",
       "57 2019-08-29     B\n",
       "58 2019-08-30     A\n",
       "59 2019-08-30     B\n",
       "60 2019-08-31     A\n",
       "61 2019-08-31     B\n",
       "\n",
       "[62 rows x 2 columns]"
      ]
     },
     "execution_count": 43,
     "metadata": {},
     "output_type": "execute_result"
    }
   ],
   "source": [
    "orders[['date','group']].drop_duplicates().sort_values(by=['date','group']).reset_index(drop=True)#cравним идентичны ли даты и группы в таблицах посетителей и заказов"
   ]
  },
  {
   "cell_type": "code",
   "execution_count": 11,
   "metadata": {},
   "outputs": [
    {
     "data": {
      "text/html": [
       "<div>\n",
       "<style scoped>\n",
       "    .dataframe tbody tr th:only-of-type {\n",
       "        vertical-align: middle;\n",
       "    }\n",
       "\n",
       "    .dataframe tbody tr th {\n",
       "        vertical-align: top;\n",
       "    }\n",
       "\n",
       "    .dataframe thead th {\n",
       "        text-align: right;\n",
       "    }\n",
       "</style>\n",
       "<table border=\"1\" class=\"dataframe\">\n",
       "  <thead>\n",
       "    <tr style=\"text-align: right;\">\n",
       "      <th></th>\n",
       "      <th>date</th>\n",
       "      <th>group</th>\n",
       "    </tr>\n",
       "  </thead>\n",
       "  <tbody>\n",
       "    <tr>\n",
       "      <th>0</th>\n",
       "      <td>True</td>\n",
       "      <td>True</td>\n",
       "    </tr>\n",
       "    <tr>\n",
       "      <th>1</th>\n",
       "      <td>True</td>\n",
       "      <td>True</td>\n",
       "    </tr>\n",
       "    <tr>\n",
       "      <th>2</th>\n",
       "      <td>True</td>\n",
       "      <td>True</td>\n",
       "    </tr>\n",
       "    <tr>\n",
       "      <th>3</th>\n",
       "      <td>True</td>\n",
       "      <td>True</td>\n",
       "    </tr>\n",
       "    <tr>\n",
       "      <th>4</th>\n",
       "      <td>True</td>\n",
       "      <td>True</td>\n",
       "    </tr>\n",
       "    <tr>\n",
       "      <th>...</th>\n",
       "      <td>...</td>\n",
       "      <td>...</td>\n",
       "    </tr>\n",
       "    <tr>\n",
       "      <th>57</th>\n",
       "      <td>True</td>\n",
       "      <td>True</td>\n",
       "    </tr>\n",
       "    <tr>\n",
       "      <th>58</th>\n",
       "      <td>True</td>\n",
       "      <td>True</td>\n",
       "    </tr>\n",
       "    <tr>\n",
       "      <th>59</th>\n",
       "      <td>True</td>\n",
       "      <td>True</td>\n",
       "    </tr>\n",
       "    <tr>\n",
       "      <th>60</th>\n",
       "      <td>True</td>\n",
       "      <td>True</td>\n",
       "    </tr>\n",
       "    <tr>\n",
       "      <th>61</th>\n",
       "      <td>True</td>\n",
       "      <td>True</td>\n",
       "    </tr>\n",
       "  </tbody>\n",
       "</table>\n",
       "<p>62 rows × 2 columns</p>\n",
       "</div>"
      ],
      "text/plain": [
       "    date  group\n",
       "0   True   True\n",
       "1   True   True\n",
       "2   True   True\n",
       "3   True   True\n",
       "4   True   True\n",
       "..   ...    ...\n",
       "57  True   True\n",
       "58  True   True\n",
       "59  True   True\n",
       "60  True   True\n",
       "61  True   True\n",
       "\n",
       "[62 rows x 2 columns]"
      ]
     },
     "execution_count": 11,
     "metadata": {},
     "output_type": "execute_result"
    }
   ],
   "source": [
    "compare_dg = orders[['date','group']].drop_duplicates().sort_values(by=['date','group']).reset_index(drop=True) == \\\n",
    "                        visitors[['date','group']].drop_duplicates().sort_values(by=['date','group']).reset_index(drop=True)\n",
    "compare_dg"
   ]
  },
  {
   "cell_type": "code",
   "execution_count": 42,
   "metadata": {},
   "outputs": [
    {
     "data": {
      "text/plain": [
       "(62, 62)"
      ]
     },
     "execution_count": 42,
     "metadata": {},
     "output_type": "execute_result"
    }
   ],
   "source": [
    "compare_dg['date'].sum() , compare_dg['group'].sum()"
   ]
  },
  {
   "cell_type": "markdown",
   "metadata": {},
   "source": [
    "Пары дата-группа в таблицах посетители и заказы совпадают"
   ]
  },
  {
   "cell_type": "code",
   "execution_count": 52,
   "metadata": {},
   "outputs": [
    {
     "name": "stdout",
     "output_type": "stream",
     "text": [
      "Количество пользователей в двух группах: 58\n",
      "Всего пользователей в тесте: 1031\n"
     ]
    }
   ],
   "source": [
    "g_a = orders[orders['group']=='A']['visitorid']#проверим группыы на совпадение пользователей\n",
    "g_b = orders[orders['group']=='B']['visitorid']\n",
    "orders_ab = orders.query('visitorid in @g_a and visitorid in @g_b')\n",
    "print('Количество пользователей в двух группах:', orders_ab['visitorid'].nunique())\n",
    "print('Всего пользователей в тесте:', orders['visitorid'].nunique())"
   ]
  },
  {
   "cell_type": "code",
   "execution_count": 12,
   "metadata": {
    "scrolled": false
   },
   "outputs": [
    {
     "name": "stdout",
     "output_type": "stream",
     "text": [
      "<class 'pandas.core.frame.DataFrame'>\n",
      "RangeIndex: 1197 entries, 0 to 1196\n",
      "Data columns (total 5 columns):\n",
      " #   Column         Non-Null Count  Dtype \n",
      "---  ------         --------------  ----- \n",
      " 0   transactionid  1197 non-null   int64 \n",
      " 1   visitorid      1197 non-null   int64 \n",
      " 2   date           1197 non-null   object\n",
      " 3   revenue        1197 non-null   int64 \n",
      " 4   group          1197 non-null   object\n",
      "dtypes: int64(3), object(2)\n",
      "memory usage: 46.9+ KB\n"
     ]
    }
   ],
   "source": [
    "orders.info()"
   ]
  },
  {
   "cell_type": "code",
   "execution_count": 13,
   "metadata": {},
   "outputs": [],
   "source": [
    "orders[\"date\"] = orders[\"date\"].map(lambda x: dt.datetime.strptime(x, '%Y-%m-%d'))"
   ]
  },
  {
   "cell_type": "code",
   "execution_count": 14,
   "metadata": {},
   "outputs": [
    {
     "data": {
      "text/plain": [
       "0"
      ]
     },
     "execution_count": 14,
     "metadata": {},
     "output_type": "execute_result"
    }
   ],
   "source": [
    "orders.duplicated().sum()"
   ]
  },
  {
   "cell_type": "code",
   "execution_count": 15,
   "metadata": {},
   "outputs": [
    {
     "data": {
      "text/plain": [
       "transactionid    0\n",
       "visitorid        0\n",
       "date             0\n",
       "revenue          0\n",
       "group            0\n",
       "dtype: int64"
      ]
     },
     "execution_count": 15,
     "metadata": {},
     "output_type": "execute_result"
    }
   ],
   "source": [
    "orders.isnull().sum()"
   ]
  },
  {
   "cell_type": "code",
   "execution_count": 16,
   "metadata": {},
   "outputs": [
    {
     "name": "stdout",
     "output_type": "stream",
     "text": [
      "<class 'pandas.core.frame.DataFrame'>\n",
      "RangeIndex: 62 entries, 0 to 61\n",
      "Data columns (total 3 columns):\n",
      " #   Column    Non-Null Count  Dtype \n",
      "---  ------    --------------  ----- \n",
      " 0   date      62 non-null     object\n",
      " 1   group     62 non-null     object\n",
      " 2   visitors  62 non-null     int64 \n",
      "dtypes: int64(1), object(2)\n",
      "memory usage: 1.6+ KB\n"
     ]
    }
   ],
   "source": [
    "visitors.info()"
   ]
  },
  {
   "cell_type": "code",
   "execution_count": 17,
   "metadata": {},
   "outputs": [],
   "source": [
    "visitors[\"date\"] = visitors[\"date\"].map(lambda x: dt.datetime.strptime(x, '%Y-%m-%d'))"
   ]
  },
  {
   "cell_type": "code",
   "execution_count": 18,
   "metadata": {},
   "outputs": [
    {
     "data": {
      "text/plain": [
       "0"
      ]
     },
     "execution_count": 18,
     "metadata": {},
     "output_type": "execute_result"
    }
   ],
   "source": [
    "visitors.duplicated().sum()"
   ]
  },
  {
   "cell_type": "code",
   "execution_count": 19,
   "metadata": {},
   "outputs": [
    {
     "data": {
      "text/plain": [
       "date        0\n",
       "group       0\n",
       "visitors    0\n",
       "dtype: int64"
      ]
     },
     "execution_count": 19,
     "metadata": {},
     "output_type": "execute_result"
    }
   ],
   "source": [
    "visitors.isnull().sum()"
   ]
  },
  {
   "cell_type": "markdown",
   "metadata": {},
   "source": [
    "<div class=\"alert alert-success\">\n",
    "<font color='black'>    \n",
    "<br><b>Все данные корректны, дубликатов и пропусков в данных нет, заменил тип данных \"date\" на datetime</b>"
   ]
  },
  {
   "cell_type": "code",
   "execution_count": 20,
   "metadata": {
    "scrolled": true
   },
   "outputs": [
    {
     "name": "stdout",
     "output_type": "stream",
     "text": [
      "        date group  orders  buyers  revenue  visitors\n",
      "0 2019-08-01     A      24      20   148579       719\n",
      "1 2019-08-01     B      21      20   101217       713\n",
      "2 2019-08-02     A      44      38   242401      1338\n",
      "3 2019-08-02     B      45      43   266748      1294\n",
      "4 2019-08-03     A      68      62   354874      1845\n"
     ]
    }
   ],
   "source": [
    "# создаем массив уникальных пар значений дат и групп теста\n",
    "datesGroups = orders[['date','group']].drop_duplicates()\n",
    "\n",
    "# Получим строки orders, дата которых <= дате элемента из datesGroups, а группа теста равна группе из datesGroups\n",
    "# Агрегируем значения, найдём число уникальных ID заказов и пользователей\n",
    "# Подсчитаем сумму средних чеков\n",
    "\n",
    "ordersAggregated = (datesGroups\n",
    "                    .apply(lambda x: orders[np.logical_and(orders['date'] <= x['date'], orders['group'] == x['group'])]\\\n",
    ".agg({'date' : 'max', 'group' : 'max', 'transactionid' : pd.Series.nunique, 'visitorid' : pd.Series.nunique, 'revenue' : 'sum'}), axis=1)\n",
    "                    .sort_values(by=['date','group'])\n",
    ")\n",
    "\n",
    "# Получим нужные строки visitors, агрегируем значения\n",
    "# Посчитаем количество пользователей\n",
    "\n",
    "visitorsAggregated = (datesGroups\n",
    "                      .apply(lambda x: visitors[np.logical_and(visitors['date'] <= x['date'], visitors['group'] == x['group'])]\n",
    "                             .agg({'date' : 'max', 'group' : 'max', 'visitors' : 'sum'}), axis=1)\n",
    "                      .sort_values(by=['date','group']))\n",
    "\n",
    "# объединяем кумулятивные данные в одной таблице и присваиваем ее столбцам понятные названия\n",
    "cummulativeData = ordersAggregated.merge(visitorsAggregated, left_on=['date', 'group'], right_on=['date', 'group'])\n",
    "cummulativeData.columns = ['date', 'group', 'orders', 'buyers', 'revenue', 'visitors']\n",
    "\n",
    "print(cummulativeData.head())"
   ]
  },
  {
   "cell_type": "markdown",
   "metadata": {},
   "source": [
    "#### График кумулятивной выручки по группам"
   ]
  },
  {
   "cell_type": "code",
   "execution_count": 21,
   "metadata": {},
   "outputs": [
    {
     "data": {
      "image/png": "[encoded data removed]",
      "text/plain": [
       "<Figure size 720x504 with 1 Axes>"
      ]
     },
     "metadata": {
      "needs_background": "light"
     },
     "output_type": "display_data"
    }
   ],
   "source": [
    "# датафрейм с кумулятивным количеством заказов и кумулятивной выручкой по дням в группе А и B\n",
    "cummulativeRevenueA = cummulativeData[cummulativeData['group']=='A'][['date','revenue', 'orders']]\n",
    "cummulativeRevenueB = cummulativeData[cummulativeData['group']=='B'][['date','revenue', 'orders']]\n",
    "\n",
    "\n",
    "cummulativeRevenueA['date'] = pd.to_datetime(cummulativeRevenueA['date'], format='%Y-%m-%d')\n",
    "cummulativeRevenueB['date'] = pd.to_datetime(cummulativeRevenueB['date'], format='%Y-%m-%d')\n",
    "\n",
    "\n",
    "# Строим график выручки группы А и B\n",
    "\n",
    "fig = plt.figure(figsize=[10,7])\n",
    "plt.grid(True)\n",
    "\n",
    "plt.plot(cummulativeRevenueA['date'], cummulativeRevenueA['revenue'], label='A')\n",
    "plt.plot(cummulativeRevenueB['date'], cummulativeRevenueB['revenue'], label='B')\n",
    "\n",
    "fig.autofmt_xdate()\n",
    "plt.title('График кумулятивной выручки по группам')\n",
    "plt.xlabel(\"Дата\")\n",
    "plt.ylabel(\"Выручка заказа\")\n",
    "plt.legend()\n",
    "plt.show()"
   ]
  },
  {
   "cell_type": "markdown",
   "metadata": {},
   "source": [
    "<div class=\"alert alert-success\">\n",
    "<font color='black'>    \n",
    "<br><b>Выручка в обеих группах растёт, но в группе B выручка выше практически на протяжении всего месяца. Также в этой группе наблюдается сильный скачок с 18 на 19 число, что может быть следствием всплеска числа заказов, или же о появлении очень дорогих заказов в выборке.</b>"
   ]
  },
  {
   "cell_type": "markdown",
   "metadata": {},
   "source": [
    "#### График кумулятивного среднего чека по группам"
   ]
  },
  {
   "cell_type": "code",
   "execution_count": 22,
   "metadata": {},
   "outputs": [
    {
     "data": {
      "image/png": "[encoded data removed]",
      "text/plain": [
       "<Figure size 720x504 with 1 Axes>"
      ]
     },
     "metadata": {
      "needs_background": "light"
     },
     "output_type": "display_data"
    }
   ],
   "source": [
    "fig = plt.figure(figsize=[10,7])\n",
    "plt.plot(cummulativeRevenueA['date'], cummulativeRevenueA['revenue']/cummulativeRevenueA['orders'], label='средний кумулятивный чек группы A')\n",
    "plt.plot(cummulativeRevenueB['date'], cummulativeRevenueB['revenue']/cummulativeRevenueB['orders'], label='средний кумулятивный чек группы B')\n",
    "fig.autofmt_xdate()\n",
    "plt.legend()\n",
    "plt.grid(True)\n",
    "plt.title('График кумулятивного среднего чека по группам')\n",
    "plt.xlabel(\"Дата\")\n",
    "plt.ylabel(\"Средний чек\")\n",
    "plt.show()"
   ]
  },
  {
   "cell_type": "markdown",
   "metadata": {},
   "source": [
    "<div class=\"alert alert-success\">\n",
    "<font color='black'>    \n",
    "<br><b>Средний чек стабилизируется к концу теста: немного растет для группы A и и продолжает падать для группы B. Возможно, в группу B в середине теста попали крупные заказы (резкий всплеск на графике).</b>"
   ]
  },
  {
   "cell_type": "markdown",
   "metadata": {},
   "source": [
    "#### График относительного изменения кумулятивного среднего чека группы B к группе A. "
   ]
  },
  {
   "cell_type": "code",
   "execution_count": 23,
   "metadata": {},
   "outputs": [
    {
     "data": {
      "image/png": "[encoded data removed]",
      "text/plain": [
       "<Figure size 1080x504 with 1 Axes>"
      ]
     },
     "metadata": {
      "needs_background": "light"
     },
     "output_type": "display_data"
    }
   ],
   "source": [
    " fig = plt.figure(figsize=[15,7])\n",
    "# собираем данные в одном датафрейме\n",
    "mergedCummulativeRevenue = cummulativeRevenueA.merge(cummulativeRevenueB, left_on='date', right_on='date', how='left', suffixes=['A', 'B'])\n",
    "\n",
    "# cтроим отношение средних чеков\n",
    "plt.plot(mergedCummulativeRevenue['date'], (mergedCummulativeRevenue['revenueB']/mergedCummulativeRevenue['ordersB'])/(mergedCummulativeRevenue['revenueA']/mergedCummulativeRevenue['ordersA'])-1, label=\"Относительное изменение среднего чека\\n группы B к группе A\")\n",
    "plt.legend(loc='lower right')\n",
    "fig.autofmt_xdate()\n",
    "# добавляем ось X\n",
    "plt.axhline(y=0, color='black', linestyle='--')\n",
    "plt.grid(True)\n",
    "plt.title('Изменения кумулятивного среднего чека группы B к группе A.')\n",
    "plt.xlabel(\"Дата\")\n",
    "plt.ylabel(\"Относительное изменение\")\n",
    "plt.show()"
   ]
  },
  {
   "cell_type": "markdown",
   "metadata": {},
   "source": [
    "<div class=\"alert alert-success\">\n",
    "<font color='black'>    \n",
    "<br><b>График различия между сегментами валатилен. Сначала средний чек группы B растет, затем резко падает и далее взлетает. Возможно это влияние крупных заказов и выбросов. В целом все три графика демонстрируют одинаковую картину.</b>"
   ]
  },
  {
   "cell_type": "markdown",
   "metadata": {},
   "source": [
    "#### График кумулятивного среднего количества заказов на посетителя по группам"
   ]
  },
  {
   "cell_type": "code",
   "execution_count": 24,
   "metadata": {},
   "outputs": [
    {
     "name": "stdout",
     "output_type": "stream",
     "text": [
      "0.029217427214536445\n",
      "0.03685636856368564\n"
     ]
    }
   ],
   "source": [
    "# считаем кумулятивное среднее количества заказов\n",
    "cummulativeData['conversion'] = cummulativeData['orders']/cummulativeData['visitors']\n",
    "print(cummulativeData['conversion'].min())\n",
    "print(cummulativeData['conversion'].max())"
   ]
  },
  {
   "cell_type": "code",
   "execution_count": 25,
   "metadata": {
    "scrolled": false
   },
   "outputs": [
    {
     "data": {
      "image/png": "[encoded data removed]",
      "text/plain": [
       "<Figure size 1080x504 with 1 Axes>"
      ]
     },
     "metadata": {
      "needs_background": "light"
     },
     "output_type": "display_data"
    }
   ],
   "source": [
    "cummulativeData['date'] = pd.to_datetime(cummulativeData['date'], format='%Y-%m-%d')\n",
    "\n",
    "# отделяем данные по группе A и B\n",
    "cummulativeDataA = cummulativeData[cummulativeData['group']=='A']\n",
    "cummulativeDataB = cummulativeData[cummulativeData['group']=='B']\n",
    "\n",
    "\n",
    "# строим графики\n",
    "fig = plt.figure(figsize=[15,7])\n",
    "plt.plot(cummulativeDataA['date'], cummulativeDataA['conversion'], label='A')\n",
    "plt.plot(cummulativeDataB['date'], cummulativeDataB['conversion'], label='B')\n",
    "fig.autofmt_xdate()\n",
    "plt.title('График кумулятивного среднего количества заказов на посетителя по группам')\n",
    "plt.xlabel(\"Дата\")\n",
    "plt.ylabel(\"Кумулятивное среднее количество заказов\")\n",
    "plt.legend()\n",
    "plt.grid(True)\n",
    "plt.show()"
   ]
  },
  {
   "cell_type": "markdown",
   "metadata": {},
   "source": [
    "<div class=\"alert alert-success\">\n",
    "<font color='black'>    \n",
    "<br><b>Группы колебались около одного значения, но затем кумулятивное среднее количество заказов  группы B вырвалось вперёд и зафиксировалась, а кумулятивное среднее количество заказов группы A просела и также зафиксировалась.</b>"
   ]
  },
  {
   "cell_type": "markdown",
   "metadata": {},
   "source": [
    "#### График относительного изменения кумулятивного среднего количества заказов на посетителя группы B к группе A"
   ]
  },
  {
   "cell_type": "code",
   "execution_count": 26,
   "metadata": {},
   "outputs": [
    {
     "data": {
      "image/png": "[encoded data removed]",
      "text/plain": [
       "<Figure size 1080x504 with 1 Axes>"
      ]
     },
     "metadata": {
      "needs_background": "light"
     },
     "output_type": "display_data"
    }
   ],
   "source": [
    "mergedCummulativeConversions = cummulativeDataA[['date','conversion']].merge(cummulativeDataB[['date','conversion']], left_on='date', right_on='date', how='left', suffixes=['A', 'B'])\n",
    "\n",
    "fig = plt.figure(figsize=[15,7])\n",
    "plt.plot(mergedCummulativeConversions['date'], mergedCummulativeConversions['conversionB']/mergedCummulativeConversions['conversionA']-1, label=\"Относительный прирост\")\n",
    "plt.legend(loc=\"lower right\")\n",
    "fig.autofmt_xdate()\n",
    "\n",
    "plt.axhline(y=0, color='black', linestyle='--')\n",
    "plt.axhline(y=0.1, color='grey', linestyle='--')\n",
    "plt.grid(True)\n",
    "plt.title('График относительного изменения кумулятивного среднего количества заказов на посетителя группы B к группе A')\n",
    "plt.xlabel(\"Дата\")\n",
    "plt.ylabel(\"Относительное изменение\")\n",
    "plt.show()"
   ]
  },
  {
   "cell_type": "markdown",
   "metadata": {},
   "source": [
    "<div class=\"alert alert-success\">\n",
    "<font color='black'>    \n",
    "<br><b>Со старта группа B лидирует по относительному изменению кумулятивного среднего количества заказов: прирост сначала колебался от 15% до 20% к концу месяца в районе 10-15%.</b>"
   ]
  },
  {
   "cell_type": "markdown",
   "metadata": {},
   "source": [
    "#### Точечный график количества заказов по пользователям."
   ]
  },
  {
   "cell_type": "code",
   "execution_count": 27,
   "metadata": {},
   "outputs": [
    {
     "name": "stdout",
     "output_type": "stream",
     "text": [
      "       visitorid  orders\n",
      "1023  4256040402      11\n",
      "591   2458001652      11\n",
      "569   2378935119       9\n",
      "487   2038680547       8\n",
      "44     199603092       5\n",
      "744   3062433592       5\n",
      "55     237748145       5\n",
      "917   3803269165       5\n",
      "299   1230306981       5\n",
      "897   3717692402       5\n"
     ]
    }
   ],
   "source": [
    "ordersByUsers = orders.drop(['group', 'revenue', 'date'], axis=1).groupby('visitorid', as_index=False).agg({'transactionid' : pd.Series.nunique})\n",
    "\n",
    "ordersByUsers.columns = ['visitorid','orders']\n",
    "\n",
    "print(ordersByUsers.sort_values(by='orders',ascending=False).head(10))"
   ]
  },
  {
   "cell_type": "code",
   "execution_count": 28,
   "metadata": {},
   "outputs": [
    {
     "data": {
      "image/png": "[encoded data removed]",
      "text/plain": [
       "<Figure size 432x288 with 1 Axes>"
      ]
     },
     "metadata": {
      "needs_background": "light"
     },
     "output_type": "display_data"
    }
   ],
   "source": [
    "plt.hist(ordersByUsers['orders'])#Построим гистрограмму распределения количества заказов на одного пользователя.\n",
    "plt.title('Распределения количества заказов на одного пользователя')\n",
    "plt.ylabel(\"Число пользователей\")\n",
    "plt.xlabel(\"Число заказов\")\n",
    "plt.show()"
   ]
  },
  {
   "cell_type": "code",
   "execution_count": 29,
   "metadata": {},
   "outputs": [
    {
     "data": {
      "image/png": "[encoded data removed]",
      "text/plain": [
       "<Figure size 432x288 with 1 Axes>"
      ]
     },
     "metadata": {
      "needs_background": "light"
     },
     "output_type": "display_data"
    }
   ],
   "source": [
    "x_values = pd.Series(range(0,len(ordersByUsers)))#Построим точечную диаграмму числа заказов на одного пользователя\n",
    "\n",
    "plt.scatter(x_values, ordersByUsers['orders'])\n",
    "plt.title('Точечная диаграмму числа заказов на одного пользователя')\n",
    "plt.xlabel(\"Число пользователей\")\n",
    "plt.ylabel(\"Число заказов\")\n",
    "plt.show()"
   ]
  },
  {
   "cell_type": "markdown",
   "metadata": {},
   "source": [
    "<div class=\"alert alert-success\">\n",
    "<font color='black'>    \n",
    "<br><b>Анализируя граффики можно сделать вывод, что большинство покупателей заказывали только один раз. Однако доля пользователей с 2-5 заказами тоже значительна. </b>"
   ]
  },
  {
   "cell_type": "markdown",
   "metadata": {},
   "source": [
    "#### 95-й и 99-й перцентили количества заказов на пользователя. Граница для определения аномальных заказов."
   ]
  },
  {
   "cell_type": "code",
   "execution_count": 30,
   "metadata": {},
   "outputs": [
    {
     "data": {
      "text/plain": [
       "array([2., 4.])"
      ]
     },
     "execution_count": 30,
     "metadata": {},
     "output_type": "execute_result"
    }
   ],
   "source": [
    "np.percentile(ordersByUsers['orders'], [95, 99])"
   ]
  },
  {
   "cell_type": "markdown",
   "metadata": {},
   "source": [
    "<div class=\"alert alert-success\">\n",
    "<font color='black'>    \n",
    "<br><b> Порядка 5% пользователей оформляли больше чем 2 заказа и 1% пользователей заказывали больше 4-х раз.\n",
    "Предполагаю, что можно выбрать 2 заказа на одного пользователя за верхнюю границу числа заказов, и отсеять аномальных пользователей по ней.</b>"
   ]
  },
  {
   "cell_type": "markdown",
   "metadata": {},
   "source": [
    "#### Точечный график стоимостей заказов"
   ]
  },
  {
   "cell_type": "code",
   "execution_count": 31,
   "metadata": {
    "scrolled": true
   },
   "outputs": [
    {
     "data": {
      "image/png": "[encoded data removed]",
      "text/plain": [
       "<Figure size 432x288 with 1 Axes>"
      ]
     },
     "metadata": {
      "needs_background": "light"
     },
     "output_type": "display_data"
    }
   ],
   "source": [
    "x_values = pd.Series(range(0,len(orders['revenue'])))\n",
    "plt.scatter(x_values, orders['revenue'])\n",
    "plt.title('Точечный график стоимостей заказов')\n",
    "plt.xlabel(\"Число заказов\")\n",
    "plt.ylabel(\"Стоимость заказа\")\n",
    "plt.show()"
   ]
  },
  {
   "cell_type": "markdown",
   "metadata": {},
   "source": [
    "<div class=\"alert alert-success\">\n",
    "<font color='black'>    \n",
    "<br><b> Практически все стоимости заказов находятся в пределах 100000, но есть выбросы со стоимостями более миллиона. Именно этот заказ отразился на всех графиках.</b>"
   ]
  },
  {
   "cell_type": "markdown",
   "metadata": {},
   "source": [
    "#### 95-й и 99-й перцентили стоимости заказов. Граница для определения аномальных заказов."
   ]
  },
  {
   "cell_type": "code",
   "execution_count": 32,
   "metadata": {},
   "outputs": [
    {
     "data": {
      "text/plain": [
       "array([28000. , 58233.2])"
      ]
     },
     "execution_count": 32,
     "metadata": {},
     "output_type": "execute_result"
    }
   ],
   "source": [
    "np.percentile(orders['revenue'], [95, 99])"
   ]
  },
  {
   "cell_type": "markdown",
   "metadata": {},
   "source": [
    "<div class=\"alert alert-success\">\n",
    "<font color='black'>    \n",
    "<br><b> 1% заказов дороже 58 234 рублей, не более 5% заказов дороже 28 000 рублей, можно взять эту цифру за границу для определения аномальных заказов.</b>"
   ]
  },
  {
   "cell_type": "markdown",
   "metadata": {},
   "source": [
    "#### Статистическая значимость различий в среднем количестве заказов на посетителя между группами по «сырым» данным."
   ]
  },
  {
   "cell_type": "code",
   "execution_count": 33,
   "metadata": {},
   "outputs": [
    {
     "data": {
      "text/html": [
       "<div>\n",
       "<style scoped>\n",
       "    .dataframe tbody tr th:only-of-type {\n",
       "        vertical-align: middle;\n",
       "    }\n",
       "\n",
       "    .dataframe tbody tr th {\n",
       "        vertical-align: top;\n",
       "    }\n",
       "\n",
       "    .dataframe thead th {\n",
       "        text-align: right;\n",
       "    }\n",
       "</style>\n",
       "<table border=\"1\" class=\"dataframe\">\n",
       "  <thead>\n",
       "    <tr style=\"text-align: right;\">\n",
       "      <th></th>\n",
       "      <th>date</th>\n",
       "      <th>ordersPerDateA</th>\n",
       "      <th>revenuePerDateA</th>\n",
       "      <th>ordersPerDateB</th>\n",
       "      <th>revenuePerDateB</th>\n",
       "      <th>ordersCummulativeA</th>\n",
       "      <th>revenueCummulativeA</th>\n",
       "      <th>ordersCummulativeB</th>\n",
       "      <th>revenueCummulativeB</th>\n",
       "      <th>visitorsPerDateA</th>\n",
       "      <th>visitorsPerDateB</th>\n",
       "      <th>visitorsCummulativeA</th>\n",
       "      <th>visitorsCummulativeB</th>\n",
       "    </tr>\n",
       "  </thead>\n",
       "  <tbody>\n",
       "    <tr>\n",
       "      <th>0</th>\n",
       "      <td>2019-08-01</td>\n",
       "      <td>24</td>\n",
       "      <td>148579</td>\n",
       "      <td>21</td>\n",
       "      <td>101217</td>\n",
       "      <td>24</td>\n",
       "      <td>148579</td>\n",
       "      <td>21</td>\n",
       "      <td>101217</td>\n",
       "      <td>719</td>\n",
       "      <td>713</td>\n",
       "      <td>719</td>\n",
       "      <td>713</td>\n",
       "    </tr>\n",
       "    <tr>\n",
       "      <th>1</th>\n",
       "      <td>2019-08-02</td>\n",
       "      <td>20</td>\n",
       "      <td>93822</td>\n",
       "      <td>24</td>\n",
       "      <td>165531</td>\n",
       "      <td>44</td>\n",
       "      <td>242401</td>\n",
       "      <td>45</td>\n",
       "      <td>266748</td>\n",
       "      <td>619</td>\n",
       "      <td>581</td>\n",
       "      <td>1338</td>\n",
       "      <td>1294</td>\n",
       "    </tr>\n",
       "    <tr>\n",
       "      <th>2</th>\n",
       "      <td>2019-08-03</td>\n",
       "      <td>24</td>\n",
       "      <td>112473</td>\n",
       "      <td>16</td>\n",
       "      <td>114248</td>\n",
       "      <td>68</td>\n",
       "      <td>354874</td>\n",
       "      <td>61</td>\n",
       "      <td>380996</td>\n",
       "      <td>507</td>\n",
       "      <td>509</td>\n",
       "      <td>1845</td>\n",
       "      <td>1803</td>\n",
       "    </tr>\n",
       "    <tr>\n",
       "      <th>3</th>\n",
       "      <td>2019-08-04</td>\n",
       "      <td>16</td>\n",
       "      <td>70825</td>\n",
       "      <td>17</td>\n",
       "      <td>108571</td>\n",
       "      <td>84</td>\n",
       "      <td>425699</td>\n",
       "      <td>78</td>\n",
       "      <td>489567</td>\n",
       "      <td>717</td>\n",
       "      <td>770</td>\n",
       "      <td>2562</td>\n",
       "      <td>2573</td>\n",
       "    </tr>\n",
       "    <tr>\n",
       "      <th>4</th>\n",
       "      <td>2019-08-05</td>\n",
       "      <td>25</td>\n",
       "      <td>124218</td>\n",
       "      <td>23</td>\n",
       "      <td>92428</td>\n",
       "      <td>109</td>\n",
       "      <td>549917</td>\n",
       "      <td>101</td>\n",
       "      <td>581995</td>\n",
       "      <td>756</td>\n",
       "      <td>707</td>\n",
       "      <td>3318</td>\n",
       "      <td>3280</td>\n",
       "    </tr>\n",
       "  </tbody>\n",
       "</table>\n",
       "</div>"
      ],
      "text/plain": [
       "        date  ordersPerDateA  revenuePerDateA  ordersPerDateB  revenuePerDateB  ordersCummulativeA  revenueCummulativeA  ordersCummulativeB  revenueCummulativeB  visitorsPerDateA  visitorsPerDateB  visitorsCummulativeA  visitorsCummulativeB\n",
       "0 2019-08-01              24           148579              21           101217                  24               148579                  21               101217               719               713                   719                   713\n",
       "1 2019-08-02              20            93822              24           165531                  44               242401                  45               266748               619               581                  1338                  1294\n",
       "2 2019-08-03              24           112473              16           114248                  68               354874                  61               380996               507               509                  1845                  1803\n",
       "3 2019-08-04              16            70825              17           108571                  84               425699                  78               489567               717               770                  2562                  2573\n",
       "4 2019-08-05              25           124218              23            92428                 109               549917                 101               581995               756               707                  3318                  3280"
      ]
     },
     "metadata": {},
     "output_type": "display_data"
    }
   ],
   "source": [
    "# Считаем количество пользователей до выбранной даты включительно в группах A и B;\n",
    "\n",
    "visitorsADaily = visitors[visitors['group']=='A'][['date', 'visitors']]\n",
    "visitorsADaily.columns = ['date', 'visitorsPerDateA']\n",
    "\n",
    "visitorsACummulative = visitorsADaily.apply(lambda x: visitorsADaily[visitorsADaily['date'] <= x['date']].agg({'date' : 'max', 'visitorsPerDateA' : 'sum'}), axis=1)\n",
    "visitorsACummulative.columns = ['date', 'visitorsCummulativeA']\n",
    "\n",
    "visitorsBDaily = visitors[visitors['group']=='B'][['date', 'visitors']]\n",
    "visitorsBDaily.columns = ['date', 'visitorsPerDateB']\n",
    "\n",
    "visitorsBCummulative = visitorsBDaily.apply(lambda x: visitorsBDaily[visitorsBDaily['date'] <= x['date']].agg({'date' : 'max', 'visitorsPerDateB' : 'sum'}), axis=1)\n",
    "visitorsBCummulative.columns = ['date', 'visitorsCummulativeB']\n",
    "\n",
    "# Считаем суммарное число заказов до выбранной даты включительно в группах A и B\n",
    "ordersADaily = orders[orders['group']=='A'][['date', 'transactionid', 'visitorid', 'revenue']]\\\n",
    "    .groupby('date', as_index=False)\\\n",
    "    .agg({'transactionid' : pd.Series.nunique, 'revenue' : 'sum'})\n",
    "ordersADaily.columns = ['date', 'ordersPerDateA', 'revenuePerDateA']\n",
    "\n",
    "ordersACummulative = ordersADaily.apply(\n",
    "    lambda x: \\\n",
    "        ordersADaily[ordersADaily['date'] <= x['date']]\\\n",
    "            .agg({\n",
    "                'date' : 'max',\n",
    "                'ordersPerDateA' : 'sum',\n",
    "                'revenuePerDateA' : 'sum'}), axis=1).sort_values(by=['date'])\n",
    "ordersACummulative.columns = ['date', 'ordersCummulativeA', 'revenueCummulativeA']\n",
    "\n",
    "ordersBDaily = orders[orders['group']=='B'][['date', 'transactionid', 'visitorid', 'revenue']]\\\n",
    "    .groupby('date', as_index=False)\\\n",
    "    .agg({'transactionid' : pd.Series.nunique, 'revenue' : 'sum'})\n",
    "ordersBDaily.columns = ['date', 'ordersPerDateB', 'revenuePerDateB']\n",
    "\n",
    "ordersBCummulative = ordersBDaily.apply(\n",
    "    lambda x: \\\n",
    "        ordersBDaily[ordersBDaily['date'] <= x['date']]\\\n",
    "            .agg({\n",
    "                'date' : 'max',\n",
    "                'ordersPerDateB' : 'sum',\n",
    "                'revenuePerDateB' : 'sum'}), axis=1).sort_values(by=['date'])\n",
    "ordersBCummulative.columns = ['date', 'ordersCummulativeB', 'revenueCummulativeB']\n",
    "\n",
    "\n",
    "# Получаем таблицу с количеством заказов, выручкой в день, количество заказов и выручка до выбранной даты(включительно)\n",
    "# Количество пользователей до выбранной даты \n",
    "data = ordersADaily.merge(ordersBDaily, left_on='date', right_on='date', how='left')\\\n",
    "    .merge(ordersACummulative, left_on='date', right_on='date', how='left')\\\n",
    "    .merge(ordersBCummulative, left_on='date', right_on='date', how='left')\\\n",
    "    .merge(visitorsADaily, left_on='date', right_on='date', how='left')\\\n",
    "    .merge(visitorsBDaily, left_on='date', right_on='date', how='left')\\\n",
    "    .merge(visitorsACummulative, left_on='date', right_on='date', how='left')\\\n",
    "    .merge(visitorsBCummulative, left_on='date', right_on='date', how='left')\n",
    "\n",
    "display(data.head())"
   ]
  },
  {
   "cell_type": "markdown",
   "metadata": {},
   "source": [
    "<div class=\"alert alert-success\">\n",
    "<font color='black'>    \n",
    "<br><b> Нулевая гипотеза - Cтатистически значимых различий в средним количеством заказов на посетителя между группами нет\n",
    "<br>Альтернативная - есть статистически значимые различия в средним количеством заказов на посетителя между группами\n",
    "<br>Статистичиский критерий - 0,05\n",
    "<br>Применяем метод непараметрический теста Уилкоксона-Манна-Уитни к нему прибегают тогда, когда работа с самими значениями невозможна из-за выбросов, сильно сдвигающих параметрических результатов.</b>"
   ]
  },
  {
   "cell_type": "code",
   "execution_count": 34,
   "metadata": {},
   "outputs": [],
   "source": [
    "# Создадим переменные ordersByUsersA и ordersByUsersB со столбцами ['userId', 'orders']. \n",
    "# В них для пользователей, которые заказывали хотя бы 1 раз, укажем число совершённых заказов.\n",
    "\n",
    "ordersByUsersA = orders[orders['group']=='A'].groupby('visitorid', as_index=False).agg({'transactionid' : pd.Series.nunique})\n",
    "ordersByUsersA.columns = ['userId', 'orders']\n",
    "\n",
    "ordersByUsersB = orders[orders['group']=='B'].groupby('visitorid', as_index=False).agg({'transactionid' : pd.Series.nunique})\n",
    "ordersByUsersB.columns = ['userId', 'orders']"
   ]
  },
  {
   "cell_type": "markdown",
   "metadata": {},
   "source": [
    "Подготовим выборки к проверке критерием Манна-Уитни. Объявим переменные sampleA и sampleB, в которых пользователям из разных групп будет соответствовать количество заказов. Тем, кто ничего не заказал, будут соответствовать нули."
   ]
  },
  {
   "cell_type": "code",
   "execution_count": 35,
   "metadata": {},
   "outputs": [],
   "source": [
    "sampleA = pd.concat([ordersByUsersA['orders'],pd.Series(0, index=np.arange(data['visitorsPerDateA'].sum() - len(ordersByUsersA['orders'])), name='orders')],axis=0)\n",
    "sampleB = pd.concat([ordersByUsersB['orders'],pd.Series(0, index=np.arange(data['visitorsPerDateB'].sum() - len(ordersByUsersB['orders'])), name='orders')],axis=0)"
   ]
  },
  {
   "cell_type": "markdown",
   "metadata": {},
   "source": [
    "Выведем относительный прирост в среднем количестве заказов на посетителя группы B: прирост в среднем количестве заказов группы B / прирост в среднем количестве заказов группы A - 1. Применим критерий и отформатируем p-value, округлив его до трёх знаков после запятой."
   ]
  },
  {
   "cell_type": "code",
   "execution_count": 36,
   "metadata": {},
   "outputs": [
    {
     "name": "stdout",
     "output_type": "stream",
     "text": [
      "p-значение: 0.017\n",
      "Отвергаем нулевую гипотезу: \"Cтатистически значимых различий в среднем количестве заказов между группами нет\".\n",
      "Относительный показатель 'B' и 'A' = 0.138\n"
     ]
    }
   ],
   "source": [
    "ordersByUsersA = orders[orders['group']=='A'].groupby('visitorid', as_index=False).agg({'transactionid' : pd.Series.nunique})\n",
    "ordersByUsersA.columns = ['userId', 'orders']\n",
    "\n",
    "ordersByUsersB = orders[orders['group']=='B'].groupby('visitorid', as_index=False).agg({'transactionid' : pd.Series.nunique})\n",
    "ordersByUsersB.columns = ['userId', 'orders']\n",
    "\n",
    "sampleA = pd.concat([ordersByUsersA['orders'],pd.Series(0, index=np.arange(data['visitorsPerDateA'].sum() - len(ordersByUsersA['orders'])), name='orders')],axis=0)\n",
    "\n",
    "sampleB = pd.concat([ordersByUsersB['orders'],pd.Series(0, index=np.arange(data['visitorsPerDateB'].sum() - len(ordersByUsersB['orders'])), name='orders')],axis=0)\n",
    "alpha = 0.05\n",
    "results = stats.mannwhitneyu(sampleA, sampleB)\n",
    "print('p-значение: {:.3f}'.format(results.pvalue))\n",
    "if (results.pvalue < alpha):\n",
    "    print('Отвергаем нулевую гипотезу: \"Cтатистически значимых различий в среднем количестве заказов между группами нет\".')\n",
    "else:\n",
    "    print('Не получилось отвергнуть нулевую гипотезу: \"Cтатистически значимых различий в среднем количестве заказов между группами нет\".')\n",
    "print(\"Относительный показатель 'B' и 'A' = {0:.3f}\".format(sampleB.mean()/sampleA.mean()-1))"
   ]
  },
  {
   "cell_type": "markdown",
   "metadata": {},
   "source": [
    "<div class=\"alert alert-success\">\n",
    "<font color='black'>    \n",
    "<br><b>P-value значительно меньше 0.05, потому нулевую гипотезу отвергаем. Анализ «сырых данных» сообщает, что в среднем количестве заказов на посетителя между группами  есть статистически значимые различия. Относительный прирост среднего количества заказов группы B к среднему количеству заказов группы A равен 13,8 %.</b>"
   ]
  },
  {
   "cell_type": "markdown",
   "metadata": {},
   "source": [
    "#### Статистическая значимость различий в среднем чеке заказа между группами по «сырым» данным."
   ]
  },
  {
   "cell_type": "code",
   "execution_count": 37,
   "metadata": {},
   "outputs": [
    {
     "name": "stdout",
     "output_type": "stream",
     "text": [
      "p-значение: 0.729\n",
      "Не получилось отвергнуть нулевую гипотезу: \"Cтатистически значимых различий в среднем чеке между группами нет\".\n",
      "Относительный прирост в среднем чеке группы B: 0.259\n"
     ]
    }
   ],
   "source": [
    "results = stats.mannwhitneyu(orders[orders['group']=='A']['revenue'], orders[orders['group']=='B']['revenue'])\n",
    "print('p-значение: {:.3f}'.format(results.pvalue))\n",
    "if (results.pvalue < alpha):\n",
    "    print('Отвергаем нулевую гипотезу: \"Cтатистически значимых различий в среднем чеке между группами нет\".')\n",
    "else:\n",
    "    print('Не получилось отвергнуть нулевую гипотезу: \"Cтатистически значимых различий в среднем чеке между группами нет\".')\n",
    "\n",
    "print(\"Относительный прирост в среднем чеке группы B: {0:.3f}\"\n",
    "      .format(orders[orders['group']=='B']['revenue'].mean()/orders[orders['group']=='A']['revenue'].mean()-1))"
   ]
  },
  {
   "cell_type": "markdown",
   "metadata": {},
   "source": [
    "<div class=\"alert alert-success\">\n",
    "<font color='black'>    \n",
    "<br><b>P-value значительно больше 0.05. Значит, нельзя отвегнуть нулевую гипотезу. В среднем чеке заказа между группами различий нет. Средний чек группы B почти на 26% выше среднего чека группы A.</b>"
   ]
  },
  {
   "cell_type": "markdown",
   "metadata": {},
   "source": [
    "####  Статистическая значимость различий в среднем количестве заказов на посетителя между группами по «очищенным» данным."
   ]
  },
  {
   "cell_type": "markdown",
   "metadata": {},
   "source": [
    "За аномальных пользователей были приняты те, кто совершил от 3 заказов или совершил заказ дороже 28000 рублей. Так мы уберём 5% пользователей с наибольшим числом заказов и с дорогими заказами.\n",
    "\n",
    "Сделаем срезы пользователей с числом заказов больше 2 — usersWithManyOrders и пользователей, совершивших заказы дороже 28000 — usersWithExpensiveOrders. Объединим их в таблице abnormalUsers. Узнаем, сколько всего аномальных пользователей методом shape()"
   ]
  },
  {
   "cell_type": "code",
   "execution_count": 69,
   "metadata": {},
   "outputs": [
    {
     "name": "stdout",
     "output_type": "stream",
     "text": [
      "1099    148427295\n",
      "18      199603092\n",
      "928     204675465\n",
      "23      237748145\n",
      "37      249864742\n",
      "dtype: int64\n",
      "Всего аномальных пользователей: (74,)\n"
     ]
    }
   ],
   "source": [
    "usersWithManyOrders = pd.concat([ordersByUsersA[ordersByUsersA['orders'] > 2]['userId'], ordersByUsersB[ordersByUsersB['orders'] > 2]['userId']], axis = 0)\n",
    "usersWithExpensiveOrders = orders[orders['revenue'] > 28000]['visitorid']\n",
    "abnormalUsers = pd.concat([usersWithManyOrders, usersWithExpensiveOrders], axis = 0).drop_duplicates().sort_values()\n",
    "print(abnormalUsers.head(5))\n",
    "print(\"Всего аномальных пользователей: {}\".format(format(abnormalUsers.shape)))"
   ]
  },
  {
   "cell_type": "markdown",
   "metadata": {},
   "source": [
    "Всего 74 аномальных пользователя. Узнаем, как их действия повлияли на результаты теста. Посчитаем статистическую значимость различий в конверсии между группами теста по очищенным данным. Сначала подготовим выборки количества заказов по пользователям по группам теста:"
   ]
  },
  {
   "cell_type": "code",
   "execution_count": 79,
   "metadata": {},
   "outputs": [
    {
     "name": "stdout",
     "output_type": "stream",
     "text": [
      "Относительные потери составили: 7.177%\n"
     ]
    }
   ],
   "source": [
    "print(\"Относительные потери составили: {:.3f}%\".format((abnormalUsers.nunique()/orders['visitorid'].nunique())*100))"
   ]
  },
  {
   "cell_type": "code",
   "execution_count": 39,
   "metadata": {},
   "outputs": [],
   "source": [
    "sampleAFiltered = pd.concat([ordersByUsersA[np.logical_not(ordersByUsersA['userId'].isin(abnormalUsers))]['orders'],pd.Series(0, index=np.arange(data['visitorsPerDateA'].sum() - len(ordersByUsersA['orders'])),name='orders')],axis=0)\n",
    "sampleBFiltered = pd.concat([ordersByUsersB[np.logical_not(ordersByUsersB['userId'].isin(abnormalUsers))]['orders'],pd.Series(0, index=np.arange(data['visitorsPerDateB'].sum() - len(ordersByUsersA['orders'])),name='orders')],axis=0)"
   ]
  },
  {
   "cell_type": "markdown",
   "metadata": {},
   "source": [
    "Применим статистический критерий Манна-Уитни к полученным выборкам:"
   ]
  },
  {
   "cell_type": "code",
   "execution_count": 40,
   "metadata": {},
   "outputs": [
    {
     "name": "stdout",
     "output_type": "stream",
     "text": [
      "p-значение: 0.016\n",
      "Отвергаем нулевую гипотезу: \"Cтатистически значимых различий в среднем количестве заказов на посетителя между группами A и B\" нет.\n",
      "Относительный прирост конверсии группы B: 0.168\n"
     ]
    }
   ],
   "source": [
    "#print(\"{0:.3f}\".format(stats.mannwhitneyu(sampleAFiltered, sampleBFiltered)[1]))\n",
    "alpha = 0.05\n",
    "results = stats.mannwhitneyu(sampleAFiltered, sampleBFiltered)\n",
    "print('p-значение: {:.3f}'.format(results.pvalue))\n",
    "if (results.pvalue < alpha):\n",
    "    print('Отвергаем нулевую гипотезу: \"Cтатистически значимых различий в среднем количестве заказов на посетителя между группами A и B\" нет.')\n",
    "else:\n",
    "    print('Не получилось отвергнуть нулевую гипотезу: \"Cтатистически значимых различий в среднем количестве заказов на посетителя между группами A и B\" нет.')\n",
    "print(\"Относительный прирост конверсии группы B: {0:.3f}\".format(sampleBFiltered.mean()/sampleAFiltered.mean()-1))"
   ]
  },
  {
   "cell_type": "markdown",
   "metadata": {},
   "source": [
    "<div class=\"alert alert-success\">\n",
    "<font color='black'>    \n",
    "<br><b>Результаты практически не изменились. p-value остался значительно меньше 0.05. Значит, нулевую гипотезу о том, что статистически значимых различий в среднем количестве заказов на посетителя между группамистатистически значимые различия в среднем количестве заказов на посетителя между группами A и B нет  - отвергаем.\n",
    "По очищенным данным есть . Относительный прирост среднего количества заказов группы B около 17%</b>"
   ]
  },
  {
   "cell_type": "markdown",
   "metadata": {},
   "source": [
    "#### Cтатистическая значимость различий в среднем чеке заказа между группами по «очищенным» данным."
   ]
  },
  {
   "cell_type": "code",
   "execution_count": 41,
   "metadata": {},
   "outputs": [
    {
     "name": "stdout",
     "output_type": "stream",
     "text": [
      "p-значение: 0.738\n",
      "Не получилось отвергнуть нулевую гипотезу: \"Cтатистически значимых различий в среднем чеке между группами нет\".\n",
      "Относительный прирост в среднем чеке группы B: -0.020\n"
     ]
    }
   ],
   "source": [
    "results = stats.mannwhitneyu(orders[np.logical_and(\n",
    "        orders['group']=='A',\n",
    "        np.logical_not(orders['visitorid'].isin(abnormalUsers)))]['revenue'],\n",
    "    orders[np.logical_and(\n",
    "        orders['group']=='B',\n",
    "        np.logical_not(orders['visitorid'].isin(abnormalUsers)))]['revenue'])\n",
    "print('p-значение: {:.3f}'.format(results.pvalue))\n",
    "if (results.pvalue < alpha):\n",
    "    print('Отвергаем нулевую гипотезу: \"Cтатистически значимых различий в среднем чеке между группами нет\".')\n",
    "else:\n",
    "    print('Не получилось отвергнуть нулевую гипотезу: \"Cтатистически значимых различий в среднем чеке между группами нет\".')\n",
    "\n",
    "print(\"Относительный прирост в среднем чеке группы B: {0:.3f}\"\n",
    "      .format(orders[np.logical_and(orders['group']=='B',np.logical_not(orders['visitorid'].isin(abnormalUsers)))]['revenue'].mean()/\n",
    "    orders[np.logical_and(\n",
    "        orders['group']=='A',\n",
    "        np.logical_not(orders['visitorid'].isin(abnormalUsers)))]['revenue'].mean() - 1))"
   ]
  },
  {
   "cell_type": "markdown",
   "metadata": {},
   "source": [
    "<div class=\"alert alert-success\">\n",
    "<font color='black'>    \n",
    "<br><b>P-value практически не изменился. Очищенные данные показывают, что средний чек группы B немного уступает группе A, хотя на сырых данных чек группы B был на 26% больше.\n",
    "По очищенным данным статистически значимых различий среднего чека между группами нет, но разница из положительной стала отрицательной - это показывает вклад аномалии.</b>"
   ]
  },
  {
   "cell_type": "markdown",
   "metadata": {},
   "source": [
    "<div class=\"alert alert-success\">\n",
    "<font color='black'>    \n",
    "<br><b>На основании проведенного исследования можно сделать вывод:</b>\n",
    "    <br>Есть статистически значимое различие в среднем количестве заказов на посетителя между группами как по \"сырым данным\", так и после фильтрации аномалий.\n",
    "Как по сырым, так и по очищенным данным нет статистически значимого различия по среднему чеку между группами.\n",
    "<br>График различия  в среднем количестве заказов на посетителя сообщает, что результаты группы B лучше группы A: имеют тенденцию к росту и практически зафиксировались.\n",
    "<br><b>На основании результатов, можно остановить тест и зафиксировать победу группы B. Так как есть статистически значимое различие  по среднему количестве заказов на посетителя между группами, относительный прирост конверсии группы B около 17%.</b>"
   ]
  }
 ],
 "metadata": {
  "ExecuteTimeLog": [
   {
    "duration": 1896,
    "start_time": "2023-04-15T12:20:10.680Z"
   },
   {
    "duration": 79,
    "start_time": "2023-04-15T12:27:06.881Z"
   },
   {
    "duration": 3,
    "start_time": "2023-04-15T12:27:23.830Z"
   },
   {
    "duration": 7,
    "start_time": "2023-04-15T12:27:31.470Z"
   },
   {
    "duration": 10,
    "start_time": "2023-04-15T12:29:26.060Z"
   },
   {
    "duration": 10,
    "start_time": "2023-04-15T12:34:14.832Z"
   },
   {
    "duration": 4,
    "start_time": "2023-04-15T12:39:41.180Z"
   },
   {
    "duration": 4,
    "start_time": "2023-04-15T12:39:46.334Z"
   },
   {
    "duration": 43,
    "start_time": "2023-04-15T12:39:46.345Z"
   },
   {
    "duration": 3,
    "start_time": "2023-04-15T12:39:46.390Z"
   },
   {
    "duration": 13,
    "start_time": "2023-04-15T12:39:46.395Z"
   },
   {
    "duration": 15,
    "start_time": "2023-04-15T12:39:46.410Z"
   },
   {
    "duration": 24,
    "start_time": "2023-04-15T12:39:46.427Z"
   },
   {
    "duration": 3,
    "start_time": "2023-04-15T12:40:13.896Z"
   },
   {
    "duration": 73,
    "start_time": "2023-04-15T12:40:13.902Z"
   },
   {
    "duration": 4,
    "start_time": "2023-04-15T12:40:13.977Z"
   },
   {
    "duration": 23,
    "start_time": "2023-04-15T12:40:13.982Z"
   },
   {
    "duration": 22,
    "start_time": "2023-04-15T12:40:14.007Z"
   },
   {
    "duration": 22,
    "start_time": "2023-04-15T12:40:14.030Z"
   },
   {
    "duration": 3,
    "start_time": "2023-04-15T12:40:23.603Z"
   },
   {
    "duration": 35,
    "start_time": "2023-04-15T12:40:23.608Z"
   },
   {
    "duration": 9,
    "start_time": "2023-04-15T12:40:23.644Z"
   },
   {
    "duration": 12,
    "start_time": "2023-04-15T12:40:23.658Z"
   },
   {
    "duration": 10,
    "start_time": "2023-04-15T12:40:23.674Z"
   },
   {
    "duration": 11,
    "start_time": "2023-04-15T12:40:23.688Z"
   },
   {
    "duration": 3,
    "start_time": "2023-04-15T12:40:40.881Z"
   },
   {
    "duration": 6,
    "start_time": "2023-04-15T12:40:43.074Z"
   },
   {
    "duration": 52,
    "start_time": "2023-04-15T12:40:43.083Z"
   },
   {
    "duration": 5,
    "start_time": "2023-04-15T12:40:43.137Z"
   },
   {
    "duration": 11,
    "start_time": "2023-04-15T12:40:43.152Z"
   },
   {
    "duration": 14,
    "start_time": "2023-04-15T12:40:43.168Z"
   },
   {
    "duration": 7,
    "start_time": "2023-04-15T12:40:43.184Z"
   },
   {
    "duration": 4,
    "start_time": "2023-04-15T12:41:07.232Z"
   },
   {
    "duration": 55,
    "start_time": "2023-04-15T12:41:07.238Z"
   },
   {
    "duration": 3,
    "start_time": "2023-04-15T12:41:07.295Z"
   },
   {
    "duration": 11,
    "start_time": "2023-04-15T12:41:07.300Z"
   },
   {
    "duration": 11,
    "start_time": "2023-04-15T12:41:07.313Z"
   },
   {
    "duration": 8,
    "start_time": "2023-04-15T12:41:07.327Z"
   },
   {
    "duration": 3,
    "start_time": "2023-04-15T12:41:36.803Z"
   },
   {
    "duration": 56,
    "start_time": "2023-04-15T12:41:36.808Z"
   },
   {
    "duration": 3,
    "start_time": "2023-04-15T12:41:36.866Z"
   },
   {
    "duration": 8,
    "start_time": "2023-04-15T12:41:36.871Z"
   },
   {
    "duration": 11,
    "start_time": "2023-04-15T12:41:36.880Z"
   },
   {
    "duration": 8,
    "start_time": "2023-04-15T12:41:36.892Z"
   },
   {
    "duration": 3,
    "start_time": "2023-04-15T12:41:52.926Z"
   },
   {
    "duration": 54,
    "start_time": "2023-04-15T12:41:52.931Z"
   },
   {
    "duration": 3,
    "start_time": "2023-04-15T12:41:52.987Z"
   },
   {
    "duration": 9,
    "start_time": "2023-04-15T12:41:52.991Z"
   },
   {
    "duration": 12,
    "start_time": "2023-04-15T12:41:53.001Z"
   },
   {
    "duration": 19,
    "start_time": "2023-04-15T12:41:53.015Z"
   },
   {
    "duration": 3,
    "start_time": "2023-04-15T12:42:09.202Z"
   },
   {
    "duration": 26,
    "start_time": "2023-04-15T12:42:09.208Z"
   },
   {
    "duration": 8,
    "start_time": "2023-04-15T12:42:09.236Z"
   },
   {
    "duration": 10,
    "start_time": "2023-04-15T12:42:09.248Z"
   },
   {
    "duration": 10,
    "start_time": "2023-04-15T12:42:09.260Z"
   },
   {
    "duration": 7,
    "start_time": "2023-04-15T12:42:09.272Z"
   },
   {
    "duration": 149,
    "start_time": "2023-04-15T13:08:12.463Z"
   },
   {
    "duration": 8,
    "start_time": "2023-04-15T13:08:45.198Z"
   },
   {
    "duration": 8,
    "start_time": "2023-04-15T13:09:05.115Z"
   },
   {
    "duration": 3,
    "start_time": "2023-04-15T13:49:00.048Z"
   },
   {
    "duration": 67,
    "start_time": "2023-04-15T13:49:00.054Z"
   },
   {
    "duration": 3,
    "start_time": "2023-04-15T13:49:00.124Z"
   },
   {
    "duration": 28,
    "start_time": "2023-04-15T13:49:00.129Z"
   },
   {
    "duration": 45,
    "start_time": "2023-04-15T13:49:00.159Z"
   },
   {
    "duration": 38,
    "start_time": "2023-04-15T13:49:00.206Z"
   },
   {
    "duration": 150,
    "start_time": "2023-04-15T13:49:00.246Z"
   },
   {
    "duration": 7,
    "start_time": "2023-04-15T13:49:00.397Z"
   },
   {
    "duration": 48,
    "start_time": "2023-04-15T13:49:00.406Z"
   },
   {
    "duration": 4,
    "start_time": "2023-04-15T13:49:19.276Z"
   },
   {
    "duration": 25,
    "start_time": "2023-04-15T13:49:19.286Z"
   },
   {
    "duration": 3,
    "start_time": "2023-04-15T13:49:19.313Z"
   },
   {
    "duration": 9,
    "start_time": "2023-04-15T13:49:19.317Z"
   },
   {
    "duration": 14,
    "start_time": "2023-04-15T13:49:19.327Z"
   },
   {
    "duration": 8,
    "start_time": "2023-04-15T13:49:19.353Z"
   },
   {
    "duration": 49,
    "start_time": "2023-04-15T13:49:19.363Z"
   },
   {
    "duration": 7,
    "start_time": "2023-04-15T13:49:19.414Z"
   },
   {
    "duration": 12,
    "start_time": "2023-04-15T13:49:19.422Z"
   },
   {
    "duration": 57,
    "start_time": "2023-04-15T15:59:15.991Z"
   },
   {
    "duration": 1457,
    "start_time": "2023-04-15T15:59:29.990Z"
   },
   {
    "duration": 107,
    "start_time": "2023-04-15T15:59:31.451Z"
   },
   {
    "duration": 12,
    "start_time": "2023-04-15T15:59:31.559Z"
   },
   {
    "duration": 57,
    "start_time": "2023-04-15T15:59:31.574Z"
   },
   {
    "duration": 36,
    "start_time": "2023-04-15T15:59:31.633Z"
   },
   {
    "duration": 47,
    "start_time": "2023-04-15T15:59:31.670Z"
   },
   {
    "duration": 208,
    "start_time": "2023-04-15T15:59:31.718Z"
   },
   {
    "duration": 8,
    "start_time": "2023-04-15T15:59:31.927Z"
   },
   {
    "duration": 25,
    "start_time": "2023-04-15T15:59:31.937Z"
   },
   {
    "duration": 0,
    "start_time": "2023-04-15T15:59:39.919Z"
   },
   {
    "duration": 27,
    "start_time": "2023-04-15T16:00:01.688Z"
   },
   {
    "duration": 90,
    "start_time": "2023-04-15T16:04:15.906Z"
   },
   {
    "duration": 276,
    "start_time": "2023-04-15T16:04:23.647Z"
   },
   {
    "duration": 265,
    "start_time": "2023-04-15T16:05:18.465Z"
   },
   {
    "duration": 11,
    "start_time": "2023-04-15T16:06:15.846Z"
   },
   {
    "duration": 291,
    "start_time": "2023-04-15T16:07:03.422Z"
   },
   {
    "duration": 48,
    "start_time": "2023-04-15T16:18:55.627Z"
   },
   {
    "duration": 10,
    "start_time": "2023-04-15T16:19:06.700Z"
   },
   {
    "duration": 997,
    "start_time": "2023-04-15T16:19:11.405Z"
   },
   {
    "duration": 35,
    "start_time": "2023-04-15T16:19:12.404Z"
   },
   {
    "duration": 3,
    "start_time": "2023-04-15T16:19:12.440Z"
   },
   {
    "duration": 9,
    "start_time": "2023-04-15T16:19:13.604Z"
   },
   {
    "duration": 17,
    "start_time": "2023-04-15T16:19:13.615Z"
   },
   {
    "duration": 8,
    "start_time": "2023-04-15T16:19:13.634Z"
   },
   {
    "duration": 72,
    "start_time": "2023-04-15T16:19:13.644Z"
   },
   {
    "duration": 7,
    "start_time": "2023-04-15T16:19:13.718Z"
   },
   {
    "duration": 50,
    "start_time": "2023-04-15T16:19:13.727Z"
   },
   {
    "duration": 273,
    "start_time": "2023-04-15T16:19:13.779Z"
   },
   {
    "duration": 76,
    "start_time": "2023-04-15T16:19:14.053Z"
   },
   {
    "duration": 263,
    "start_time": "2023-04-15T16:20:38.390Z"
   },
   {
    "duration": 54,
    "start_time": "2023-04-15T16:23:14.336Z"
   },
   {
    "duration": 1012,
    "start_time": "2023-04-15T16:23:35.324Z"
   },
   {
    "duration": 40,
    "start_time": "2023-04-15T16:23:36.338Z"
   },
   {
    "duration": 4,
    "start_time": "2023-04-15T16:23:36.390Z"
   },
   {
    "duration": 11,
    "start_time": "2023-04-15T16:23:36.397Z"
   },
   {
    "duration": 18,
    "start_time": "2023-04-15T16:23:36.410Z"
   },
   {
    "duration": 9,
    "start_time": "2023-04-15T16:23:36.430Z"
   },
   {
    "duration": 78,
    "start_time": "2023-04-15T16:23:36.441Z"
   },
   {
    "duration": 8,
    "start_time": "2023-04-15T16:23:36.521Z"
   },
   {
    "duration": 17,
    "start_time": "2023-04-15T16:23:36.534Z"
   },
   {
    "duration": 273,
    "start_time": "2023-04-15T16:23:36.553Z"
   },
   {
    "duration": 189,
    "start_time": "2023-04-15T16:23:42.102Z"
   },
   {
    "duration": 170,
    "start_time": "2023-04-15T16:31:34.390Z"
   },
   {
    "duration": 195,
    "start_time": "2023-04-15T16:32:19.921Z"
   },
   {
    "duration": 444,
    "start_time": "2023-04-15T16:39:25.123Z"
   },
   {
    "duration": 10,
    "start_time": "2023-04-15T16:41:13.598Z"
   },
   {
    "duration": 322,
    "start_time": "2023-04-15T16:41:29.965Z"
   },
   {
    "duration": 331,
    "start_time": "2023-04-15T16:43:41.762Z"
   },
   {
    "duration": 288,
    "start_time": "2023-04-15T16:43:58.114Z"
   },
   {
    "duration": 442,
    "start_time": "2023-04-15T16:44:37.465Z"
   },
   {
    "duration": 336,
    "start_time": "2023-04-15T16:44:56.842Z"
   },
   {
    "duration": 331,
    "start_time": "2023-04-15T16:45:10.788Z"
   },
   {
    "duration": 5,
    "start_time": "2023-04-15T16:54:27.620Z"
   },
   {
    "duration": 228,
    "start_time": "2023-04-15T16:54:45.321Z"
   },
   {
    "duration": 202,
    "start_time": "2023-04-15T16:55:06.820Z"
   },
   {
    "duration": 281,
    "start_time": "2023-04-15T16:55:20.656Z"
   },
   {
    "duration": 393,
    "start_time": "2023-04-15T18:30:12.629Z"
   },
   {
    "duration": 325,
    "start_time": "2023-04-15T18:30:47.443Z"
   },
   {
    "duration": 438,
    "start_time": "2023-04-15T18:34:26.116Z"
   },
   {
    "duration": 208,
    "start_time": "2023-04-15T18:34:42.107Z"
   },
   {
    "duration": 1400,
    "start_time": "2023-04-16T16:03:24.094Z"
   },
   {
    "duration": 81,
    "start_time": "2023-04-16T16:03:25.496Z"
   },
   {
    "duration": 3,
    "start_time": "2023-04-16T16:03:25.579Z"
   },
   {
    "duration": 11,
    "start_time": "2023-04-16T16:03:25.583Z"
   },
   {
    "duration": 18,
    "start_time": "2023-04-16T16:03:25.596Z"
   },
   {
    "duration": 9,
    "start_time": "2023-04-16T16:03:25.616Z"
   },
   {
    "duration": 130,
    "start_time": "2023-04-16T16:03:25.626Z"
   },
   {
    "duration": 9,
    "start_time": "2023-04-16T16:03:25.758Z"
   },
   {
    "duration": 18,
    "start_time": "2023-04-16T16:03:25.768Z"
   },
   {
    "duration": 285,
    "start_time": "2023-04-16T16:03:25.788Z"
   },
   {
    "duration": 311,
    "start_time": "2023-04-16T16:03:26.075Z"
   },
   {
    "duration": 213,
    "start_time": "2023-04-16T16:03:26.388Z"
   },
   {
    "duration": 379,
    "start_time": "2023-04-16T16:03:26.603Z"
   },
   {
    "duration": 5,
    "start_time": "2023-04-16T16:03:26.985Z"
   },
   {
    "duration": 243,
    "start_time": "2023-04-16T16:03:26.992Z"
   },
   {
    "duration": 315,
    "start_time": "2023-04-16T16:03:27.237Z"
   },
   {
    "duration": 134,
    "start_time": "2023-04-16T16:05:15.267Z"
   },
   {
    "duration": 116,
    "start_time": "2023-04-16T16:05:52.007Z"
   },
   {
    "duration": 122,
    "start_time": "2023-04-16T16:06:17.104Z"
   },
   {
    "duration": 101,
    "start_time": "2023-04-16T16:10:29.653Z"
   },
   {
    "duration": 158,
    "start_time": "2023-04-16T16:11:00.394Z"
   },
   {
    "duration": 24,
    "start_time": "2023-04-16T16:11:05.330Z"
   },
   {
    "duration": 300,
    "start_time": "2023-04-16T16:12:11.593Z"
   },
   {
    "duration": 122,
    "start_time": "2023-04-16T16:13:02.802Z"
   },
   {
    "duration": 6,
    "start_time": "2023-04-16T16:17:40.309Z"
   },
   {
    "duration": 277,
    "start_time": "2023-04-16T16:22:43.847Z"
   },
   {
    "duration": 343,
    "start_time": "2023-04-16T16:24:13.606Z"
   },
   {
    "duration": 125,
    "start_time": "2023-04-16T16:24:49.504Z"
   },
   {
    "duration": 8,
    "start_time": "2023-04-16T16:25:06.145Z"
   },
   {
    "duration": 9,
    "start_time": "2023-04-16T16:25:37.355Z"
   },
   {
    "duration": 236,
    "start_time": "2023-04-16T16:26:06.729Z"
   },
   {
    "duration": 145,
    "start_time": "2023-04-16T16:33:01.626Z"
   },
   {
    "duration": 10,
    "start_time": "2023-04-16T16:33:25.338Z"
   },
   {
    "duration": 150,
    "start_time": "2023-04-16T17:03:50.614Z"
   },
   {
    "duration": 139,
    "start_time": "2023-04-16T17:04:06.306Z"
   },
   {
    "duration": 7,
    "start_time": "2023-04-16T17:07:12.480Z"
   },
   {
    "duration": 239,
    "start_time": "2023-04-16T17:11:16.518Z"
   },
   {
    "duration": 205,
    "start_time": "2023-04-16T17:12:42.651Z"
   },
   {
    "duration": 18,
    "start_time": "2023-04-16T17:14:40.423Z"
   },
   {
    "duration": 198,
    "start_time": "2023-04-16T17:15:36.931Z"
   },
   {
    "duration": 90,
    "start_time": "2023-04-16T17:22:55.815Z"
   },
   {
    "duration": 210,
    "start_time": "2023-04-16T17:23:06.819Z"
   },
   {
    "duration": 220,
    "start_time": "2023-04-16T17:23:31.543Z"
   },
   {
    "duration": 236,
    "start_time": "2023-04-16T17:23:50.846Z"
   },
   {
    "duration": 55,
    "start_time": "2023-04-17T06:30:34.201Z"
   },
   {
    "duration": 2572,
    "start_time": "2023-04-17T06:30:39.550Z"
   },
   {
    "duration": 75,
    "start_time": "2023-04-17T06:30:42.124Z"
   },
   {
    "duration": 4,
    "start_time": "2023-04-17T06:30:42.200Z"
   },
   {
    "duration": 9,
    "start_time": "2023-04-17T06:30:42.206Z"
   },
   {
    "duration": 11,
    "start_time": "2023-04-17T06:30:42.218Z"
   },
   {
    "duration": 9,
    "start_time": "2023-04-17T06:30:42.231Z"
   },
   {
    "duration": 122,
    "start_time": "2023-04-17T06:30:42.242Z"
   },
   {
    "duration": 8,
    "start_time": "2023-04-17T06:30:42.365Z"
   },
   {
    "duration": 9,
    "start_time": "2023-04-17T06:30:42.374Z"
   },
   {
    "duration": 293,
    "start_time": "2023-04-17T06:30:42.385Z"
   },
   {
    "duration": 292,
    "start_time": "2023-04-17T06:30:42.685Z"
   },
   {
    "duration": 219,
    "start_time": "2023-04-17T06:30:42.979Z"
   },
   {
    "duration": 399,
    "start_time": "2023-04-17T06:30:43.200Z"
   },
   {
    "duration": 5,
    "start_time": "2023-04-17T06:30:43.602Z"
   },
   {
    "duration": 245,
    "start_time": "2023-04-17T06:30:43.609Z"
   },
   {
    "duration": 391,
    "start_time": "2023-04-17T06:30:43.855Z"
   },
   {
    "duration": 130,
    "start_time": "2023-04-17T06:30:44.248Z"
   },
   {
    "duration": 123,
    "start_time": "2023-04-17T06:30:44.380Z"
   },
   {
    "duration": 119,
    "start_time": "2023-04-17T06:30:44.505Z"
   },
   {
    "duration": 6,
    "start_time": "2023-04-17T06:30:44.625Z"
   },
   {
    "duration": 209,
    "start_time": "2023-04-17T06:30:44.633Z"
   },
   {
    "duration": 5,
    "start_time": "2023-04-17T06:30:44.843Z"
   },
   {
    "duration": 226,
    "start_time": "2023-04-17T06:30:44.849Z"
   },
   {
    "duration": 135,
    "start_time": "2023-04-17T06:30:45.077Z"
   },
   {
    "duration": 6,
    "start_time": "2023-04-17T06:30:45.213Z"
   },
   {
    "duration": 179,
    "start_time": "2023-04-17T06:30:45.221Z"
   },
   {
    "duration": 162,
    "start_time": "2023-04-17T06:31:11.745Z"
   },
   {
    "duration": 13,
    "start_time": "2023-04-17T06:35:20.021Z"
   },
   {
    "duration": 70,
    "start_time": "2023-04-17T06:37:32.620Z"
   },
   {
    "duration": 20,
    "start_time": "2023-04-17T06:38:44.238Z"
   },
   {
    "duration": 12,
    "start_time": "2023-04-17T06:39:13.556Z"
   },
   {
    "duration": 10,
    "start_time": "2023-04-17T06:52:04.353Z"
   },
   {
    "duration": 7,
    "start_time": "2023-04-17T06:56:16.360Z"
   },
   {
    "duration": 23,
    "start_time": "2023-04-17T06:56:45.859Z"
   },
   {
    "duration": 24,
    "start_time": "2023-04-17T07:01:23.555Z"
   },
   {
    "duration": 4,
    "start_time": "2023-04-17T07:03:03.557Z"
   },
   {
    "duration": 24,
    "start_time": "2023-04-17T07:03:33.427Z"
   },
   {
    "duration": 14,
    "start_time": "2023-04-17T07:04:43.927Z"
   },
   {
    "duration": 24,
    "start_time": "2023-04-17T07:05:19.626Z"
   },
   {
    "duration": 13,
    "start_time": "2023-04-17T07:12:24.359Z"
   },
   {
    "duration": 25,
    "start_time": "2023-04-17T08:11:52.565Z"
   },
   {
    "duration": 30,
    "start_time": "2023-04-17T08:12:08.266Z"
   },
   {
    "duration": 36,
    "start_time": "2023-04-17T08:12:38.640Z"
   },
   {
    "duration": 4,
    "start_time": "2023-04-17T08:26:18.671Z"
   },
   {
    "duration": 30,
    "start_time": "2023-04-17T08:26:18.677Z"
   },
   {
    "duration": 3,
    "start_time": "2023-04-17T08:26:18.709Z"
   },
   {
    "duration": 16,
    "start_time": "2023-04-17T08:26:18.714Z"
   },
   {
    "duration": 11,
    "start_time": "2023-04-17T08:26:18.732Z"
   },
   {
    "duration": 9,
    "start_time": "2023-04-17T08:26:18.745Z"
   },
   {
    "duration": 49,
    "start_time": "2023-04-17T08:26:18.756Z"
   },
   {
    "duration": 8,
    "start_time": "2023-04-17T08:26:18.807Z"
   },
   {
    "duration": 8,
    "start_time": "2023-04-17T08:26:18.817Z"
   },
   {
    "duration": 281,
    "start_time": "2023-04-17T08:26:18.827Z"
   },
   {
    "duration": 231,
    "start_time": "2023-04-17T08:26:19.110Z"
   },
   {
    "duration": 215,
    "start_time": "2023-04-17T08:26:19.343Z"
   },
   {
    "duration": 348,
    "start_time": "2023-04-17T08:26:19.560Z"
   },
   {
    "duration": 6,
    "start_time": "2023-04-17T08:26:19.910Z"
   },
   {
    "duration": 245,
    "start_time": "2023-04-17T08:26:19.918Z"
   },
   {
    "duration": 355,
    "start_time": "2023-04-17T08:26:20.165Z"
   },
   {
    "duration": 144,
    "start_time": "2023-04-17T08:26:20.521Z"
   },
   {
    "duration": 122,
    "start_time": "2023-04-17T08:26:20.667Z"
   },
   {
    "duration": 121,
    "start_time": "2023-04-17T08:26:20.791Z"
   },
   {
    "duration": 5,
    "start_time": "2023-04-17T08:26:20.914Z"
   },
   {
    "duration": 142,
    "start_time": "2023-04-17T08:26:20.920Z"
   },
   {
    "duration": 6,
    "start_time": "2023-04-17T08:26:21.065Z"
   },
   {
    "duration": 313,
    "start_time": "2023-04-17T08:26:21.087Z"
   },
   {
    "duration": 153,
    "start_time": "2023-04-17T08:26:21.402Z"
   },
   {
    "duration": 7,
    "start_time": "2023-04-17T08:26:21.557Z"
   },
   {
    "duration": 187,
    "start_time": "2023-04-17T08:26:21.565Z"
   },
   {
    "duration": 11,
    "start_time": "2023-04-17T08:26:21.753Z"
   },
   {
    "duration": 25,
    "start_time": "2023-04-17T08:26:21.767Z"
   },
   {
    "duration": 8,
    "start_time": "2023-04-17T08:26:21.794Z"
   },
   {
    "duration": 24,
    "start_time": "2023-04-17T08:26:21.803Z"
   },
   {
    "duration": 17,
    "start_time": "2023-04-17T08:26:21.829Z"
   },
   {
    "duration": 100,
    "start_time": "2023-04-17T15:23:30.843Z"
   },
   {
    "duration": 12,
    "start_time": "2023-04-17T15:23:41.400Z"
   },
   {
    "duration": 2007,
    "start_time": "2023-04-17T15:23:45.293Z"
   },
   {
    "duration": 115,
    "start_time": "2023-04-17T15:23:47.302Z"
   },
   {
    "duration": 5,
    "start_time": "2023-04-17T15:23:47.419Z"
   },
   {
    "duration": 72,
    "start_time": "2023-04-17T15:23:47.426Z"
   },
   {
    "duration": 17,
    "start_time": "2023-04-17T15:23:47.500Z"
   },
   {
    "duration": 11,
    "start_time": "2023-04-17T15:23:47.519Z"
   },
   {
    "duration": 292,
    "start_time": "2023-04-17T15:23:47.532Z"
   },
   {
    "duration": 16,
    "start_time": "2023-04-17T15:23:47.827Z"
   },
   {
    "duration": 60,
    "start_time": "2023-04-17T15:23:47.846Z"
   },
   {
    "duration": 385,
    "start_time": "2023-04-17T15:23:47.909Z"
   },
   {
    "duration": 409,
    "start_time": "2023-04-17T15:23:48.300Z"
   },
   {
    "duration": 375,
    "start_time": "2023-04-17T15:23:48.711Z"
   },
   {
    "duration": 397,
    "start_time": "2023-04-17T15:23:49.087Z"
   },
   {
    "duration": 7,
    "start_time": "2023-04-17T15:23:49.486Z"
   },
   {
    "duration": 379,
    "start_time": "2023-04-17T15:23:49.495Z"
   },
   {
    "duration": 353,
    "start_time": "2023-04-17T15:23:49.881Z"
   },
   {
    "duration": 291,
    "start_time": "2023-04-17T15:23:50.236Z"
   },
   {
    "duration": 188,
    "start_time": "2023-04-17T15:23:50.529Z"
   },
   {
    "duration": 287,
    "start_time": "2023-04-17T15:23:50.719Z"
   },
   {
    "duration": 7,
    "start_time": "2023-04-17T15:23:51.008Z"
   },
   {
    "duration": 180,
    "start_time": "2023-04-17T15:23:51.017Z"
   },
   {
    "duration": 11,
    "start_time": "2023-04-17T15:23:51.200Z"
   },
   {
    "duration": 312,
    "start_time": "2023-04-17T15:23:51.214Z"
   },
   {
    "duration": 266,
    "start_time": "2023-04-17T15:23:51.529Z"
   },
   {
    "duration": 9,
    "start_time": "2023-04-17T15:23:51.797Z"
   },
   {
    "duration": 223,
    "start_time": "2023-04-17T15:23:51.808Z"
   },
   {
    "duration": 22,
    "start_time": "2023-04-17T15:23:52.034Z"
   },
   {
    "duration": 44,
    "start_time": "2023-04-17T15:23:52.068Z"
   },
   {
    "duration": 81,
    "start_time": "2023-04-17T15:23:52.115Z"
   },
   {
    "duration": 50,
    "start_time": "2023-04-17T15:23:52.199Z"
   },
   {
    "duration": 63,
    "start_time": "2023-04-17T15:23:52.251Z"
   },
   {
    "duration": 371,
    "start_time": "2023-04-17T15:24:40.440Z"
   },
   {
    "duration": 328,
    "start_time": "2023-04-17T15:24:56.174Z"
   },
   {
    "duration": 326,
    "start_time": "2023-04-17T15:25:11.576Z"
   },
   {
    "duration": 251,
    "start_time": "2023-04-17T15:27:07.572Z"
   },
   {
    "duration": 351,
    "start_time": "2023-04-17T15:27:28.410Z"
   },
   {
    "duration": 288,
    "start_time": "2023-04-17T15:28:04.101Z"
   },
   {
    "duration": 289,
    "start_time": "2023-04-17T15:29:06.494Z"
   },
   {
    "duration": 299,
    "start_time": "2023-04-17T15:30:04.700Z"
   },
   {
    "duration": 263,
    "start_time": "2023-04-17T15:30:43.599Z"
   },
   {
    "duration": 363,
    "start_time": "2023-04-17T15:32:14.766Z"
   },
   {
    "duration": 524,
    "start_time": "2023-04-17T15:32:26.491Z"
   },
   {
    "duration": 388,
    "start_time": "2023-04-17T15:33:21.916Z"
   },
   {
    "duration": 292,
    "start_time": "2023-04-17T15:33:58.320Z"
   },
   {
    "duration": 367,
    "start_time": "2023-04-17T15:34:53.833Z"
   },
   {
    "duration": 310,
    "start_time": "2023-04-17T15:36:01.414Z"
   },
   {
    "duration": 396,
    "start_time": "2023-04-17T15:36:13.632Z"
   },
   {
    "duration": 5,
    "start_time": "2023-04-17T15:37:30.282Z"
   },
   {
    "duration": 130,
    "start_time": "2023-04-17T15:37:30.290Z"
   },
   {
    "duration": 10,
    "start_time": "2023-04-17T15:37:30.422Z"
   },
   {
    "duration": 85,
    "start_time": "2023-04-17T15:37:30.437Z"
   },
   {
    "duration": 88,
    "start_time": "2023-04-17T15:37:30.526Z"
   },
   {
    "duration": 88,
    "start_time": "2023-04-17T15:37:30.616Z"
   },
   {
    "duration": 177,
    "start_time": "2023-04-17T15:37:30.708Z"
   },
   {
    "duration": 18,
    "start_time": "2023-04-17T15:37:30.889Z"
   },
   {
    "duration": 100,
    "start_time": "2023-04-17T15:37:30.912Z"
   },
   {
    "duration": 615,
    "start_time": "2023-04-17T15:37:31.015Z"
   },
   {
    "duration": 347,
    "start_time": "2023-04-17T15:37:31.641Z"
   },
   {
    "duration": 0,
    "start_time": "2023-04-17T15:37:31.994Z"
   },
   {
    "duration": 0,
    "start_time": "2023-04-17T15:37:31.995Z"
   },
   {
    "duration": 0,
    "start_time": "2023-04-17T15:37:31.996Z"
   },
   {
    "duration": 0,
    "start_time": "2023-04-17T15:37:31.997Z"
   },
   {
    "duration": 0,
    "start_time": "2023-04-17T15:37:32.002Z"
   },
   {
    "duration": 0,
    "start_time": "2023-04-17T15:37:32.004Z"
   },
   {
    "duration": 0,
    "start_time": "2023-04-17T15:37:32.006Z"
   },
   {
    "duration": 0,
    "start_time": "2023-04-17T15:37:32.008Z"
   },
   {
    "duration": 0,
    "start_time": "2023-04-17T15:37:32.011Z"
   },
   {
    "duration": 0,
    "start_time": "2023-04-17T15:37:32.013Z"
   },
   {
    "duration": 0,
    "start_time": "2023-04-17T15:37:32.015Z"
   },
   {
    "duration": 0,
    "start_time": "2023-04-17T15:37:32.017Z"
   },
   {
    "duration": 0,
    "start_time": "2023-04-17T15:37:32.019Z"
   },
   {
    "duration": 0,
    "start_time": "2023-04-17T15:37:32.050Z"
   },
   {
    "duration": 0,
    "start_time": "2023-04-17T15:37:32.051Z"
   },
   {
    "duration": 0,
    "start_time": "2023-04-17T15:37:32.052Z"
   },
   {
    "duration": 0,
    "start_time": "2023-04-17T15:37:32.056Z"
   },
   {
    "duration": 0,
    "start_time": "2023-04-17T15:37:32.064Z"
   },
   {
    "duration": 0,
    "start_time": "2023-04-17T15:37:32.065Z"
   },
   {
    "duration": 0,
    "start_time": "2023-04-17T15:37:32.067Z"
   },
   {
    "duration": 400,
    "start_time": "2023-04-17T15:38:00.919Z"
   },
   {
    "duration": 357,
    "start_time": "2023-04-17T15:38:11.100Z"
   },
   {
    "duration": 305,
    "start_time": "2023-04-17T15:38:30.468Z"
   },
   {
    "duration": 333,
    "start_time": "2023-04-17T15:38:40.229Z"
   },
   {
    "duration": 348,
    "start_time": "2023-04-17T15:43:35.262Z"
   },
   {
    "duration": 245,
    "start_time": "2023-04-17T15:44:22.659Z"
   },
   {
    "duration": 254,
    "start_time": "2023-04-17T15:46:33.952Z"
   },
   {
    "duration": 269,
    "start_time": "2023-04-17T15:47:57.305Z"
   },
   {
    "duration": 262,
    "start_time": "2023-04-17T15:48:31.285Z"
   },
   {
    "duration": 278,
    "start_time": "2023-04-17T15:48:38.085Z"
   },
   {
    "duration": 252,
    "start_time": "2023-04-17T15:48:55.737Z"
   },
   {
    "duration": 250,
    "start_time": "2023-04-17T15:49:02.388Z"
   },
   {
    "duration": 279,
    "start_time": "2023-04-17T15:49:11.101Z"
   },
   {
    "duration": 239,
    "start_time": "2023-04-17T15:49:18.061Z"
   },
   {
    "duration": 245,
    "start_time": "2023-04-17T15:49:29.557Z"
   },
   {
    "duration": 334,
    "start_time": "2023-04-17T15:49:39.883Z"
   },
   {
    "duration": 237,
    "start_time": "2023-04-17T15:49:46.793Z"
   },
   {
    "duration": 258,
    "start_time": "2023-04-17T15:49:56.404Z"
   },
   {
    "duration": 247,
    "start_time": "2023-04-17T15:50:02.356Z"
   },
   {
    "duration": 313,
    "start_time": "2023-04-17T15:50:08.323Z"
   },
   {
    "duration": 260,
    "start_time": "2023-04-17T15:51:48.016Z"
   },
   {
    "duration": 276,
    "start_time": "2023-04-17T15:51:59.784Z"
   },
   {
    "duration": 274,
    "start_time": "2023-04-17T15:52:13.357Z"
   },
   {
    "duration": 46,
    "start_time": "2023-04-17T17:19:58.959Z"
   },
   {
    "duration": 1258,
    "start_time": "2023-04-17T17:20:04.186Z"
   },
   {
    "duration": 68,
    "start_time": "2023-04-17T17:20:05.446Z"
   },
   {
    "duration": 2,
    "start_time": "2023-04-17T17:20:05.516Z"
   },
   {
    "duration": 10,
    "start_time": "2023-04-17T17:20:05.520Z"
   },
   {
    "duration": 15,
    "start_time": "2023-04-17T17:20:05.531Z"
   },
   {
    "duration": 19,
    "start_time": "2023-04-17T17:20:05.547Z"
   },
   {
    "duration": 140,
    "start_time": "2023-04-17T17:20:05.568Z"
   },
   {
    "duration": 8,
    "start_time": "2023-04-17T17:20:05.710Z"
   },
   {
    "duration": 10,
    "start_time": "2023-04-17T17:20:05.719Z"
   },
   {
    "duration": 250,
    "start_time": "2023-04-17T17:20:05.730Z"
   },
   {
    "duration": 279,
    "start_time": "2023-04-17T17:20:05.982Z"
   },
   {
    "duration": 193,
    "start_time": "2023-04-17T17:20:06.262Z"
   },
   {
    "duration": 390,
    "start_time": "2023-04-17T17:20:06.457Z"
   },
   {
    "duration": 5,
    "start_time": "2023-04-17T17:20:06.849Z"
   },
   {
    "duration": 219,
    "start_time": "2023-04-17T17:20:06.855Z"
   },
   {
    "duration": 304,
    "start_time": "2023-04-17T17:20:07.076Z"
   },
   {
    "duration": 136,
    "start_time": "2023-04-17T17:20:07.382Z"
   },
   {
    "duration": 106,
    "start_time": "2023-04-17T17:20:07.519Z"
   },
   {
    "duration": 94,
    "start_time": "2023-04-17T17:20:07.627Z"
   },
   {
    "duration": 4,
    "start_time": "2023-04-17T17:20:07.723Z"
   },
   {
    "duration": 178,
    "start_time": "2023-04-17T17:20:07.728Z"
   },
   {
    "duration": 4,
    "start_time": "2023-04-17T17:20:07.908Z"
   },
   {
    "duration": 197,
    "start_time": "2023-04-17T17:20:07.914Z"
   },
   {
    "duration": 129,
    "start_time": "2023-04-17T17:20:08.112Z"
   },
   {
    "duration": 6,
    "start_time": "2023-04-17T17:20:08.243Z"
   },
   {
    "duration": 172,
    "start_time": "2023-04-17T17:20:08.251Z"
   },
   {
    "duration": 14,
    "start_time": "2023-04-17T17:20:08.425Z"
   },
   {
    "duration": 12,
    "start_time": "2023-04-17T17:20:08.440Z"
   },
   {
    "duration": 20,
    "start_time": "2023-04-17T17:20:08.454Z"
   },
   {
    "duration": 23,
    "start_time": "2023-04-17T17:20:08.476Z"
   },
   {
    "duration": 15,
    "start_time": "2023-04-17T17:20:08.501Z"
   },
   {
    "duration": 200,
    "start_time": "2023-04-17T17:20:39.943Z"
   },
   {
    "duration": 179,
    "start_time": "2023-04-17T17:21:05.425Z"
   },
   {
    "duration": 187,
    "start_time": "2023-04-17T17:22:07.589Z"
   },
   {
    "duration": 187,
    "start_time": "2023-04-17T17:23:30.334Z"
   },
   {
    "duration": 195,
    "start_time": "2023-04-17T17:23:51.490Z"
   },
   {
    "duration": 221,
    "start_time": "2023-04-17T17:26:28.025Z"
   },
   {
    "duration": 363,
    "start_time": "2023-04-17T17:29:00.182Z"
   },
   {
    "duration": 426,
    "start_time": "2023-04-17T17:29:18.325Z"
   },
   {
    "duration": 247,
    "start_time": "2023-04-17T17:31:05.964Z"
   },
   {
    "duration": 7,
    "start_time": "2023-04-17T17:33:11.727Z"
   },
   {
    "duration": 302,
    "start_time": "2023-04-17T17:33:14.419Z"
   },
   {
    "duration": 343,
    "start_time": "2023-04-17T17:35:16.583Z"
   },
   {
    "duration": 117,
    "start_time": "2023-04-17T17:36:36.916Z"
   },
   {
    "duration": 111,
    "start_time": "2023-04-17T17:36:56.544Z"
   },
   {
    "duration": 70,
    "start_time": "2023-04-17T17:38:03.430Z"
   },
   {
    "duration": 121,
    "start_time": "2023-04-17T17:38:13.394Z"
   },
   {
    "duration": 109,
    "start_time": "2023-04-17T17:38:29.190Z"
   },
   {
    "duration": 122,
    "start_time": "2023-04-17T17:39:19.957Z"
   },
   {
    "duration": 120,
    "start_time": "2023-04-17T17:41:05.800Z"
   },
   {
    "duration": 10,
    "start_time": "2023-04-17T17:43:38.141Z"
   },
   {
    "duration": 292,
    "start_time": "2023-04-17T17:44:05.807Z"
   },
   {
    "duration": 4,
    "start_time": "2023-04-17T17:45:21.967Z"
   },
   {
    "duration": 14,
    "start_time": "2023-04-17T17:45:30.108Z"
   },
   {
    "duration": 7,
    "start_time": "2023-04-17T17:46:19.246Z"
   },
   {
    "duration": 9,
    "start_time": "2023-04-17T17:46:41.148Z"
   },
   {
    "duration": 5,
    "start_time": "2023-04-17T17:47:00.012Z"
   },
   {
    "duration": 5,
    "start_time": "2023-04-17T17:47:22.910Z"
   },
   {
    "duration": 188,
    "start_time": "2023-04-17T17:51:07.611Z"
   },
   {
    "duration": 165,
    "start_time": "2023-04-17T17:55:11.229Z"
   },
   {
    "duration": 11,
    "start_time": "2023-04-17T18:19:04.690Z"
   },
   {
    "duration": 11,
    "start_time": "2023-04-17T18:19:13.955Z"
   },
   {
    "duration": 7,
    "start_time": "2023-04-17T18:20:19.198Z"
   },
   {
    "duration": 6,
    "start_time": "2023-04-17T18:20:39.294Z"
   },
   {
    "duration": 1301,
    "start_time": "2023-04-18T15:44:37.958Z"
   },
   {
    "duration": 39,
    "start_time": "2023-04-18T15:44:39.263Z"
   },
   {
    "duration": 3,
    "start_time": "2023-04-18T15:44:39.304Z"
   },
   {
    "duration": 14,
    "start_time": "2023-04-18T15:44:39.309Z"
   },
   {
    "duration": 29,
    "start_time": "2023-04-18T15:44:39.326Z"
   },
   {
    "duration": 13,
    "start_time": "2023-04-18T15:44:39.358Z"
   },
   {
    "duration": 60,
    "start_time": "2023-04-18T15:44:39.373Z"
   },
   {
    "duration": 12,
    "start_time": "2023-04-18T15:44:39.435Z"
   },
   {
    "duration": 68,
    "start_time": "2023-04-18T15:44:39.451Z"
   },
   {
    "duration": 31,
    "start_time": "2023-04-18T15:44:39.522Z"
   },
   {
    "duration": 101,
    "start_time": "2023-04-18T15:44:39.554Z"
   },
   {
    "duration": 16,
    "start_time": "2023-04-18T15:44:39.658Z"
   },
   {
    "duration": 26,
    "start_time": "2023-04-18T15:44:39.676Z"
   },
   {
    "duration": 13,
    "start_time": "2023-04-18T15:44:39.707Z"
   },
   {
    "duration": 7,
    "start_time": "2023-04-18T15:44:39.722Z"
   },
   {
    "duration": 30,
    "start_time": "2023-04-18T15:44:39.731Z"
   },
   {
    "duration": 11,
    "start_time": "2023-04-18T15:44:39.763Z"
   },
   {
    "duration": 357,
    "start_time": "2023-04-18T15:44:39.776Z"
   },
   {
    "duration": 362,
    "start_time": "2023-04-18T15:44:40.134Z"
   },
   {
    "duration": 290,
    "start_time": "2023-04-18T15:44:40.498Z"
   },
   {
    "duration": 444,
    "start_time": "2023-04-18T15:44:40.790Z"
   },
   {
    "duration": 10,
    "start_time": "2023-04-18T15:44:41.237Z"
   },
   {
    "duration": 404,
    "start_time": "2023-04-18T15:44:41.257Z"
   },
   {
    "duration": 412,
    "start_time": "2023-04-18T15:44:41.664Z"
   },
   {
    "duration": 155,
    "start_time": "2023-04-18T15:44:42.078Z"
   },
   {
    "duration": 156,
    "start_time": "2023-04-18T15:44:42.242Z"
   },
   {
    "duration": 191,
    "start_time": "2023-04-18T15:44:42.401Z"
   },
   {
    "duration": 6,
    "start_time": "2023-04-18T15:44:42.594Z"
   },
   {
    "duration": 287,
    "start_time": "2023-04-18T15:44:42.602Z"
   },
   {
    "duration": 6,
    "start_time": "2023-04-18T15:44:42.891Z"
   },
   {
    "duration": 282,
    "start_time": "2023-04-18T15:44:42.899Z"
   },
   {
    "duration": 174,
    "start_time": "2023-04-18T15:44:43.182Z"
   },
   {
    "duration": 8,
    "start_time": "2023-04-18T15:44:43.358Z"
   },
   {
    "duration": 189,
    "start_time": "2023-04-18T15:44:43.368Z"
   },
   {
    "duration": 13,
    "start_time": "2023-04-18T15:44:43.559Z"
   },
   {
    "duration": 13,
    "start_time": "2023-04-18T15:44:43.575Z"
   },
   {
    "duration": 10,
    "start_time": "2023-04-18T15:44:43.591Z"
   },
   {
    "duration": 53,
    "start_time": "2023-04-18T15:44:43.603Z"
   },
   {
    "duration": 19,
    "start_time": "2023-04-18T15:44:43.658Z"
   },
   {
    "duration": 1387,
    "start_time": "2023-04-18T15:49:38.066Z"
   },
   {
    "duration": 40,
    "start_time": "2023-04-18T15:49:39.460Z"
   },
   {
    "duration": 3,
    "start_time": "2023-04-18T15:49:39.503Z"
   },
   {
    "duration": 14,
    "start_time": "2023-04-18T15:49:39.508Z"
   },
   {
    "duration": 24,
    "start_time": "2023-04-18T15:49:39.525Z"
   },
   {
    "duration": 15,
    "start_time": "2023-04-18T15:49:39.551Z"
   },
   {
    "duration": 55,
    "start_time": "2023-04-18T15:49:39.567Z"
   },
   {
    "duration": 11,
    "start_time": "2023-04-18T15:49:39.624Z"
   },
   {
    "duration": 31,
    "start_time": "2023-04-18T15:49:39.637Z"
   },
   {
    "duration": 23,
    "start_time": "2023-04-18T15:49:39.670Z"
   },
   {
    "duration": 32,
    "start_time": "2023-04-18T15:49:39.696Z"
   },
   {
    "duration": 11,
    "start_time": "2023-04-18T15:49:39.730Z"
   },
   {
    "duration": 27,
    "start_time": "2023-04-18T15:49:39.743Z"
   },
   {
    "duration": 18,
    "start_time": "2023-04-18T15:49:39.774Z"
   },
   {
    "duration": 10,
    "start_time": "2023-04-18T15:49:39.794Z"
   },
   {
    "duration": 14,
    "start_time": "2023-04-18T15:49:39.805Z"
   },
   {
    "duration": 11,
    "start_time": "2023-04-18T15:49:39.821Z"
   },
   {
    "duration": 382,
    "start_time": "2023-04-18T15:49:39.834Z"
   },
   {
    "duration": 393,
    "start_time": "2023-04-18T15:49:40.218Z"
   },
   {
    "duration": 308,
    "start_time": "2023-04-18T15:49:40.614Z"
   },
   {
    "duration": 415,
    "start_time": "2023-04-18T15:49:40.923Z"
   },
   {
    "duration": 6,
    "start_time": "2023-04-18T15:49:41.341Z"
   },
   {
    "duration": 328,
    "start_time": "2023-04-18T15:49:41.349Z"
   },
   {
    "duration": 377,
    "start_time": "2023-04-18T15:49:41.680Z"
   },
   {
    "duration": 149,
    "start_time": "2023-04-18T15:49:42.059Z"
   },
   {
    "duration": 161,
    "start_time": "2023-04-18T15:49:42.210Z"
   },
   {
    "duration": 168,
    "start_time": "2023-04-18T15:49:42.373Z"
   },
   {
    "duration": 6,
    "start_time": "2023-04-18T15:49:42.552Z"
   },
   {
    "duration": 284,
    "start_time": "2023-04-18T15:49:42.560Z"
   },
   {
    "duration": 8,
    "start_time": "2023-04-18T15:49:42.850Z"
   },
   {
    "duration": 294,
    "start_time": "2023-04-18T15:49:42.860Z"
   },
   {
    "duration": 152,
    "start_time": "2023-04-18T15:49:43.156Z"
   },
   {
    "duration": 7,
    "start_time": "2023-04-18T15:49:43.310Z"
   },
   {
    "duration": 249,
    "start_time": "2023-04-18T15:49:43.319Z"
   },
   {
    "duration": 12,
    "start_time": "2023-04-18T15:49:43.570Z"
   },
   {
    "duration": 11,
    "start_time": "2023-04-18T15:49:43.584Z"
   },
   {
    "duration": 44,
    "start_time": "2023-04-18T15:49:43.597Z"
   },
   {
    "duration": 32,
    "start_time": "2023-04-18T15:49:43.646Z"
   },
   {
    "duration": 18,
    "start_time": "2023-04-18T15:49:43.680Z"
   },
   {
    "duration": 187,
    "start_time": "2023-04-19T05:35:45.106Z"
   },
   {
    "duration": 2505,
    "start_time": "2023-04-19T05:35:50.283Z"
   },
   {
    "duration": 184,
    "start_time": "2023-04-19T05:35:52.791Z"
   },
   {
    "duration": 7,
    "start_time": "2023-04-19T05:35:52.980Z"
   },
   {
    "duration": 100,
    "start_time": "2023-04-19T05:35:53.006Z"
   },
   {
    "duration": 172,
    "start_time": "2023-04-19T05:35:53.121Z"
   },
   {
    "duration": 24,
    "start_time": "2023-04-19T05:35:53.300Z"
   },
   {
    "duration": 347,
    "start_time": "2023-04-19T05:35:53.328Z"
   },
   {
    "duration": 18,
    "start_time": "2023-04-19T05:35:53.678Z"
   },
   {
    "duration": 177,
    "start_time": "2023-04-19T05:35:53.699Z"
   },
   {
    "duration": 142,
    "start_time": "2023-04-19T05:35:53.879Z"
   },
   {
    "duration": 160,
    "start_time": "2023-04-19T05:35:54.023Z"
   },
   {
    "duration": 144,
    "start_time": "2023-04-19T05:35:54.186Z"
   },
   {
    "duration": 162,
    "start_time": "2023-04-19T05:35:54.342Z"
   },
   {
    "duration": 111,
    "start_time": "2023-04-19T05:35:54.513Z"
   },
   {
    "duration": 238,
    "start_time": "2023-04-19T05:35:54.627Z"
   },
   {
    "duration": 190,
    "start_time": "2023-04-19T05:35:54.871Z"
   },
   {
    "duration": 186,
    "start_time": "2023-04-19T05:35:55.067Z"
   },
   {
    "duration": 113,
    "start_time": "2023-04-19T05:35:55.260Z"
   },
   {
    "duration": 673,
    "start_time": "2023-04-19T05:35:55.386Z"
   },
   {
    "duration": 547,
    "start_time": "2023-04-19T05:35:56.068Z"
   },
   {
    "duration": 370,
    "start_time": "2023-04-19T05:35:56.623Z"
   },
   {
    "duration": 621,
    "start_time": "2023-04-19T05:35:56.999Z"
   },
   {
    "duration": 8,
    "start_time": "2023-04-19T05:35:57.623Z"
   },
   {
    "duration": 561,
    "start_time": "2023-04-19T05:35:57.634Z"
   },
   {
    "duration": 663,
    "start_time": "2023-04-19T05:35:58.207Z"
   },
   {
    "duration": 293,
    "start_time": "2023-04-19T05:35:58.872Z"
   },
   {
    "duration": 298,
    "start_time": "2023-04-19T05:35:59.175Z"
   },
   {
    "duration": 399,
    "start_time": "2023-04-19T05:35:59.480Z"
   },
   {
    "duration": 13,
    "start_time": "2023-04-19T05:35:59.880Z"
   },
   {
    "duration": 457,
    "start_time": "2023-04-19T05:35:59.895Z"
   },
   {
    "duration": 30,
    "start_time": "2023-04-19T05:36:00.359Z"
   },
   {
    "duration": 669,
    "start_time": "2023-04-19T05:36:00.394Z"
   },
   {
    "duration": 180,
    "start_time": "2023-04-19T05:36:01.070Z"
   },
   {
    "duration": 79,
    "start_time": "2023-04-19T05:36:01.258Z"
   },
   {
    "duration": 557,
    "start_time": "2023-04-19T05:36:01.345Z"
   },
   {
    "duration": 189,
    "start_time": "2023-04-19T05:36:01.908Z"
   },
   {
    "duration": 369,
    "start_time": "2023-04-19T05:36:02.103Z"
   },
   {
    "duration": 256,
    "start_time": "2023-04-19T05:36:02.476Z"
   },
   {
    "duration": 168,
    "start_time": "2023-04-19T05:36:02.739Z"
   },
   {
    "duration": 188,
    "start_time": "2023-04-19T05:36:02.926Z"
   },
   {
    "duration": 11,
    "start_time": "2023-04-19T05:36:17.261Z"
   },
   {
    "duration": 51,
    "start_time": "2023-04-19T05:38:12.318Z"
   },
   {
    "duration": 199,
    "start_time": "2023-04-19T05:47:40.468Z"
   },
   {
    "duration": 3399,
    "start_time": "2023-04-19T05:47:51.968Z"
   },
   {
    "duration": 154,
    "start_time": "2023-04-19T05:49:06.623Z"
   },
   {
    "duration": 10,
    "start_time": "2023-04-19T05:51:19.601Z"
   },
   {
    "duration": 6,
    "start_time": "2023-04-19T05:51:26.272Z"
   },
   {
    "duration": 76,
    "start_time": "2023-04-19T05:51:41.870Z"
   },
   {
    "duration": 15,
    "start_time": "2023-04-19T05:52:07.755Z"
   },
   {
    "duration": 2463,
    "start_time": "2023-04-19T05:52:12.609Z"
   },
   {
    "duration": 14,
    "start_time": "2023-04-19T05:52:45.154Z"
   },
   {
    "duration": 19,
    "start_time": "2023-04-19T06:18:20.019Z"
   },
   {
    "duration": 14,
    "start_time": "2023-04-19T06:18:26.570Z"
   },
   {
    "duration": 9,
    "start_time": "2023-04-19T06:19:48.367Z"
   },
   {
    "duration": 30,
    "start_time": "2023-04-19T06:20:07.334Z"
   },
   {
    "duration": 48,
    "start_time": "2023-04-19T06:27:55.384Z"
   },
   {
    "duration": 14,
    "start_time": "2023-04-19T06:28:28.730Z"
   },
   {
    "duration": 6,
    "start_time": "2023-04-19T06:28:39.032Z"
   },
   {
    "duration": 34,
    "start_time": "2023-04-19T06:28:58.859Z"
   },
   {
    "duration": 8,
    "start_time": "2023-04-19T06:29:11.841Z"
   },
   {
    "duration": 6,
    "start_time": "2023-04-19T06:30:04.163Z"
   },
   {
    "duration": 134,
    "start_time": "2023-04-19T06:30:36.532Z"
   },
   {
    "duration": 118,
    "start_time": "2023-04-19T06:31:39.338Z"
   },
   {
    "duration": 127,
    "start_time": "2023-04-19T06:32:21.991Z"
   },
   {
    "duration": 113,
    "start_time": "2023-04-19T06:32:46.226Z"
   },
   {
    "duration": 91,
    "start_time": "2023-04-19T06:32:51.876Z"
   },
   {
    "duration": 125,
    "start_time": "2023-04-19T06:33:34.926Z"
   },
   {
    "duration": 17,
    "start_time": "2023-04-19T06:33:49.733Z"
   },
   {
    "duration": 11,
    "start_time": "2023-04-19T06:34:04.371Z"
   },
   {
    "duration": 8,
    "start_time": "2023-04-19T06:34:29.267Z"
   },
   {
    "duration": 6,
    "start_time": "2023-04-19T06:34:42.179Z"
   },
   {
    "duration": 8,
    "start_time": "2023-04-19T06:37:12.154Z"
   },
   {
    "duration": 6,
    "start_time": "2023-04-19T06:37:42.063Z"
   },
   {
    "duration": 12,
    "start_time": "2023-04-19T06:38:21.546Z"
   },
   {
    "duration": 7,
    "start_time": "2023-04-19T06:38:29.448Z"
   },
   {
    "duration": 10,
    "start_time": "2023-04-19T06:38:38.466Z"
   },
   {
    "duration": 5,
    "start_time": "2023-04-19T06:39:06.264Z"
   },
   {
    "duration": 21,
    "start_time": "2023-04-19T06:39:15.640Z"
   }
  ],
  "kernelspec": {
   "display_name": "Python 3 (ipykernel)",
   "language": "python",
   "name": "python3"
  },
  "language_info": {
   "codemirror_mode": {
    "name": "ipython",
    "version": 3
   },
   "file_extension": ".py",
   "mimetype": "text/x-python",
   "name": "python",
   "nbconvert_exporter": "python",
   "pygments_lexer": "ipython3",
   "version": "3.9.5"
  },
  "toc": {
   "base_numbering": 1,
   "nav_menu": {},
   "number_sections": true,
   "sideBar": true,
   "skip_h1_title": true,
   "title_cell": "Table of Contents",
   "title_sidebar": "Contents",
   "toc_cell": false,
   "toc_position": {},
   "toc_section_display": true,
   "toc_window_display": false
  }
 },
 "nbformat": 4,
 "nbformat_minor": 2
}
